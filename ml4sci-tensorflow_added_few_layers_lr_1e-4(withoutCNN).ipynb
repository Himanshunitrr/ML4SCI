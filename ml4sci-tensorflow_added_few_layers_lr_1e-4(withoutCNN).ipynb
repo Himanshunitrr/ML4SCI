{
 "cells": [
  {
   "cell_type": "code",
   "execution_count": 1,
   "id": "bede23fb",
   "metadata": {
    "_cell_guid": "b1076dfc-b9ad-4769-8c92-a6c4dae69d19",
    "_uuid": "8f2839f25d086af736a60e9eeb907d3b93b6e0e5",
    "execution": {
     "iopub.execute_input": "2022-03-21T22:22:07.577989Z",
     "iopub.status.busy": "2022-03-21T22:22:07.576329Z",
     "iopub.status.idle": "2022-03-21T22:22:07.740968Z",
     "shell.execute_reply": "2022-03-21T22:22:07.741665Z",
     "shell.execute_reply.started": "2022-03-21T20:01:25.70073Z"
    },
    "papermill": {
     "duration": 0.19455,
     "end_time": "2022-03-21T22:22:07.742015",
     "exception": false,
     "start_time": "2022-03-21T22:22:07.547465",
     "status": "completed"
    },
    "tags": []
   },
   "outputs": [],
   "source": [
    "import numpy as np\n",
    "import pandas as pd\n",
    "import h5py\n",
    "from tqdm import tqdm\n",
    "import matplotlib.pyplot as plt"
   ]
  },
  {
   "cell_type": "code",
   "execution_count": 2,
   "id": "9d656086",
   "metadata": {
    "execution": {
     "iopub.execute_input": "2022-03-21T22:22:07.806188Z",
     "iopub.status.busy": "2022-03-21T22:22:07.804050Z",
     "iopub.status.idle": "2022-03-21T22:22:07.808241Z",
     "shell.execute_reply": "2022-03-21T22:22:07.808689Z",
     "shell.execute_reply.started": "2022-03-21T20:01:25.871833Z"
    },
    "papermill": {
     "duration": 0.04278,
     "end_time": "2022-03-21T22:22:07.808961",
     "exception": false,
     "start_time": "2022-03-21T22:22:07.766181",
     "status": "completed"
    },
    "tags": []
   },
   "outputs": [],
   "source": [
    "hf_e = h5py.File('../input/ml4sci/SingleElectronPt50_IMGCROPS_n249k_RHv1.hdf5', 'r')\n",
    "electron_data_x = hf_e.get('X')\n",
    "electron_data_y = hf_e.get('y')"
   ]
  },
  {
   "cell_type": "code",
   "execution_count": 3,
   "id": "6f90e1c8",
   "metadata": {
    "execution": {
     "iopub.execute_input": "2022-03-21T22:22:07.859109Z",
     "iopub.status.busy": "2022-03-21T22:22:07.858175Z",
     "iopub.status.idle": "2022-03-21T22:22:07.869717Z",
     "shell.execute_reply": "2022-03-21T22:22:07.870174Z",
     "shell.execute_reply.started": "2022-03-21T20:01:25.890239Z"
    },
    "papermill": {
     "duration": 0.037704,
     "end_time": "2022-03-21T22:22:07.870328",
     "exception": false,
     "start_time": "2022-03-21T22:22:07.832624",
     "status": "completed"
    },
    "tags": []
   },
   "outputs": [],
   "source": [
    "hf_p = h5py.File('../input/ml4sci/SinglePhotonPt50_IMGCROPS_n249k_RHv1.hdf5', 'r')\n",
    "photon_data_x = hf_p.get('X')\n",
    "photon_data_y = hf_p.get('y')"
   ]
  },
  {
   "cell_type": "code",
   "execution_count": 4,
   "id": "07397d85",
   "metadata": {
    "execution": {
     "iopub.execute_input": "2022-03-21T22:22:07.922710Z",
     "iopub.status.busy": "2022-03-21T22:22:07.922147Z",
     "iopub.status.idle": "2022-03-21T22:22:19.646580Z",
     "shell.execute_reply": "2022-03-21T22:22:19.646072Z",
     "shell.execute_reply.started": "2022-03-21T20:01:25.90703Z"
    },
    "papermill": {
     "duration": 11.753287,
     "end_time": "2022-03-21T22:22:19.646733",
     "exception": false,
     "start_time": "2022-03-21T22:22:07.893446",
     "status": "completed"
    },
    "tags": []
   },
   "outputs": [],
   "source": [
    "electron_data_x = np.asarray(electron_data_x)\n",
    "electron_data_y = np.asarray(electron_data_y)\n",
    "\n",
    "photon_data_x = np.asarray(photon_data_x)\n",
    "photon_data_y = np.asarray(photon_data_y)"
   ]
  },
  {
   "cell_type": "code",
   "execution_count": 5,
   "id": "2cc37b83",
   "metadata": {
    "execution": {
     "iopub.execute_input": "2022-03-21T22:22:19.696269Z",
     "iopub.status.busy": "2022-03-21T22:22:19.694661Z",
     "iopub.status.idle": "2022-03-21T22:22:19.698901Z",
     "shell.execute_reply": "2022-03-21T22:22:19.698421Z",
     "shell.execute_reply.started": "2022-03-21T20:01:37.528529Z"
    },
    "papermill": {
     "duration": 0.030998,
     "end_time": "2022-03-21T22:22:19.699013",
     "exception": false,
     "start_time": "2022-03-21T22:22:19.668015",
     "status": "completed"
    },
    "tags": []
   },
   "outputs": [
    {
     "name": "stdout",
     "output_type": "stream",
     "text": [
      "(249000, 32, 32, 2)\n",
      "(249000, 32, 32, 2)\n",
      "(249000,)\n",
      "(249000,)\n"
     ]
    }
   ],
   "source": [
    "print(electron_data_x.shape)\n",
    "print(photon_data_x.shape)\n",
    "\n",
    "print(electron_data_y.shape)\n",
    "print(photon_data_y.shape)"
   ]
  },
  {
   "cell_type": "code",
   "execution_count": 6,
   "id": "b5fbdc36",
   "metadata": {
    "execution": {
     "iopub.execute_input": "2022-03-21T22:22:19.746515Z",
     "iopub.status.busy": "2022-03-21T22:22:19.745419Z",
     "iopub.status.idle": "2022-03-21T22:22:21.278411Z",
     "shell.execute_reply": "2022-03-21T22:22:21.277895Z",
     "shell.execute_reply.started": "2022-03-21T20:01:37.536078Z"
    },
    "papermill": {
     "duration": 1.5578,
     "end_time": "2022-03-21T22:22:21.278537",
     "exception": false,
     "start_time": "2022-03-21T22:22:19.720737",
     "status": "completed"
    },
    "tags": []
   },
   "outputs": [],
   "source": [
    "X = np.concatenate((electron_data_x, photon_data_x))\n",
    "y = np.concatenate((electron_data_y, photon_data_y))"
   ]
  },
  {
   "cell_type": "code",
   "execution_count": 7,
   "id": "8f17537a",
   "metadata": {
    "execution": {
     "iopub.execute_input": "2022-03-21T22:22:21.326957Z",
     "iopub.status.busy": "2022-03-21T22:22:21.326359Z",
     "iopub.status.idle": "2022-03-21T22:22:21.331752Z",
     "shell.execute_reply": "2022-03-21T22:22:21.331291Z",
     "shell.execute_reply.started": "2022-03-21T20:01:38.985404Z"
    },
    "papermill": {
     "duration": 0.031196,
     "end_time": "2022-03-21T22:22:21.331867",
     "exception": false,
     "start_time": "2022-03-21T22:22:21.300671",
     "status": "completed"
    },
    "tags": []
   },
   "outputs": [
    {
     "name": "stdout",
     "output_type": "stream",
     "text": [
      "(498000, 32, 32, 2)\n",
      "(498000,)\n"
     ]
    }
   ],
   "source": [
    "print(X.shape)\n",
    "print(y.shape)"
   ]
  },
  {
   "cell_type": "code",
   "execution_count": 8,
   "id": "7d8bb024",
   "metadata": {
    "execution": {
     "iopub.execute_input": "2022-03-21T22:22:21.379763Z",
     "iopub.status.busy": "2022-03-21T22:22:21.379009Z",
     "iopub.status.idle": "2022-03-21T22:22:21.381433Z",
     "shell.execute_reply": "2022-03-21T22:22:21.381050Z",
     "shell.execute_reply.started": "2022-03-21T20:01:38.991677Z"
    },
    "papermill": {
     "duration": 0.02742,
     "end_time": "2022-03-21T22:22:21.381556",
     "exception": false,
     "start_time": "2022-03-21T22:22:21.354136",
     "status": "completed"
    },
    "tags": []
   },
   "outputs": [],
   "source": [
    "# X_vis = X[:5]\n",
    "\n",
    "# fig, axes = plt.subplots(nrows=len(X_vis), ncols=2, figsize=(48, 48))\n",
    "# for i in range(len(X_vis)):\n",
    "\n",
    "#     axes[i][0].imshow(X_vis[i,:,:,0])\n",
    "#     axes[i][1].imshow(X_vis[i,:,:,1])\n",
    "\n"
   ]
  },
  {
   "cell_type": "code",
   "execution_count": 9,
   "id": "fec9a9c0",
   "metadata": {
    "execution": {
     "iopub.execute_input": "2022-03-21T22:22:21.431093Z",
     "iopub.status.busy": "2022-03-21T22:22:21.430416Z",
     "iopub.status.idle": "2022-03-21T22:22:25.705491Z",
     "shell.execute_reply": "2022-03-21T22:22:25.705024Z",
     "shell.execute_reply.started": "2022-03-21T20:01:39.002289Z"
    },
    "papermill": {
     "duration": 4.300775,
     "end_time": "2022-03-21T22:22:25.705653",
     "exception": false,
     "start_time": "2022-03-21T22:22:21.404878",
     "status": "completed"
    },
    "tags": []
   },
   "outputs": [],
   "source": [
    "from sklearn.utils import shuffle\n",
    "X, y = shuffle(X, y, random_state=0)\n",
    "X, y = shuffle(X, y, random_state=0) #really random "
   ]
  },
  {
   "cell_type": "code",
   "execution_count": 10,
   "id": "9dd070e9",
   "metadata": {
    "execution": {
     "iopub.execute_input": "2022-03-21T22:22:25.755713Z",
     "iopub.status.busy": "2022-03-21T22:22:25.754883Z",
     "iopub.status.idle": "2022-03-21T22:22:25.756659Z",
     "shell.execute_reply": "2022-03-21T22:22:25.757102Z",
     "shell.execute_reply.started": "2022-03-21T20:01:43.419081Z"
    },
    "papermill": {
     "duration": 0.028464,
     "end_time": "2022-03-21T22:22:25.757229",
     "exception": false,
     "start_time": "2022-03-21T22:22:25.728765",
     "status": "completed"
    },
    "tags": []
   },
   "outputs": [],
   "source": [
    "# mean = 0.015\n",
    "# std = 0.297"
   ]
  },
  {
   "cell_type": "code",
   "execution_count": 11,
   "id": "d4e90214",
   "metadata": {
    "execution": {
     "iopub.execute_input": "2022-03-21T22:22:25.805191Z",
     "iopub.status.busy": "2022-03-21T22:22:25.804318Z",
     "iopub.status.idle": "2022-03-21T22:22:25.808409Z",
     "shell.execute_reply": "2022-03-21T22:22:25.807969Z",
     "shell.execute_reply.started": "2022-03-21T20:01:43.43075Z"
    },
    "papermill": {
     "duration": 0.02995,
     "end_time": "2022-03-21T22:22:25.808515",
     "exception": false,
     "start_time": "2022-03-21T22:22:25.778565",
     "status": "completed"
    },
    "tags": []
   },
   "outputs": [
    {
     "name": "stdout",
     "output_type": "stream",
     "text": [
      "(496900, 32, 32, 2)\n",
      "(1000, 32, 32, 2)\n",
      "(100, 32, 32, 2)\n"
     ]
    }
   ],
   "source": [
    "X_train = X[:496900]\n",
    "X_val = X[496900:497900]\n",
    "X_test = X[497900:]\n",
    "\n",
    "print(X_train.shape)\n",
    "print(X_val.shape)\n",
    "print(X_test.shape)"
   ]
  },
  {
   "cell_type": "code",
   "execution_count": 12,
   "id": "52775bc7",
   "metadata": {
    "execution": {
     "iopub.execute_input": "2022-03-21T22:22:25.857643Z",
     "iopub.status.busy": "2022-03-21T22:22:25.856877Z",
     "iopub.status.idle": "2022-03-21T22:22:25.859748Z",
     "shell.execute_reply": "2022-03-21T22:22:25.860156Z",
     "shell.execute_reply.started": "2022-03-21T20:01:43.447338Z"
    },
    "papermill": {
     "duration": 0.029953,
     "end_time": "2022-03-21T22:22:25.860289",
     "exception": false,
     "start_time": "2022-03-21T22:22:25.830336",
     "status": "completed"
    },
    "tags": []
   },
   "outputs": [
    {
     "name": "stdout",
     "output_type": "stream",
     "text": [
      "(496900,)\n",
      "(1000,)\n",
      "(100,)\n"
     ]
    }
   ],
   "source": [
    "y_train = y[:496900]\n",
    "y_val = y[496900:497900]\n",
    "y_test = y[497900:]\n",
    "\n",
    "print(y_train.shape)\n",
    "print(y_val.shape)\n",
    "print(y_test.shape)"
   ]
  },
  {
   "cell_type": "code",
   "execution_count": 13,
   "id": "0daf5ace",
   "metadata": {
    "execution": {
     "iopub.execute_input": "2022-03-21T22:22:25.909368Z",
     "iopub.status.busy": "2022-03-21T22:22:25.908571Z",
     "iopub.status.idle": "2022-03-21T22:22:25.910498Z",
     "shell.execute_reply": "2022-03-21T22:22:25.910897Z",
     "shell.execute_reply.started": "2022-03-21T20:01:43.458644Z"
    },
    "papermill": {
     "duration": 0.028567,
     "end_time": "2022-03-21T22:22:25.911029",
     "exception": false,
     "start_time": "2022-03-21T22:22:25.882462",
     "status": "completed"
    },
    "tags": []
   },
   "outputs": [],
   "source": [
    "# model = CreateModel()\n",
    "# model.to(Config['DEVICE'])"
   ]
  },
  {
   "cell_type": "code",
   "execution_count": 14,
   "id": "dbdadadd",
   "metadata": {
    "execution": {
     "iopub.execute_input": "2022-03-21T22:22:25.959870Z",
     "iopub.status.busy": "2022-03-21T22:22:25.959073Z",
     "iopub.status.idle": "2022-03-21T22:22:25.961084Z",
     "shell.execute_reply": "2022-03-21T22:22:25.961483Z",
     "shell.execute_reply.started": "2022-03-21T20:01:43.473638Z"
    },
    "papermill": {
     "duration": 0.028396,
     "end_time": "2022-03-21T22:22:25.961624",
     "exception": false,
     "start_time": "2022-03-21T22:22:25.933228",
     "status": "completed"
    },
    "tags": []
   },
   "outputs": [],
   "source": [
    "batch_size = 32\n",
    "img_size = 32"
   ]
  },
  {
   "cell_type": "code",
   "execution_count": 15,
   "id": "5b02d510",
   "metadata": {
    "execution": {
     "iopub.execute_input": "2022-03-21T22:22:26.010241Z",
     "iopub.status.busy": "2022-03-21T22:22:26.009582Z",
     "iopub.status.idle": "2022-03-21T22:22:26.012169Z",
     "shell.execute_reply": "2022-03-21T22:22:26.011750Z",
     "shell.execute_reply.started": "2022-03-21T20:01:43.479722Z"
    },
    "papermill": {
     "duration": 0.028462,
     "end_time": "2022-03-21T22:22:26.012283",
     "exception": false,
     "start_time": "2022-03-21T22:22:25.983821",
     "status": "completed"
    },
    "tags": []
   },
   "outputs": [],
   "source": [
    "# from sklearn.preprocessing import normalize\n",
    "# normed_matrix = normalize(X, axis=1, norm='l1')"
   ]
  },
  {
   "cell_type": "code",
   "execution_count": 16,
   "id": "77e25f94",
   "metadata": {
    "execution": {
     "iopub.execute_input": "2022-03-21T22:22:26.061979Z",
     "iopub.status.busy": "2022-03-21T22:22:26.061191Z",
     "iopub.status.idle": "2022-03-21T22:22:26.063137Z",
     "shell.execute_reply": "2022-03-21T22:22:26.063526Z",
     "shell.execute_reply.started": "2022-03-21T20:01:43.488703Z"
    },
    "papermill": {
     "duration": 0.029175,
     "end_time": "2022-03-21T22:22:26.063669",
     "exception": false,
     "start_time": "2022-03-21T22:22:26.034494",
     "status": "completed"
    },
    "tags": []
   },
   "outputs": [],
   "source": [
    "# X = np.linalg.norm(X, axis = 1, keepdims = True)"
   ]
  },
  {
   "cell_type": "code",
   "execution_count": 17,
   "id": "d5743039",
   "metadata": {
    "execution": {
     "iopub.execute_input": "2022-03-21T22:22:26.112084Z",
     "iopub.status.busy": "2022-03-21T22:22:26.111517Z",
     "iopub.status.idle": "2022-03-21T22:22:31.221753Z",
     "shell.execute_reply": "2022-03-21T22:22:31.222990Z",
     "shell.execute_reply.started": "2022-03-21T20:01:43.497178Z"
    },
    "papermill": {
     "duration": 5.137453,
     "end_time": "2022-03-21T22:22:31.223226",
     "exception": false,
     "start_time": "2022-03-21T22:22:26.085773",
     "status": "completed"
    },
    "tags": []
   },
   "outputs": [],
   "source": [
    "from tensorflow.keras.preprocessing.image import ImageDataGenerator\n",
    "\n",
    "datagen = ImageDataGenerator()\n",
    "\n",
    "# datagen = ImageDataGenerator(\n",
    "#     featurewise_std_normalization=True,\n",
    "# )\n",
    "# datagen.fit(X_train)\n",
    "# datagen.fit(X_val)\n",
    "# datagen.fit(X_test)"
   ]
  },
  {
   "cell_type": "code",
   "execution_count": 18,
   "id": "3d5d28b6",
   "metadata": {
    "execution": {
     "iopub.execute_input": "2022-03-21T22:22:31.325679Z",
     "iopub.status.busy": "2022-03-21T22:22:31.324677Z",
     "iopub.status.idle": "2022-03-21T22:22:33.728023Z",
     "shell.execute_reply": "2022-03-21T22:22:33.728685Z",
     "shell.execute_reply.started": "2022-03-21T20:01:48.364548Z"
    },
    "papermill": {
     "duration": 2.461196,
     "end_time": "2022-03-21T22:22:33.728841",
     "exception": false,
     "start_time": "2022-03-21T22:22:31.267645",
     "status": "completed"
    },
    "tags": []
   },
   "outputs": [
    {
     "name": "stderr",
     "output_type": "stream",
     "text": [
      "2022-03-21 22:22:31.437092: I tensorflow/stream_executor/cuda/cuda_gpu_executor.cc:937] successful NUMA node read from SysFS had negative value (-1), but there must be at least one NUMA node, so returning NUMA node zero\n",
      "2022-03-21 22:22:31.537945: I tensorflow/stream_executor/cuda/cuda_gpu_executor.cc:937] successful NUMA node read from SysFS had negative value (-1), but there must be at least one NUMA node, so returning NUMA node zero\n",
      "2022-03-21 22:22:31.538773: I tensorflow/stream_executor/cuda/cuda_gpu_executor.cc:937] successful NUMA node read from SysFS had negative value (-1), but there must be at least one NUMA node, so returning NUMA node zero\n",
      "2022-03-21 22:22:31.540045: I tensorflow/core/platform/cpu_feature_guard.cc:142] This TensorFlow binary is optimized with oneAPI Deep Neural Network Library (oneDNN) to use the following CPU instructions in performance-critical operations:  AVX2 AVX512F FMA\n",
      "To enable them in other operations, rebuild TensorFlow with the appropriate compiler flags.\n",
      "2022-03-21 22:22:31.540781: I tensorflow/stream_executor/cuda/cuda_gpu_executor.cc:937] successful NUMA node read from SysFS had negative value (-1), but there must be at least one NUMA node, so returning NUMA node zero\n",
      "2022-03-21 22:22:31.541527: I tensorflow/stream_executor/cuda/cuda_gpu_executor.cc:937] successful NUMA node read from SysFS had negative value (-1), but there must be at least one NUMA node, so returning NUMA node zero\n",
      "2022-03-21 22:22:31.542250: I tensorflow/stream_executor/cuda/cuda_gpu_executor.cc:937] successful NUMA node read from SysFS had negative value (-1), but there must be at least one NUMA node, so returning NUMA node zero\n",
      "2022-03-21 22:22:33.415690: I tensorflow/stream_executor/cuda/cuda_gpu_executor.cc:937] successful NUMA node read from SysFS had negative value (-1), but there must be at least one NUMA node, so returning NUMA node zero\n",
      "2022-03-21 22:22:33.416469: I tensorflow/stream_executor/cuda/cuda_gpu_executor.cc:937] successful NUMA node read from SysFS had negative value (-1), but there must be at least one NUMA node, so returning NUMA node zero\n",
      "2022-03-21 22:22:33.417168: I tensorflow/stream_executor/cuda/cuda_gpu_executor.cc:937] successful NUMA node read from SysFS had negative value (-1), but there must be at least one NUMA node, so returning NUMA node zero\n",
      "2022-03-21 22:22:33.417795: I tensorflow/core/common_runtime/gpu/gpu_device.cc:1510] Created device /job:localhost/replica:0/task:0/device:GPU:0 with 15403 MB memory:  -> device: 0, name: Tesla P100-PCIE-16GB, pci bus id: 0000:00:04.0, compute capability: 6.0\n"
     ]
    }
   ],
   "source": [
    "import tensorflow as tf\n",
    "model = tf.keras.models.Sequential([\n",
    "\n",
    "    tf.keras.layers.Normalization(),\n",
    "    tf.keras.layers.Flatten(),  \n",
    "    tf.keras.layers.Dense(128, activation='relu',),\n",
    "    tf.keras.layers.Dropout(0.2),\n",
    "    tf.keras.layers.Dense(256, activation='relu',),\n",
    "    tf.keras.layers.Dropout(0.3),\n",
    "    tf.keras.layers.Dense(512, activation='relu',),\n",
    "    tf.keras.layers.Dropout(0.2),\n",
    "    tf.keras.layers.BatchNormalization(),\n",
    "    tf.keras.layers.Dense(1024, activation='relu'),\n",
    "    tf.keras.layers.BatchNormalization(),\n",
    "    tf.keras.layers.Dropout(0.2),\n",
    "    tf.keras.layers.Dense(1024, activation='relu'),\n",
    "    tf.keras.layers.Dropout(0.3),\n",
    "    tf.keras.layers.Dense(512, activation='relu'),\n",
    "    tf.keras.layers.Dropout(0.2),\n",
    "    tf.keras.layers.Dense(256, activation='relu',),\n",
    "    tf.keras.layers.BatchNormalization(),\n",
    "    tf.keras.layers.Dense(128, activation='relu'),\n",
    "    \n",
    "    \n",
    "    tf.keras.layers.Dense(1, activation='sigmoid')\n",
    "    \n",
    "])"
   ]
  },
  {
   "cell_type": "code",
   "execution_count": 19,
   "id": "e25d2a35",
   "metadata": {
    "execution": {
     "iopub.execute_input": "2022-03-21T22:22:33.779636Z",
     "iopub.status.busy": "2022-03-21T22:22:33.778763Z",
     "iopub.status.idle": "2022-03-21T22:22:33.795290Z",
     "shell.execute_reply": "2022-03-21T22:22:33.794826Z",
     "shell.execute_reply.started": "2022-03-21T20:01:50.713228Z"
    },
    "papermill": {
     "duration": 0.043629,
     "end_time": "2022-03-21T22:22:33.795413",
     "exception": false,
     "start_time": "2022-03-21T22:22:33.751784",
     "status": "completed"
    },
    "tags": []
   },
   "outputs": [],
   "source": [
    "from tensorflow.keras.optimizers import Adam\n",
    "\n",
    "model.compile(\n",
    "    loss='binary_crossentropy',\n",
    "    optimizer=Adam(learning_rate=0.0001),\n",
    "    metrics=['AUC']\n",
    ")"
   ]
  },
  {
   "cell_type": "code",
   "execution_count": 20,
   "id": "2fe071aa",
   "metadata": {
    "execution": {
     "iopub.execute_input": "2022-03-21T22:22:33.846414Z",
     "iopub.status.busy": "2022-03-21T22:22:33.845626Z",
     "iopub.status.idle": "2022-03-21T22:22:33.848182Z",
     "shell.execute_reply": "2022-03-21T22:22:33.847750Z",
     "shell.execute_reply.started": "2022-03-21T20:01:50.735417Z"
    },
    "papermill": {
     "duration": 0.029969,
     "end_time": "2022-03-21T22:22:33.848304",
     "exception": false,
     "start_time": "2022-03-21T22:22:33.818335",
     "status": "completed"
    },
    "tags": []
   },
   "outputs": [],
   "source": [
    "call_back = tf.keras.callbacks.EarlyStopping(patience=100, restore_best_weights=True)"
   ]
  },
  {
   "cell_type": "code",
   "execution_count": 21,
   "id": "2db77a42",
   "metadata": {
    "execution": {
     "iopub.execute_input": "2022-03-21T22:22:33.898522Z",
     "iopub.status.busy": "2022-03-21T22:22:33.897695Z",
     "iopub.status.idle": "2022-03-21T22:22:33.899727Z",
     "shell.execute_reply": "2022-03-21T22:22:33.900155Z",
     "shell.execute_reply.started": "2022-03-21T20:01:50.744339Z"
    },
    "papermill": {
     "duration": 0.029181,
     "end_time": "2022-03-21T22:22:33.900295",
     "exception": false,
     "start_time": "2022-03-21T22:22:33.871114",
     "status": "completed"
    },
    "tags": []
   },
   "outputs": [],
   "source": [
    "labels = [0,1]"
   ]
  },
  {
   "cell_type": "code",
   "execution_count": 22,
   "id": "6d1cd708",
   "metadata": {
    "execution": {
     "iopub.execute_input": "2022-03-21T22:22:33.951097Z",
     "iopub.status.busy": "2022-03-21T22:22:33.950513Z",
     "iopub.status.idle": "2022-03-22T02:16:58.186113Z",
     "shell.execute_reply": "2022-03-22T02:16:56.819902Z",
     "shell.execute_reply.started": "2022-03-21T20:01:50.75096Z"
    },
    "papermill": {
     "duration": 14064.262872,
     "end_time": "2022-03-22T02:16:58.186276",
     "exception": false,
     "start_time": "2022-03-21T22:22:33.923404",
     "status": "completed"
    },
    "tags": []
   },
   "outputs": [
    {
     "name": "stderr",
     "output_type": "stream",
     "text": [
      "/opt/conda/lib/python3.7/site-packages/keras_preprocessing/image/numpy_array_iterator.py:136: UserWarning: NumpyArrayIterator is set to use the data format convention \"channels_last\" (channels on axis 3), i.e. expected either 1, 3, or 4 channels on axis 3. However, it was passed an array with shape (496900, 32, 32, 2) (2 channels).\n",
      "  str(self.x.shape[channels_axis]) + ' channels).')\n",
      "/opt/conda/lib/python3.7/site-packages/keras_preprocessing/image/numpy_array_iterator.py:136: UserWarning: NumpyArrayIterator is set to use the data format convention \"channels_last\" (channels on axis 3), i.e. expected either 1, 3, or 4 channels on axis 3. However, it was passed an array with shape (1000, 32, 32, 2) (2 channels).\n",
      "  str(self.x.shape[channels_axis]) + ' channels).')\n",
      "2022-03-21 22:22:34.994454: I tensorflow/compiler/mlir/mlir_graph_optimization_pass.cc:185] None of the MLIR Optimization Passes are enabled (registered 2)\n"
     ]
    },
    {
     "name": "stdout",
     "output_type": "stream",
     "text": [
      "Epoch 1/200\n",
      "15529/15529 [==============================] - 115s 7ms/step - loss: 0.6847 - auc: 0.5887 - val_loss: 0.6504 - val_auc: 0.6720\n",
      "Epoch 2/200\n",
      "15529/15529 [==============================] - 115s 7ms/step - loss: 0.6516 - auc: 0.6561 - val_loss: 0.6375 - val_auc: 0.6881\n",
      "Epoch 3/200\n",
      "15529/15529 [==============================] - 116s 7ms/step - loss: 0.6401 - auc: 0.6755 - val_loss: 0.6349 - val_auc: 0.7009\n",
      "Epoch 4/200\n",
      "15529/15529 [==============================] - 119s 8ms/step - loss: 0.6276 - auc: 0.6963 - val_loss: 0.6182 - val_auc: 0.7259\n",
      "Epoch 5/200\n",
      "15529/15529 [==============================] - 119s 8ms/step - loss: 0.6125 - auc: 0.7192 - val_loss: 0.6057 - val_auc: 0.7369\n",
      "Epoch 6/200\n",
      "15529/15529 [==============================] - 119s 8ms/step - loss: 0.6011 - auc: 0.7347 - val_loss: 0.6021 - val_auc: 0.7415\n",
      "Epoch 7/200\n",
      "15529/15529 [==============================] - 116s 7ms/step - loss: 0.5921 - auc: 0.7458 - val_loss: 0.6010 - val_auc: 0.7426\n",
      "Epoch 8/200\n",
      "15529/15529 [==============================] - 116s 7ms/step - loss: 0.5852 - auc: 0.7544 - val_loss: 0.6016 - val_auc: 0.7437\n",
      "Epoch 9/200\n",
      "15529/15529 [==============================] - 119s 8ms/step - loss: 0.5798 - auc: 0.7607 - val_loss: 0.5978 - val_auc: 0.7481\n",
      "Epoch 10/200\n",
      "15529/15529 [==============================] - 115s 7ms/step - loss: 0.5752 - auc: 0.7658 - val_loss: 0.5958 - val_auc: 0.7519\n",
      "Epoch 11/200\n",
      "15529/15529 [==============================] - 115s 7ms/step - loss: 0.5706 - auc: 0.7711 - val_loss: 0.5956 - val_auc: 0.7498\n",
      "Epoch 12/200\n",
      "15529/15529 [==============================] - 116s 7ms/step - loss: 0.5668 - auc: 0.7753 - val_loss: 0.5940 - val_auc: 0.7552\n",
      "Epoch 13/200\n",
      "15529/15529 [==============================] - 118s 8ms/step - loss: 0.5630 - auc: 0.7792 - val_loss: 0.5973 - val_auc: 0.7484\n",
      "Epoch 14/200\n",
      "15529/15529 [==============================] - 118s 8ms/step - loss: 0.5595 - auc: 0.7827 - val_loss: 0.5925 - val_auc: 0.7584\n",
      "Epoch 15/200\n",
      "15529/15529 [==============================] - 118s 8ms/step - loss: 0.5558 - auc: 0.7868 - val_loss: 0.6011 - val_auc: 0.7540\n",
      "Epoch 16/200\n",
      "15529/15529 [==============================] - 110s 7ms/step - loss: 0.5531 - auc: 0.7893 - val_loss: 0.5927 - val_auc: 0.7598\n",
      "Epoch 17/200\n",
      "15529/15529 [==============================] - 117s 8ms/step - loss: 0.5499 - auc: 0.7925 - val_loss: 0.5956 - val_auc: 0.7610\n",
      "Epoch 18/200\n",
      "15529/15529 [==============================] - 119s 8ms/step - loss: 0.5478 - auc: 0.7945 - val_loss: 0.5922 - val_auc: 0.7577\n",
      "Epoch 19/200\n",
      "15529/15529 [==============================] - 121s 8ms/step - loss: 0.5449 - auc: 0.7975 - val_loss: 0.5929 - val_auc: 0.7587\n",
      "Epoch 20/200\n",
      "15529/15529 [==============================] - 121s 8ms/step - loss: 0.5428 - auc: 0.7994 - val_loss: 0.5892 - val_auc: 0.7621\n",
      "Epoch 21/200\n",
      "15529/15529 [==============================] - 111s 7ms/step - loss: 0.5409 - auc: 0.8011 - val_loss: 0.6003 - val_auc: 0.7557\n",
      "Epoch 22/200\n",
      "15529/15529 [==============================] - 120s 8ms/step - loss: 0.5384 - auc: 0.8034 - val_loss: 0.6016 - val_auc: 0.7522\n",
      "Epoch 23/200\n",
      "15529/15529 [==============================] - 112s 7ms/step - loss: 0.5370 - auc: 0.8047 - val_loss: 0.5947 - val_auc: 0.7557\n",
      "Epoch 24/200\n",
      "15529/15529 [==============================] - 123s 8ms/step - loss: 0.5345 - auc: 0.8068 - val_loss: 0.5949 - val_auc: 0.7610\n",
      "Epoch 25/200\n",
      "15529/15529 [==============================] - 109s 7ms/step - loss: 0.5333 - auc: 0.8079 - val_loss: 0.6048 - val_auc: 0.7574\n",
      "Epoch 26/200\n",
      "15529/15529 [==============================] - 124s 8ms/step - loss: 0.5312 - auc: 0.8098 - val_loss: 0.6010 - val_auc: 0.7564\n",
      "Epoch 27/200\n",
      "15529/15529 [==============================] - 110s 7ms/step - loss: 0.5289 - auc: 0.8118 - val_loss: 0.5958 - val_auc: 0.7596\n",
      "Epoch 28/200\n",
      "15529/15529 [==============================] - 113s 7ms/step - loss: 0.5278 - auc: 0.8128 - val_loss: 0.6027 - val_auc: 0.7553\n",
      "Epoch 29/200\n",
      "15529/15529 [==============================] - 110s 7ms/step - loss: 0.5261 - auc: 0.8143 - val_loss: 0.6003 - val_auc: 0.7570\n",
      "Epoch 30/200\n",
      "15529/15529 [==============================] - 110s 7ms/step - loss: 0.5253 - auc: 0.8149 - val_loss: 0.6101 - val_auc: 0.7464\n",
      "Epoch 31/200\n",
      "15529/15529 [==============================] - 126s 8ms/step - loss: 0.5232 - auc: 0.8167 - val_loss: 0.5999 - val_auc: 0.7539\n",
      "Epoch 32/200\n",
      "15529/15529 [==============================] - 111s 7ms/step - loss: 0.5218 - auc: 0.8178 - val_loss: 0.6031 - val_auc: 0.7549\n",
      "Epoch 33/200\n",
      "15529/15529 [==============================] - 126s 8ms/step - loss: 0.5214 - auc: 0.8181 - val_loss: 0.6025 - val_auc: 0.7503\n",
      "Epoch 34/200\n",
      "15529/15529 [==============================] - 110s 7ms/step - loss: 0.5200 - auc: 0.8194 - val_loss: 0.6003 - val_auc: 0.7562\n",
      "Epoch 35/200\n",
      "15529/15529 [==============================] - 112s 7ms/step - loss: 0.5190 - auc: 0.8201 - val_loss: 0.6058 - val_auc: 0.7465\n",
      "Epoch 36/200\n",
      "15529/15529 [==============================] - 126s 8ms/step - loss: 0.5174 - auc: 0.8215 - val_loss: 0.6106 - val_auc: 0.7498\n",
      "Epoch 37/200\n",
      "15529/15529 [==============================] - 110s 7ms/step - loss: 0.5160 - auc: 0.8225 - val_loss: 0.6095 - val_auc: 0.7525\n",
      "Epoch 38/200\n",
      "15529/15529 [==============================] - 130s 8ms/step - loss: 0.5147 - auc: 0.8238 - val_loss: 0.6053 - val_auc: 0.7495\n",
      "Epoch 39/200\n",
      "15529/15529 [==============================] - 111s 7ms/step - loss: 0.5136 - auc: 0.8246 - val_loss: 0.6208 - val_auc: 0.7447\n",
      "Epoch 40/200\n",
      "15529/15529 [==============================] - 112s 7ms/step - loss: 0.5135 - auc: 0.8248 - val_loss: 0.6114 - val_auc: 0.7448\n",
      "Epoch 41/200\n",
      "15529/15529 [==============================] - 111s 7ms/step - loss: 0.5118 - auc: 0.8261 - val_loss: 0.6116 - val_auc: 0.7446\n",
      "Epoch 42/200\n",
      "15529/15529 [==============================] - 109s 7ms/step - loss: 0.5114 - auc: 0.8264 - val_loss: 0.6105 - val_auc: 0.7474\n",
      "Epoch 43/200\n",
      "15529/15529 [==============================] - 132s 9ms/step - loss: 0.5106 - auc: 0.8271 - val_loss: 0.6086 - val_auc: 0.7508\n",
      "Epoch 44/200\n",
      "15529/15529 [==============================] - 112s 7ms/step - loss: 0.5097 - auc: 0.8277 - val_loss: 0.6046 - val_auc: 0.7505\n",
      "Epoch 45/200\n",
      "15529/15529 [==============================] - 109s 7ms/step - loss: 0.5083 - auc: 0.8289 - val_loss: 0.6047 - val_auc: 0.7504\n",
      "Epoch 46/200\n",
      "15529/15529 [==============================] - 108s 7ms/step - loss: 0.5077 - auc: 0.8293 - val_loss: 0.6142 - val_auc: 0.7460\n",
      "Epoch 47/200\n",
      "15529/15529 [==============================] - 113s 7ms/step - loss: 0.5064 - auc: 0.8303 - val_loss: 0.6121 - val_auc: 0.7510\n",
      "Epoch 48/200\n",
      "15529/15529 [==============================] - 107s 7ms/step - loss: 0.5060 - auc: 0.8306 - val_loss: 0.6217 - val_auc: 0.7440\n",
      "Epoch 49/200\n",
      "15529/15529 [==============================] - 107s 7ms/step - loss: 0.5051 - auc: 0.8314 - val_loss: 0.6135 - val_auc: 0.7529\n",
      "Epoch 50/200\n",
      "15529/15529 [==============================] - 107s 7ms/step - loss: 0.5046 - auc: 0.8318 - val_loss: 0.6073 - val_auc: 0.7527\n",
      "Epoch 51/200\n",
      "15529/15529 [==============================] - 105s 7ms/step - loss: 0.5040 - auc: 0.8323 - val_loss: 0.6137 - val_auc: 0.7461\n",
      "Epoch 52/200\n",
      "15529/15529 [==============================] - 133s 9ms/step - loss: 0.5029 - auc: 0.8330 - val_loss: 0.6119 - val_auc: 0.7457\n",
      "Epoch 53/200\n",
      "15529/15529 [==============================] - 107s 7ms/step - loss: 0.5018 - auc: 0.8340 - val_loss: 0.6131 - val_auc: 0.7460\n",
      "Epoch 54/200\n",
      "15529/15529 [==============================] - 106s 7ms/step - loss: 0.5010 - auc: 0.8345 - val_loss: 0.6136 - val_auc: 0.7449\n",
      "Epoch 55/200\n",
      "15529/15529 [==============================] - 107s 7ms/step - loss: 0.5007 - auc: 0.8348 - val_loss: 0.6153 - val_auc: 0.7443\n",
      "Epoch 56/200\n",
      "15529/15529 [==============================] - 107s 7ms/step - loss: 0.4993 - auc: 0.8359 - val_loss: 0.6214 - val_auc: 0.7447\n",
      "Epoch 57/200\n",
      "15529/15529 [==============================] - 137s 9ms/step - loss: 0.4989 - auc: 0.8361 - val_loss: 0.6201 - val_auc: 0.7492\n",
      "Epoch 58/200\n",
      "15529/15529 [==============================] - 108s 7ms/step - loss: 0.4986 - auc: 0.8364 - val_loss: 0.6098 - val_auc: 0.7484\n",
      "Epoch 59/200\n",
      "15529/15529 [==============================] - 107s 7ms/step - loss: 0.4975 - auc: 0.8372 - val_loss: 0.6090 - val_auc: 0.7508\n",
      "Epoch 60/200\n",
      "15529/15529 [==============================] - 107s 7ms/step - loss: 0.4965 - auc: 0.8379 - val_loss: 0.6323 - val_auc: 0.7408\n",
      "Epoch 61/200\n",
      "15529/15529 [==============================] - 107s 7ms/step - loss: 0.4966 - auc: 0.8379 - val_loss: 0.6190 - val_auc: 0.7460\n",
      "Epoch 62/200\n",
      "15529/15529 [==============================] - 138s 9ms/step - loss: 0.4955 - auc: 0.8388 - val_loss: 0.6266 - val_auc: 0.7451\n",
      "Epoch 63/200\n",
      "15529/15529 [==============================] - 106s 7ms/step - loss: 0.4954 - auc: 0.8390 - val_loss: 0.6253 - val_auc: 0.7442\n",
      "Epoch 64/200\n",
      "15529/15529 [==============================] - 106s 7ms/step - loss: 0.4943 - auc: 0.8396 - val_loss: 0.6217 - val_auc: 0.7429\n",
      "Epoch 65/200\n",
      "15529/15529 [==============================] - 106s 7ms/step - loss: 0.4941 - auc: 0.8398 - val_loss: 0.6220 - val_auc: 0.7430\n",
      "Epoch 66/200\n",
      "15529/15529 [==============================] - 107s 7ms/step - loss: 0.4935 - auc: 0.8402 - val_loss: 0.6274 - val_auc: 0.7411\n",
      "Epoch 67/200\n",
      "15529/15529 [==============================] - 141s 9ms/step - loss: 0.4934 - auc: 0.8403 - val_loss: 0.6289 - val_auc: 0.7396\n",
      "Epoch 68/200\n",
      "15529/15529 [==============================] - 107s 7ms/step - loss: 0.4922 - auc: 0.8413 - val_loss: 0.6271 - val_auc: 0.7411\n",
      "Epoch 69/200\n",
      "15529/15529 [==============================] - 109s 7ms/step - loss: 0.4918 - auc: 0.8416 - val_loss: 0.6304 - val_auc: 0.7402\n",
      "Epoch 70/200\n",
      "15529/15529 [==============================] - 108s 7ms/step - loss: 0.4916 - auc: 0.8416 - val_loss: 0.6269 - val_auc: 0.7434\n",
      "Epoch 71/200\n",
      "15529/15529 [==============================] - 109s 7ms/step - loss: 0.4909 - auc: 0.8422 - val_loss: 0.6219 - val_auc: 0.7490\n",
      "Epoch 72/200\n",
      "15529/15529 [==============================] - 146s 9ms/step - loss: 0.4897 - auc: 0.8431 - val_loss: 0.6281 - val_auc: 0.7384\n",
      "Epoch 73/200\n",
      "15529/15529 [==============================] - 109s 7ms/step - loss: 0.4899 - auc: 0.8430 - val_loss: 0.6358 - val_auc: 0.7349\n",
      "Epoch 74/200\n",
      "15529/15529 [==============================] - 109s 7ms/step - loss: 0.4888 - auc: 0.8438 - val_loss: 0.6287 - val_auc: 0.7419\n",
      "Epoch 75/200\n",
      "15529/15529 [==============================] - 110s 7ms/step - loss: 0.4883 - auc: 0.8441 - val_loss: 0.6291 - val_auc: 0.7394\n",
      "Epoch 76/200\n",
      "15529/15529 [==============================] - 109s 7ms/step - loss: 0.4886 - auc: 0.8439 - val_loss: 0.6309 - val_auc: 0.7455\n",
      "Epoch 77/200\n",
      "15529/15529 [==============================] - 148s 10ms/step - loss: 0.4881 - auc: 0.8443 - val_loss: 0.6368 - val_auc: 0.7401\n",
      "Epoch 78/200\n",
      "15529/15529 [==============================] - 108s 7ms/step - loss: 0.4875 - auc: 0.8448 - val_loss: 0.6289 - val_auc: 0.7438\n",
      "Epoch 79/200\n",
      "15529/15529 [==============================] - 108s 7ms/step - loss: 0.4866 - auc: 0.8454 - val_loss: 0.6361 - val_auc: 0.7363\n",
      "Epoch 80/200\n",
      "15529/15529 [==============================] - 108s 7ms/step - loss: 0.4861 - auc: 0.8457 - val_loss: 0.6428 - val_auc: 0.7370\n",
      "Epoch 81/200\n",
      "15529/15529 [==============================] - 107s 7ms/step - loss: 0.4855 - auc: 0.8461 - val_loss: 0.6270 - val_auc: 0.7407\n",
      "Epoch 82/200\n",
      "15529/15529 [==============================] - 150s 10ms/step - loss: 0.4852 - auc: 0.8463 - val_loss: 0.6360 - val_auc: 0.7435\n",
      "Epoch 83/200\n",
      "15529/15529 [==============================] - 108s 7ms/step - loss: 0.4852 - auc: 0.8464 - val_loss: 0.6213 - val_auc: 0.7465\n",
      "Epoch 84/200\n",
      "15529/15529 [==============================] - 108s 7ms/step - loss: 0.4842 - auc: 0.8471 - val_loss: 0.6282 - val_auc: 0.7397\n",
      "Epoch 85/200\n",
      "15529/15529 [==============================] - 107s 7ms/step - loss: 0.4853 - auc: 0.8463 - val_loss: 0.6368 - val_auc: 0.7403\n",
      "Epoch 86/200\n",
      "15529/15529 [==============================] - 107s 7ms/step - loss: 0.4836 - auc: 0.8475 - val_loss: 0.6291 - val_auc: 0.7417\n",
      "Epoch 87/200\n",
      "15529/15529 [==============================] - 109s 7ms/step - loss: 0.4832 - auc: 0.8478 - val_loss: 0.6361 - val_auc: 0.7434\n",
      "Epoch 88/200\n",
      "15529/15529 [==============================] - 109s 7ms/step - loss: 0.4832 - auc: 0.8478 - val_loss: 0.6344 - val_auc: 0.7378\n",
      "Epoch 89/200\n",
      "15529/15529 [==============================] - 109s 7ms/step - loss: 0.4828 - auc: 0.8481 - val_loss: 0.6381 - val_auc: 0.7389\n",
      "Epoch 90/200\n",
      "15529/15529 [==============================] - 108s 7ms/step - loss: 0.4823 - auc: 0.8486 - val_loss: 0.6474 - val_auc: 0.7369\n",
      "Epoch 91/200\n",
      "15529/15529 [==============================] - 124s 8ms/step - loss: 0.4820 - auc: 0.8487 - val_loss: 0.6323 - val_auc: 0.7375\n",
      "Epoch 92/200\n",
      "15529/15529 [==============================] - 139s 9ms/step - loss: 0.4817 - auc: 0.8490 - val_loss: 0.6289 - val_auc: 0.7439\n",
      "Epoch 93/200\n",
      "15529/15529 [==============================] - 109s 7ms/step - loss: 0.4803 - auc: 0.8499 - val_loss: 0.6396 - val_auc: 0.7381\n",
      "Epoch 94/200\n",
      "15529/15529 [==============================] - 109s 7ms/step - loss: 0.4810 - auc: 0.8495 - val_loss: 0.6427 - val_auc: 0.7381\n",
      "Epoch 95/200\n",
      "15529/15529 [==============================] - 108s 7ms/step - loss: 0.4805 - auc: 0.8497 - val_loss: 0.6374 - val_auc: 0.7396\n",
      "Epoch 96/200\n",
      "15529/15529 [==============================] - 108s 7ms/step - loss: 0.4805 - auc: 0.8498 - val_loss: 0.6323 - val_auc: 0.7466\n",
      "Epoch 97/200\n",
      "15529/15529 [==============================] - 108s 7ms/step - loss: 0.4804 - auc: 0.8499 - val_loss: 0.6393 - val_auc: 0.7447\n",
      "Epoch 98/200\n",
      "15529/15529 [==============================] - 107s 7ms/step - loss: 0.4795 - auc: 0.8505 - val_loss: 0.6398 - val_auc: 0.7468\n",
      "Epoch 99/200\n",
      "15529/15529 [==============================] - 108s 7ms/step - loss: 0.4789 - auc: 0.8509 - val_loss: 0.6487 - val_auc: 0.7357\n",
      "Epoch 100/200\n",
      "15529/15529 [==============================] - 107s 7ms/step - loss: 0.4780 - auc: 0.8515 - val_loss: 0.6447 - val_auc: 0.7388\n",
      "Epoch 101/200\n",
      "15529/15529 [==============================] - 153s 10ms/step - loss: 0.4790 - auc: 0.8509 - val_loss: 0.6377 - val_auc: 0.7393\n",
      "Epoch 102/200\n",
      "15529/15529 [==============================] - 106s 7ms/step - loss: 0.4789 - auc: 0.8509 - val_loss: 0.6362 - val_auc: 0.7405\n",
      "Epoch 103/200\n",
      "15529/15529 [==============================] - 107s 7ms/step - loss: 0.4775 - auc: 0.8519 - val_loss: 0.6422 - val_auc: 0.7389\n",
      "Epoch 104/200\n",
      "15529/15529 [==============================] - 107s 7ms/step - loss: 0.4778 - auc: 0.8516 - val_loss: 0.6395 - val_auc: 0.7399\n",
      "Epoch 105/200\n",
      "15529/15529 [==============================] - 108s 7ms/step - loss: 0.4762 - auc: 0.8528 - val_loss: 0.6531 - val_auc: 0.7314\n",
      "Epoch 106/200\n",
      "15529/15529 [==============================] - 107s 7ms/step - loss: 0.4766 - auc: 0.8525 - val_loss: 0.6499 - val_auc: 0.7415\n",
      "Epoch 107/200\n",
      "15529/15529 [==============================] - 107s 7ms/step - loss: 0.4765 - auc: 0.8526 - val_loss: 0.6542 - val_auc: 0.7370\n",
      "Epoch 108/200\n",
      "15529/15529 [==============================] - 107s 7ms/step - loss: 0.4762 - auc: 0.8529 - val_loss: 0.6380 - val_auc: 0.7377\n",
      "Epoch 109/200\n",
      "15529/15529 [==============================] - 108s 7ms/step - loss: 0.4753 - auc: 0.8535 - val_loss: 0.6454 - val_auc: 0.7368\n",
      "Epoch 110/200\n",
      "15529/15529 [==============================] - 131s 8ms/step - loss: 0.4762 - auc: 0.8529 - val_loss: 0.6348 - val_auc: 0.7396\n",
      "Epoch 111/200\n",
      "15529/15529 [==============================] - 139s 9ms/step - loss: 0.4752 - auc: 0.8536 - val_loss: 0.6425 - val_auc: 0.7381\n",
      "Epoch 112/200\n",
      "15529/15529 [==============================] - 107s 7ms/step - loss: 0.4747 - auc: 0.8538 - val_loss: 0.6483 - val_auc: 0.7307\n",
      "Epoch 113/200\n",
      "15529/15529 [==============================] - 107s 7ms/step - loss: 0.4748 - auc: 0.8538 - val_loss: 0.6344 - val_auc: 0.7379\n",
      "Epoch 114/200\n",
      "15529/15529 [==============================] - 108s 7ms/step - loss: 0.4749 - auc: 0.8538 - val_loss: 0.6456 - val_auc: 0.7354\n",
      "Epoch 115/200\n",
      "15529/15529 [==============================] - 107s 7ms/step - loss: 0.4743 - auc: 0.8541 - val_loss: 0.6622 - val_auc: 0.7287\n",
      "Epoch 116/200\n",
      "15529/15529 [==============================] - 107s 7ms/step - loss: 0.4739 - auc: 0.8545 - val_loss: 0.6519 - val_auc: 0.7367\n",
      "Epoch 117/200\n",
      "15529/15529 [==============================] - 106s 7ms/step - loss: 0.4735 - auc: 0.8548 - val_loss: 0.6426 - val_auc: 0.7374\n",
      "Epoch 118/200\n",
      "15529/15529 [==============================] - 107s 7ms/step - loss: 0.4727 - auc: 0.8553 - val_loss: 0.6358 - val_auc: 0.7478\n",
      "Epoch 119/200\n",
      "15529/15529 [==============================] - 107s 7ms/step - loss: 0.4734 - auc: 0.8548 - val_loss: 0.6469 - val_auc: 0.7352\n",
      "Epoch 120/200\n",
      "15529/15529 [==============================] - 137s 9ms/step - loss: 0.4729 - auc: 0.8552 - val_loss: 0.6489 - val_auc: 0.7336\n"
     ]
    }
   ],
   "source": [
    "\n",
    "history = model.fit(\n",
    "    datagen.flow(X_train, y_train, batch_size=batch_size),\n",
    "    validation_data=datagen.flow(X_val, y_val,\n",
    "    batch_size=batch_size),\n",
    "    epochs = 200,\n",
    "    callbacks = [call_back]\n",
    ")"
   ]
  },
  {
   "cell_type": "code",
   "execution_count": 23,
   "id": "2a162e3e",
   "metadata": {
    "execution": {
     "iopub.execute_input": "2022-03-22T02:19:46.722968Z",
     "iopub.status.busy": "2022-03-22T02:19:46.722140Z",
     "iopub.status.idle": "2022-03-22T02:19:46.727065Z",
     "shell.execute_reply": "2022-03-22T02:19:46.726624Z",
     "shell.execute_reply.started": "2022-03-21T20:03:47.903157Z"
    },
    "papermill": {
     "duration": 83.774476,
     "end_time": "2022-03-22T02:19:46.727188",
     "exception": false,
     "start_time": "2022-03-22T02:18:22.952712",
     "status": "completed"
    },
    "tags": []
   },
   "outputs": [],
   "source": [
    "%matplotlib inline\n",
    "\n",
    "import matplotlib.pyplot as plt"
   ]
  },
  {
   "cell_type": "code",
   "execution_count": 24,
   "id": "95b7f70d",
   "metadata": {
    "execution": {
     "iopub.execute_input": "2022-03-22T02:22:34.688248Z",
     "iopub.status.busy": "2022-03-22T02:22:34.687391Z",
     "iopub.status.idle": "2022-03-22T02:22:35.045219Z",
     "shell.execute_reply": "2022-03-22T02:22:35.045631Z",
     "shell.execute_reply.started": "2022-03-21T20:03:47.911114Z"
    },
    "papermill": {
     "duration": 84.411453,
     "end_time": "2022-03-22T02:22:35.045788",
     "exception": false,
     "start_time": "2022-03-22T02:21:10.634335",
     "status": "completed"
    },
    "tags": []
   },
   "outputs": [
    {
     "data": {
      "text/plain": [
       "Text(0.5, 1.0, 'Training & validation loss')"
      ]
     },
     "execution_count": 24,
     "metadata": {},
     "output_type": "execute_result"
    },
    {
     "data": {
      "image/png": "[encoded data removed]",
      "text/plain": [
       "<Figure size 432x288 with 1 Axes>"
      ]
     },
     "metadata": {
      "needs_background": "light"
     },
     "output_type": "display_data"
    },
    {
     "data": {
      "image/png": "[encoded data removed]",
      "text/plain": [
       "<Figure size 432x288 with 1 Axes>"
      ]
     },
     "metadata": {
      "needs_background": "light"
     },
     "output_type": "display_data"
    }
   ],
   "source": [
    "acc = history.history['auc']\n",
    "val_acc = history.history['val_auc']\n",
    "loss = history.history['loss']\n",
    "val_loss = history.history['val_loss']\n",
    "\n",
    "epochs = range(len(acc))\n",
    "plt.plot(epochs, acc)\n",
    "plt.plot(epochs, val_acc)\n",
    "plt.title('Training & validation on accuracy')\n",
    "plt.figure()\n",
    "\n",
    "plt.plot(epochs,loss)\n",
    "plt.plot(epochs,val_loss)\n",
    "plt.title('Training & validation loss')"
   ]
  },
  {
   "cell_type": "code",
   "execution_count": null,
   "id": "1c0a6870",
   "metadata": {
    "papermill": {
     "duration": 84.154035,
     "end_time": "2022-03-22T02:25:23.431041",
     "exception": false,
     "start_time": "2022-03-22T02:23:59.277006",
     "status": "completed"
    },
    "tags": []
   },
   "outputs": [],
   "source": []
  }
 ],
 "metadata": {
  "kernelspec": {
   "display_name": "Python 3",
   "language": "python",
   "name": "python3"
  },
  "language_info": {
   "codemirror_mode": {
    "name": "ipython",
    "version": 3
   },
   "file_extension": ".py",
   "mimetype": "text/x-python",
   "name": "python",
   "nbconvert_exporter": "python",
   "pygments_lexer": "ipython3",
   "version": "3.7.12"
  },
  "papermill": {
   "default_parameters": {},
   "duration": 14691.496951,
   "end_time": "2022-03-22T02:26:50.762070",
   "environment_variables": {},
   "exception": null,
   "input_path": "__notebook__.ipynb",
   "output_path": "__notebook__.ipynb",
   "parameters": {},
   "start_time": "2022-03-21T22:21:59.265119",
   "version": "2.3.3"
  }
 },
 "nbformat": 4,
 "nbformat_minor": 5
}
