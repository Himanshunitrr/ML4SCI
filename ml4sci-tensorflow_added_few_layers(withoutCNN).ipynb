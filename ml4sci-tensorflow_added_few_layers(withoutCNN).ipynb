{
 "cells": [
  {
   "cell_type": "code",
   "execution_count": 1,
   "id": "e3ec055f",
   "metadata": {
    "_cell_guid": "b1076dfc-b9ad-4769-8c92-a6c4dae69d19",
    "_uuid": "8f2839f25d086af736a60e9eeb907d3b93b6e0e5",
    "execution": {
     "iopub.execute_input": "2022-03-21T20:07:20.756495Z",
     "iopub.status.busy": "2022-03-21T20:07:20.755671Z",
     "iopub.status.idle": "2022-03-21T20:07:20.908441Z",
     "shell.execute_reply": "2022-03-21T20:07:20.909633Z",
     "shell.execute_reply.started": "2022-03-21T20:01:25.700730Z"
    },
    "papermill": {
     "duration": 0.196582,
     "end_time": "2022-03-21T20:07:20.909994",
     "exception": false,
     "start_time": "2022-03-21T20:07:20.713412",
     "status": "completed"
    },
    "tags": []
   },
   "outputs": [],
   "source": [
    "import numpy as np\n",
    "import pandas as pd\n",
    "import h5py\n",
    "from tqdm import tqdm\n",
    "import matplotlib.pyplot as plt"
   ]
  },
  {
   "cell_type": "code",
   "execution_count": 2,
   "id": "c77d6ace",
   "metadata": {
    "execution": {
     "iopub.execute_input": "2022-03-21T20:07:20.979562Z",
     "iopub.status.busy": "2022-03-21T20:07:20.978990Z",
     "iopub.status.idle": "2022-03-21T20:07:20.982898Z",
     "shell.execute_reply": "2022-03-21T20:07:20.983285Z",
     "shell.execute_reply.started": "2022-03-21T20:01:25.871833Z"
    },
    "papermill": {
     "duration": 0.037929,
     "end_time": "2022-03-21T20:07:20.983414",
     "exception": false,
     "start_time": "2022-03-21T20:07:20.945485",
     "status": "completed"
    },
    "tags": []
   },
   "outputs": [],
   "source": [
    "hf_e = h5py.File('../input/ml4sci/SingleElectronPt50_IMGCROPS_n249k_RHv1.hdf5', 'r')\n",
    "electron_data_x = hf_e.get('X')\n",
    "electron_data_y = hf_e.get('y')"
   ]
  },
  {
   "cell_type": "code",
   "execution_count": 3,
   "id": "8c045e08",
   "metadata": {
    "execution": {
     "iopub.execute_input": "2022-03-21T20:07:21.035408Z",
     "iopub.status.busy": "2022-03-21T20:07:21.028780Z",
     "iopub.status.idle": "2022-03-21T20:07:21.038801Z",
     "shell.execute_reply": "2022-03-21T20:07:21.038377Z",
     "shell.execute_reply.started": "2022-03-21T20:01:25.890239Z"
    },
    "papermill": {
     "duration": 0.034346,
     "end_time": "2022-03-21T20:07:21.038911",
     "exception": false,
     "start_time": "2022-03-21T20:07:21.004565",
     "status": "completed"
    },
    "tags": []
   },
   "outputs": [],
   "source": [
    "hf_p = h5py.File('../input/ml4sci/SinglePhotonPt50_IMGCROPS_n249k_RHv1.hdf5', 'r')\n",
    "photon_data_x = hf_p.get('X')\n",
    "photon_data_y = hf_p.get('y')"
   ]
  },
  {
   "cell_type": "code",
   "execution_count": 4,
   "id": "ded62be2",
   "metadata": {
    "execution": {
     "iopub.execute_input": "2022-03-21T20:07:21.086166Z",
     "iopub.status.busy": "2022-03-21T20:07:21.085619Z",
     "iopub.status.idle": "2022-03-21T20:07:33.409508Z",
     "shell.execute_reply": "2022-03-21T20:07:33.408992Z",
     "shell.execute_reply.started": "2022-03-21T20:01:25.907030Z"
    },
    "papermill": {
     "duration": 12.349707,
     "end_time": "2022-03-21T20:07:33.409647",
     "exception": false,
     "start_time": "2022-03-21T20:07:21.059940",
     "status": "completed"
    },
    "tags": []
   },
   "outputs": [],
   "source": [
    "electron_data_x = np.asarray(electron_data_x)\n",
    "electron_data_y = np.asarray(electron_data_y)\n",
    "\n",
    "photon_data_x = np.asarray(photon_data_x)\n",
    "photon_data_y = np.asarray(photon_data_y)"
   ]
  },
  {
   "cell_type": "code",
   "execution_count": 5,
   "id": "dfa87adb",
   "metadata": {
    "execution": {
     "iopub.execute_input": "2022-03-21T20:07:33.467426Z",
     "iopub.status.busy": "2022-03-21T20:07:33.465522Z",
     "iopub.status.idle": "2022-03-21T20:07:33.474145Z",
     "shell.execute_reply": "2022-03-21T20:07:33.473505Z",
     "shell.execute_reply.started": "2022-03-21T20:01:37.528529Z"
    },
    "papermill": {
     "duration": 0.043266,
     "end_time": "2022-03-21T20:07:33.474308",
     "exception": false,
     "start_time": "2022-03-21T20:07:33.431042",
     "status": "completed"
    },
    "tags": []
   },
   "outputs": [
    {
     "name": "stdout",
     "output_type": "stream",
     "text": [
      "(249000, 32, 32, 2)\n",
      "(249000, 32, 32, 2)\n",
      "(249000,)\n",
      "(249000,)\n"
     ]
    }
   ],
   "source": [
    "print(electron_data_x.shape)\n",
    "print(photon_data_x.shape)\n",
    "\n",
    "print(electron_data_y.shape)\n",
    "print(photon_data_y.shape)"
   ]
  },
  {
   "cell_type": "code",
   "execution_count": 6,
   "id": "9d643e9a",
   "metadata": {
    "execution": {
     "iopub.execute_input": "2022-03-21T20:07:33.564659Z",
     "iopub.status.busy": "2022-03-21T20:07:33.561744Z",
     "iopub.status.idle": "2022-03-21T20:07:35.063915Z",
     "shell.execute_reply": "2022-03-21T20:07:35.063384Z",
     "shell.execute_reply.started": "2022-03-21T20:01:37.536078Z"
    },
    "papermill": {
     "duration": 1.547319,
     "end_time": "2022-03-21T20:07:35.064055",
     "exception": false,
     "start_time": "2022-03-21T20:07:33.516736",
     "status": "completed"
    },
    "tags": []
   },
   "outputs": [],
   "source": [
    "X = np.concatenate((electron_data_x, photon_data_x))\n",
    "y = np.concatenate((electron_data_y, photon_data_y))"
   ]
  },
  {
   "cell_type": "code",
   "execution_count": 7,
   "id": "63320efb",
   "metadata": {
    "execution": {
     "iopub.execute_input": "2022-03-21T20:07:35.112246Z",
     "iopub.status.busy": "2022-03-21T20:07:35.110122Z",
     "iopub.status.idle": "2022-03-21T20:07:35.115100Z",
     "shell.execute_reply": "2022-03-21T20:07:35.114661Z",
     "shell.execute_reply.started": "2022-03-21T20:01:38.985404Z"
    },
    "papermill": {
     "duration": 0.029165,
     "end_time": "2022-03-21T20:07:35.115208",
     "exception": false,
     "start_time": "2022-03-21T20:07:35.086043",
     "status": "completed"
    },
    "tags": []
   },
   "outputs": [
    {
     "name": "stdout",
     "output_type": "stream",
     "text": [
      "(498000, 32, 32, 2)\n",
      "(498000,)\n"
     ]
    }
   ],
   "source": [
    "print(X.shape)\n",
    "print(y.shape)"
   ]
  },
  {
   "cell_type": "code",
   "execution_count": 8,
   "id": "8641281b",
   "metadata": {
    "execution": {
     "iopub.execute_input": "2022-03-21T20:07:35.162560Z",
     "iopub.status.busy": "2022-03-21T20:07:35.161811Z",
     "iopub.status.idle": "2022-03-21T20:07:35.164265Z",
     "shell.execute_reply": "2022-03-21T20:07:35.163847Z",
     "shell.execute_reply.started": "2022-03-21T20:01:38.991677Z"
    },
    "papermill": {
     "duration": 0.027281,
     "end_time": "2022-03-21T20:07:35.164364",
     "exception": false,
     "start_time": "2022-03-21T20:07:35.137083",
     "status": "completed"
    },
    "tags": []
   },
   "outputs": [],
   "source": [
    "# X_vis = X[:5]\n",
    "\n",
    "# fig, axes = plt.subplots(nrows=len(X_vis), ncols=2, figsize=(48, 48))\n",
    "# for i in range(len(X_vis)):\n",
    "\n",
    "#     axes[i][0].imshow(X_vis[i,:,:,0])\n",
    "#     axes[i][1].imshow(X_vis[i,:,:,1])\n",
    "\n"
   ]
  },
  {
   "cell_type": "code",
   "execution_count": 9,
   "id": "e4a3f4a1",
   "metadata": {
    "execution": {
     "iopub.execute_input": "2022-03-21T20:07:35.213161Z",
     "iopub.status.busy": "2022-03-21T20:07:35.212547Z",
     "iopub.status.idle": "2022-03-21T20:07:39.457754Z",
     "shell.execute_reply": "2022-03-21T20:07:39.456942Z",
     "shell.execute_reply.started": "2022-03-21T20:01:39.002289Z"
    },
    "papermill": {
     "duration": 4.270323,
     "end_time": "2022-03-21T20:07:39.457897",
     "exception": false,
     "start_time": "2022-03-21T20:07:35.187574",
     "status": "completed"
    },
    "tags": []
   },
   "outputs": [],
   "source": [
    "from sklearn.utils import shuffle\n",
    "X, y = shuffle(X, y, random_state=0)\n",
    "X, y = shuffle(X, y, random_state=0) #really random "
   ]
  },
  {
   "cell_type": "code",
   "execution_count": 10,
   "id": "d687caad",
   "metadata": {
    "execution": {
     "iopub.execute_input": "2022-03-21T20:07:39.506284Z",
     "iopub.status.busy": "2022-03-21T20:07:39.504764Z",
     "iopub.status.idle": "2022-03-21T20:07:39.506914Z",
     "shell.execute_reply": "2022-03-21T20:07:39.507314Z",
     "shell.execute_reply.started": "2022-03-21T20:01:43.419081Z"
    },
    "papermill": {
     "duration": 0.027498,
     "end_time": "2022-03-21T20:07:39.507431",
     "exception": false,
     "start_time": "2022-03-21T20:07:39.479933",
     "status": "completed"
    },
    "tags": []
   },
   "outputs": [],
   "source": [
    "# mean = 0.015\n",
    "# std = 0.297"
   ]
  },
  {
   "cell_type": "code",
   "execution_count": 11,
   "id": "1690f0ad",
   "metadata": {
    "execution": {
     "iopub.execute_input": "2022-03-21T20:07:39.555431Z",
     "iopub.status.busy": "2022-03-21T20:07:39.554846Z",
     "iopub.status.idle": "2022-03-21T20:07:39.557687Z",
     "shell.execute_reply": "2022-03-21T20:07:39.558107Z",
     "shell.execute_reply.started": "2022-03-21T20:01:43.430750Z"
    },
    "papermill": {
     "duration": 0.028995,
     "end_time": "2022-03-21T20:07:39.558221",
     "exception": false,
     "start_time": "2022-03-21T20:07:39.529226",
     "status": "completed"
    },
    "tags": []
   },
   "outputs": [
    {
     "name": "stdout",
     "output_type": "stream",
     "text": [
      "(496900, 32, 32, 2)\n",
      "(1000, 32, 32, 2)\n",
      "(100, 32, 32, 2)\n"
     ]
    }
   ],
   "source": [
    "X_train = X[:496900]\n",
    "X_val = X[496900:497900]\n",
    "X_test = X[497900:]\n",
    "\n",
    "print(X_train.shape)\n",
    "print(X_val.shape)\n",
    "print(X_test.shape)"
   ]
  },
  {
   "cell_type": "code",
   "execution_count": 12,
   "id": "7776535b",
   "metadata": {
    "execution": {
     "iopub.execute_input": "2022-03-21T20:07:39.610219Z",
     "iopub.status.busy": "2022-03-21T20:07:39.609501Z",
     "iopub.status.idle": "2022-03-21T20:07:39.612485Z",
     "shell.execute_reply": "2022-03-21T20:07:39.613001Z",
     "shell.execute_reply.started": "2022-03-21T20:01:43.447338Z"
    },
    "papermill": {
     "duration": 0.033169,
     "end_time": "2022-03-21T20:07:39.613128",
     "exception": false,
     "start_time": "2022-03-21T20:07:39.579959",
     "status": "completed"
    },
    "tags": []
   },
   "outputs": [
    {
     "name": "stdout",
     "output_type": "stream",
     "text": [
      "(496900,)\n",
      "(1000,)\n",
      "(100,)\n"
     ]
    }
   ],
   "source": [
    "y_train = y[:496900]\n",
    "y_val = y[496900:497900]\n",
    "y_test = y[497900:]\n",
    "\n",
    "print(y_train.shape)\n",
    "print(y_val.shape)\n",
    "print(y_test.shape)"
   ]
  },
  {
   "cell_type": "code",
   "execution_count": 13,
   "id": "3b73b1be",
   "metadata": {
    "execution": {
     "iopub.execute_input": "2022-03-21T20:07:39.668063Z",
     "iopub.status.busy": "2022-03-21T20:07:39.667108Z",
     "iopub.status.idle": "2022-03-21T20:07:39.669220Z",
     "shell.execute_reply": "2022-03-21T20:07:39.669704Z",
     "shell.execute_reply.started": "2022-03-21T20:01:43.458644Z"
    },
    "papermill": {
     "duration": 0.031614,
     "end_time": "2022-03-21T20:07:39.669848",
     "exception": false,
     "start_time": "2022-03-21T20:07:39.638234",
     "status": "completed"
    },
    "tags": []
   },
   "outputs": [],
   "source": [
    "# model = CreateModel()\n",
    "# model.to(Config['DEVICE'])"
   ]
  },
  {
   "cell_type": "code",
   "execution_count": 14,
   "id": "d4952f16",
   "metadata": {
    "execution": {
     "iopub.execute_input": "2022-03-21T20:07:39.725041Z",
     "iopub.status.busy": "2022-03-21T20:07:39.724169Z",
     "iopub.status.idle": "2022-03-21T20:07:39.726367Z",
     "shell.execute_reply": "2022-03-21T20:07:39.726808Z",
     "shell.execute_reply.started": "2022-03-21T20:01:43.473638Z"
    },
    "papermill": {
     "duration": 0.0316,
     "end_time": "2022-03-21T20:07:39.726957",
     "exception": false,
     "start_time": "2022-03-21T20:07:39.695357",
     "status": "completed"
    },
    "tags": []
   },
   "outputs": [],
   "source": [
    "batch_size = 32\n",
    "img_size = 32"
   ]
  },
  {
   "cell_type": "code",
   "execution_count": 15,
   "id": "52f06eb6",
   "metadata": {
    "execution": {
     "iopub.execute_input": "2022-03-21T20:07:39.781567Z",
     "iopub.status.busy": "2022-03-21T20:07:39.780733Z",
     "iopub.status.idle": "2022-03-21T20:07:39.783215Z",
     "shell.execute_reply": "2022-03-21T20:07:39.782773Z",
     "shell.execute_reply.started": "2022-03-21T20:01:43.479722Z"
    },
    "papermill": {
     "duration": 0.030933,
     "end_time": "2022-03-21T20:07:39.783317",
     "exception": false,
     "start_time": "2022-03-21T20:07:39.752384",
     "status": "completed"
    },
    "tags": []
   },
   "outputs": [],
   "source": [
    "# from sklearn.preprocessing import normalize\n",
    "# normed_matrix = normalize(X, axis=1, norm='l1')"
   ]
  },
  {
   "cell_type": "code",
   "execution_count": 16,
   "id": "66672466",
   "metadata": {
    "execution": {
     "iopub.execute_input": "2022-03-21T20:07:39.837833Z",
     "iopub.status.busy": "2022-03-21T20:07:39.837053Z",
     "iopub.status.idle": "2022-03-21T20:07:39.839585Z",
     "shell.execute_reply": "2022-03-21T20:07:39.840036Z",
     "shell.execute_reply.started": "2022-03-21T20:01:43.488703Z"
    },
    "papermill": {
     "duration": 0.031589,
     "end_time": "2022-03-21T20:07:39.840158",
     "exception": false,
     "start_time": "2022-03-21T20:07:39.808569",
     "status": "completed"
    },
    "tags": []
   },
   "outputs": [],
   "source": [
    "# X = np.linalg.norm(X, axis = 1, keepdims = True)"
   ]
  },
  {
   "cell_type": "code",
   "execution_count": 17,
   "id": "7463293d",
   "metadata": {
    "execution": {
     "iopub.execute_input": "2022-03-21T20:07:39.893285Z",
     "iopub.status.busy": "2022-03-21T20:07:39.892590Z",
     "iopub.status.idle": "2022-03-21T20:07:44.508503Z",
     "shell.execute_reply": "2022-03-21T20:07:44.509019Z",
     "shell.execute_reply.started": "2022-03-21T20:01:43.497178Z"
    },
    "papermill": {
     "duration": 4.644326,
     "end_time": "2022-03-21T20:07:44.509186",
     "exception": false,
     "start_time": "2022-03-21T20:07:39.864860",
     "status": "completed"
    },
    "tags": []
   },
   "outputs": [],
   "source": [
    "from tensorflow.keras.preprocessing.image import ImageDataGenerator\n",
    "\n",
    "datagen = ImageDataGenerator()\n",
    "\n",
    "# datagen = ImageDataGenerator(\n",
    "#     featurewise_std_normalization=True,\n",
    "# )\n",
    "# datagen.fit(X_train)\n",
    "# datagen.fit(X_val)\n",
    "# datagen.fit(X_test)"
   ]
  },
  {
   "cell_type": "code",
   "execution_count": 18,
   "id": "7ae8737a",
   "metadata": {
    "execution": {
     "iopub.execute_input": "2022-03-21T20:07:44.588670Z",
     "iopub.status.busy": "2022-03-21T20:07:44.587796Z",
     "iopub.status.idle": "2022-03-21T20:07:46.976071Z",
     "shell.execute_reply": "2022-03-21T20:07:46.976593Z",
     "shell.execute_reply.started": "2022-03-21T20:01:48.364548Z"
    },
    "papermill": {
     "duration": 2.441141,
     "end_time": "2022-03-21T20:07:46.976758",
     "exception": false,
     "start_time": "2022-03-21T20:07:44.535617",
     "status": "completed"
    },
    "tags": []
   },
   "outputs": [
    {
     "name": "stderr",
     "output_type": "stream",
     "text": [
      "2022-03-21 20:07:44.701966: I tensorflow/stream_executor/cuda/cuda_gpu_executor.cc:937] successful NUMA node read from SysFS had negative value (-1), but there must be at least one NUMA node, so returning NUMA node zero\n",
      "2022-03-21 20:07:44.809948: I tensorflow/stream_executor/cuda/cuda_gpu_executor.cc:937] successful NUMA node read from SysFS had negative value (-1), but there must be at least one NUMA node, so returning NUMA node zero\n",
      "2022-03-21 20:07:44.810935: I tensorflow/stream_executor/cuda/cuda_gpu_executor.cc:937] successful NUMA node read from SysFS had negative value (-1), but there must be at least one NUMA node, so returning NUMA node zero\n",
      "2022-03-21 20:07:44.813099: I tensorflow/core/platform/cpu_feature_guard.cc:142] This TensorFlow binary is optimized with oneAPI Deep Neural Network Library (oneDNN) to use the following CPU instructions in performance-critical operations:  AVX2 AVX512F FMA\n",
      "To enable them in other operations, rebuild TensorFlow with the appropriate compiler flags.\n",
      "2022-03-21 20:07:44.813976: I tensorflow/stream_executor/cuda/cuda_gpu_executor.cc:937] successful NUMA node read from SysFS had negative value (-1), but there must be at least one NUMA node, so returning NUMA node zero\n",
      "2022-03-21 20:07:44.814937: I tensorflow/stream_executor/cuda/cuda_gpu_executor.cc:937] successful NUMA node read from SysFS had negative value (-1), but there must be at least one NUMA node, so returning NUMA node zero\n",
      "2022-03-21 20:07:44.815860: I tensorflow/stream_executor/cuda/cuda_gpu_executor.cc:937] successful NUMA node read from SysFS had negative value (-1), but there must be at least one NUMA node, so returning NUMA node zero\n",
      "2022-03-21 20:07:46.648303: I tensorflow/stream_executor/cuda/cuda_gpu_executor.cc:937] successful NUMA node read from SysFS had negative value (-1), but there must be at least one NUMA node, so returning NUMA node zero\n",
      "2022-03-21 20:07:46.649169: I tensorflow/stream_executor/cuda/cuda_gpu_executor.cc:937] successful NUMA node read from SysFS had negative value (-1), but there must be at least one NUMA node, so returning NUMA node zero\n",
      "2022-03-21 20:07:46.649867: I tensorflow/stream_executor/cuda/cuda_gpu_executor.cc:937] successful NUMA node read from SysFS had negative value (-1), but there must be at least one NUMA node, so returning NUMA node zero\n",
      "2022-03-21 20:07:46.650462: I tensorflow/core/common_runtime/gpu/gpu_device.cc:1510] Created device /job:localhost/replica:0/task:0/device:GPU:0 with 15403 MB memory:  -> device: 0, name: Tesla P100-PCIE-16GB, pci bus id: 0000:00:04.0, compute capability: 6.0\n"
     ]
    }
   ],
   "source": [
    "import tensorflow as tf\n",
    "model = tf.keras.models.Sequential([\n",
    "\n",
    "    tf.keras.layers.Normalization(),\n",
    "    tf.keras.layers.Flatten(),  \n",
    "    tf.keras.layers.Dense(128, activation='relu',),\n",
    "    tf.keras.layers.Dropout(0.2),\n",
    "    tf.keras.layers.Dense(256, activation='relu',),\n",
    "    tf.keras.layers.Dropout(0.3),\n",
    "    tf.keras.layers.Dense(512, activation='relu',),\n",
    "    tf.keras.layers.Dropout(0.2),\n",
    "    tf.keras.layers.BatchNormalization(),\n",
    "    tf.keras.layers.Dense(1024, activation='relu'),\n",
    "    tf.keras.layers.BatchNormalization(),\n",
    "    tf.keras.layers.Dropout(0.2),\n",
    "    tf.keras.layers.Dense(1024, activation='relu'),\n",
    "    tf.keras.layers.Dropout(0.3),\n",
    "    tf.keras.layers.Dense(512, activation='relu'),\n",
    "    tf.keras.layers.Dropout(0.2),\n",
    "    tf.keras.layers.Dense(256, activation='relu',),\n",
    "    tf.keras.layers.BatchNormalization(),\n",
    "    tf.keras.layers.Dense(128, activation='relu'),\n",
    "    \n",
    "    \n",
    "    tf.keras.layers.Dense(1, activation='sigmoid')\n",
    "    \n",
    "])"
   ]
  },
  {
   "cell_type": "code",
   "execution_count": 19,
   "id": "8b913118",
   "metadata": {
    "execution": {
     "iopub.execute_input": "2022-03-21T20:07:47.027775Z",
     "iopub.status.busy": "2022-03-21T20:07:47.027239Z",
     "iopub.status.idle": "2022-03-21T20:07:47.043969Z",
     "shell.execute_reply": "2022-03-21T20:07:47.043392Z",
     "shell.execute_reply.started": "2022-03-21T20:01:50.713228Z"
    },
    "papermill": {
     "duration": 0.044272,
     "end_time": "2022-03-21T20:07:47.044093",
     "exception": false,
     "start_time": "2022-03-21T20:07:46.999821",
     "status": "completed"
    },
    "tags": []
   },
   "outputs": [],
   "source": [
    "from tensorflow.keras.optimizers import Adam\n",
    "\n",
    "model.compile(\n",
    "    loss='binary_crossentropy',\n",
    "    optimizer=Adam(learning_rate=0.001),\n",
    "    metrics=['AUC']\n",
    ")"
   ]
  },
  {
   "cell_type": "code",
   "execution_count": 20,
   "id": "28ea9712",
   "metadata": {
    "execution": {
     "iopub.execute_input": "2022-03-21T20:07:47.095032Z",
     "iopub.status.busy": "2022-03-21T20:07:47.094200Z",
     "iopub.status.idle": "2022-03-21T20:07:47.096888Z",
     "shell.execute_reply": "2022-03-21T20:07:47.096454Z",
     "shell.execute_reply.started": "2022-03-21T20:01:50.735417Z"
    },
    "papermill": {
     "duration": 0.029335,
     "end_time": "2022-03-21T20:07:47.096997",
     "exception": false,
     "start_time": "2022-03-21T20:07:47.067662",
     "status": "completed"
    },
    "tags": []
   },
   "outputs": [],
   "source": [
    "call_back = tf.keras.callbacks.EarlyStopping(patience=50, restore_best_weights=True)"
   ]
  },
  {
   "cell_type": "code",
   "execution_count": 21,
   "id": "f5cfcc7d",
   "metadata": {
    "execution": {
     "iopub.execute_input": "2022-03-21T20:07:47.146858Z",
     "iopub.status.busy": "2022-03-21T20:07:47.146301Z",
     "iopub.status.idle": "2022-03-21T20:07:47.149530Z",
     "shell.execute_reply": "2022-03-21T20:07:47.149958Z",
     "shell.execute_reply.started": "2022-03-21T20:01:50.744339Z"
    },
    "papermill": {
     "duration": 0.030268,
     "end_time": "2022-03-21T20:07:47.150086",
     "exception": false,
     "start_time": "2022-03-21T20:07:47.119818",
     "status": "completed"
    },
    "tags": []
   },
   "outputs": [],
   "source": [
    "labels = [0,1]"
   ]
  },
  {
   "cell_type": "code",
   "execution_count": 22,
   "id": "2f2382ad",
   "metadata": {
    "execution": {
     "iopub.execute_input": "2022-03-21T20:07:47.200693Z",
     "iopub.status.busy": "2022-03-21T20:07:47.200167Z",
     "iopub.status.idle": "2022-03-21T21:57:26.728842Z",
     "shell.execute_reply": "2022-03-21T21:57:26.728283Z",
     "shell.execute_reply.started": "2022-03-21T20:01:50.750960Z"
    },
    "papermill": {
     "duration": 6579.555983,
     "end_time": "2022-03-21T21:57:26.729034",
     "exception": false,
     "start_time": "2022-03-21T20:07:47.173051",
     "status": "completed"
    },
    "tags": []
   },
   "outputs": [
    {
     "name": "stderr",
     "output_type": "stream",
     "text": [
      "/opt/conda/lib/python3.7/site-packages/keras_preprocessing/image/numpy_array_iterator.py:136: UserWarning: NumpyArrayIterator is set to use the data format convention \"channels_last\" (channels on axis 3), i.e. expected either 1, 3, or 4 channels on axis 3. However, it was passed an array with shape (496900, 32, 32, 2) (2 channels).\n",
      "  str(self.x.shape[channels_axis]) + ' channels).')\n",
      "/opt/conda/lib/python3.7/site-packages/keras_preprocessing/image/numpy_array_iterator.py:136: UserWarning: NumpyArrayIterator is set to use the data format convention \"channels_last\" (channels on axis 3), i.e. expected either 1, 3, or 4 channels on axis 3. However, it was passed an array with shape (1000, 32, 32, 2) (2 channels).\n",
      "  str(self.x.shape[channels_axis]) + ' channels).')\n",
      "2022-03-21 20:07:48.193161: I tensorflow/compiler/mlir/mlir_graph_optimization_pass.cc:185] None of the MLIR Optimization Passes are enabled (registered 2)\n"
     ]
    },
    {
     "name": "stdout",
     "output_type": "stream",
     "text": [
      "Epoch 1/200\n",
      "15529/15529 [==============================] - 109s 7ms/step - loss: 0.6584 - auc: 0.6453 - val_loss: 0.6370 - val_auc: 0.6899\n",
      "Epoch 2/200\n",
      "15529/15529 [==============================] - 110s 7ms/step - loss: 0.6318 - auc: 0.6926 - val_loss: 0.6156 - val_auc: 0.7251\n",
      "Epoch 3/200\n",
      "15529/15529 [==============================] - 111s 7ms/step - loss: 0.6133 - auc: 0.7202 - val_loss: 0.5982 - val_auc: 0.7464\n",
      "Epoch 4/200\n",
      "15529/15529 [==============================] - 113s 7ms/step - loss: 0.6021 - auc: 0.7352 - val_loss: 0.6006 - val_auc: 0.7460\n",
      "Epoch 5/200\n",
      "15529/15529 [==============================] - 112s 7ms/step - loss: 0.5945 - auc: 0.7449 - val_loss: 0.5958 - val_auc: 0.7490\n",
      "Epoch 6/200\n",
      "15529/15529 [==============================] - 113s 7ms/step - loss: 0.5882 - auc: 0.7524 - val_loss: 0.6000 - val_auc: 0.7406\n",
      "Epoch 7/200\n",
      "15529/15529 [==============================] - 107s 7ms/step - loss: 0.5826 - auc: 0.7590 - val_loss: 0.5927 - val_auc: 0.7494\n",
      "Epoch 8/200\n",
      "15529/15529 [==============================] - 112s 7ms/step - loss: 0.5783 - auc: 0.7642 - val_loss: 0.6014 - val_auc: 0.7434\n",
      "Epoch 9/200\n",
      "15529/15529 [==============================] - 112s 7ms/step - loss: 0.5731 - auc: 0.7700 - val_loss: 0.6007 - val_auc: 0.7428\n",
      "Epoch 10/200\n",
      "15529/15529 [==============================] - 112s 7ms/step - loss: 0.5688 - auc: 0.7746 - val_loss: 0.6031 - val_auc: 0.7419\n",
      "Epoch 11/200\n",
      "15529/15529 [==============================] - 116s 7ms/step - loss: 0.5656 - auc: 0.7781 - val_loss: 0.5962 - val_auc: 0.7485\n",
      "Epoch 12/200\n",
      "15529/15529 [==============================] - 105s 7ms/step - loss: 0.5609 - auc: 0.7829 - val_loss: 0.6081 - val_auc: 0.7347\n",
      "Epoch 13/200\n",
      "15529/15529 [==============================] - 111s 7ms/step - loss: 0.5574 - auc: 0.7864 - val_loss: 0.6124 - val_auc: 0.7354\n",
      "Epoch 14/200\n",
      "15529/15529 [==============================] - 112s 7ms/step - loss: 0.5541 - auc: 0.7898 - val_loss: 0.6058 - val_auc: 0.7414\n",
      "Epoch 15/200\n",
      "15529/15529 [==============================] - 113s 7ms/step - loss: 0.5512 - auc: 0.7928 - val_loss: 0.6122 - val_auc: 0.7385\n",
      "Epoch 16/200\n",
      "15529/15529 [==============================] - 108s 7ms/step - loss: 0.5488 - auc: 0.7949 - val_loss: 0.6098 - val_auc: 0.7369\n",
      "Epoch 17/200\n",
      "15529/15529 [==============================] - 111s 7ms/step - loss: 0.5455 - auc: 0.7980 - val_loss: 0.6075 - val_auc: 0.7377\n",
      "Epoch 18/200\n",
      "15529/15529 [==============================] - 112s 7ms/step - loss: 0.5436 - auc: 0.7999 - val_loss: 0.5987 - val_auc: 0.7458\n",
      "Epoch 19/200\n",
      "15529/15529 [==============================] - 112s 7ms/step - loss: 0.5407 - auc: 0.8024 - val_loss: 0.5999 - val_auc: 0.7467\n",
      "Epoch 20/200\n",
      "15529/15529 [==============================] - 110s 7ms/step - loss: 0.5384 - auc: 0.8046 - val_loss: 0.6153 - val_auc: 0.7305\n",
      "Epoch 21/200\n",
      "15529/15529 [==============================] - 109s 7ms/step - loss: 0.5366 - auc: 0.8062 - val_loss: 0.5990 - val_auc: 0.7448\n",
      "Epoch 22/200\n",
      "15529/15529 [==============================] - 116s 7ms/step - loss: 0.5343 - auc: 0.8083 - val_loss: 0.6057 - val_auc: 0.7420\n",
      "Epoch 23/200\n",
      "15529/15529 [==============================] - 105s 7ms/step - loss: 0.5328 - auc: 0.8096 - val_loss: 0.6149 - val_auc: 0.7384\n",
      "Epoch 24/200\n",
      "15529/15529 [==============================] - 117s 8ms/step - loss: 0.5311 - auc: 0.8110 - val_loss: 0.6140 - val_auc: 0.7408\n",
      "Epoch 25/200\n",
      "15529/15529 [==============================] - 105s 7ms/step - loss: 0.5287 - auc: 0.8131 - val_loss: 0.6058 - val_auc: 0.7458\n",
      "Epoch 26/200\n",
      "15529/15529 [==============================] - 115s 7ms/step - loss: 0.5276 - auc: 0.8138 - val_loss: 0.6079 - val_auc: 0.7421\n",
      "Epoch 27/200\n",
      "15529/15529 [==============================] - 105s 7ms/step - loss: 0.5263 - auc: 0.8151 - val_loss: 0.6094 - val_auc: 0.7393\n",
      "Epoch 28/200\n",
      "15529/15529 [==============================] - 106s 7ms/step - loss: 0.5243 - auc: 0.8168 - val_loss: 0.6179 - val_auc: 0.7353\n",
      "Epoch 29/200\n",
      "15529/15529 [==============================] - 119s 8ms/step - loss: 0.5231 - auc: 0.8179 - val_loss: 0.6149 - val_auc: 0.7394\n",
      "Epoch 30/200\n",
      "15529/15529 [==============================] - 106s 7ms/step - loss: 0.5216 - auc: 0.8191 - val_loss: 0.6147 - val_auc: 0.7342\n",
      "Epoch 31/200\n",
      "15529/15529 [==============================] - 121s 8ms/step - loss: 0.5203 - auc: 0.8202 - val_loss: 0.6141 - val_auc: 0.7345\n",
      "Epoch 32/200\n",
      "15529/15529 [==============================] - 106s 7ms/step - loss: 0.5185 - auc: 0.8217 - val_loss: 0.6036 - val_auc: 0.7424\n",
      "Epoch 33/200\n",
      "15529/15529 [==============================] - 105s 7ms/step - loss: 0.5177 - auc: 0.8223 - val_loss: 0.6109 - val_auc: 0.7351\n",
      "Epoch 34/200\n",
      "15529/15529 [==============================] - 123s 8ms/step - loss: 0.5159 - auc: 0.8238 - val_loss: 0.6191 - val_auc: 0.7318\n",
      "Epoch 35/200\n",
      "15529/15529 [==============================] - 106s 7ms/step - loss: 0.5151 - auc: 0.8244 - val_loss: 0.6167 - val_auc: 0.7299\n",
      "Epoch 36/200\n",
      "15529/15529 [==============================] - 124s 8ms/step - loss: 0.5147 - auc: 0.8248 - val_loss: 0.6237 - val_auc: 0.7254\n",
      "Epoch 37/200\n",
      "15529/15529 [==============================] - 105s 7ms/step - loss: 0.5132 - auc: 0.8259 - val_loss: 0.6315 - val_auc: 0.7218\n",
      "Epoch 38/200\n",
      "15529/15529 [==============================] - 105s 7ms/step - loss: 0.5118 - auc: 0.8270 - val_loss: 0.6162 - val_auc: 0.7290\n",
      "Epoch 39/200\n",
      "15529/15529 [==============================] - 125s 8ms/step - loss: 0.5109 - auc: 0.8277 - val_loss: 0.6145 - val_auc: 0.7322\n",
      "Epoch 40/200\n",
      "15529/15529 [==============================] - 104s 7ms/step - loss: 0.5096 - auc: 0.8288 - val_loss: 0.6281 - val_auc: 0.7214\n",
      "Epoch 41/200\n",
      "15529/15529 [==============================] - 118s 8ms/step - loss: 0.5091 - auc: 0.8292 - val_loss: 0.6314 - val_auc: 0.7191\n",
      "Epoch 42/200\n",
      "15529/15529 [==============================] - 111s 7ms/step - loss: 0.5077 - auc: 0.8303 - val_loss: 0.6286 - val_auc: 0.7227\n",
      "Epoch 43/200\n",
      "15529/15529 [==============================] - 105s 7ms/step - loss: 0.5066 - auc: 0.8312 - val_loss: 0.6283 - val_auc: 0.7151\n",
      "Epoch 44/200\n",
      "15529/15529 [==============================] - 128s 8ms/step - loss: 0.5058 - auc: 0.8318 - val_loss: 0.6268 - val_auc: 0.7216\n",
      "Epoch 45/200\n",
      "15529/15529 [==============================] - 104s 7ms/step - loss: 0.5053 - auc: 0.8322 - val_loss: 0.6198 - val_auc: 0.7282\n",
      "Epoch 46/200\n",
      "15529/15529 [==============================] - 105s 7ms/step - loss: 0.5043 - auc: 0.8329 - val_loss: 0.6165 - val_auc: 0.7350\n",
      "Epoch 47/200\n",
      "15529/15529 [==============================] - 105s 7ms/step - loss: 0.5038 - auc: 0.8333 - val_loss: 0.6172 - val_auc: 0.7300\n",
      "Epoch 48/200\n",
      "15529/15529 [==============================] - 105s 7ms/step - loss: 0.5031 - auc: 0.8338 - val_loss: 0.6186 - val_auc: 0.7314\n",
      "Epoch 49/200\n",
      "15529/15529 [==============================] - 130s 8ms/step - loss: 0.5026 - auc: 0.8342 - val_loss: 0.6116 - val_auc: 0.7331\n",
      "Epoch 50/200\n",
      "15529/15529 [==============================] - 106s 7ms/step - loss: 0.5006 - auc: 0.8357 - val_loss: 0.6176 - val_auc: 0.7338\n",
      "Epoch 51/200\n",
      "15529/15529 [==============================] - 108s 7ms/step - loss: 0.5002 - auc: 0.8360 - val_loss: 0.6235 - val_auc: 0.7287\n",
      "Epoch 52/200\n",
      "15529/15529 [==============================] - 107s 7ms/step - loss: 0.5004 - auc: 0.8359 - val_loss: 0.6231 - val_auc: 0.7270\n",
      "Epoch 53/200\n",
      "15529/15529 [==============================] - 107s 7ms/step - loss: 0.4981 - auc: 0.8376 - val_loss: 0.6206 - val_auc: 0.7295\n",
      "Epoch 54/200\n",
      "15529/15529 [==============================] - 134s 9ms/step - loss: 0.4981 - auc: 0.8376 - val_loss: 0.6214 - val_auc: 0.7287\n",
      "Epoch 55/200\n",
      "15529/15529 [==============================] - 106s 7ms/step - loss: 0.4972 - auc: 0.8383 - val_loss: 0.6123 - val_auc: 0.7307\n",
      "Epoch 56/200\n",
      "15529/15529 [==============================] - 106s 7ms/step - loss: 0.4975 - auc: 0.8380 - val_loss: 0.6119 - val_auc: 0.7345\n",
      "Epoch 57/200\n",
      "15529/15529 [==============================] - 106s 7ms/step - loss: 0.4961 - auc: 0.8390 - val_loss: 0.6185 - val_auc: 0.7283\n"
     ]
    }
   ],
   "source": [
    "\n",
    "history = model.fit(\n",
    "    datagen.flow(X_train, y_train, batch_size=batch_size),\n",
    "    validation_data=datagen.flow(X_val, y_val,\n",
    "    batch_size=batch_size),\n",
    "    epochs = 200,\n",
    "    callbacks = [call_back]\n",
    ")"
   ]
  },
  {
   "cell_type": "code",
   "execution_count": 23,
   "id": "78262721",
   "metadata": {
    "execution": {
     "iopub.execute_input": "2022-03-21T21:58:44.907957Z",
     "iopub.status.busy": "2022-03-21T21:58:44.907354Z",
     "iopub.status.idle": "2022-03-21T21:59:02.855741Z",
     "shell.execute_reply": "2022-03-21T21:59:02.856327Z",
     "shell.execute_reply.started": "2022-03-21T20:03:47.903157Z"
    },
    "papermill": {
     "duration": 56.851117,
     "end_time": "2022-03-21T21:59:02.856494",
     "exception": false,
     "start_time": "2022-03-21T21:58:06.005377",
     "status": "completed"
    },
    "tags": []
   },
   "outputs": [],
   "source": [
    "%matplotlib inline\n",
    "\n",
    "import matplotlib.pyplot as plt"
   ]
  },
  {
   "cell_type": "code",
   "execution_count": 24,
   "id": "1f476c09",
   "metadata": {
    "execution": {
     "iopub.execute_input": "2022-03-21T22:00:20.895284Z",
     "iopub.status.busy": "2022-03-21T22:00:20.894565Z",
     "iopub.status.idle": "2022-03-21T22:00:21.272690Z",
     "shell.execute_reply": "2022-03-21T22:00:21.272249Z",
     "shell.execute_reply.started": "2022-03-21T20:03:47.911114Z"
    },
    "papermill": {
     "duration": 39.453726,
     "end_time": "2022-03-21T22:00:21.272827",
     "exception": false,
     "start_time": "2022-03-21T21:59:41.819101",
     "status": "completed"
    },
    "tags": []
   },
   "outputs": [
    {
     "data": {
      "text/plain": [
       "Text(0.5, 1.0, 'Training & validation loss')"
      ]
     },
     "execution_count": 24,
     "metadata": {},
     "output_type": "execute_result"
    },
    {
     "data": {
      "image/png": "[encoded data removed]",
      "text/plain": [
       "<Figure size 432x288 with 1 Axes>"
      ]
     },
     "metadata": {
      "needs_background": "light"
     },
     "output_type": "display_data"
    },
    {
     "data": {
      "image/png": "[encoded data removed]",
      "text/plain": [
       "<Figure size 432x288 with 1 Axes>"
      ]
     },
     "metadata": {
      "needs_background": "light"
     },
     "output_type": "display_data"
    }
   ],
   "source": [
    "acc = history.history['auc']\n",
    "val_acc = history.history['val_auc']\n",
    "loss = history.history['loss']\n",
    "val_loss = history.history['val_loss']\n",
    "\n",
    "epochs = range(len(acc))\n",
    "plt.plot(epochs, acc)\n",
    "plt.plot(epochs, val_acc)\n",
    "plt.title('Training & validation on accuracy')\n",
    "plt.figure()\n",
    "\n",
    "plt.plot(epochs,loss)\n",
    "plt.plot(epochs,val_loss)\n",
    "plt.title('Training & validation loss')"
   ]
  },
  {
   "cell_type": "code",
   "execution_count": null,
   "id": "3773ecb2",
   "metadata": {
    "papermill": {
     "duration": 39.026657,
     "end_time": "2022-03-21T22:01:38.861882",
     "exception": false,
     "start_time": "2022-03-21T22:00:59.835225",
     "status": "completed"
    },
    "tags": []
   },
   "outputs": [],
   "source": []
  }
 ],
 "metadata": {
  "kernelspec": {
   "display_name": "Python 3",
   "language": "python",
   "name": "python3"
  },
  "language_info": {
   "codemirror_mode": {
    "name": "ipython",
    "version": 3
   },
   "file_extension": ".py",
   "mimetype": "text/x-python",
   "name": "python",
   "nbconvert_exporter": "python",
   "pygments_lexer": "ipython3",
   "version": "3.7.12"
  },
  "papermill": {
   "default_parameters": {},
   "duration": 6908.303562,
   "end_time": "2022-03-21T22:02:21.083626",
   "environment_variables": {},
   "exception": null,
   "input_path": "__notebook__.ipynb",
   "output_path": "__notebook__.ipynb",
   "parameters": {},
   "start_time": "2022-03-21T20:07:12.780064",
   "version": "2.3.3"
  }
 },
 "nbformat": 4,
 "nbformat_minor": 5
}
