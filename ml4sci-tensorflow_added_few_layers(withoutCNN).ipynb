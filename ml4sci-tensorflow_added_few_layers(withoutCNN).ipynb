{
 "cells": [
  {
   "cell_type": "code",
   "execution_count": 1,
   "id": "e4ddc8ce",
   "metadata": {
    "_cell_guid": "b1076dfc-b9ad-4769-8c92-a6c4dae69d19",
    "_uuid": "8f2839f25d086af736a60e9eeb907d3b93b6e0e5",
    "execution": {
     "iopub.execute_input": "2022-03-21T20:03:08.705696Z",
     "iopub.status.busy": "2022-03-21T20:03:08.704143Z",
     "iopub.status.idle": "2022-03-21T20:03:08.869119Z",
     "shell.execute_reply": "2022-03-21T20:03:08.869584Z",
     "shell.execute_reply.started": "2022-03-21T20:01:25.700730Z"
    },
    "papermill": {
     "duration": 0.191198,
     "end_time": "2022-03-21T20:03:08.869845",
     "exception": false,
     "start_time": "2022-03-21T20:03:08.678647",
     "status": "completed"
    },
    "tags": []
   },
   "outputs": [],
   "source": [
    "import numpy as np\n",
    "import pandas as pd\n",
    "import h5py\n",
    "from tqdm import tqdm\n",
    "import matplotlib.pyplot as plt"
   ]
  },
  {
   "cell_type": "code",
   "execution_count": 2,
   "id": "6f0302f8",
   "metadata": {
    "execution": {
     "iopub.execute_input": "2022-03-21T20:03:08.916276Z",
     "iopub.status.busy": "2022-03-21T20:03:08.915492Z",
     "iopub.status.idle": "2022-03-21T20:03:08.934047Z",
     "shell.execute_reply": "2022-03-21T20:03:08.934476Z",
     "shell.execute_reply.started": "2022-03-21T20:01:25.871833Z"
    },
    "papermill": {
     "duration": 0.041918,
     "end_time": "2022-03-21T20:03:08.934603",
     "exception": false,
     "start_time": "2022-03-21T20:03:08.892685",
     "status": "completed"
    },
    "tags": []
   },
   "outputs": [],
   "source": [
    "hf_e = h5py.File('../input/ml4sci/SingleElectronPt50_IMGCROPS_n249k_RHv1.hdf5', 'r')\n",
    "electron_data_x = hf_e.get('X')\n",
    "electron_data_y = hf_e.get('y')"
   ]
  },
  {
   "cell_type": "code",
   "execution_count": 3,
   "id": "8df7c84a",
   "metadata": {
    "execution": {
     "iopub.execute_input": "2022-03-21T20:03:08.991534Z",
     "iopub.status.busy": "2022-03-21T20:03:08.990841Z",
     "iopub.status.idle": "2022-03-21T20:03:08.993073Z",
     "shell.execute_reply": "2022-03-21T20:03:08.993558Z",
     "shell.execute_reply.started": "2022-03-21T20:01:25.890239Z"
    },
    "papermill": {
     "duration": 0.038357,
     "end_time": "2022-03-21T20:03:08.993704",
     "exception": false,
     "start_time": "2022-03-21T20:03:08.955347",
     "status": "completed"
    },
    "tags": []
   },
   "outputs": [],
   "source": [
    "hf_p = h5py.File('../input/ml4sci/SinglePhotonPt50_IMGCROPS_n249k_RHv1.hdf5', 'r')\n",
    "photon_data_x = hf_p.get('X')\n",
    "photon_data_y = hf_p.get('y')"
   ]
  },
  {
   "cell_type": "code",
   "execution_count": 4,
   "id": "ef835a34",
   "metadata": {
    "execution": {
     "iopub.execute_input": "2022-03-21T20:03:09.040702Z",
     "iopub.status.busy": "2022-03-21T20:03:09.040187Z",
     "iopub.status.idle": "2022-03-21T20:03:21.302864Z",
     "shell.execute_reply": "2022-03-21T20:03:21.304034Z",
     "shell.execute_reply.started": "2022-03-21T20:01:25.907030Z"
    },
    "papermill": {
     "duration": 12.28976,
     "end_time": "2022-03-21T20:03:21.304277",
     "exception": false,
     "start_time": "2022-03-21T20:03:09.014517",
     "status": "completed"
    },
    "tags": []
   },
   "outputs": [],
   "source": [
    "electron_data_x = np.asarray(electron_data_x)\n",
    "electron_data_y = np.asarray(electron_data_y)\n",
    "\n",
    "photon_data_x = np.asarray(photon_data_x)\n",
    "photon_data_y = np.asarray(photon_data_y)"
   ]
  },
  {
   "cell_type": "code",
   "execution_count": 5,
   "id": "d98b92ef",
   "metadata": {
    "execution": {
     "iopub.execute_input": "2022-03-21T20:03:21.380363Z",
     "iopub.status.busy": "2022-03-21T20:03:21.379478Z",
     "iopub.status.idle": "2022-03-21T20:03:21.384355Z",
     "shell.execute_reply": "2022-03-21T20:03:21.385391Z",
     "shell.execute_reply.started": "2022-03-21T20:01:37.528529Z"
    },
    "papermill": {
     "duration": 0.044294,
     "end_time": "2022-03-21T20:03:21.385704",
     "exception": false,
     "start_time": "2022-03-21T20:03:21.341410",
     "status": "completed"
    },
    "tags": []
   },
   "outputs": [
    {
     "name": "stdout",
     "output_type": "stream",
     "text": [
      "(249000, 32, 32, 2)\n",
      "(249000, 32, 32, 2)\n",
      "(249000,)\n",
      "(249000,)\n"
     ]
    }
   ],
   "source": [
    "print(electron_data_x.shape)\n",
    "print(photon_data_x.shape)\n",
    "\n",
    "print(electron_data_y.shape)\n",
    "print(photon_data_y.shape)"
   ]
  },
  {
   "cell_type": "code",
   "execution_count": 6,
   "id": "f368469b",
   "metadata": {
    "execution": {
     "iopub.execute_input": "2022-03-21T20:03:21.460138Z",
     "iopub.status.busy": "2022-03-21T20:03:21.459077Z",
     "iopub.status.idle": "2022-03-21T20:03:22.928609Z",
     "shell.execute_reply": "2022-03-21T20:03:22.927687Z",
     "shell.execute_reply.started": "2022-03-21T20:01:37.536078Z"
    },
    "papermill": {
     "duration": 1.507537,
     "end_time": "2022-03-21T20:03:22.928764",
     "exception": false,
     "start_time": "2022-03-21T20:03:21.421227",
     "status": "completed"
    },
    "tags": []
   },
   "outputs": [],
   "source": [
    "X = np.concatenate((electron_data_x, photon_data_x))\n",
    "y = np.concatenate((electron_data_y, photon_data_y))"
   ]
  },
  {
   "cell_type": "code",
   "execution_count": 7,
   "id": "bf3b2077",
   "metadata": {
    "execution": {
     "iopub.execute_input": "2022-03-21T20:03:22.975477Z",
     "iopub.status.busy": "2022-03-21T20:03:22.974845Z",
     "iopub.status.idle": "2022-03-21T20:03:22.977822Z",
     "shell.execute_reply": "2022-03-21T20:03:22.978230Z",
     "shell.execute_reply.started": "2022-03-21T20:01:38.985404Z"
    },
    "papermill": {
     "duration": 0.028274,
     "end_time": "2022-03-21T20:03:22.978382",
     "exception": false,
     "start_time": "2022-03-21T20:03:22.950108",
     "status": "completed"
    },
    "tags": []
   },
   "outputs": [
    {
     "name": "stdout",
     "output_type": "stream",
     "text": [
      "(498000, 32, 32, 2)\n",
      "(498000,)\n"
     ]
    }
   ],
   "source": [
    "print(X.shape)\n",
    "print(y.shape)"
   ]
  },
  {
   "cell_type": "code",
   "execution_count": 8,
   "id": "946dba2f",
   "metadata": {
    "execution": {
     "iopub.execute_input": "2022-03-21T20:03:23.024140Z",
     "iopub.status.busy": "2022-03-21T20:03:23.023456Z",
     "iopub.status.idle": "2022-03-21T20:03:23.025900Z",
     "shell.execute_reply": "2022-03-21T20:03:23.025484Z",
     "shell.execute_reply.started": "2022-03-21T20:01:38.991677Z"
    },
    "papermill": {
     "duration": 0.026548,
     "end_time": "2022-03-21T20:03:23.025998",
     "exception": false,
     "start_time": "2022-03-21T20:03:22.999450",
     "status": "completed"
    },
    "tags": []
   },
   "outputs": [],
   "source": [
    "# X_vis = X[:5]\n",
    "\n",
    "# fig, axes = plt.subplots(nrows=len(X_vis), ncols=2, figsize=(48, 48))\n",
    "# for i in range(len(X_vis)):\n",
    "\n",
    "#     axes[i][0].imshow(X_vis[i,:,:,0])\n",
    "#     axes[i][1].imshow(X_vis[i,:,:,1])\n",
    "\n"
   ]
  },
  {
   "cell_type": "code",
   "execution_count": 9,
   "id": "71d4c24c",
   "metadata": {
    "execution": {
     "iopub.execute_input": "2022-03-21T20:03:23.074701Z",
     "iopub.status.busy": "2022-03-21T20:03:23.074120Z",
     "iopub.status.idle": "2022-03-21T20:03:27.517725Z",
     "shell.execute_reply": "2022-03-21T20:03:27.518847Z",
     "shell.execute_reply.started": "2022-03-21T20:01:39.002289Z"
    },
    "papermill": {
     "duration": 4.470238,
     "end_time": "2022-03-21T20:03:27.519066",
     "exception": false,
     "start_time": "2022-03-21T20:03:23.048828",
     "status": "completed"
    },
    "tags": []
   },
   "outputs": [],
   "source": [
    "from sklearn.utils import shuffle\n",
    "X, y = shuffle(X, y, random_state=0)\n",
    "X, y = shuffle(X, y, random_state=0) #really random "
   ]
  },
  {
   "cell_type": "code",
   "execution_count": 10,
   "id": "50d1b80e",
   "metadata": {
    "execution": {
     "iopub.execute_input": "2022-03-21T20:03:27.594525Z",
     "iopub.status.busy": "2022-03-21T20:03:27.593686Z",
     "iopub.status.idle": "2022-03-21T20:03:27.595891Z",
     "shell.execute_reply": "2022-03-21T20:03:27.595237Z",
     "shell.execute_reply.started": "2022-03-21T20:01:43.419081Z"
    },
    "papermill": {
     "duration": 0.041521,
     "end_time": "2022-03-21T20:03:27.596041",
     "exception": false,
     "start_time": "2022-03-21T20:03:27.554520",
     "status": "completed"
    },
    "tags": []
   },
   "outputs": [],
   "source": [
    "# mean = 0.015\n",
    "# std = 0.297"
   ]
  },
  {
   "cell_type": "code",
   "execution_count": 11,
   "id": "356252f8",
   "metadata": {
    "execution": {
     "iopub.execute_input": "2022-03-21T20:03:27.670860Z",
     "iopub.status.busy": "2022-03-21T20:03:27.669949Z",
     "iopub.status.idle": "2022-03-21T20:03:27.673508Z",
     "shell.execute_reply": "2022-03-21T20:03:27.671565Z",
     "shell.execute_reply.started": "2022-03-21T20:01:43.430750Z"
    },
    "papermill": {
     "duration": 0.044689,
     "end_time": "2022-03-21T20:03:27.673660",
     "exception": false,
     "start_time": "2022-03-21T20:03:27.628971",
     "status": "completed"
    },
    "tags": []
   },
   "outputs": [
    {
     "name": "stdout",
     "output_type": "stream",
     "text": [
      "(496900, 32, 32, 2)\n",
      "(1000, 32, 32, 2)\n",
      "(100, 32, 32, 2)\n"
     ]
    }
   ],
   "source": [
    "X_train = X[:496900]\n",
    "X_val = X[496900:497900]\n",
    "X_test = X[497900:]\n",
    "\n",
    "print(X_train.shape)\n",
    "print(X_val.shape)\n",
    "print(X_test.shape)"
   ]
  },
  {
   "cell_type": "code",
   "execution_count": 12,
   "id": "74fe72fc",
   "metadata": {
    "execution": {
     "iopub.execute_input": "2022-03-21T20:03:27.754472Z",
     "iopub.status.busy": "2022-03-21T20:03:27.753498Z",
     "iopub.status.idle": "2022-03-21T20:03:27.757363Z",
     "shell.execute_reply": "2022-03-21T20:03:27.755256Z",
     "shell.execute_reply.started": "2022-03-21T20:01:43.447338Z"
    },
    "papermill": {
     "duration": 0.047615,
     "end_time": "2022-03-21T20:03:27.757547",
     "exception": false,
     "start_time": "2022-03-21T20:03:27.709932",
     "status": "completed"
    },
    "tags": []
   },
   "outputs": [
    {
     "name": "stdout",
     "output_type": "stream",
     "text": [
      "(496900,)\n",
      "(1000,)\n",
      "(100,)\n"
     ]
    }
   ],
   "source": [
    "y_train = y[:496900]\n",
    "y_val = y[496900:497900]\n",
    "y_test = y[497900:]\n",
    "\n",
    "print(y_train.shape)\n",
    "print(y_val.shape)\n",
    "print(y_test.shape)"
   ]
  },
  {
   "cell_type": "code",
   "execution_count": 13,
   "id": "16b483ae",
   "metadata": {
    "execution": {
     "iopub.execute_input": "2022-03-21T20:03:27.836517Z",
     "iopub.status.busy": "2022-03-21T20:03:27.835643Z",
     "iopub.status.idle": "2022-03-21T20:03:27.837916Z",
     "shell.execute_reply": "2022-03-21T20:03:27.837259Z",
     "shell.execute_reply.started": "2022-03-21T20:01:43.458644Z"
    },
    "papermill": {
     "duration": 0.04383,
     "end_time": "2022-03-21T20:03:27.838056",
     "exception": false,
     "start_time": "2022-03-21T20:03:27.794226",
     "status": "completed"
    },
    "tags": []
   },
   "outputs": [],
   "source": [
    "# model = CreateModel()\n",
    "# model.to(Config['DEVICE'])"
   ]
  },
  {
   "cell_type": "code",
   "execution_count": 14,
   "id": "85a47ae0",
   "metadata": {
    "execution": {
     "iopub.execute_input": "2022-03-21T20:03:27.917589Z",
     "iopub.status.busy": "2022-03-21T20:03:27.916668Z",
     "iopub.status.idle": "2022-03-21T20:03:27.919076Z",
     "shell.execute_reply": "2022-03-21T20:03:27.918391Z",
     "shell.execute_reply.started": "2022-03-21T20:01:43.473638Z"
    },
    "papermill": {
     "duration": 0.045272,
     "end_time": "2022-03-21T20:03:27.919222",
     "exception": false,
     "start_time": "2022-03-21T20:03:27.873950",
     "status": "completed"
    },
    "tags": []
   },
   "outputs": [],
   "source": [
    "batch_size = 32\n",
    "img_size = 32"
   ]
  },
  {
   "cell_type": "code",
   "execution_count": 15,
   "id": "35924811",
   "metadata": {
    "execution": {
     "iopub.execute_input": "2022-03-21T20:03:27.997552Z",
     "iopub.status.busy": "2022-03-21T20:03:27.996730Z",
     "iopub.status.idle": "2022-03-21T20:03:27.998957Z",
     "shell.execute_reply": "2022-03-21T20:03:27.998288Z",
     "shell.execute_reply.started": "2022-03-21T20:01:43.479722Z"
    },
    "papermill": {
     "duration": 0.04256,
     "end_time": "2022-03-21T20:03:27.999097",
     "exception": false,
     "start_time": "2022-03-21T20:03:27.956537",
     "status": "completed"
    },
    "tags": []
   },
   "outputs": [],
   "source": [
    "# from sklearn.preprocessing import normalize\n",
    "# normed_matrix = normalize(X, axis=1, norm='l1')"
   ]
  },
  {
   "cell_type": "code",
   "execution_count": 16,
   "id": "edae50c4",
   "metadata": {
    "execution": {
     "iopub.execute_input": "2022-03-21T20:03:28.090503Z",
     "iopub.status.busy": "2022-03-21T20:03:28.089657Z",
     "iopub.status.idle": "2022-03-21T20:03:28.091842Z",
     "shell.execute_reply": "2022-03-21T20:03:28.091195Z",
     "shell.execute_reply.started": "2022-03-21T20:01:43.488703Z"
    },
    "papermill": {
     "duration": 0.057534,
     "end_time": "2022-03-21T20:03:28.091983",
     "exception": false,
     "start_time": "2022-03-21T20:03:28.034449",
     "status": "completed"
    },
    "tags": []
   },
   "outputs": [],
   "source": [
    "# X = np.linalg.norm(X, axis = 1, keepdims = True)"
   ]
  },
  {
   "cell_type": "code",
   "execution_count": 17,
   "id": "386d64d3",
   "metadata": {
    "execution": {
     "iopub.execute_input": "2022-03-21T20:03:28.168185Z",
     "iopub.status.busy": "2022-03-21T20:03:28.167030Z",
     "iopub.status.idle": "2022-03-21T20:03:33.268825Z",
     "shell.execute_reply": "2022-03-21T20:03:33.268349Z",
     "shell.execute_reply.started": "2022-03-21T20:01:43.497178Z"
    },
    "papermill": {
     "duration": 5.141814,
     "end_time": "2022-03-21T20:03:33.268954",
     "exception": false,
     "start_time": "2022-03-21T20:03:28.127140",
     "status": "completed"
    },
    "tags": []
   },
   "outputs": [],
   "source": [
    "from tensorflow.keras.preprocessing.image import ImageDataGenerator\n",
    "\n",
    "datagen = ImageDataGenerator()\n",
    "\n",
    "# datagen = ImageDataGenerator(\n",
    "#     featurewise_std_normalization=True,\n",
    "# )\n",
    "# datagen.fit(X_train)\n",
    "# datagen.fit(X_val)\n",
    "# datagen.fit(X_test)"
   ]
  },
  {
   "cell_type": "code",
   "execution_count": 18,
   "id": "94c7ceb8",
   "metadata": {
    "execution": {
     "iopub.execute_input": "2022-03-21T20:03:33.321463Z",
     "iopub.status.busy": "2022-03-21T20:03:33.320880Z",
     "iopub.status.idle": "2022-03-21T20:03:35.821277Z",
     "shell.execute_reply": "2022-03-21T20:03:35.821726Z",
     "shell.execute_reply.started": "2022-03-21T20:01:48.364548Z"
    },
    "papermill": {
     "duration": 2.530877,
     "end_time": "2022-03-21T20:03:35.821878",
     "exception": false,
     "start_time": "2022-03-21T20:03:33.291001",
     "status": "completed"
    },
    "tags": []
   },
   "outputs": [
    {
     "name": "stderr",
     "output_type": "stream",
     "text": [
      "2022-03-21 20:03:33.408732: I tensorflow/stream_executor/cuda/cuda_gpu_executor.cc:937] successful NUMA node read from SysFS had negative value (-1), but there must be at least one NUMA node, so returning NUMA node zero\n",
      "2022-03-21 20:03:33.500025: I tensorflow/stream_executor/cuda/cuda_gpu_executor.cc:937] successful NUMA node read from SysFS had negative value (-1), but there must be at least one NUMA node, so returning NUMA node zero\n",
      "2022-03-21 20:03:33.500873: I tensorflow/stream_executor/cuda/cuda_gpu_executor.cc:937] successful NUMA node read from SysFS had negative value (-1), but there must be at least one NUMA node, so returning NUMA node zero\n",
      "2022-03-21 20:03:33.502042: I tensorflow/core/platform/cpu_feature_guard.cc:142] This TensorFlow binary is optimized with oneAPI Deep Neural Network Library (oneDNN) to use the following CPU instructions in performance-critical operations:  AVX2 AVX512F FMA\n",
      "To enable them in other operations, rebuild TensorFlow with the appropriate compiler flags.\n",
      "2022-03-21 20:03:33.503266: I tensorflow/stream_executor/cuda/cuda_gpu_executor.cc:937] successful NUMA node read from SysFS had negative value (-1), but there must be at least one NUMA node, so returning NUMA node zero\n",
      "2022-03-21 20:03:33.503943: I tensorflow/stream_executor/cuda/cuda_gpu_executor.cc:937] successful NUMA node read from SysFS had negative value (-1), but there must be at least one NUMA node, so returning NUMA node zero\n",
      "2022-03-21 20:03:33.504611: I tensorflow/stream_executor/cuda/cuda_gpu_executor.cc:937] successful NUMA node read from SysFS had negative value (-1), but there must be at least one NUMA node, so returning NUMA node zero\n",
      "2022-03-21 20:03:35.508920: I tensorflow/stream_executor/cuda/cuda_gpu_executor.cc:937] successful NUMA node read from SysFS had negative value (-1), but there must be at least one NUMA node, so returning NUMA node zero\n",
      "2022-03-21 20:03:35.509759: I tensorflow/stream_executor/cuda/cuda_gpu_executor.cc:937] successful NUMA node read from SysFS had negative value (-1), but there must be at least one NUMA node, so returning NUMA node zero\n",
      "2022-03-21 20:03:35.510429: I tensorflow/stream_executor/cuda/cuda_gpu_executor.cc:937] successful NUMA node read from SysFS had negative value (-1), but there must be at least one NUMA node, so returning NUMA node zero\n",
      "2022-03-21 20:03:35.511028: I tensorflow/core/common_runtime/gpu/gpu_device.cc:1510] Created device /job:localhost/replica:0/task:0/device:GPU:0 with 15403 MB memory:  -> device: 0, name: Tesla P100-PCIE-16GB, pci bus id: 0000:00:04.0, compute capability: 6.0\n"
     ]
    }
   ],
   "source": [
    "import tensorflow as tf\n",
    "model = tf.keras.models.Sequential([\n",
    "\n",
    "    tf.keras.layers.Normalization(),\n",
    "    tf.keras.layers.Flatten(),  \n",
    "    tf.keras.layers.Dense(128, activation='relu',),\n",
    "    tf.keras.layers.Dropout(0.2),\n",
    "    tf.keras.layers.Dense(256, activation='relu',),\n",
    "    tf.keras.layers.Dropout(0.3),\n",
    "    tf.keras.layers.Dense(512, activation='relu',),\n",
    "    tf.keras.layers.Dropout(0.2),\n",
    "    tf.keras.layers.BatchNormalization(),\n",
    "    tf.keras.layers.Dense(1024, activation='relu'),\n",
    "    tf.keras.layers.BatchNormalization(),\n",
    "    tf.keras.layers.Dropout(0.2),\n",
    "    tf.keras.layers.Dense(1024, activation='relu'),\n",
    "    tf.keras.layers.Dropout(0.3),\n",
    "    tf.keras.layers.Dense(512, activation='relu'),\n",
    "    tf.keras.layers.Dropout(0.2),\n",
    "    tf.keras.layers.Dense(256, activation='relu',),\n",
    "    tf.keras.layers.BatchNormalization(),\n",
    "    tf.keras.layers.Dense(128, activation='relu'),\n",
    "    \n",
    "    \n",
    "    tf.keras.layers.Dense(1, activation='sigmoid')\n",
    "    \n",
    "])"
   ]
  },
  {
   "cell_type": "code",
   "execution_count": 19,
   "id": "7c600c0d",
   "metadata": {
    "execution": {
     "iopub.execute_input": "2022-03-21T20:03:35.872081Z",
     "iopub.status.busy": "2022-03-21T20:03:35.871310Z",
     "iopub.status.idle": "2022-03-21T20:03:35.887187Z",
     "shell.execute_reply": "2022-03-21T20:03:35.886671Z",
     "shell.execute_reply.started": "2022-03-21T20:01:50.713228Z"
    },
    "papermill": {
     "duration": 0.042147,
     "end_time": "2022-03-21T20:03:35.887318",
     "exception": false,
     "start_time": "2022-03-21T20:03:35.845171",
     "status": "completed"
    },
    "tags": []
   },
   "outputs": [],
   "source": [
    "from tensorflow.keras.optimizers import Adam\n",
    "\n",
    "model.compile(\n",
    "    loss='binary_crossentropy',\n",
    "    optimizer=Adam(learning_rate=0.001),\n",
    "    metrics=['AUC']\n",
    ")"
   ]
  },
  {
   "cell_type": "code",
   "execution_count": 20,
   "id": "63a604fc",
   "metadata": {
    "execution": {
     "iopub.execute_input": "2022-03-21T20:03:35.936006Z",
     "iopub.status.busy": "2022-03-21T20:03:35.935334Z",
     "iopub.status.idle": "2022-03-21T20:03:35.937820Z",
     "shell.execute_reply": "2022-03-21T20:03:35.937419Z",
     "shell.execute_reply.started": "2022-03-21T20:01:50.735417Z"
    },
    "papermill": {
     "duration": 0.0285,
     "end_time": "2022-03-21T20:03:35.937924",
     "exception": false,
     "start_time": "2022-03-21T20:03:35.909424",
     "status": "completed"
    },
    "tags": []
   },
   "outputs": [],
   "source": [
    "call_back = tf.keras.callbacks.EarlyStopping(patience=20, restore_best_weights=True)"
   ]
  },
  {
   "cell_type": "code",
   "execution_count": 21,
   "id": "1c53a1cb",
   "metadata": {
    "execution": {
     "iopub.execute_input": "2022-03-21T20:03:35.986353Z",
     "iopub.status.busy": "2022-03-21T20:03:35.985606Z",
     "iopub.status.idle": "2022-03-21T20:03:35.988152Z",
     "shell.execute_reply": "2022-03-21T20:03:35.987576Z",
     "shell.execute_reply.started": "2022-03-21T20:01:50.744339Z"
    },
    "papermill": {
     "duration": 0.027775,
     "end_time": "2022-03-21T20:03:35.988285",
     "exception": false,
     "start_time": "2022-03-21T20:03:35.960510",
     "status": "completed"
    },
    "tags": []
   },
   "outputs": [],
   "source": [
    "labels = [0,1]"
   ]
  },
  {
   "cell_type": "code",
   "execution_count": 22,
   "id": "cc1dd63c",
   "metadata": {
    "execution": {
     "iopub.execute_input": "2022-03-21T20:03:36.037714Z",
     "iopub.status.busy": "2022-03-21T20:03:36.037121Z",
     "iopub.status.idle": "2022-03-21T20:05:27.000450Z",
     "shell.execute_reply": "2022-03-21T20:05:27.000910Z"
    },
    "papermill": {
     "duration": 110.990528,
     "end_time": "2022-03-21T20:05:27.001084",
     "exception": false,
     "start_time": "2022-03-21T20:03:36.010556",
     "status": "completed"
    },
    "tags": []
   },
   "outputs": [
    {
     "name": "stderr",
     "output_type": "stream",
     "text": [
      "/opt/conda/lib/python3.7/site-packages/keras_preprocessing/image/numpy_array_iterator.py:136: UserWarning: NumpyArrayIterator is set to use the data format convention \"channels_last\" (channels on axis 3), i.e. expected either 1, 3, or 4 channels on axis 3. However, it was passed an array with shape (496900, 32, 32, 2) (2 channels).\n",
      "  str(self.x.shape[channels_axis]) + ' channels).')\n",
      "/opt/conda/lib/python3.7/site-packages/keras_preprocessing/image/numpy_array_iterator.py:136: UserWarning: NumpyArrayIterator is set to use the data format convention \"channels_last\" (channels on axis 3), i.e. expected either 1, 3, or 4 channels on axis 3. However, it was passed an array with shape (1000, 32, 32, 2) (2 channels).\n",
      "  str(self.x.shape[channels_axis]) + ' channels).')\n",
      "2022-03-21 20:03:37.093935: I tensorflow/compiler/mlir/mlir_graph_optimization_pass.cc:185] None of the MLIR Optimization Passes are enabled (registered 2)\n"
     ]
    },
    {
     "name": "stdout",
     "output_type": "stream",
     "text": [
      "15529/15529 [==============================] - 110s 7ms/step - loss: 0.6581 - auc: 0.6463 - val_loss: 0.6373 - val_auc: 0.6855\n"
     ]
    }
   ],
   "source": [
    "\n",
    "history = model.fit(\n",
    "    datagen.flow(X_train, y_train, batch_size=batch_size),\n",
    "    validation_data=datagen.flow(X_val, y_val,\n",
    "    batch_size=batch_size),\n",
    "    epochs = 1,\n",
    "    callbacks = [call_back]\n",
    ")"
   ]
  },
  {
   "cell_type": "code",
   "execution_count": 23,
   "id": "5c20a71a",
   "metadata": {
    "execution": {
     "iopub.execute_input": "2022-03-21T20:05:28.306147Z",
     "iopub.status.busy": "2022-03-21T20:05:28.305220Z",
     "iopub.status.idle": "2022-03-21T20:05:28.307147Z",
     "shell.execute_reply": "2022-03-21T20:05:28.307606Z"
    },
    "papermill": {
     "duration": 0.667362,
     "end_time": "2022-03-21T20:05:28.307748",
     "exception": false,
     "start_time": "2022-03-21T20:05:27.640386",
     "status": "completed"
    },
    "tags": []
   },
   "outputs": [],
   "source": [
    "%matplotlib inline\n",
    "\n",
    "import matplotlib.pyplot as plt"
   ]
  },
  {
   "cell_type": "code",
   "execution_count": 24,
   "id": "03373da8",
   "metadata": {
    "execution": {
     "iopub.execute_input": "2022-03-21T20:05:29.591753Z",
     "iopub.status.busy": "2022-03-21T20:05:29.590879Z",
     "iopub.status.idle": "2022-03-21T20:05:29.947580Z",
     "shell.execute_reply": "2022-03-21T20:05:29.947119Z"
    },
    "papermill": {
     "duration": 1.003598,
     "end_time": "2022-03-21T20:05:29.947709",
     "exception": false,
     "start_time": "2022-03-21T20:05:28.944111",
     "status": "completed"
    },
    "tags": []
   },
   "outputs": [
    {
     "data": {
      "text/plain": [
       "Text(0.5, 1.0, 'Training & validation loss')"
      ]
     },
     "execution_count": 24,
     "metadata": {},
     "output_type": "execute_result"
    },
    {
     "data": {
      "image/png": "[encoded data removed]",
      "text/plain": [
       "<Figure size 432x288 with 1 Axes>"
      ]
     },
     "metadata": {
      "needs_background": "light"
     },
     "output_type": "display_data"
    },
    {
     "data": {
      "image/png": "[encoded data removed]",
      "text/plain": [
       "<Figure size 432x288 with 1 Axes>"
      ]
     },
     "metadata": {
      "needs_background": "light"
     },
     "output_type": "display_data"
    }
   ],
   "source": [
    "acc = history.history['auc']\n",
    "val_acc = history.history['val_auc']\n",
    "loss = history.history['loss']\n",
    "val_loss = history.history['val_loss']\n",
    "\n",
    "epochs = range(len(acc))\n",
    "plt.plot(epochs, acc)\n",
    "plt.plot(epochs, val_acc)\n",
    "plt.title('Training & validation on accuracy')\n",
    "plt.figure()\n",
    "\n",
    "plt.plot(epochs,loss)\n",
    "plt.plot(epochs,val_loss)\n",
    "plt.title('Training & validation loss')"
   ]
  },
  {
   "cell_type": "code",
   "execution_count": null,
   "id": "691f1ee2",
   "metadata": {
    "papermill": {
     "duration": 0.662643,
     "end_time": "2022-03-21T20:05:31.268365",
     "exception": false,
     "start_time": "2022-03-21T20:05:30.605722",
     "status": "completed"
    },
    "tags": []
   },
   "outputs": [],
   "source": []
  }
 ],
 "metadata": {
  "kernelspec": {
   "display_name": "Python 3",
   "language": "python",
   "name": "python3"
  },
  "language_info": {
   "codemirror_mode": {
    "name": "ipython",
    "version": 3
   },
   "file_extension": ".py",
   "mimetype": "text/x-python",
   "name": "python",
   "nbconvert_exporter": "python",
   "pygments_lexer": "ipython3",
   "version": "3.7.12"
  },
  "papermill": {
   "default_parameters": {},
   "duration": 154.502627,
   "end_time": "2022-03-21T20:05:34.951600",
   "environment_variables": {},
   "exception": null,
   "input_path": "__notebook__.ipynb",
   "output_path": "__notebook__.ipynb",
   "parameters": {},
   "start_time": "2022-03-21T20:03:00.448973",
   "version": "2.3.3"
  }
 },
 "nbformat": 4,
 "nbformat_minor": 5
}
