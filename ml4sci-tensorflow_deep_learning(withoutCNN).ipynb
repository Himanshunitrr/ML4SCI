{
 "cells": [
  {
   "cell_type": "code",
   "execution_count": 1,
   "id": "695a0024",
   "metadata": {
    "_cell_guid": "b1076dfc-b9ad-4769-8c92-a6c4dae69d19",
    "_uuid": "8f2839f25d086af736a60e9eeb907d3b93b6e0e5",
    "execution": {
     "iopub.execute_input": "2022-03-21T09:26:20.967686Z",
     "iopub.status.busy": "2022-03-21T09:26:20.967037Z",
     "iopub.status.idle": "2022-03-21T09:26:21.123974Z",
     "shell.execute_reply": "2022-03-21T09:26:21.124617Z",
     "shell.execute_reply.started": "2022-03-21T09:23:13.346676Z"
    },
    "papermill": {
     "duration": 0.190599,
     "end_time": "2022-03-21T09:26:21.124952",
     "exception": false,
     "start_time": "2022-03-21T09:26:20.934353",
     "status": "completed"
    },
    "tags": []
   },
   "outputs": [],
   "source": [
    "import numpy as np\n",
    "import pandas as pd\n",
    "import h5py\n",
    "from tqdm import tqdm\n",
    "import matplotlib.pyplot as plt"
   ]
  },
  {
   "cell_type": "code",
   "execution_count": 2,
   "id": "5bfb2011",
   "metadata": {
    "execution": {
     "iopub.execute_input": "2022-03-21T09:26:21.186084Z",
     "iopub.status.busy": "2022-03-21T09:26:21.183368Z",
     "iopub.status.idle": "2022-03-21T09:26:21.188618Z",
     "shell.execute_reply": "2022-03-21T09:26:21.188102Z",
     "shell.execute_reply.started": "2022-03-21T09:23:13.526320Z"
    },
    "papermill": {
     "duration": 0.039441,
     "end_time": "2022-03-21T09:26:21.188739",
     "exception": false,
     "start_time": "2022-03-21T09:26:21.149298",
     "status": "completed"
    },
    "tags": []
   },
   "outputs": [],
   "source": [
    "hf_e = h5py.File('../input/ml4sci/SingleElectronPt50_IMGCROPS_n249k_RHv1.hdf5', 'r')\n",
    "electron_data_x = hf_e.get('X')\n",
    "electron_data_y = hf_e.get('y')"
   ]
  },
  {
   "cell_type": "code",
   "execution_count": 3,
   "id": "b08d545b",
   "metadata": {
    "execution": {
     "iopub.execute_input": "2022-03-21T09:26:21.243235Z",
     "iopub.status.busy": "2022-03-21T09:26:21.242372Z",
     "iopub.status.idle": "2022-03-21T09:26:21.244082Z",
     "shell.execute_reply": "2022-03-21T09:26:21.244597Z",
     "shell.execute_reply.started": "2022-03-21T09:23:13.541981Z"
    },
    "papermill": {
     "duration": 0.033774,
     "end_time": "2022-03-21T09:26:21.244742",
     "exception": false,
     "start_time": "2022-03-21T09:26:21.210968",
     "status": "completed"
    },
    "tags": []
   },
   "outputs": [],
   "source": [
    "hf_p = h5py.File('../input/ml4sci/SinglePhotonPt50_IMGCROPS_n249k_RHv1.hdf5', 'r')\n",
    "photon_data_x = hf_p.get('X')\n",
    "photon_data_y = hf_p.get('y')"
   ]
  },
  {
   "cell_type": "code",
   "execution_count": 4,
   "id": "dfaaa3b6",
   "metadata": {
    "execution": {
     "iopub.execute_input": "2022-03-21T09:26:21.294496Z",
     "iopub.status.busy": "2022-03-21T09:26:21.293900Z",
     "iopub.status.idle": "2022-03-21T09:26:32.321492Z",
     "shell.execute_reply": "2022-03-21T09:26:32.320553Z",
     "shell.execute_reply.started": "2022-03-21T09:23:13.559263Z"
    },
    "papermill": {
     "duration": 11.054924,
     "end_time": "2022-03-21T09:26:32.321653",
     "exception": false,
     "start_time": "2022-03-21T09:26:21.266729",
     "status": "completed"
    },
    "tags": []
   },
   "outputs": [],
   "source": [
    "electron_data_x = np.asarray(electron_data_x)\n",
    "electron_data_y = np.asarray(electron_data_y)\n",
    "\n",
    "photon_data_x = np.asarray(photon_data_x)\n",
    "photon_data_y = np.asarray(photon_data_y)"
   ]
  },
  {
   "cell_type": "code",
   "execution_count": 5,
   "id": "effe709e",
   "metadata": {
    "execution": {
     "iopub.execute_input": "2022-03-21T09:26:32.371161Z",
     "iopub.status.busy": "2022-03-21T09:26:32.370207Z",
     "iopub.status.idle": "2022-03-21T09:26:32.373667Z",
     "shell.execute_reply": "2022-03-21T09:26:32.374267Z",
     "shell.execute_reply.started": "2022-03-21T09:23:25.201029Z"
    },
    "papermill": {
     "duration": 0.030476,
     "end_time": "2022-03-21T09:26:32.374457",
     "exception": false,
     "start_time": "2022-03-21T09:26:32.343981",
     "status": "completed"
    },
    "tags": []
   },
   "outputs": [
    {
     "name": "stdout",
     "output_type": "stream",
     "text": [
      "(249000, 32, 32, 2)\n",
      "(249000, 32, 32, 2)\n",
      "(249000,)\n",
      "(249000,)\n"
     ]
    }
   ],
   "source": [
    "print(electron_data_x.shape)\n",
    "print(photon_data_x.shape)\n",
    "\n",
    "print(electron_data_y.shape)\n",
    "print(photon_data_y.shape)"
   ]
  },
  {
   "cell_type": "code",
   "execution_count": 6,
   "id": "25cfd435",
   "metadata": {
    "execution": {
     "iopub.execute_input": "2022-03-21T09:26:32.430325Z",
     "iopub.status.busy": "2022-03-21T09:26:32.428971Z",
     "iopub.status.idle": "2022-03-21T09:26:33.962201Z",
     "shell.execute_reply": "2022-03-21T09:26:33.961697Z",
     "shell.execute_reply.started": "2022-03-21T09:23:25.210226Z"
    },
    "papermill": {
     "duration": 1.561928,
     "end_time": "2022-03-21T09:26:33.962341",
     "exception": false,
     "start_time": "2022-03-21T09:26:32.400413",
     "status": "completed"
    },
    "tags": []
   },
   "outputs": [],
   "source": [
    "X = np.concatenate((electron_data_x, photon_data_x))\n",
    "y = np.concatenate((electron_data_y, photon_data_y))"
   ]
  },
  {
   "cell_type": "code",
   "execution_count": 7,
   "id": "627a0f71",
   "metadata": {
    "execution": {
     "iopub.execute_input": "2022-03-21T09:26:34.014043Z",
     "iopub.status.busy": "2022-03-21T09:26:34.013382Z",
     "iopub.status.idle": "2022-03-21T09:26:34.016180Z",
     "shell.execute_reply": "2022-03-21T09:26:34.016597Z",
     "shell.execute_reply.started": "2022-03-21T09:23:26.656565Z"
    },
    "papermill": {
     "duration": 0.030716,
     "end_time": "2022-03-21T09:26:34.016738",
     "exception": false,
     "start_time": "2022-03-21T09:26:33.986022",
     "status": "completed"
    },
    "tags": []
   },
   "outputs": [
    {
     "name": "stdout",
     "output_type": "stream",
     "text": [
      "(498000, 32, 32, 2)\n",
      "(498000,)\n"
     ]
    }
   ],
   "source": [
    "print(X.shape)\n",
    "print(y.shape)"
   ]
  },
  {
   "cell_type": "code",
   "execution_count": 8,
   "id": "7b33687e",
   "metadata": {
    "execution": {
     "iopub.execute_input": "2022-03-21T09:26:34.065588Z",
     "iopub.status.busy": "2022-03-21T09:26:34.064801Z",
     "iopub.status.idle": "2022-03-21T09:26:34.066756Z",
     "shell.execute_reply": "2022-03-21T09:26:34.067120Z",
     "shell.execute_reply.started": "2022-03-21T09:23:26.664347Z"
    },
    "papermill": {
     "duration": 0.028143,
     "end_time": "2022-03-21T09:26:34.067250",
     "exception": false,
     "start_time": "2022-03-21T09:26:34.039107",
     "status": "completed"
    },
    "tags": []
   },
   "outputs": [],
   "source": [
    "# X_vis = X[:5]\n",
    "\n",
    "# fig, axes = plt.subplots(nrows=len(X_vis), ncols=2, figsize=(48, 48))\n",
    "# for i in range(len(X_vis)):\n",
    "\n",
    "#     axes[i][0].imshow(X_vis[i,:,:,0])\n",
    "#     axes[i][1].imshow(X_vis[i,:,:,1])\n",
    "\n"
   ]
  },
  {
   "cell_type": "code",
   "execution_count": 9,
   "id": "e34a4b67",
   "metadata": {
    "execution": {
     "iopub.execute_input": "2022-03-21T09:26:34.119570Z",
     "iopub.status.busy": "2022-03-21T09:26:34.118882Z",
     "iopub.status.idle": "2022-03-21T09:26:38.423847Z",
     "shell.execute_reply": "2022-03-21T09:26:38.423312Z",
     "shell.execute_reply.started": "2022-03-21T09:23:26.673025Z"
    },
    "papermill": {
     "duration": 4.332815,
     "end_time": "2022-03-21T09:26:38.423991",
     "exception": false,
     "start_time": "2022-03-21T09:26:34.091176",
     "status": "completed"
    },
    "tags": []
   },
   "outputs": [],
   "source": [
    "from sklearn.utils import shuffle\n",
    "X, y = shuffle(X, y, random_state=0)\n",
    "X, y = shuffle(X, y, random_state=0) #really random "
   ]
  },
  {
   "cell_type": "code",
   "execution_count": 10,
   "id": "bb2aaf3e",
   "metadata": {
    "execution": {
     "iopub.execute_input": "2022-03-21T09:26:38.473716Z",
     "iopub.status.busy": "2022-03-21T09:26:38.472887Z",
     "iopub.status.idle": "2022-03-21T09:26:38.474887Z",
     "shell.execute_reply": "2022-03-21T09:26:38.475258Z",
     "shell.execute_reply.started": "2022-03-21T09:23:31.394474Z"
    },
    "papermill": {
     "duration": 0.028538,
     "end_time": "2022-03-21T09:26:38.475398",
     "exception": false,
     "start_time": "2022-03-21T09:26:38.446860",
     "status": "completed"
    },
    "tags": []
   },
   "outputs": [],
   "source": [
    "# mean = 0.015\n",
    "# std = 0.297"
   ]
  },
  {
   "cell_type": "code",
   "execution_count": 11,
   "id": "acd32aff",
   "metadata": {
    "execution": {
     "iopub.execute_input": "2022-03-21T09:26:38.526916Z",
     "iopub.status.busy": "2022-03-21T09:26:38.526264Z",
     "iopub.status.idle": "2022-03-21T09:26:38.529017Z",
     "shell.execute_reply": "2022-03-21T09:26:38.529624Z",
     "shell.execute_reply.started": "2022-03-21T09:23:31.408035Z"
    },
    "papermill": {
     "duration": 0.031286,
     "end_time": "2022-03-21T09:26:38.529813",
     "exception": false,
     "start_time": "2022-03-21T09:26:38.498527",
     "status": "completed"
    },
    "tags": []
   },
   "outputs": [
    {
     "name": "stdout",
     "output_type": "stream",
     "text": [
      "(496900, 32, 32, 2)\n",
      "(1000, 32, 32, 2)\n",
      "(100, 32, 32, 2)\n"
     ]
    }
   ],
   "source": [
    "X_train = X[:496900]\n",
    "X_val = X[496900:497900]\n",
    "X_test = X[497900:]\n",
    "\n",
    "print(X_train.shape)\n",
    "print(X_val.shape)\n",
    "print(X_test.shape)"
   ]
  },
  {
   "cell_type": "code",
   "execution_count": 12,
   "id": "addf1932",
   "metadata": {
    "execution": {
     "iopub.execute_input": "2022-03-21T09:26:38.583541Z",
     "iopub.status.busy": "2022-03-21T09:26:38.582532Z",
     "iopub.status.idle": "2022-03-21T09:26:38.586482Z",
     "shell.execute_reply": "2022-03-21T09:26:38.587049Z",
     "shell.execute_reply.started": "2022-03-21T09:23:31.422247Z"
    },
    "papermill": {
     "duration": 0.033363,
     "end_time": "2022-03-21T09:26:38.587232",
     "exception": false,
     "start_time": "2022-03-21T09:26:38.553869",
     "status": "completed"
    },
    "tags": []
   },
   "outputs": [
    {
     "name": "stdout",
     "output_type": "stream",
     "text": [
      "(496900,)\n",
      "(1000,)\n",
      "(100,)\n"
     ]
    }
   ],
   "source": [
    "y_train = y[:496900]\n",
    "y_val = y[496900:497900]\n",
    "y_test = y[497900:]\n",
    "\n",
    "print(y_train.shape)\n",
    "print(y_val.shape)\n",
    "print(y_test.shape)"
   ]
  },
  {
   "cell_type": "code",
   "execution_count": 13,
   "id": "44a6680b",
   "metadata": {
    "execution": {
     "iopub.execute_input": "2022-03-21T09:26:38.638508Z",
     "iopub.status.busy": "2022-03-21T09:26:38.637803Z",
     "iopub.status.idle": "2022-03-21T09:26:38.640029Z",
     "shell.execute_reply": "2022-03-21T09:26:38.640400Z",
     "shell.execute_reply.started": "2022-03-21T09:23:31.436141Z"
    },
    "papermill": {
     "duration": 0.029324,
     "end_time": "2022-03-21T09:26:38.640550",
     "exception": false,
     "start_time": "2022-03-21T09:26:38.611226",
     "status": "completed"
    },
    "tags": []
   },
   "outputs": [],
   "source": [
    "# model = CreateModel()\n",
    "# model.to(Config['DEVICE'])"
   ]
  },
  {
   "cell_type": "code",
   "execution_count": 14,
   "id": "f3b8b4da",
   "metadata": {
    "execution": {
     "iopub.execute_input": "2022-03-21T09:26:38.690012Z",
     "iopub.status.busy": "2022-03-21T09:26:38.689219Z",
     "iopub.status.idle": "2022-03-21T09:26:38.693249Z",
     "shell.execute_reply": "2022-03-21T09:26:38.692859Z",
     "shell.execute_reply.started": "2022-03-21T09:23:31.443518Z"
    },
    "papermill": {
     "duration": 0.029675,
     "end_time": "2022-03-21T09:26:38.693357",
     "exception": false,
     "start_time": "2022-03-21T09:26:38.663682",
     "status": "completed"
    },
    "tags": []
   },
   "outputs": [],
   "source": [
    "batch_size = 32\n",
    "img_size = 32"
   ]
  },
  {
   "cell_type": "code",
   "execution_count": 15,
   "id": "2b808c81",
   "metadata": {
    "execution": {
     "iopub.execute_input": "2022-03-21T09:26:38.743888Z",
     "iopub.status.busy": "2022-03-21T09:26:38.743073Z",
     "iopub.status.idle": "2022-03-21T09:26:38.745014Z",
     "shell.execute_reply": "2022-03-21T09:26:38.745406Z",
     "shell.execute_reply.started": "2022-03-21T09:23:31.452257Z"
    },
    "papermill": {
     "duration": 0.029059,
     "end_time": "2022-03-21T09:26:38.745565",
     "exception": false,
     "start_time": "2022-03-21T09:26:38.716506",
     "status": "completed"
    },
    "tags": []
   },
   "outputs": [],
   "source": [
    "# from sklearn.preprocessing import normalize\n",
    "# normed_matrix = normalize(X, axis=1, norm='l1')"
   ]
  },
  {
   "cell_type": "code",
   "execution_count": 16,
   "id": "2d19e058",
   "metadata": {
    "execution": {
     "iopub.execute_input": "2022-03-21T09:26:38.795639Z",
     "iopub.status.busy": "2022-03-21T09:26:38.794991Z",
     "iopub.status.idle": "2022-03-21T09:26:38.797644Z",
     "shell.execute_reply": "2022-03-21T09:26:38.797190Z",
     "shell.execute_reply.started": "2022-03-21T09:23:31.471677Z"
    },
    "papermill": {
     "duration": 0.028941,
     "end_time": "2022-03-21T09:26:38.797766",
     "exception": false,
     "start_time": "2022-03-21T09:26:38.768825",
     "status": "completed"
    },
    "tags": []
   },
   "outputs": [],
   "source": [
    "# X = np.linalg.norm(X, axis = 1, keepdims = True)"
   ]
  },
  {
   "cell_type": "code",
   "execution_count": 17,
   "id": "6189991e",
   "metadata": {
    "execution": {
     "iopub.execute_input": "2022-03-21T09:26:38.846855Z",
     "iopub.status.busy": "2022-03-21T09:26:38.846059Z",
     "iopub.status.idle": "2022-03-21T09:26:43.803145Z",
     "shell.execute_reply": "2022-03-21T09:26:43.802312Z",
     "shell.execute_reply.started": "2022-03-21T09:23:31.480359Z"
    },
    "papermill": {
     "duration": 4.982541,
     "end_time": "2022-03-21T09:26:43.803276",
     "exception": false,
     "start_time": "2022-03-21T09:26:38.820735",
     "status": "completed"
    },
    "tags": []
   },
   "outputs": [],
   "source": [
    "from tensorflow.keras.preprocessing.image import ImageDataGenerator\n",
    "\n",
    "datagen = ImageDataGenerator()\n",
    "\n",
    "# datagen = ImageDataGenerator(\n",
    "#     featurewise_std_normalization=True,\n",
    "# )\n",
    "# datagen.fit(X_train)\n",
    "# datagen.fit(X_val)\n",
    "# datagen.fit(X_test)"
   ]
  },
  {
   "cell_type": "code",
   "execution_count": 18,
   "id": "6014595a",
   "metadata": {
    "execution": {
     "iopub.execute_input": "2022-03-21T09:26:43.856155Z",
     "iopub.status.busy": "2022-03-21T09:26:43.855341Z",
     "iopub.status.idle": "2022-03-21T09:26:43.857282Z",
     "shell.execute_reply": "2022-03-21T09:26:43.858158Z",
     "shell.execute_reply.started": "2022-03-21T09:23:36.431278Z"
    },
    "papermill": {
     "duration": 0.031417,
     "end_time": "2022-03-21T09:26:43.858364",
     "exception": false,
     "start_time": "2022-03-21T09:26:43.826947",
     "status": "completed"
    },
    "tags": []
   },
   "outputs": [],
   "source": [
    "# import tensorflow as tf\n",
    "# model = tf.keras.models.Sequential([\n",
    "\n",
    "#     tf.keras.layers.Normalization(),\n",
    "#     tf.keras.layers.Conv2D(32, 2, padding='same', activation='relu', input_shape=(img_size, img_size, 2)),\n",
    "#     tf.keras.layers.MaxPooling2D(pool_size=(2, 2), padding='same',),\n",
    "    \n",
    "\n",
    "#     tf.keras.layers.Conv2D(64, 2, padding='same',activation='relu'),\n",
    "#     tf.keras.layers.MaxPooling2D(pool_size=(2, 2), padding='same'),\n",
    "   \n",
    "\n",
    "#     tf.keras.layers.Conv2D(64, 3,padding='same', activation='relu'),\n",
    "#     tf.keras.layers.MaxPooling2D(pool_size=(2, 2)),\n",
    "  \n",
    "\n",
    "#     tf.keras.layers.Conv2D(64, 3,padding='same', activation='relu'),\n",
    "#     tf.keras.layers.MaxPooling2D(pool_size=(2, 2)),\n",
    "    \n",
    "#     tf.keras.layers.Conv2D(64, 3,padding='same', activation='relu'),\n",
    "#     tf.keras.layers.MaxPooling2D(pool_size=(2, 2)),\n",
    "\n",
    "#     tf.keras.layers.Flatten(),\n",
    "#     tf.keras.layers.Dense(512, activation='relu'),\n",
    "#     tf.keras.layers.Dropout(0.2),\n",
    "#     tf.keras.layers.BatchNormalization(),\n",
    "#     tf.keras.layers.Dense(1024, activation='relu'),\n",
    "#     tf.keras.layers.BatchNormalization(),\n",
    "#     tf.keras.layers.Dropout(0.2),\n",
    "#     tf.keras.layers.Dense(512, activation='relu'),\n",
    "#     tf.keras.layers.Dropout(0.2),\n",
    "#     tf.keras.layers.Dense(128, activation='relu'),\n",
    "    \n",
    "    \n",
    "#     tf.keras.layers.Dense(1, activation='sigmoid')\n",
    "\n",
    "    \n",
    "# ])"
   ]
  },
  {
   "cell_type": "code",
   "execution_count": 19,
   "id": "ab758565",
   "metadata": {
    "execution": {
     "iopub.execute_input": "2022-03-21T09:26:43.936691Z",
     "iopub.status.busy": "2022-03-21T09:26:43.935976Z",
     "iopub.status.idle": "2022-03-21T09:26:46.567548Z",
     "shell.execute_reply": "2022-03-21T09:26:46.568655Z",
     "shell.execute_reply.started": "2022-03-21T09:23:36.442368Z"
    },
    "papermill": {
     "duration": 2.671388,
     "end_time": "2022-03-21T09:26:46.568868",
     "exception": false,
     "start_time": "2022-03-21T09:26:43.897480",
     "status": "completed"
    },
    "tags": []
   },
   "outputs": [
    {
     "name": "stderr",
     "output_type": "stream",
     "text": [
      "2022-03-21 09:26:44.039187: I tensorflow/stream_executor/cuda/cuda_gpu_executor.cc:937] successful NUMA node read from SysFS had negative value (-1), but there must be at least one NUMA node, so returning NUMA node zero\n",
      "2022-03-21 09:26:44.133019: I tensorflow/stream_executor/cuda/cuda_gpu_executor.cc:937] successful NUMA node read from SysFS had negative value (-1), but there must be at least one NUMA node, so returning NUMA node zero\n",
      "2022-03-21 09:26:44.134238: I tensorflow/stream_executor/cuda/cuda_gpu_executor.cc:937] successful NUMA node read from SysFS had negative value (-1), but there must be at least one NUMA node, so returning NUMA node zero\n",
      "2022-03-21 09:26:44.136968: I tensorflow/core/platform/cpu_feature_guard.cc:142] This TensorFlow binary is optimized with oneAPI Deep Neural Network Library (oneDNN) to use the following CPU instructions in performance-critical operations:  AVX2 AVX512F FMA\n",
      "To enable them in other operations, rebuild TensorFlow with the appropriate compiler flags.\n",
      "2022-03-21 09:26:44.137926: I tensorflow/stream_executor/cuda/cuda_gpu_executor.cc:937] successful NUMA node read from SysFS had negative value (-1), but there must be at least one NUMA node, so returning NUMA node zero\n",
      "2022-03-21 09:26:44.139115: I tensorflow/stream_executor/cuda/cuda_gpu_executor.cc:937] successful NUMA node read from SysFS had negative value (-1), but there must be at least one NUMA node, so returning NUMA node zero\n",
      "2022-03-21 09:26:44.140270: I tensorflow/stream_executor/cuda/cuda_gpu_executor.cc:937] successful NUMA node read from SysFS had negative value (-1), but there must be at least one NUMA node, so returning NUMA node zero\n",
      "2022-03-21 09:26:46.132585: I tensorflow/stream_executor/cuda/cuda_gpu_executor.cc:937] successful NUMA node read from SysFS had negative value (-1), but there must be at least one NUMA node, so returning NUMA node zero\n",
      "2022-03-21 09:26:46.133643: I tensorflow/stream_executor/cuda/cuda_gpu_executor.cc:937] successful NUMA node read from SysFS had negative value (-1), but there must be at least one NUMA node, so returning NUMA node zero\n",
      "2022-03-21 09:26:46.134589: I tensorflow/stream_executor/cuda/cuda_gpu_executor.cc:937] successful NUMA node read from SysFS had negative value (-1), but there must be at least one NUMA node, so returning NUMA node zero\n",
      "2022-03-21 09:26:46.135436: I tensorflow/core/common_runtime/gpu/gpu_device.cc:1510] Created device /job:localhost/replica:0/task:0/device:GPU:0 with 15403 MB memory:  -> device: 0, name: Tesla P100-PCIE-16GB, pci bus id: 0000:00:04.0, compute capability: 6.0\n"
     ]
    }
   ],
   "source": [
    "import tensorflow as tf\n",
    "model = tf.keras.models.Sequential([\n",
    "\n",
    "    tf.keras.layers.Normalization(),\n",
    "    tf.keras.layers.Flatten(),  \n",
    "    tf.keras.layers.Dense(512, activation='relu',),\n",
    "    tf.keras.layers.Dropout(0.2),\n",
    "    tf.keras.layers.BatchNormalization(),\n",
    "    tf.keras.layers.Dense(1024, activation='relu'),\n",
    "    tf.keras.layers.BatchNormalization(),\n",
    "    tf.keras.layers.Dropout(0.2),\n",
    "    tf.keras.layers.Dense(512, activation='relu'),\n",
    "    tf.keras.layers.Dropout(0.2),\n",
    "    tf.keras.layers.Dense(128, activation='relu'),\n",
    "    \n",
    "    \n",
    "    tf.keras.layers.Dense(1, activation='sigmoid')\n",
    "\n",
    "    \n",
    "])"
   ]
  },
  {
   "cell_type": "code",
   "execution_count": 20,
   "id": "16a20d68",
   "metadata": {
    "execution": {
     "iopub.execute_input": "2022-03-21T09:26:46.659054Z",
     "iopub.status.busy": "2022-03-21T09:26:46.658274Z",
     "iopub.status.idle": "2022-03-21T09:26:46.673515Z",
     "shell.execute_reply": "2022-03-21T09:26:46.674532Z",
     "shell.execute_reply.started": "2022-03-21T09:23:38.781887Z"
    },
    "papermill": {
     "duration": 0.066481,
     "end_time": "2022-03-21T09:26:46.674733",
     "exception": false,
     "start_time": "2022-03-21T09:26:46.608252",
     "status": "completed"
    },
    "tags": []
   },
   "outputs": [],
   "source": [
    "from tensorflow.keras.optimizers import Adam\n",
    "\n",
    "model.compile(\n",
    "    loss='binary_crossentropy',\n",
    "    optimizer=Adam(learning_rate=0.001),\n",
    "    metrics=['AUC']\n",
    ")"
   ]
  },
  {
   "cell_type": "code",
   "execution_count": 21,
   "id": "8c76a747",
   "metadata": {
    "execution": {
     "iopub.execute_input": "2022-03-21T09:26:46.749268Z",
     "iopub.status.busy": "2022-03-21T09:26:46.747345Z",
     "iopub.status.idle": "2022-03-21T09:26:46.749932Z",
     "shell.execute_reply": "2022-03-21T09:26:46.750395Z",
     "shell.execute_reply.started": "2022-03-21T09:23:38.805528Z"
    },
    "papermill": {
     "duration": 0.03669,
     "end_time": "2022-03-21T09:26:46.750587",
     "exception": false,
     "start_time": "2022-03-21T09:26:46.713897",
     "status": "completed"
    },
    "tags": []
   },
   "outputs": [],
   "source": [
    "call_back = tf.keras.callbacks.EarlyStopping(patience=100, restore_best_weights=True)"
   ]
  },
  {
   "cell_type": "code",
   "execution_count": 22,
   "id": "95b6559b",
   "metadata": {
    "execution": {
     "iopub.execute_input": "2022-03-21T09:26:46.808381Z",
     "iopub.status.busy": "2022-03-21T09:26:46.806833Z",
     "iopub.status.idle": "2022-03-21T09:26:46.808981Z",
     "shell.execute_reply": "2022-03-21T09:26:46.809382Z",
     "shell.execute_reply.started": "2022-03-21T09:23:38.815383Z"
    },
    "papermill": {
     "duration": 0.0326,
     "end_time": "2022-03-21T09:26:46.809538",
     "exception": false,
     "start_time": "2022-03-21T09:26:46.776938",
     "status": "completed"
    },
    "tags": []
   },
   "outputs": [],
   "source": [
    "labels = [0,1]"
   ]
  },
  {
   "cell_type": "code",
   "execution_count": 23,
   "id": "bf995fe6",
   "metadata": {
    "execution": {
     "iopub.execute_input": "2022-03-21T09:26:46.862510Z",
     "iopub.status.busy": "2022-03-21T09:26:46.861666Z",
     "iopub.status.idle": "2022-03-21T12:11:39.622015Z",
     "shell.execute_reply": "2022-03-21T12:11:39.622409Z",
     "shell.execute_reply.started": "2022-03-21T09:23:38.821294Z"
    },
    "papermill": {
     "duration": 9892.789296,
     "end_time": "2022-03-21T12:11:39.622626",
     "exception": false,
     "start_time": "2022-03-21T09:26:46.833330",
     "status": "completed"
    },
    "tags": []
   },
   "outputs": [
    {
     "name": "stderr",
     "output_type": "stream",
     "text": [
      "/opt/conda/lib/python3.7/site-packages/keras_preprocessing/image/numpy_array_iterator.py:136: UserWarning: NumpyArrayIterator is set to use the data format convention \"channels_last\" (channels on axis 3), i.e. expected either 1, 3, or 4 channels on axis 3. However, it was passed an array with shape (496900, 32, 32, 2) (2 channels).\n",
      "  str(self.x.shape[channels_axis]) + ' channels).')\n",
      "/opt/conda/lib/python3.7/site-packages/keras_preprocessing/image/numpy_array_iterator.py:136: UserWarning: NumpyArrayIterator is set to use the data format convention \"channels_last\" (channels on axis 3), i.e. expected either 1, 3, or 4 channels on axis 3. However, it was passed an array with shape (1000, 32, 32, 2) (2 channels).\n",
      "  str(self.x.shape[channels_axis]) + ' channels).')\n",
      "2022-03-21 09:26:47.855271: I tensorflow/compiler/mlir/mlir_graph_optimization_pass.cc:185] None of the MLIR Optimization Passes are enabled (registered 2)\n"
     ]
    },
    {
     "name": "stdout",
     "output_type": "stream",
     "text": [
      "Epoch 1/200\n",
      "15529/15529 [==============================] - 92s 6ms/step - loss: 0.6518 - auc: 0.6608 - val_loss: 0.6128 - val_auc: 0.7255\n",
      "Epoch 2/200\n",
      "15529/15529 [==============================] - 92s 6ms/step - loss: 0.6189 - auc: 0.7146 - val_loss: 0.6031 - val_auc: 0.7430\n",
      "Epoch 3/200\n",
      "15529/15529 [==============================] - 93s 6ms/step - loss: 0.6044 - auc: 0.7342 - val_loss: 0.5902 - val_auc: 0.7562\n",
      "Epoch 4/200\n",
      "15529/15529 [==============================] - 94s 6ms/step - loss: 0.5945 - auc: 0.7465 - val_loss: 0.5873 - val_auc: 0.7579\n",
      "Epoch 5/200\n",
      "15529/15529 [==============================] - 96s 6ms/step - loss: 0.5863 - auc: 0.7563 - val_loss: 0.5952 - val_auc: 0.7533\n",
      "Epoch 6/200\n",
      "15529/15529 [==============================] - 94s 6ms/step - loss: 0.5788 - auc: 0.7649 - val_loss: 0.5981 - val_auc: 0.7458\n",
      "Epoch 7/200\n",
      "15529/15529 [==============================] - 96s 6ms/step - loss: 0.5712 - auc: 0.7729 - val_loss: 0.6000 - val_auc: 0.7419\n",
      "Epoch 8/200\n",
      "15529/15529 [==============================] - 93s 6ms/step - loss: 0.5646 - auc: 0.7797 - val_loss: 0.6036 - val_auc: 0.7440\n",
      "Epoch 9/200\n",
      "15529/15529 [==============================] - 96s 6ms/step - loss: 0.5586 - auc: 0.7856 - val_loss: 0.6050 - val_auc: 0.7468\n",
      "Epoch 10/200\n",
      "15529/15529 [==============================] - 97s 6ms/step - loss: 0.5529 - auc: 0.7911 - val_loss: 0.6331 - val_auc: 0.7380\n",
      "Epoch 11/200\n",
      "15529/15529 [==============================] - 95s 6ms/step - loss: 0.5487 - auc: 0.7950 - val_loss: 0.6391 - val_auc: 0.7323\n",
      "Epoch 12/200\n",
      "15529/15529 [==============================] - 95s 6ms/step - loss: 0.5432 - auc: 0.8001 - val_loss: 0.6516 - val_auc: 0.7282\n",
      "Epoch 13/200\n",
      "15529/15529 [==============================] - 96s 6ms/step - loss: 0.5391 - auc: 0.8037 - val_loss: 0.6954 - val_auc: 0.7300\n",
      "Epoch 14/200\n",
      "15529/15529 [==============================] - 97s 6ms/step - loss: 0.5345 - auc: 0.8075 - val_loss: 0.8820 - val_auc: 0.7242\n",
      "Epoch 15/200\n",
      "15529/15529 [==============================] - 93s 6ms/step - loss: 0.5307 - auc: 0.8108 - val_loss: 0.7923 - val_auc: 0.7242\n",
      "Epoch 16/200\n",
      "15529/15529 [==============================] - 96s 6ms/step - loss: 0.5270 - auc: 0.8140 - val_loss: 0.8375 - val_auc: 0.7287\n",
      "Epoch 17/200\n",
      "15529/15529 [==============================] - 90s 6ms/step - loss: 0.5229 - auc: 0.8174 - val_loss: 0.8579 - val_auc: 0.7213\n",
      "Epoch 18/200\n",
      "15529/15529 [==============================] - 95s 6ms/step - loss: 0.5199 - auc: 0.8198 - val_loss: 1.2674 - val_auc: 0.7160\n",
      "Epoch 19/200\n",
      "15529/15529 [==============================] - 92s 6ms/step - loss: 0.5158 - auc: 0.8234 - val_loss: 0.8099 - val_auc: 0.7191\n",
      "Epoch 20/200\n",
      "15529/15529 [==============================] - 91s 6ms/step - loss: 0.5125 - auc: 0.8258 - val_loss: 1.5160 - val_auc: 0.7182\n",
      "Epoch 21/200\n",
      "15529/15529 [==============================] - 97s 6ms/step - loss: 0.5090 - auc: 0.8285 - val_loss: 1.4220 - val_auc: 0.7005\n",
      "Epoch 22/200\n",
      "15529/15529 [==============================] - 87s 6ms/step - loss: 0.5052 - auc: 0.8315 - val_loss: 1.0224 - val_auc: 0.7142\n",
      "Epoch 23/200\n",
      "15529/15529 [==============================] - 91s 6ms/step - loss: 0.5028 - auc: 0.8333 - val_loss: 1.0893 - val_auc: 0.7117\n",
      "Epoch 24/200\n",
      "15529/15529 [==============================] - 92s 6ms/step - loss: 0.4998 - auc: 0.8357 - val_loss: 1.7319 - val_auc: 0.7158\n",
      "Epoch 25/200\n",
      "15529/15529 [==============================] - 97s 6ms/step - loss: 0.4968 - auc: 0.8379 - val_loss: 2.4624 - val_auc: 0.7103\n",
      "Epoch 26/200\n",
      "15529/15529 [==============================] - 87s 6ms/step - loss: 0.4945 - auc: 0.8393 - val_loss: 1.5796 - val_auc: 0.7119\n",
      "Epoch 27/200\n",
      "15529/15529 [==============================] - 88s 6ms/step - loss: 0.4914 - auc: 0.8417 - val_loss: 0.9660 - val_auc: 0.7079\n",
      "Epoch 28/200\n",
      "15529/15529 [==============================] - 100s 6ms/step - loss: 0.4895 - auc: 0.8433 - val_loss: 1.3559 - val_auc: 0.7154\n",
      "Epoch 29/200\n",
      "15529/15529 [==============================] - 87s 6ms/step - loss: 0.4869 - auc: 0.8451 - val_loss: 1.1086 - val_auc: 0.7022\n",
      "Epoch 30/200\n",
      "15529/15529 [==============================] - 87s 6ms/step - loss: 0.4839 - auc: 0.8473 - val_loss: 2.1489 - val_auc: 0.6891\n",
      "Epoch 31/200\n",
      "15529/15529 [==============================] - 100s 6ms/step - loss: 0.4808 - auc: 0.8494 - val_loss: 1.9406 - val_auc: 0.6993\n",
      "Epoch 32/200\n",
      "15529/15529 [==============================] - 87s 6ms/step - loss: 0.4791 - auc: 0.8506 - val_loss: 1.1538 - val_auc: 0.7062\n",
      "Epoch 33/200\n",
      "15529/15529 [==============================] - 87s 6ms/step - loss: 0.4771 - auc: 0.8521 - val_loss: 1.5623 - val_auc: 0.7024\n",
      "Epoch 34/200\n",
      "15529/15529 [==============================] - 102s 7ms/step - loss: 0.4741 - auc: 0.8539 - val_loss: 2.3295 - val_auc: 0.6888\n",
      "Epoch 35/200\n",
      "15529/15529 [==============================] - 87s 6ms/step - loss: 0.4728 - auc: 0.8551 - val_loss: 1.4413 - val_auc: 0.6998\n",
      "Epoch 36/200\n",
      "15529/15529 [==============================] - 87s 6ms/step - loss: 0.4703 - auc: 0.8567 - val_loss: 1.5711 - val_auc: 0.6991\n",
      "Epoch 37/200\n",
      "15529/15529 [==============================] - 102s 7ms/step - loss: 0.4684 - auc: 0.8580 - val_loss: 1.8363 - val_auc: 0.7120\n",
      "Epoch 38/200\n",
      "15529/15529 [==============================] - 88s 6ms/step - loss: 0.4676 - auc: 0.8584 - val_loss: 1.6520 - val_auc: 0.7133\n",
      "Epoch 39/200\n",
      "15529/15529 [==============================] - 87s 6ms/step - loss: 0.4653 - auc: 0.8599 - val_loss: 1.6712 - val_auc: 0.7043\n",
      "Epoch 40/200\n",
      "15529/15529 [==============================] - 100s 6ms/step - loss: 0.4637 - auc: 0.8612 - val_loss: 3.1658 - val_auc: 0.7095\n",
      "Epoch 41/200\n",
      "15529/15529 [==============================] - 90s 6ms/step - loss: 0.4614 - auc: 0.8626 - val_loss: 1.2879 - val_auc: 0.6975\n",
      "Epoch 42/200\n",
      "15529/15529 [==============================] - 87s 6ms/step - loss: 0.4603 - auc: 0.8634 - val_loss: 2.4171 - val_auc: 0.7150\n",
      "Epoch 43/200\n",
      "15529/15529 [==============================] - 95s 6ms/step - loss: 0.4590 - auc: 0.8644 - val_loss: 8.0859 - val_auc: 0.6968\n",
      "Epoch 44/200\n",
      "15529/15529 [==============================] - 99s 6ms/step - loss: 0.4567 - auc: 0.8656 - val_loss: 2.6409 - val_auc: 0.7088\n",
      "Epoch 45/200\n",
      "15529/15529 [==============================] - 88s 6ms/step - loss: 0.4548 - auc: 0.8670 - val_loss: 1.9452 - val_auc: 0.7130\n",
      "Epoch 46/200\n",
      "15529/15529 [==============================] - 87s 6ms/step - loss: 0.4536 - auc: 0.8677 - val_loss: 2.4312 - val_auc: 0.7064\n",
      "Epoch 47/200\n",
      "15529/15529 [==============================] - 106s 7ms/step - loss: 0.4523 - auc: 0.8685 - val_loss: 1.6200 - val_auc: 0.7093\n",
      "Epoch 48/200\n",
      "15529/15529 [==============================] - 87s 6ms/step - loss: 0.4498 - auc: 0.8701 - val_loss: 4.3493 - val_auc: 0.7036\n",
      "Epoch 49/200\n",
      "15529/15529 [==============================] - 88s 6ms/step - loss: 0.4476 - auc: 0.8714 - val_loss: 2.0973 - val_auc: 0.6908\n",
      "Epoch 50/200\n",
      "15529/15529 [==============================] - 108s 7ms/step - loss: 0.4474 - auc: 0.8716 - val_loss: 2.8623 - val_auc: 0.6917\n",
      "Epoch 51/200\n",
      "15529/15529 [==============================] - 88s 6ms/step - loss: 0.4461 - auc: 0.8723 - val_loss: 3.9914 - val_auc: 0.7022\n",
      "Epoch 52/200\n",
      "15529/15529 [==============================] - 87s 6ms/step - loss: 0.4462 - auc: 0.8725 - val_loss: 3.7308 - val_auc: 0.7036\n",
      "Epoch 53/200\n",
      "15529/15529 [==============================] - 87s 6ms/step - loss: 0.4435 - auc: 0.8741 - val_loss: 4.7486 - val_auc: 0.6933\n",
      "Epoch 54/200\n",
      "15529/15529 [==============================] - 88s 6ms/step - loss: 0.4430 - auc: 0.8744 - val_loss: 2.7458 - val_auc: 0.7038\n",
      "Epoch 55/200\n",
      "15529/15529 [==============================] - 87s 6ms/step - loss: 0.4413 - auc: 0.8753 - val_loss: 2.8470 - val_auc: 0.6957\n",
      "Epoch 56/200\n",
      "15529/15529 [==============================] - 111s 7ms/step - loss: 0.4411 - auc: 0.8756 - val_loss: 11.1202 - val_auc: 0.6866\n",
      "Epoch 57/200\n",
      "15529/15529 [==============================] - 88s 6ms/step - loss: 0.4384 - auc: 0.8771 - val_loss: 6.9643 - val_auc: 0.6858\n",
      "Epoch 58/200\n",
      "15529/15529 [==============================] - 88s 6ms/step - loss: 0.4366 - auc: 0.8782 - val_loss: 16.9959 - val_auc: 0.6784\n",
      "Epoch 59/200\n",
      "15529/15529 [==============================] - 88s 6ms/step - loss: 0.4369 - auc: 0.8781 - val_loss: 6.4254 - val_auc: 0.7090\n",
      "Epoch 60/200\n",
      "15529/15529 [==============================] - 88s 6ms/step - loss: 0.4349 - auc: 0.8792 - val_loss: 10.7900 - val_auc: 0.7075\n",
      "Epoch 61/200\n",
      "15529/15529 [==============================] - 88s 6ms/step - loss: 0.4340 - auc: 0.8798 - val_loss: 14.4527 - val_auc: 0.6861\n",
      "Epoch 62/200\n",
      "15529/15529 [==============================] - 113s 7ms/step - loss: 0.4316 - auc: 0.8812 - val_loss: 6.2526 - val_auc: 0.6997\n",
      "Epoch 63/200\n",
      "15529/15529 [==============================] - 87s 6ms/step - loss: 0.4314 - auc: 0.8814 - val_loss: 7.4592 - val_auc: 0.7001\n",
      "Epoch 64/200\n",
      "15529/15529 [==============================] - 88s 6ms/step - loss: 0.4305 - auc: 0.8819 - val_loss: 4.0399 - val_auc: 0.6860\n",
      "Epoch 65/200\n",
      "15529/15529 [==============================] - 87s 6ms/step - loss: 0.4294 - auc: 0.8826 - val_loss: 7.2381 - val_auc: 0.7122\n",
      "Epoch 66/200\n",
      "15529/15529 [==============================] - 88s 6ms/step - loss: 0.4296 - auc: 0.8826 - val_loss: 6.1303 - val_auc: 0.6978\n",
      "Epoch 67/200\n",
      "15529/15529 [==============================] - 88s 6ms/step - loss: 0.4275 - auc: 0.8837 - val_loss: 10.8380 - val_auc: 0.6944\n",
      "Epoch 68/200\n",
      "15529/15529 [==============================] - 116s 7ms/step - loss: 0.4265 - auc: 0.8842 - val_loss: 5.5958 - val_auc: 0.6939\n",
      "Epoch 69/200\n",
      "15529/15529 [==============================] - 87s 6ms/step - loss: 0.4250 - auc: 0.8852 - val_loss: 3.8026 - val_auc: 0.6960\n",
      "Epoch 70/200\n",
      "15529/15529 [==============================] - 87s 6ms/step - loss: 0.4246 - auc: 0.8855 - val_loss: 5.4575 - val_auc: 0.6919\n",
      "Epoch 71/200\n",
      "15529/15529 [==============================] - 87s 6ms/step - loss: 0.4230 - auc: 0.8864 - val_loss: 6.9919 - val_auc: 0.6962\n",
      "Epoch 72/200\n",
      "15529/15529 [==============================] - 88s 6ms/step - loss: 0.4232 - auc: 0.8862 - val_loss: 6.3284 - val_auc: 0.6948\n",
      "Epoch 73/200\n",
      "15529/15529 [==============================] - 88s 6ms/step - loss: 0.4224 - auc: 0.8867 - val_loss: 7.2924 - val_auc: 0.6811\n",
      "Epoch 74/200\n",
      "15529/15529 [==============================] - 119s 8ms/step - loss: 0.4225 - auc: 0.8866 - val_loss: 3.1635 - val_auc: 0.6888\n",
      "Epoch 75/200\n",
      "15529/15529 [==============================] - 89s 6ms/step - loss: 0.4206 - auc: 0.8878 - val_loss: 25.2196 - val_auc: 0.6734\n",
      "Epoch 76/200\n",
      "15529/15529 [==============================] - 88s 6ms/step - loss: 0.4194 - auc: 0.8884 - val_loss: 9.4088 - val_auc: 0.6776\n",
      "Epoch 77/200\n",
      "15529/15529 [==============================] - 88s 6ms/step - loss: 0.4190 - auc: 0.8886 - val_loss: 17.2261 - val_auc: 0.6738\n",
      "Epoch 78/200\n",
      "15529/15529 [==============================] - 88s 6ms/step - loss: 0.4187 - auc: 0.8889 - val_loss: 12.3726 - val_auc: 0.6820\n",
      "Epoch 79/200\n",
      "15529/15529 [==============================] - 88s 6ms/step - loss: 0.4173 - auc: 0.8895 - val_loss: 6.6595 - val_auc: 0.6838\n",
      "Epoch 80/200\n",
      "15529/15529 [==============================] - 113s 7ms/step - loss: 0.4170 - auc: 0.8899 - val_loss: 6.8100 - val_auc: 0.6896\n",
      "Epoch 81/200\n",
      "15529/15529 [==============================] - 96s 6ms/step - loss: 0.4153 - auc: 0.8909 - val_loss: 5.5588 - val_auc: 0.6900\n",
      "Epoch 82/200\n",
      "15529/15529 [==============================] - 88s 6ms/step - loss: 0.4148 - auc: 0.8910 - val_loss: 7.9088 - val_auc: 0.6848\n",
      "Epoch 83/200\n",
      "15529/15529 [==============================] - 88s 6ms/step - loss: 0.4146 - auc: 0.8911 - val_loss: 28.5828 - val_auc: 0.7004\n",
      "Epoch 84/200\n",
      "15529/15529 [==============================] - 88s 6ms/step - loss: 0.4146 - auc: 0.8911 - val_loss: 6.3193 - val_auc: 0.6951\n",
      "Epoch 85/200\n",
      "15529/15529 [==============================] - 88s 6ms/step - loss: 0.4132 - auc: 0.8920 - val_loss: 15.7594 - val_auc: 0.6791\n",
      "Epoch 86/200\n",
      "15529/15529 [==============================] - 103s 7ms/step - loss: 0.4118 - auc: 0.8927 - val_loss: 13.4106 - val_auc: 0.6807\n",
      "Epoch 87/200\n",
      "15529/15529 [==============================] - 88s 6ms/step - loss: 0.4122 - auc: 0.8928 - val_loss: 22.4339 - val_auc: 0.6797\n",
      "Epoch 88/200\n",
      "15529/15529 [==============================] - 87s 6ms/step - loss: 0.4093 - auc: 0.8942 - val_loss: 7.3099 - val_auc: 0.6961\n",
      "Epoch 89/200\n",
      "15529/15529 [==============================] - 88s 6ms/step - loss: 0.4094 - auc: 0.8942 - val_loss: 5.6626 - val_auc: 0.6840\n",
      "Epoch 90/200\n",
      "15529/15529 [==============================] - 89s 6ms/step - loss: 0.4105 - auc: 0.8937 - val_loss: 4.8950 - val_auc: 0.6855\n",
      "Epoch 91/200\n",
      "15529/15529 [==============================] - 87s 6ms/step - loss: 0.4104 - auc: 0.8936 - val_loss: 9.2200 - val_auc: 0.6965\n",
      "Epoch 92/200\n",
      "15529/15529 [==============================] - 116s 7ms/step - loss: 0.4084 - auc: 0.8947 - val_loss: 10.9915 - val_auc: 0.6873\n",
      "Epoch 93/200\n",
      "15529/15529 [==============================] - 99s 6ms/step - loss: 0.4083 - auc: 0.8946 - val_loss: 22.9134 - val_auc: 0.6737\n",
      "Epoch 94/200\n",
      "15529/15529 [==============================] - 88s 6ms/step - loss: 0.4080 - auc: 0.8949 - val_loss: 20.7514 - val_auc: 0.6837\n",
      "Epoch 95/200\n",
      "15529/15529 [==============================] - 87s 6ms/step - loss: 0.4061 - auc: 0.8959 - val_loss: 11.0029 - val_auc: 0.6965\n",
      "Epoch 96/200\n",
      "15529/15529 [==============================] - 88s 6ms/step - loss: 0.4053 - auc: 0.8965 - val_loss: 18.4690 - val_auc: 0.7012\n",
      "Epoch 97/200\n",
      "15529/15529 [==============================] - 88s 6ms/step - loss: 0.4058 - auc: 0.8961 - val_loss: 6.0317 - val_auc: 0.6942\n",
      "Epoch 98/200\n",
      "15529/15529 [==============================] - 101s 7ms/step - loss: 0.4046 - auc: 0.8967 - val_loss: 10.7450 - val_auc: 0.6883\n",
      "Epoch 99/200\n",
      "15529/15529 [==============================] - 88s 6ms/step - loss: 0.4041 - auc: 0.8970 - val_loss: 24.3129 - val_auc: 0.7042\n",
      "Epoch 100/200\n",
      "15529/15529 [==============================] - 88s 6ms/step - loss: 0.4035 - auc: 0.8974 - val_loss: 6.9803 - val_auc: 0.6969\n",
      "Epoch 101/200\n",
      "15529/15529 [==============================] - 87s 6ms/step - loss: 0.4035 - auc: 0.8974 - val_loss: 30.4502 - val_auc: 0.6852\n",
      "Epoch 102/200\n",
      "15529/15529 [==============================] - 87s 6ms/step - loss: 0.4012 - auc: 0.8986 - val_loss: 13.6216 - val_auc: 0.7001\n",
      "Epoch 103/200\n",
      "15529/15529 [==============================] - 95s 6ms/step - loss: 0.4019 - auc: 0.8982 - val_loss: 11.2428 - val_auc: 0.6858\n",
      "Epoch 104/200\n",
      "15529/15529 [==============================] - 123s 8ms/step - loss: 0.4008 - auc: 0.8989 - val_loss: 15.2001 - val_auc: 0.7051\n"
     ]
    }
   ],
   "source": [
    "\n",
    "history = model.fit(\n",
    "    datagen.flow(X_train, y_train, batch_size=batch_size),\n",
    "    validation_data=datagen.flow(X_val, y_val,\n",
    "    batch_size=batch_size),\n",
    "    epochs = 200,\n",
    "    callbacks = [call_back]\n",
    ")"
   ]
  },
  {
   "cell_type": "code",
   "execution_count": 24,
   "id": "bea8c03d",
   "metadata": {
    "execution": {
     "iopub.execute_input": "2022-03-21T12:13:38.071992Z",
     "iopub.status.busy": "2022-03-21T12:13:38.071201Z",
     "iopub.status.idle": "2022-03-21T12:13:38.075148Z",
     "shell.execute_reply": "2022-03-21T12:13:38.075560Z",
     "shell.execute_reply.started": "2022-03-21T09:25:37.982342Z"
    },
    "papermill": {
     "duration": 59.55601,
     "end_time": "2022-03-21T12:13:38.075703",
     "exception": false,
     "start_time": "2022-03-21T12:12:38.519693",
     "status": "completed"
    },
    "tags": []
   },
   "outputs": [],
   "source": [
    "%matplotlib inline\n",
    "\n",
    "import matplotlib.pyplot as plt"
   ]
  },
  {
   "cell_type": "code",
   "execution_count": 25,
   "id": "0706cd61",
   "metadata": {
    "execution": {
     "iopub.execute_input": "2022-03-21T12:15:36.971043Z",
     "iopub.status.busy": "2022-03-21T12:15:36.970192Z",
     "iopub.status.idle": "2022-03-21T12:15:37.329506Z",
     "shell.execute_reply": "2022-03-21T12:15:37.329019Z",
     "shell.execute_reply.started": "2022-03-21T09:25:37.984805Z"
    },
    "papermill": {
     "duration": 60.224873,
     "end_time": "2022-03-21T12:15:37.329679",
     "exception": false,
     "start_time": "2022-03-21T12:14:37.104806",
     "status": "completed"
    },
    "tags": []
   },
   "outputs": [
    {
     "data": {
      "text/plain": [
       "Text(0.5, 1.0, 'Training & validation loss')"
      ]
     },
     "execution_count": 25,
     "metadata": {},
     "output_type": "execute_result"
    },
    {
     "data": {
      "image/png": "[encoded data removed]",
      "text/plain": [
       "<Figure size 432x288 with 1 Axes>"
      ]
     },
     "metadata": {
      "needs_background": "light"
     },
     "output_type": "display_data"
    },
    {
     "data": {
      "image/png": "[encoded data removed]",
      "text/plain": [
       "<Figure size 432x288 with 1 Axes>"
      ]
     },
     "metadata": {
      "needs_background": "light"
     },
     "output_type": "display_data"
    }
   ],
   "source": [
    "acc = history.history['auc']\n",
    "val_acc = history.history['val_auc']\n",
    "loss = history.history['loss']\n",
    "val_loss = history.history['val_loss']\n",
    "\n",
    "epochs = range(len(acc))\n",
    "plt.plot(epochs, acc)\n",
    "plt.plot(epochs, val_acc)\n",
    "plt.title('Training & validation on accuracy')\n",
    "plt.figure()\n",
    "\n",
    "plt.plot(epochs,loss)\n",
    "plt.plot(epochs,val_loss)\n",
    "plt.title('Training & validation loss')"
   ]
  },
  {
   "cell_type": "code",
   "execution_count": null,
   "id": "0949004a",
   "metadata": {
    "papermill": {
     "duration": 58.93472,
     "end_time": "2022-03-21T12:17:35.970878",
     "exception": false,
     "start_time": "2022-03-21T12:16:37.036158",
     "status": "completed"
    },
    "tags": []
   },
   "outputs": [],
   "source": []
  }
 ],
 "metadata": {
  "kernelspec": {
   "display_name": "Python 3",
   "language": "python",
   "name": "python3"
  },
  "language_info": {
   "codemirror_mode": {
    "name": "ipython",
    "version": 3
   },
   "file_extension": ".py",
   "mimetype": "text/x-python",
   "name": "python",
   "nbconvert_exporter": "python",
   "pygments_lexer": "ipython3",
   "version": "3.7.12"
  },
  "papermill": {
   "default_parameters": {},
   "duration": 10346.404016,
   "end_time": "2022-03-21T12:18:38.762056",
   "environment_variables": {},
   "exception": null,
   "input_path": "__notebook__.ipynb",
   "output_path": "__notebook__.ipynb",
   "parameters": {},
   "start_time": "2022-03-21T09:26:12.358040",
   "version": "2.3.3"
  }
 },
 "nbformat": 4,
 "nbformat_minor": 5
}
