{
 "cells": [
  {
   "cell_type": "code",
   "execution_count": 1,
   "id": "504462a4",
   "metadata": {
    "_cell_guid": "b1076dfc-b9ad-4769-8c92-a6c4dae69d19",
    "_uuid": "8f2839f25d086af736a60e9eeb907d3b93b6e0e5",
    "execution": {
     "iopub.execute_input": "2022-03-21T22:24:23.717860Z",
     "iopub.status.busy": "2022-03-21T22:24:23.716275Z",
     "iopub.status.idle": "2022-03-21T22:24:23.844912Z",
     "shell.execute_reply": "2022-03-21T22:24:23.844280Z",
     "shell.execute_reply.started": "2022-03-21T20:01:25.70073Z"
    },
    "papermill": {
     "duration": 0.157724,
     "end_time": "2022-03-21T22:24:23.845098",
     "exception": false,
     "start_time": "2022-03-21T22:24:23.687374",
     "status": "completed"
    },
    "tags": []
   },
   "outputs": [],
   "source": [
    "import numpy as np\n",
    "import pandas as pd\n",
    "import h5py\n",
    "from tqdm import tqdm\n",
    "import matplotlib.pyplot as plt"
   ]
  },
  {
   "cell_type": "code",
   "execution_count": 2,
   "id": "3fb4050f",
   "metadata": {
    "execution": {
     "iopub.execute_input": "2022-03-21T22:24:23.910245Z",
     "iopub.status.busy": "2022-03-21T22:24:23.909399Z",
     "iopub.status.idle": "2022-03-21T22:24:23.911377Z",
     "shell.execute_reply": "2022-03-21T22:24:23.911747Z",
     "shell.execute_reply.started": "2022-03-21T20:01:25.871833Z"
    },
    "papermill": {
     "duration": 0.042522,
     "end_time": "2022-03-21T22:24:23.911896",
     "exception": false,
     "start_time": "2022-03-21T22:24:23.869374",
     "status": "completed"
    },
    "tags": []
   },
   "outputs": [],
   "source": [
    "hf_e = h5py.File('../input/ml4sci/SingleElectronPt50_IMGCROPS_n249k_RHv1.hdf5', 'r')\n",
    "electron_data_x = hf_e.get('X')\n",
    "electron_data_y = hf_e.get('y')"
   ]
  },
  {
   "cell_type": "code",
   "execution_count": 3,
   "id": "7e8f468a",
   "metadata": {
    "execution": {
     "iopub.execute_input": "2022-03-21T22:24:23.959819Z",
     "iopub.status.busy": "2022-03-21T22:24:23.959023Z",
     "iopub.status.idle": "2022-03-21T22:24:23.972387Z",
     "shell.execute_reply": "2022-03-21T22:24:23.971908Z",
     "shell.execute_reply.started": "2022-03-21T20:01:25.890239Z"
    },
    "papermill": {
     "duration": 0.03796,
     "end_time": "2022-03-21T22:24:23.972514",
     "exception": false,
     "start_time": "2022-03-21T22:24:23.934554",
     "status": "completed"
    },
    "tags": []
   },
   "outputs": [],
   "source": [
    "hf_p = h5py.File('../input/ml4sci/SinglePhotonPt50_IMGCROPS_n249k_RHv1.hdf5', 'r')\n",
    "photon_data_x = hf_p.get('X')\n",
    "photon_data_y = hf_p.get('y')"
   ]
  },
  {
   "cell_type": "code",
   "execution_count": 4,
   "id": "8da5a96a",
   "metadata": {
    "execution": {
     "iopub.execute_input": "2022-03-21T22:24:24.022254Z",
     "iopub.status.busy": "2022-03-21T22:24:24.021619Z",
     "iopub.status.idle": "2022-03-21T22:24:36.696618Z",
     "shell.execute_reply": "2022-03-21T22:24:36.696130Z",
     "shell.execute_reply.started": "2022-03-21T20:01:25.90703Z"
    },
    "papermill": {
     "duration": 12.702801,
     "end_time": "2022-03-21T22:24:36.696771",
     "exception": false,
     "start_time": "2022-03-21T22:24:23.993970",
     "status": "completed"
    },
    "tags": []
   },
   "outputs": [],
   "source": [
    "electron_data_x = np.asarray(electron_data_x)\n",
    "electron_data_y = np.asarray(electron_data_y)\n",
    "\n",
    "photon_data_x = np.asarray(photon_data_x)\n",
    "photon_data_y = np.asarray(photon_data_y)"
   ]
  },
  {
   "cell_type": "code",
   "execution_count": 5,
   "id": "ccadc5d8",
   "metadata": {
    "execution": {
     "iopub.execute_input": "2022-03-21T22:24:36.747078Z",
     "iopub.status.busy": "2022-03-21T22:24:36.746112Z",
     "iopub.status.idle": "2022-03-21T22:24:36.749929Z",
     "shell.execute_reply": "2022-03-21T22:24:36.749524Z",
     "shell.execute_reply.started": "2022-03-21T20:01:37.528529Z"
    },
    "papermill": {
     "duration": 0.030655,
     "end_time": "2022-03-21T22:24:36.750043",
     "exception": false,
     "start_time": "2022-03-21T22:24:36.719388",
     "status": "completed"
    },
    "tags": []
   },
   "outputs": [
    {
     "name": "stdout",
     "output_type": "stream",
     "text": [
      "(249000, 32, 32, 2)\n",
      "(249000, 32, 32, 2)\n",
      "(249000,)\n",
      "(249000,)\n"
     ]
    }
   ],
   "source": [
    "print(electron_data_x.shape)\n",
    "print(photon_data_x.shape)\n",
    "\n",
    "print(electron_data_y.shape)\n",
    "print(photon_data_y.shape)"
   ]
  },
  {
   "cell_type": "code",
   "execution_count": 6,
   "id": "928f58b5",
   "metadata": {
    "execution": {
     "iopub.execute_input": "2022-03-21T22:24:36.800187Z",
     "iopub.status.busy": "2022-03-21T22:24:36.799038Z",
     "iopub.status.idle": "2022-03-21T22:24:38.267379Z",
     "shell.execute_reply": "2022-03-21T22:24:38.266461Z",
     "shell.execute_reply.started": "2022-03-21T20:01:37.536078Z"
    },
    "papermill": {
     "duration": 1.494825,
     "end_time": "2022-03-21T22:24:38.267544",
     "exception": false,
     "start_time": "2022-03-21T22:24:36.772719",
     "status": "completed"
    },
    "tags": []
   },
   "outputs": [],
   "source": [
    "X = np.concatenate((electron_data_x, photon_data_x))\n",
    "y = np.concatenate((electron_data_y, photon_data_y))"
   ]
  },
  {
   "cell_type": "code",
   "execution_count": 7,
   "id": "d6d6039a",
   "metadata": {
    "execution": {
     "iopub.execute_input": "2022-03-21T22:24:38.318270Z",
     "iopub.status.busy": "2022-03-21T22:24:38.317587Z",
     "iopub.status.idle": "2022-03-21T22:24:38.320573Z",
     "shell.execute_reply": "2022-03-21T22:24:38.321182Z",
     "shell.execute_reply.started": "2022-03-21T20:01:38.985404Z"
    },
    "papermill": {
     "duration": 0.030177,
     "end_time": "2022-03-21T22:24:38.321359",
     "exception": false,
     "start_time": "2022-03-21T22:24:38.291182",
     "status": "completed"
    },
    "tags": []
   },
   "outputs": [
    {
     "name": "stdout",
     "output_type": "stream",
     "text": [
      "(498000, 32, 32, 2)\n",
      "(498000,)\n"
     ]
    }
   ],
   "source": [
    "print(X.shape)\n",
    "print(y.shape)"
   ]
  },
  {
   "cell_type": "code",
   "execution_count": 8,
   "id": "b44d7a97",
   "metadata": {
    "execution": {
     "iopub.execute_input": "2022-03-21T22:24:38.371890Z",
     "iopub.status.busy": "2022-03-21T22:24:38.371215Z",
     "iopub.status.idle": "2022-03-21T22:24:38.373428Z",
     "shell.execute_reply": "2022-03-21T22:24:38.373901Z",
     "shell.execute_reply.started": "2022-03-21T20:01:38.991677Z"
    },
    "papermill": {
     "duration": 0.028835,
     "end_time": "2022-03-21T22:24:38.374055",
     "exception": false,
     "start_time": "2022-03-21T22:24:38.345220",
     "status": "completed"
    },
    "tags": []
   },
   "outputs": [],
   "source": [
    "# X_vis = X[:5]\n",
    "\n",
    "# fig, axes = plt.subplots(nrows=len(X_vis), ncols=2, figsize=(48, 48))\n",
    "# for i in range(len(X_vis)):\n",
    "\n",
    "#     axes[i][0].imshow(X_vis[i,:,:,0])\n",
    "#     axes[i][1].imshow(X_vis[i,:,:,1])\n",
    "\n"
   ]
  },
  {
   "cell_type": "code",
   "execution_count": 9,
   "id": "30a11e29",
   "metadata": {
    "execution": {
     "iopub.execute_input": "2022-03-21T22:24:38.424431Z",
     "iopub.status.busy": "2022-03-21T22:24:38.423470Z",
     "iopub.status.idle": "2022-03-21T22:24:42.791704Z",
     "shell.execute_reply": "2022-03-21T22:24:42.790711Z",
     "shell.execute_reply.started": "2022-03-21T20:01:39.002289Z"
    },
    "papermill": {
     "duration": 4.393685,
     "end_time": "2022-03-21T22:24:42.791891",
     "exception": false,
     "start_time": "2022-03-21T22:24:38.398206",
     "status": "completed"
    },
    "tags": []
   },
   "outputs": [],
   "source": [
    "from sklearn.utils import shuffle\n",
    "X, y = shuffle(X, y, random_state=0)\n",
    "X, y = shuffle(X, y, random_state=0) #really random "
   ]
  },
  {
   "cell_type": "code",
   "execution_count": 10,
   "id": "c78c8ad6",
   "metadata": {
    "execution": {
     "iopub.execute_input": "2022-03-21T22:24:42.842062Z",
     "iopub.status.busy": "2022-03-21T22:24:42.841251Z",
     "iopub.status.idle": "2022-03-21T22:24:42.843445Z",
     "shell.execute_reply": "2022-03-21T22:24:42.843933Z",
     "shell.execute_reply.started": "2022-03-21T20:01:43.419081Z"
    },
    "papermill": {
     "duration": 0.028844,
     "end_time": "2022-03-21T22:24:42.844101",
     "exception": false,
     "start_time": "2022-03-21T22:24:42.815257",
     "status": "completed"
    },
    "tags": []
   },
   "outputs": [],
   "source": [
    "# mean = 0.015\n",
    "# std = 0.297"
   ]
  },
  {
   "cell_type": "code",
   "execution_count": 11,
   "id": "5e73c722",
   "metadata": {
    "execution": {
     "iopub.execute_input": "2022-03-21T22:24:42.897183Z",
     "iopub.status.busy": "2022-03-21T22:24:42.895226Z",
     "iopub.status.idle": "2022-03-21T22:24:42.899844Z",
     "shell.execute_reply": "2022-03-21T22:24:42.899178Z",
     "shell.execute_reply.started": "2022-03-21T20:01:43.43075Z"
    },
    "papermill": {
     "duration": 0.033525,
     "end_time": "2022-03-21T22:24:42.900000",
     "exception": false,
     "start_time": "2022-03-21T22:24:42.866475",
     "status": "completed"
    },
    "tags": []
   },
   "outputs": [
    {
     "name": "stdout",
     "output_type": "stream",
     "text": [
      "(496900, 32, 32, 2)\n",
      "(1000, 32, 32, 2)\n",
      "(100, 32, 32, 2)\n"
     ]
    }
   ],
   "source": [
    "X_train = X[:496900]\n",
    "X_val = X[496900:497900]\n",
    "X_test = X[497900:]\n",
    "\n",
    "print(X_train.shape)\n",
    "print(X_val.shape)\n",
    "print(X_test.shape)"
   ]
  },
  {
   "cell_type": "code",
   "execution_count": 12,
   "id": "84895df1",
   "metadata": {
    "execution": {
     "iopub.execute_input": "2022-03-21T22:24:42.953738Z",
     "iopub.status.busy": "2022-03-21T22:24:42.952869Z",
     "iopub.status.idle": "2022-03-21T22:24:42.956915Z",
     "shell.execute_reply": "2022-03-21T22:24:42.957331Z",
     "shell.execute_reply.started": "2022-03-21T20:01:43.447338Z"
    },
    "papermill": {
     "duration": 0.032516,
     "end_time": "2022-03-21T22:24:42.957455",
     "exception": false,
     "start_time": "2022-03-21T22:24:42.924939",
     "status": "completed"
    },
    "tags": []
   },
   "outputs": [
    {
     "name": "stdout",
     "output_type": "stream",
     "text": [
      "(496900,)\n",
      "(1000,)\n",
      "(100,)\n"
     ]
    }
   ],
   "source": [
    "y_train = y[:496900]\n",
    "y_val = y[496900:497900]\n",
    "y_test = y[497900:]\n",
    "\n",
    "print(y_train.shape)\n",
    "print(y_val.shape)\n",
    "print(y_test.shape)"
   ]
  },
  {
   "cell_type": "code",
   "execution_count": 13,
   "id": "068e1e08",
   "metadata": {
    "execution": {
     "iopub.execute_input": "2022-03-21T22:24:43.007562Z",
     "iopub.status.busy": "2022-03-21T22:24:43.006947Z",
     "iopub.status.idle": "2022-03-21T22:24:43.009911Z",
     "shell.execute_reply": "2022-03-21T22:24:43.009454Z",
     "shell.execute_reply.started": "2022-03-21T20:01:43.458644Z"
    },
    "papermill": {
     "duration": 0.029224,
     "end_time": "2022-03-21T22:24:43.010023",
     "exception": false,
     "start_time": "2022-03-21T22:24:42.980799",
     "status": "completed"
    },
    "tags": []
   },
   "outputs": [],
   "source": [
    "# model = CreateModel()\n",
    "# model.to(Config['DEVICE'])"
   ]
  },
  {
   "cell_type": "code",
   "execution_count": 14,
   "id": "ad00c4b3",
   "metadata": {
    "execution": {
     "iopub.execute_input": "2022-03-21T22:24:43.062588Z",
     "iopub.status.busy": "2022-03-21T22:24:43.060919Z",
     "iopub.status.idle": "2022-03-21T22:24:43.063359Z",
     "shell.execute_reply": "2022-03-21T22:24:43.063843Z",
     "shell.execute_reply.started": "2022-03-21T20:01:43.473638Z"
    },
    "papermill": {
     "duration": 0.029806,
     "end_time": "2022-03-21T22:24:43.063994",
     "exception": false,
     "start_time": "2022-03-21T22:24:43.034188",
     "status": "completed"
    },
    "tags": []
   },
   "outputs": [],
   "source": [
    "batch_size = 32\n",
    "img_size = 32"
   ]
  },
  {
   "cell_type": "code",
   "execution_count": 15,
   "id": "58e2bb88",
   "metadata": {
    "execution": {
     "iopub.execute_input": "2022-03-21T22:24:43.129676Z",
     "iopub.status.busy": "2022-03-21T22:24:43.127979Z",
     "iopub.status.idle": "2022-03-21T22:24:43.130319Z",
     "shell.execute_reply": "2022-03-21T22:24:43.130743Z",
     "shell.execute_reply.started": "2022-03-21T20:01:43.479722Z"
    },
    "papermill": {
     "duration": 0.040658,
     "end_time": "2022-03-21T22:24:43.130917",
     "exception": false,
     "start_time": "2022-03-21T22:24:43.090259",
     "status": "completed"
    },
    "tags": []
   },
   "outputs": [],
   "source": [
    "# from sklearn.preprocessing import normalize\n",
    "# normed_matrix = normalize(X, axis=1, norm='l1')"
   ]
  },
  {
   "cell_type": "code",
   "execution_count": 16,
   "id": "bdc1c1c3",
   "metadata": {
    "execution": {
     "iopub.execute_input": "2022-03-21T22:24:43.182105Z",
     "iopub.status.busy": "2022-03-21T22:24:43.180531Z",
     "iopub.status.idle": "2022-03-21T22:24:43.182688Z",
     "shell.execute_reply": "2022-03-21T22:24:43.183123Z",
     "shell.execute_reply.started": "2022-03-21T20:01:43.488703Z"
    },
    "papermill": {
     "duration": 0.029266,
     "end_time": "2022-03-21T22:24:43.183245",
     "exception": false,
     "start_time": "2022-03-21T22:24:43.153979",
     "status": "completed"
    },
    "tags": []
   },
   "outputs": [],
   "source": [
    "# X = np.linalg.norm(X, axis = 1, keepdims = True)"
   ]
  },
  {
   "cell_type": "code",
   "execution_count": 17,
   "id": "0ef139bf",
   "metadata": {
    "execution": {
     "iopub.execute_input": "2022-03-21T22:24:43.233719Z",
     "iopub.status.busy": "2022-03-21T22:24:43.233129Z",
     "iopub.status.idle": "2022-03-21T22:24:48.347973Z",
     "shell.execute_reply": "2022-03-21T22:24:48.347396Z",
     "shell.execute_reply.started": "2022-03-21T20:01:43.497178Z"
    },
    "papermill": {
     "duration": 5.141597,
     "end_time": "2022-03-21T22:24:48.348133",
     "exception": false,
     "start_time": "2022-03-21T22:24:43.206536",
     "status": "completed"
    },
    "tags": []
   },
   "outputs": [],
   "source": [
    "from tensorflow.keras.preprocessing.image import ImageDataGenerator\n",
    "\n",
    "datagen = ImageDataGenerator()\n",
    "\n",
    "# datagen = ImageDataGenerator(\n",
    "#     featurewise_std_normalization=True,\n",
    "# )\n",
    "# datagen.fit(X_train)\n",
    "# datagen.fit(X_val)\n",
    "# datagen.fit(X_test)"
   ]
  },
  {
   "cell_type": "code",
   "execution_count": 18,
   "id": "3e9c2f64",
   "metadata": {
    "execution": {
     "iopub.execute_input": "2022-03-21T22:24:48.409054Z",
     "iopub.status.busy": "2022-03-21T22:24:48.408415Z",
     "iopub.status.idle": "2022-03-21T22:24:50.520014Z",
     "shell.execute_reply": "2022-03-21T22:24:50.520790Z",
     "shell.execute_reply.started": "2022-03-21T20:01:48.364548Z"
    },
    "papermill": {
     "duration": 2.148448,
     "end_time": "2022-03-21T22:24:50.520958",
     "exception": false,
     "start_time": "2022-03-21T22:24:48.372510",
     "status": "completed"
    },
    "tags": []
   },
   "outputs": [
    {
     "name": "stderr",
     "output_type": "stream",
     "text": [
      "2022-03-21 22:24:48.498487: I tensorflow/stream_executor/cuda/cuda_gpu_executor.cc:937] successful NUMA node read from SysFS had negative value (-1), but there must be at least one NUMA node, so returning NUMA node zero\n",
      "2022-03-21 22:24:48.593997: I tensorflow/stream_executor/cuda/cuda_gpu_executor.cc:937] successful NUMA node read from SysFS had negative value (-1), but there must be at least one NUMA node, so returning NUMA node zero\n",
      "2022-03-21 22:24:48.594867: I tensorflow/stream_executor/cuda/cuda_gpu_executor.cc:937] successful NUMA node read from SysFS had negative value (-1), but there must be at least one NUMA node, so returning NUMA node zero\n",
      "2022-03-21 22:24:48.596316: I tensorflow/core/platform/cpu_feature_guard.cc:142] This TensorFlow binary is optimized with oneAPI Deep Neural Network Library (oneDNN) to use the following CPU instructions in performance-critical operations:  AVX2 AVX512F FMA\n",
      "To enable them in other operations, rebuild TensorFlow with the appropriate compiler flags.\n",
      "2022-03-21 22:24:48.597555: I tensorflow/stream_executor/cuda/cuda_gpu_executor.cc:937] successful NUMA node read from SysFS had negative value (-1), but there must be at least one NUMA node, so returning NUMA node zero\n",
      "2022-03-21 22:24:48.598267: I tensorflow/stream_executor/cuda/cuda_gpu_executor.cc:937] successful NUMA node read from SysFS had negative value (-1), but there must be at least one NUMA node, so returning NUMA node zero\n",
      "2022-03-21 22:24:48.598895: I tensorflow/stream_executor/cuda/cuda_gpu_executor.cc:937] successful NUMA node read from SysFS had negative value (-1), but there must be at least one NUMA node, so returning NUMA node zero\n",
      "2022-03-21 22:24:50.193688: I tensorflow/stream_executor/cuda/cuda_gpu_executor.cc:937] successful NUMA node read from SysFS had negative value (-1), but there must be at least one NUMA node, so returning NUMA node zero\n",
      "2022-03-21 22:24:50.194648: I tensorflow/stream_executor/cuda/cuda_gpu_executor.cc:937] successful NUMA node read from SysFS had negative value (-1), but there must be at least one NUMA node, so returning NUMA node zero\n",
      "2022-03-21 22:24:50.195421: I tensorflow/stream_executor/cuda/cuda_gpu_executor.cc:937] successful NUMA node read from SysFS had negative value (-1), but there must be at least one NUMA node, so returning NUMA node zero\n",
      "2022-03-21 22:24:50.196092: I tensorflow/core/common_runtime/gpu/gpu_device.cc:1510] Created device /job:localhost/replica:0/task:0/device:GPU:0 with 15403 MB memory:  -> device: 0, name: Tesla P100-PCIE-16GB, pci bus id: 0000:00:04.0, compute capability: 6.0\n"
     ]
    }
   ],
   "source": [
    "import tensorflow as tf\n",
    "model = tf.keras.models.Sequential([\n",
    "\n",
    "    tf.keras.layers.Normalization(),\n",
    "    tf.keras.layers.Conv2D(32, 2, padding='same', activation='relu', input_shape=(img_size, img_size, 2)),\n",
    "    tf.keras.layers.MaxPooling2D(pool_size=(2, 2), padding='same',),\n",
    "    \n",
    "\n",
    "    tf.keras.layers.Conv2D(64, 2, padding='same',activation='relu'),\n",
    "    tf.keras.layers.MaxPooling2D(pool_size=(2, 2), padding='same'),\n",
    "   \n",
    "\n",
    "    tf.keras.layers.Conv2D(64, 3,padding='same', activation='relu'),\n",
    "    tf.keras.layers.MaxPooling2D(pool_size=(2, 2)),\n",
    "  \n",
    "\n",
    "    tf.keras.layers.Conv2D(64, 3,padding='same', activation='relu'),\n",
    "    tf.keras.layers.MaxPooling2D(pool_size=(2, 2)),\n",
    "    \n",
    "    tf.keras.layers.Conv2D(64, 3,padding='same', activation='relu'),\n",
    "    tf.keras.layers.MaxPooling2D(pool_size=(2, 2)),\n",
    "\n",
    "    tf.keras.layers.Flatten(),\n",
    "    tf.keras.layers.Dense(512, activation='relu'),\n",
    "    tf.keras.layers.Dropout(0.2),\n",
    "    tf.keras.layers.BatchNormalization(),\n",
    "    tf.keras.layers.Dense(1024, activation='relu'),\n",
    "    tf.keras.layers.BatchNormalization(),\n",
    "    tf.keras.layers.Dropout(0.2),\n",
    "    tf.keras.layers.Dense(512, activation='relu'),\n",
    "    tf.keras.layers.Dropout(0.2),\n",
    "    tf.keras.layers.Dense(128, activation='relu'),\n",
    "    \n",
    "    \n",
    "    tf.keras.layers.Dense(1, activation='sigmoid')\n",
    "\n",
    "    \n",
    "])"
   ]
  },
  {
   "cell_type": "code",
   "execution_count": 19,
   "id": "d6cccfc3",
   "metadata": {
    "execution": {
     "iopub.execute_input": "2022-03-21T22:24:50.573790Z",
     "iopub.status.busy": "2022-03-21T22:24:50.572955Z",
     "iopub.status.idle": "2022-03-21T22:24:50.589657Z",
     "shell.execute_reply": "2022-03-21T22:24:50.589192Z",
     "shell.execute_reply.started": "2022-03-21T20:01:50.713228Z"
    },
    "papermill": {
     "duration": 0.044666,
     "end_time": "2022-03-21T22:24:50.589801",
     "exception": false,
     "start_time": "2022-03-21T22:24:50.545135",
     "status": "completed"
    },
    "tags": []
   },
   "outputs": [],
   "source": [
    "from tensorflow.keras.optimizers import Adam\n",
    "\n",
    "model.compile(\n",
    "    loss='binary_crossentropy',\n",
    "    optimizer=Adam(learning_rate=0.0001),\n",
    "    metrics=['AUC']\n",
    ")"
   ]
  },
  {
   "cell_type": "code",
   "execution_count": 20,
   "id": "fcd67809",
   "metadata": {
    "execution": {
     "iopub.execute_input": "2022-03-21T22:24:50.643302Z",
     "iopub.status.busy": "2022-03-21T22:24:50.641507Z",
     "iopub.status.idle": "2022-03-21T22:24:50.646048Z",
     "shell.execute_reply": "2022-03-21T22:24:50.645581Z",
     "shell.execute_reply.started": "2022-03-21T20:01:50.735417Z"
    },
    "papermill": {
     "duration": 0.031822,
     "end_time": "2022-03-21T22:24:50.646160",
     "exception": false,
     "start_time": "2022-03-21T22:24:50.614338",
     "status": "completed"
    },
    "tags": []
   },
   "outputs": [],
   "source": [
    "call_back = tf.keras.callbacks.EarlyStopping(patience=100, restore_best_weights=True)"
   ]
  },
  {
   "cell_type": "code",
   "execution_count": 21,
   "id": "8436fc67",
   "metadata": {
    "execution": {
     "iopub.execute_input": "2022-03-21T22:24:50.699306Z",
     "iopub.status.busy": "2022-03-21T22:24:50.698481Z",
     "iopub.status.idle": "2022-03-21T22:24:50.700683Z",
     "shell.execute_reply": "2022-03-21T22:24:50.701230Z",
     "shell.execute_reply.started": "2022-03-21T20:01:50.744339Z"
    },
    "papermill": {
     "duration": 0.030504,
     "end_time": "2022-03-21T22:24:50.701365",
     "exception": false,
     "start_time": "2022-03-21T22:24:50.670861",
     "status": "completed"
    },
    "tags": []
   },
   "outputs": [],
   "source": [
    "labels = [0,1]"
   ]
  },
  {
   "cell_type": "code",
   "execution_count": 22,
   "id": "a52647c2",
   "metadata": {
    "execution": {
     "iopub.execute_input": "2022-03-21T22:24:50.754800Z",
     "iopub.status.busy": "2022-03-21T22:24:50.754084Z",
     "iopub.status.idle": "2022-03-22T02:49:36.003279Z",
     "shell.execute_reply": "2022-03-22T02:49:36.003732Z",
     "shell.execute_reply.started": "2022-03-21T20:01:50.75096Z"
    },
    "papermill": {
     "duration": 15885.27868,
     "end_time": "2022-03-22T02:49:36.003943",
     "exception": false,
     "start_time": "2022-03-21T22:24:50.725263",
     "status": "completed"
    },
    "tags": []
   },
   "outputs": [
    {
     "name": "stderr",
     "output_type": "stream",
     "text": [
      "/opt/conda/lib/python3.7/site-packages/keras_preprocessing/image/numpy_array_iterator.py:136: UserWarning: NumpyArrayIterator is set to use the data format convention \"channels_last\" (channels on axis 3), i.e. expected either 1, 3, or 4 channels on axis 3. However, it was passed an array with shape (496900, 32, 32, 2) (2 channels).\n",
      "  str(self.x.shape[channels_axis]) + ' channels).')\n",
      "/opt/conda/lib/python3.7/site-packages/keras_preprocessing/image/numpy_array_iterator.py:136: UserWarning: NumpyArrayIterator is set to use the data format convention \"channels_last\" (channels on axis 3), i.e. expected either 1, 3, or 4 channels on axis 3. However, it was passed an array with shape (1000, 32, 32, 2) (2 channels).\n",
      "  str(self.x.shape[channels_axis]) + ' channels).')\n",
      "2022-03-21 22:24:51.596224: I tensorflow/stream_executor/cuda/cuda_dnn.cc:369] Loaded cuDNN version 8005\n",
      "2022-03-21 22:24:56.580745: I tensorflow/compiler/mlir/mlir_graph_optimization_pass.cc:185] None of the MLIR Optimization Passes are enabled (registered 2)\n"
     ]
    },
    {
     "name": "stdout",
     "output_type": "stream",
     "text": [
      "Epoch 1/200\n",
      "15529/15529 [==============================] - 131s 8ms/step - loss: 0.6614 - auc: 0.6389 - val_loss: 0.6259 - val_auc: 0.7099\n",
      "Epoch 2/200\n",
      "15529/15529 [==============================] - 127s 8ms/step - loss: 0.6143 - auc: 0.7191 - val_loss: 0.7219 - val_auc: 0.6868\n",
      "Epoch 3/200\n",
      "15529/15529 [==============================] - 128s 8ms/step - loss: 0.5870 - auc: 0.7544 - val_loss: 0.5905 - val_auc: 0.7602\n",
      "Epoch 4/200\n",
      "15529/15529 [==============================] - 129s 8ms/step - loss: 0.5759 - auc: 0.7671 - val_loss: 0.5758 - val_auc: 0.7732\n",
      "Epoch 5/200\n",
      "15529/15529 [==============================] - 130s 8ms/step - loss: 0.5695 - auc: 0.7740 - val_loss: 0.5886 - val_auc: 0.7562\n",
      "Epoch 6/200\n",
      "15529/15529 [==============================] - 131s 8ms/step - loss: 0.5648 - auc: 0.7788 - val_loss: 0.5788 - val_auc: 0.7724\n",
      "Epoch 7/200\n",
      "15529/15529 [==============================] - 133s 9ms/step - loss: 0.5613 - auc: 0.7824 - val_loss: 0.5749 - val_auc: 0.7744\n",
      "Epoch 8/200\n",
      "15529/15529 [==============================] - 132s 9ms/step - loss: 0.5585 - auc: 0.7852 - val_loss: 0.5760 - val_auc: 0.7732\n",
      "Epoch 9/200\n",
      "15529/15529 [==============================] - 128s 8ms/step - loss: 0.5563 - auc: 0.7875 - val_loss: 0.5885 - val_auc: 0.7705\n",
      "Epoch 10/200\n",
      "15529/15529 [==============================] - 128s 8ms/step - loss: 0.5541 - auc: 0.7896 - val_loss: 0.5809 - val_auc: 0.7687\n",
      "Epoch 11/200\n",
      "15529/15529 [==============================] - 130s 8ms/step - loss: 0.5522 - auc: 0.7915 - val_loss: 0.5695 - val_auc: 0.7758\n",
      "Epoch 12/200\n",
      "15529/15529 [==============================] - 129s 8ms/step - loss: 0.5507 - auc: 0.7929 - val_loss: 0.5678 - val_auc: 0.7843\n",
      "Epoch 13/200\n",
      "15529/15529 [==============================] - 130s 8ms/step - loss: 0.5494 - auc: 0.7940 - val_loss: 0.5684 - val_auc: 0.7766\n",
      "Epoch 14/200\n",
      "15529/15529 [==============================] - 130s 8ms/step - loss: 0.5486 - auc: 0.7949 - val_loss: 0.5852 - val_auc: 0.7710\n",
      "Epoch 15/200\n",
      "15529/15529 [==============================] - 131s 8ms/step - loss: 0.5470 - auc: 0.7963 - val_loss: 0.5649 - val_auc: 0.7844\n",
      "Epoch 16/200\n",
      "15529/15529 [==============================] - 125s 8ms/step - loss: 0.5459 - auc: 0.7974 - val_loss: 0.5716 - val_auc: 0.7837\n",
      "Epoch 17/200\n",
      "15529/15529 [==============================] - 131s 8ms/step - loss: 0.5450 - auc: 0.7982 - val_loss: 0.5635 - val_auc: 0.7834\n",
      "Epoch 18/200\n",
      "15529/15529 [==============================] - 132s 8ms/step - loss: 0.5438 - auc: 0.7993 - val_loss: 0.5804 - val_auc: 0.7787\n",
      "Epoch 19/200\n",
      "15529/15529 [==============================] - 133s 9ms/step - loss: 0.5429 - auc: 0.8002 - val_loss: 0.6202 - val_auc: 0.7669\n",
      "Epoch 20/200\n",
      "15529/15529 [==============================] - 123s 8ms/step - loss: 0.5424 - auc: 0.8006 - val_loss: 0.5587 - val_auc: 0.7867\n",
      "Epoch 21/200\n",
      "15529/15529 [==============================] - 135s 9ms/step - loss: 0.5414 - auc: 0.8016 - val_loss: 0.5648 - val_auc: 0.7828\n",
      "Epoch 22/200\n",
      "15529/15529 [==============================] - 123s 8ms/step - loss: 0.5409 - auc: 0.8019 - val_loss: 0.5933 - val_auc: 0.7857\n",
      "Epoch 23/200\n",
      "15529/15529 [==============================] - 136s 9ms/step - loss: 0.5400 - auc: 0.8027 - val_loss: 0.5656 - val_auc: 0.7852\n",
      "Epoch 24/200\n",
      "15529/15529 [==============================] - 124s 8ms/step - loss: 0.5389 - auc: 0.8038 - val_loss: 0.5766 - val_auc: 0.7784\n",
      "Epoch 25/200\n",
      "15529/15529 [==============================] - 137s 9ms/step - loss: 0.5387 - auc: 0.8039 - val_loss: 0.5602 - val_auc: 0.7865\n",
      "Epoch 26/200\n",
      "15529/15529 [==============================] - 120s 8ms/step - loss: 0.5379 - auc: 0.8047 - val_loss: 0.5767 - val_auc: 0.7747\n",
      "Epoch 27/200\n",
      "15529/15529 [==============================] - 141s 9ms/step - loss: 0.5372 - auc: 0.8052 - val_loss: 0.5740 - val_auc: 0.7738\n",
      "Epoch 28/200\n",
      "15529/15529 [==============================] - 124s 8ms/step - loss: 0.5360 - auc: 0.8063 - val_loss: 0.5679 - val_auc: 0.7854\n",
      "Epoch 29/200\n",
      "15529/15529 [==============================] - 125s 8ms/step - loss: 0.5361 - auc: 0.8063 - val_loss: 0.5644 - val_auc: 0.7858\n",
      "Epoch 30/200\n",
      "15529/15529 [==============================] - 141s 9ms/step - loss: 0.5354 - auc: 0.8070 - val_loss: 0.5650 - val_auc: 0.7844\n",
      "Epoch 31/200\n",
      "15529/15529 [==============================] - 124s 8ms/step - loss: 0.5346 - auc: 0.8077 - val_loss: 0.5729 - val_auc: 0.7786\n",
      "Epoch 32/200\n",
      "15529/15529 [==============================] - 141s 9ms/step - loss: 0.5342 - auc: 0.8080 - val_loss: 0.5680 - val_auc: 0.7851\n",
      "Epoch 33/200\n",
      "15529/15529 [==============================] - 122s 8ms/step - loss: 0.5334 - auc: 0.8087 - val_loss: 0.5862 - val_auc: 0.7649\n",
      "Epoch 34/200\n",
      "15529/15529 [==============================] - 142s 9ms/step - loss: 0.5328 - auc: 0.8093 - val_loss: 0.5653 - val_auc: 0.7869\n",
      "Epoch 35/200\n",
      "15529/15529 [==============================] - 123s 8ms/step - loss: 0.5324 - auc: 0.8096 - val_loss: 0.5828 - val_auc: 0.7749\n",
      "Epoch 36/200\n",
      "15529/15529 [==============================] - 143s 9ms/step - loss: 0.5316 - auc: 0.8103 - val_loss: 0.5673 - val_auc: 0.7856\n",
      "Epoch 37/200\n",
      "15529/15529 [==============================] - 124s 8ms/step - loss: 0.5313 - auc: 0.8106 - val_loss: 0.5643 - val_auc: 0.7831\n",
      "Epoch 38/200\n",
      "15529/15529 [==============================] - 131s 8ms/step - loss: 0.5304 - auc: 0.8114 - val_loss: 0.5654 - val_auc: 0.7816\n",
      "Epoch 39/200\n",
      "15529/15529 [==============================] - 130s 8ms/step - loss: 0.5299 - auc: 0.8117 - val_loss: 0.5768 - val_auc: 0.7745\n",
      "Epoch 40/200\n",
      "15529/15529 [==============================] - 122s 8ms/step - loss: 0.5292 - auc: 0.8124 - val_loss: 0.5857 - val_auc: 0.7763\n",
      "Epoch 41/200\n",
      "15529/15529 [==============================] - 146s 9ms/step - loss: 0.5290 - auc: 0.8125 - val_loss: 0.5727 - val_auc: 0.7791\n",
      "Epoch 42/200\n",
      "15529/15529 [==============================] - 122s 8ms/step - loss: 0.5278 - auc: 0.8135 - val_loss: 0.5791 - val_auc: 0.7755\n",
      "Epoch 43/200\n",
      "15529/15529 [==============================] - 123s 8ms/step - loss: 0.5273 - auc: 0.8140 - val_loss: 0.5641 - val_auc: 0.7826\n",
      "Epoch 44/200\n",
      "15529/15529 [==============================] - 124s 8ms/step - loss: 0.5268 - auc: 0.8144 - val_loss: 0.5724 - val_auc: 0.7786\n",
      "Epoch 45/200\n",
      "15529/15529 [==============================] - 150s 10ms/step - loss: 0.5262 - auc: 0.8150 - val_loss: 0.5788 - val_auc: 0.7796\n",
      "Epoch 46/200\n",
      "15529/15529 [==============================] - 123s 8ms/step - loss: 0.5257 - auc: 0.8154 - val_loss: 0.5851 - val_auc: 0.7821\n",
      "Epoch 47/200\n",
      "15529/15529 [==============================] - 122s 8ms/step - loss: 0.5247 - auc: 0.8163 - val_loss: 0.5842 - val_auc: 0.7700\n",
      "Epoch 48/200\n",
      "15529/15529 [==============================] - 123s 8ms/step - loss: 0.5243 - auc: 0.8165 - val_loss: 0.5753 - val_auc: 0.7735\n",
      "Epoch 49/200\n",
      "15529/15529 [==============================] - 149s 10ms/step - loss: 0.5235 - auc: 0.8172 - val_loss: 0.5893 - val_auc: 0.7811\n",
      "Epoch 50/200\n",
      "15529/15529 [==============================] - 125s 8ms/step - loss: 0.5230 - auc: 0.8177 - val_loss: 0.5792 - val_auc: 0.7791\n",
      "Epoch 51/200\n",
      "15529/15529 [==============================] - 124s 8ms/step - loss: 0.5219 - auc: 0.8186 - val_loss: 0.5714 - val_auc: 0.7786\n",
      "Epoch 52/200\n",
      "15529/15529 [==============================] - 123s 8ms/step - loss: 0.5211 - auc: 0.8192 - val_loss: 0.6121 - val_auc: 0.7732\n",
      "Epoch 53/200\n",
      "15529/15529 [==============================] - 128s 8ms/step - loss: 0.5207 - auc: 0.8196 - val_loss: 0.6397 - val_auc: 0.7765\n",
      "Epoch 54/200\n",
      "15529/15529 [==============================] - 138s 9ms/step - loss: 0.5199 - auc: 0.8202 - val_loss: 0.5772 - val_auc: 0.7792\n",
      "Epoch 55/200\n",
      "15529/15529 [==============================] - 123s 8ms/step - loss: 0.5192 - auc: 0.8209 - val_loss: 0.5867 - val_auc: 0.7786\n",
      "Epoch 56/200\n",
      "15529/15529 [==============================] - 124s 8ms/step - loss: 0.5188 - auc: 0.8211 - val_loss: 0.5649 - val_auc: 0.7830\n",
      "Epoch 57/200\n",
      "15529/15529 [==============================] - 123s 8ms/step - loss: 0.5181 - auc: 0.8217 - val_loss: 0.5728 - val_auc: 0.7753\n",
      "Epoch 58/200\n",
      "15529/15529 [==============================] - 157s 10ms/step - loss: 0.5173 - auc: 0.8224 - val_loss: 0.5875 - val_auc: 0.7736\n",
      "Epoch 59/200\n",
      "15529/15529 [==============================] - 123s 8ms/step - loss: 0.5166 - auc: 0.8229 - val_loss: 0.5784 - val_auc: 0.7725\n",
      "Epoch 60/200\n",
      "15529/15529 [==============================] - 123s 8ms/step - loss: 0.5157 - auc: 0.8236 - val_loss: 0.5759 - val_auc: 0.7766\n",
      "Epoch 61/200\n",
      "15529/15529 [==============================] - 123s 8ms/step - loss: 0.5155 - auc: 0.8238 - val_loss: 0.5843 - val_auc: 0.7731\n",
      "Epoch 62/200\n",
      "15529/15529 [==============================] - 151s 10ms/step - loss: 0.5142 - auc: 0.8248 - val_loss: 0.5771 - val_auc: 0.7728\n",
      "Epoch 63/200\n",
      "15529/15529 [==============================] - 124s 8ms/step - loss: 0.5141 - auc: 0.8249 - val_loss: 0.5839 - val_auc: 0.7759\n",
      "Epoch 64/200\n",
      "15529/15529 [==============================] - 123s 8ms/step - loss: 0.5135 - auc: 0.8254 - val_loss: 0.5705 - val_auc: 0.7838\n",
      "Epoch 65/200\n",
      "15529/15529 [==============================] - 123s 8ms/step - loss: 0.5127 - auc: 0.8259 - val_loss: 0.5867 - val_auc: 0.7717\n",
      "Epoch 66/200\n",
      "15529/15529 [==============================] - 151s 10ms/step - loss: 0.5119 - auc: 0.8265 - val_loss: 0.5948 - val_auc: 0.7628\n",
      "Epoch 67/200\n",
      "15529/15529 [==============================] - 123s 8ms/step - loss: 0.5114 - auc: 0.8270 - val_loss: 0.5807 - val_auc: 0.7732\n",
      "Epoch 68/200\n",
      "15529/15529 [==============================] - 124s 8ms/step - loss: 0.5108 - auc: 0.8275 - val_loss: 0.5957 - val_auc: 0.7651\n",
      "Epoch 69/200\n",
      "15529/15529 [==============================] - 124s 8ms/step - loss: 0.5095 - auc: 0.8284 - val_loss: 0.6138 - val_auc: 0.7657\n",
      "Epoch 70/200\n",
      "15529/15529 [==============================] - 151s 10ms/step - loss: 0.5091 - auc: 0.8287 - val_loss: 0.5818 - val_auc: 0.7727\n",
      "Epoch 71/200\n",
      "15529/15529 [==============================] - 136s 9ms/step - loss: 0.5084 - auc: 0.8293 - val_loss: 0.5876 - val_auc: 0.7728\n",
      "Epoch 72/200\n",
      "15529/15529 [==============================] - 124s 8ms/step - loss: 0.5076 - auc: 0.8298 - val_loss: 0.5818 - val_auc: 0.7792\n",
      "Epoch 73/200\n",
      "15529/15529 [==============================] - 122s 8ms/step - loss: 0.5068 - auc: 0.8305 - val_loss: 0.6023 - val_auc: 0.7699\n",
      "Epoch 74/200\n",
      "15529/15529 [==============================] - 123s 8ms/step - loss: 0.5061 - auc: 0.8310 - val_loss: 0.5917 - val_auc: 0.7620\n",
      "Epoch 75/200\n",
      "15529/15529 [==============================] - 167s 11ms/step - loss: 0.5054 - auc: 0.8316 - val_loss: 0.6744 - val_auc: 0.7642\n",
      "Epoch 76/200\n",
      "15529/15529 [==============================] - 123s 8ms/step - loss: 0.5053 - auc: 0.8317 - val_loss: 0.6053 - val_auc: 0.7676\n",
      "Epoch 77/200\n",
      "15529/15529 [==============================] - 124s 8ms/step - loss: 0.5041 - auc: 0.8325 - val_loss: 0.6270 - val_auc: 0.7657\n",
      "Epoch 78/200\n",
      "15529/15529 [==============================] - 124s 8ms/step - loss: 0.5033 - auc: 0.8331 - val_loss: 0.5938 - val_auc: 0.7673\n",
      "Epoch 79/200\n",
      "15529/15529 [==============================] - 124s 8ms/step - loss: 0.5031 - auc: 0.8332 - val_loss: 0.6985 - val_auc: 0.7640\n",
      "Epoch 80/200\n",
      "15529/15529 [==============================] - 124s 8ms/step - loss: 0.5024 - auc: 0.8338 - val_loss: 0.6224 - val_auc: 0.7682\n",
      "Epoch 81/200\n",
      "15529/15529 [==============================] - 126s 8ms/step - loss: 0.5016 - auc: 0.8344 - val_loss: 0.6775 - val_auc: 0.7652\n",
      "Epoch 82/200\n",
      "15529/15529 [==============================] - 131s 8ms/step - loss: 0.5010 - auc: 0.8350 - val_loss: 0.6172 - val_auc: 0.7702\n",
      "Epoch 83/200\n",
      "15529/15529 [==============================] - 163s 10ms/step - loss: 0.5003 - auc: 0.8353 - val_loss: 0.6315 - val_auc: 0.7534\n",
      "Epoch 84/200\n",
      "15529/15529 [==============================] - 123s 8ms/step - loss: 0.4997 - auc: 0.8358 - val_loss: 0.6064 - val_auc: 0.7698\n",
      "Epoch 85/200\n",
      "15529/15529 [==============================] - 123s 8ms/step - loss: 0.4990 - auc: 0.8363 - val_loss: 0.5944 - val_auc: 0.7676\n",
      "Epoch 86/200\n",
      "15529/15529 [==============================] - 124s 8ms/step - loss: 0.4982 - auc: 0.8368 - val_loss: 0.7354 - val_auc: 0.7624\n",
      "Epoch 87/200\n",
      "15529/15529 [==============================] - 124s 8ms/step - loss: 0.4971 - auc: 0.8376 - val_loss: 0.8489 - val_auc: 0.7656\n",
      "Epoch 88/200\n",
      "15529/15529 [==============================] - 123s 8ms/step - loss: 0.4970 - auc: 0.8377 - val_loss: 0.6040 - val_auc: 0.7676\n",
      "Epoch 89/200\n",
      "15529/15529 [==============================] - 123s 8ms/step - loss: 0.4965 - auc: 0.8381 - val_loss: 0.6243 - val_auc: 0.7625\n",
      "Epoch 90/200\n",
      "15529/15529 [==============================] - 123s 8ms/step - loss: 0.4957 - auc: 0.8386 - val_loss: 0.6525 - val_auc: 0.7551\n",
      "Epoch 91/200\n",
      "15529/15529 [==============================] - 156s 10ms/step - loss: 0.4949 - auc: 0.8392 - val_loss: 0.6598 - val_auc: 0.7589\n",
      "Epoch 92/200\n",
      "15529/15529 [==============================] - 122s 8ms/step - loss: 0.4939 - auc: 0.8399 - val_loss: 0.6856 - val_auc: 0.7586\n",
      "Epoch 93/200\n",
      "15529/15529 [==============================] - 123s 8ms/step - loss: 0.4932 - auc: 0.8404 - val_loss: 0.6458 - val_auc: 0.7532\n",
      "Epoch 94/200\n",
      "15529/15529 [==============================] - 122s 8ms/step - loss: 0.4928 - auc: 0.8407 - val_loss: 0.6213 - val_auc: 0.7655\n",
      "Epoch 95/200\n",
      "15529/15529 [==============================] - 124s 8ms/step - loss: 0.4922 - auc: 0.8411 - val_loss: 0.6714 - val_auc: 0.7604\n",
      "Epoch 96/200\n",
      "15529/15529 [==============================] - 123s 8ms/step - loss: 0.4912 - auc: 0.8418 - val_loss: 0.9641 - val_auc: 0.7578\n",
      "Epoch 97/200\n",
      "15529/15529 [==============================] - 122s 8ms/step - loss: 0.4906 - auc: 0.8422 - val_loss: 0.7716 - val_auc: 0.7536\n",
      "Epoch 98/200\n",
      "15529/15529 [==============================] - 123s 8ms/step - loss: 0.4898 - auc: 0.8428 - val_loss: 0.7219 - val_auc: 0.7502\n",
      "Epoch 99/200\n",
      "15529/15529 [==============================] - 154s 10ms/step - loss: 0.4891 - auc: 0.8433 - val_loss: 0.8607 - val_auc: 0.7688\n",
      "Epoch 100/200\n",
      "15529/15529 [==============================] - 122s 8ms/step - loss: 0.4888 - auc: 0.8434 - val_loss: 0.8837 - val_auc: 0.7669\n",
      "Epoch 101/200\n",
      "15529/15529 [==============================] - 123s 8ms/step - loss: 0.4877 - auc: 0.8441 - val_loss: 1.1117 - val_auc: 0.7588\n",
      "Epoch 102/200\n",
      "15529/15529 [==============================] - 123s 8ms/step - loss: 0.4871 - auc: 0.8446 - val_loss: 0.7803 - val_auc: 0.7547\n",
      "Epoch 103/200\n",
      "15529/15529 [==============================] - 123s 8ms/step - loss: 0.4865 - auc: 0.8450 - val_loss: 0.6208 - val_auc: 0.7568\n",
      "Epoch 104/200\n",
      "15529/15529 [==============================] - 123s 8ms/step - loss: 0.4860 - auc: 0.8454 - val_loss: 0.7171 - val_auc: 0.7496\n",
      "Epoch 105/200\n",
      "15529/15529 [==============================] - 124s 8ms/step - loss: 0.4855 - auc: 0.8457 - val_loss: 0.6366 - val_auc: 0.7574\n",
      "Epoch 106/200\n",
      "15529/15529 [==============================] - 124s 8ms/step - loss: 0.4851 - auc: 0.8461 - val_loss: 0.6626 - val_auc: 0.7552\n",
      "Epoch 107/200\n",
      "15529/15529 [==============================] - 142s 9ms/step - loss: 0.4842 - auc: 0.8467 - val_loss: 0.6151 - val_auc: 0.7542\n",
      "Epoch 108/200\n",
      "15529/15529 [==============================] - 166s 11ms/step - loss: 0.4829 - auc: 0.8475 - val_loss: 1.5447 - val_auc: 0.7395\n",
      "Epoch 109/200\n",
      "15529/15529 [==============================] - 124s 8ms/step - loss: 0.4826 - auc: 0.8477 - val_loss: 0.9099 - val_auc: 0.7453\n",
      "Epoch 110/200\n",
      "15529/15529 [==============================] - 124s 8ms/step - loss: 0.4819 - auc: 0.8481 - val_loss: 0.6295 - val_auc: 0.7609\n",
      "Epoch 111/200\n",
      "15529/15529 [==============================] - 124s 8ms/step - loss: 0.4812 - auc: 0.8487 - val_loss: 0.8872 - val_auc: 0.7579\n",
      "Epoch 112/200\n",
      "15529/15529 [==============================] - 123s 8ms/step - loss: 0.4808 - auc: 0.8489 - val_loss: 0.7035 - val_auc: 0.7592\n",
      "Epoch 113/200\n",
      "15529/15529 [==============================] - 124s 8ms/step - loss: 0.4800 - auc: 0.8495 - val_loss: 0.6808 - val_auc: 0.7470\n",
      "Epoch 114/200\n",
      "15529/15529 [==============================] - 123s 8ms/step - loss: 0.4794 - auc: 0.8498 - val_loss: 0.6451 - val_auc: 0.7594\n",
      "Epoch 115/200\n",
      "15529/15529 [==============================] - 124s 8ms/step - loss: 0.4787 - auc: 0.8503 - val_loss: 0.6245 - val_auc: 0.7548\n",
      "Epoch 116/200\n",
      "15529/15529 [==============================] - 161s 10ms/step - loss: 0.4780 - auc: 0.8507 - val_loss: 2.0128 - val_auc: 0.7428\n",
      "Epoch 117/200\n",
      "15529/15529 [==============================] - 125s 8ms/step - loss: 0.4775 - auc: 0.8512 - val_loss: 0.6469 - val_auc: 0.7577\n",
      "Epoch 118/200\n",
      "15529/15529 [==============================] - 123s 8ms/step - loss: 0.4766 - auc: 0.8518 - val_loss: 0.7186 - val_auc: 0.7373\n",
      "Epoch 119/200\n",
      "15529/15529 [==============================] - 124s 8ms/step - loss: 0.4756 - auc: 0.8524 - val_loss: 0.7166 - val_auc: 0.7489\n",
      "Epoch 120/200\n",
      "15529/15529 [==============================] - 124s 8ms/step - loss: 0.4752 - auc: 0.8526 - val_loss: 0.7507 - val_auc: 0.7428\n"
     ]
    }
   ],
   "source": [
    "\n",
    "history = model.fit(\n",
    "    datagen.flow(X_train, y_train, batch_size=batch_size),\n",
    "    validation_data=datagen.flow(X_val, y_val,\n",
    "    batch_size=batch_size),\n",
    "    epochs = 200,\n",
    "    callbacks = [call_back]\n",
    ")"
   ]
  },
  {
   "cell_type": "code",
   "execution_count": 23,
   "id": "00e44a71",
   "metadata": {
    "execution": {
     "iopub.execute_input": "2022-03-22T02:52:49.082917Z",
     "iopub.status.busy": "2022-03-22T02:52:49.082228Z",
     "iopub.status.idle": "2022-03-22T02:52:54.105852Z",
     "shell.execute_reply": "2022-03-22T02:52:54.106309Z",
     "shell.execute_reply.started": "2022-03-21T20:03:47.903157Z"
    },
    "papermill": {
     "duration": 101.400116,
     "end_time": "2022-03-22T02:52:54.106454",
     "exception": false,
     "start_time": "2022-03-22T02:51:12.706338",
     "status": "completed"
    },
    "tags": []
   },
   "outputs": [],
   "source": [
    "%matplotlib inline\n",
    "\n",
    "import matplotlib.pyplot as plt"
   ]
  },
  {
   "cell_type": "code",
   "execution_count": 24,
   "id": "68847c97",
   "metadata": {
    "execution": {
     "iopub.execute_input": "2022-03-22T02:56:06.207890Z",
     "iopub.status.busy": "2022-03-22T02:56:06.200808Z",
     "iopub.status.idle": "2022-03-22T02:56:06.597859Z",
     "shell.execute_reply": "2022-03-22T02:56:06.597422Z",
     "shell.execute_reply.started": "2022-03-21T20:03:47.911114Z"
    },
    "papermill": {
     "duration": 96.350409,
     "end_time": "2022-03-22T02:56:06.597983",
     "exception": false,
     "start_time": "2022-03-22T02:54:30.247574",
     "status": "completed"
    },
    "tags": []
   },
   "outputs": [
    {
     "data": {
      "text/plain": [
       "Text(0.5, 1.0, 'Training & validation loss')"
      ]
     },
     "execution_count": 24,
     "metadata": {},
     "output_type": "execute_result"
    },
    {
     "data": {
      "image/png": "[encoded data removed]",
      "text/plain": [
       "<Figure size 432x288 with 1 Axes>"
      ]
     },
     "metadata": {
      "needs_background": "light"
     },
     "output_type": "display_data"
    },
    {
     "data": {
      "image/png": "[encoded data removed]",
      "text/plain": [
       "<Figure size 432x288 with 1 Axes>"
      ]
     },
     "metadata": {
      "needs_background": "light"
     },
     "output_type": "display_data"
    }
   ],
   "source": [
    "acc = history.history['auc']\n",
    "val_acc = history.history['val_auc']\n",
    "loss = history.history['loss']\n",
    "val_loss = history.history['val_loss']\n",
    "\n",
    "epochs = range(len(acc))\n",
    "plt.plot(epochs, acc)\n",
    "plt.plot(epochs, val_acc)\n",
    "plt.title('Training & validation on accuracy')\n",
    "plt.figure()\n",
    "\n",
    "plt.plot(epochs,loss)\n",
    "plt.plot(epochs,val_loss)\n",
    "plt.title('Training & validation loss')"
   ]
  },
  {
   "cell_type": "code",
   "execution_count": null,
   "id": "df1a7d0b",
   "metadata": {
    "papermill": {
     "duration": 96.662594,
     "end_time": "2022-03-22T02:59:19.469924",
     "exception": false,
     "start_time": "2022-03-22T02:57:42.807330",
     "status": "completed"
    },
    "tags": []
   },
   "outputs": [],
   "source": []
  }
 ],
 "metadata": {
  "kernelspec": {
   "display_name": "Python 3",
   "language": "python",
   "name": "python3"
  },
  "language_info": {
   "codemirror_mode": {
    "name": "ipython",
    "version": 3
   },
   "file_extension": ".py",
   "mimetype": "text/x-python",
   "name": "python",
   "nbconvert_exporter": "python",
   "pygments_lexer": "ipython3",
   "version": "3.7.12"
  },
  "papermill": {
   "default_parameters": {},
   "duration": 16604.326401,
   "end_time": "2022-03-22T03:00:59.848287",
   "environment_variables": {},
   "exception": null,
   "input_path": "__notebook__.ipynb",
   "output_path": "__notebook__.ipynb",
   "parameters": {},
   "start_time": "2022-03-21T22:24:15.521886",
   "version": "2.3.3"
  }
 },
 "nbformat": 4,
 "nbformat_minor": 5
}
