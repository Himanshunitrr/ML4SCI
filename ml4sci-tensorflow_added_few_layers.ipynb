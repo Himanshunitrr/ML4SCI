{
 "cells": [
  {
   "cell_type": "code",
   "execution_count": 1,
   "id": "5bbd9bf6",
   "metadata": {
    "_cell_guid": "b1076dfc-b9ad-4769-8c92-a6c4dae69d19",
    "_uuid": "8f2839f25d086af736a60e9eeb907d3b93b6e0e5",
    "execution": {
     "iopub.execute_input": "2022-03-20T06:17:03.760735Z",
     "iopub.status.busy": "2022-03-20T06:17:03.759268Z",
     "iopub.status.idle": "2022-03-20T06:17:03.921715Z",
     "shell.execute_reply": "2022-03-20T06:17:03.921126Z",
     "shell.execute_reply.started": "2022-03-20T06:06:28.849897Z"
    },
    "papermill": {
     "duration": 0.189633,
     "end_time": "2022-03-20T06:17:03.921903",
     "exception": false,
     "start_time": "2022-03-20T06:17:03.732270",
     "status": "completed"
    },
    "tags": []
   },
   "outputs": [],
   "source": [
    "import numpy as np\n",
    "import pandas as pd\n",
    "import h5py\n",
    "from tqdm import tqdm\n",
    "import matplotlib.pyplot as plt"
   ]
  },
  {
   "cell_type": "code",
   "execution_count": 2,
   "id": "a7de5f89",
   "metadata": {
    "execution": {
     "iopub.execute_input": "2022-03-20T06:17:03.981797Z",
     "iopub.status.busy": "2022-03-20T06:17:03.981014Z",
     "iopub.status.idle": "2022-03-20T06:17:03.985250Z",
     "shell.execute_reply": "2022-03-20T06:17:03.985621Z",
     "shell.execute_reply.started": "2022-03-20T06:06:28.999588Z"
    },
    "papermill": {
     "duration": 0.041048,
     "end_time": "2022-03-20T06:17:03.985763",
     "exception": false,
     "start_time": "2022-03-20T06:17:03.944715",
     "status": "completed"
    },
    "tags": []
   },
   "outputs": [],
   "source": [
    "hf_e = h5py.File('../input/ml4sci/SingleElectronPt50_IMGCROPS_n249k_RHv1.hdf5', 'r')\n",
    "electron_data_x = hf_e.get('X')\n",
    "electron_data_y = hf_e.get('y')"
   ]
  },
  {
   "cell_type": "code",
   "execution_count": 3,
   "id": "fc822d8b",
   "metadata": {
    "execution": {
     "iopub.execute_input": "2022-03-20T06:17:04.040706Z",
     "iopub.status.busy": "2022-03-20T06:17:04.039924Z",
     "iopub.status.idle": "2022-03-20T06:17:04.042920Z",
     "shell.execute_reply": "2022-03-20T06:17:04.043395Z",
     "shell.execute_reply.started": "2022-03-20T06:06:29.020539Z"
    },
    "papermill": {
     "duration": 0.035694,
     "end_time": "2022-03-20T06:17:04.043554",
     "exception": false,
     "start_time": "2022-03-20T06:17:04.007860",
     "status": "completed"
    },
    "tags": []
   },
   "outputs": [],
   "source": [
    "hf_p = h5py.File('../input/ml4sci/SinglePhotonPt50_IMGCROPS_n249k_RHv1.hdf5', 'r')\n",
    "photon_data_x = hf_p.get('X')\n",
    "photon_data_y = hf_p.get('y')"
   ]
  },
  {
   "cell_type": "code",
   "execution_count": 4,
   "id": "077f4e65",
   "metadata": {
    "execution": {
     "iopub.execute_input": "2022-03-20T06:17:04.093415Z",
     "iopub.status.busy": "2022-03-20T06:17:04.092801Z",
     "iopub.status.idle": "2022-03-20T06:17:15.665646Z",
     "shell.execute_reply": "2022-03-20T06:17:15.666578Z",
     "shell.execute_reply.started": "2022-03-20T06:06:29.035789Z"
    },
    "papermill": {
     "duration": 11.60141,
     "end_time": "2022-03-20T06:17:15.666893",
     "exception": false,
     "start_time": "2022-03-20T06:17:04.065483",
     "status": "completed"
    },
    "tags": []
   },
   "outputs": [],
   "source": [
    "electron_data_x = np.asarray(electron_data_x)\n",
    "electron_data_y = np.asarray(electron_data_y)\n",
    "\n",
    "photon_data_x = np.asarray(photon_data_x)\n",
    "photon_data_y = np.asarray(photon_data_y)"
   ]
  },
  {
   "cell_type": "code",
   "execution_count": 5,
   "id": "15c1aa39",
   "metadata": {
    "execution": {
     "iopub.execute_input": "2022-03-20T06:17:15.764228Z",
     "iopub.status.busy": "2022-03-20T06:17:15.763256Z",
     "iopub.status.idle": "2022-03-20T06:17:15.768251Z",
     "shell.execute_reply": "2022-03-20T06:17:15.768948Z",
     "shell.execute_reply.started": "2022-03-20T06:06:40.879797Z"
    },
    "papermill": {
     "duration": 0.060843,
     "end_time": "2022-03-20T06:17:15.769176",
     "exception": false,
     "start_time": "2022-03-20T06:17:15.708333",
     "status": "completed"
    },
    "tags": []
   },
   "outputs": [
    {
     "name": "stdout",
     "output_type": "stream",
     "text": [
      "(249000, 32, 32, 2)\n",
      "(249000, 32, 32, 2)\n",
      "(249000,)\n",
      "(249000,)\n"
     ]
    }
   ],
   "source": [
    "print(electron_data_x.shape)\n",
    "print(photon_data_x.shape)\n",
    "\n",
    "print(electron_data_y.shape)\n",
    "print(photon_data_y.shape)"
   ]
  },
  {
   "cell_type": "code",
   "execution_count": 6,
   "id": "7c66c596",
   "metadata": {
    "execution": {
     "iopub.execute_input": "2022-03-20T06:17:15.868570Z",
     "iopub.status.busy": "2022-03-20T06:17:15.867691Z",
     "iopub.status.idle": "2022-03-20T06:17:17.779973Z",
     "shell.execute_reply": "2022-03-20T06:17:17.779045Z",
     "shell.execute_reply.started": "2022-03-20T06:06:40.887073Z"
    },
    "papermill": {
     "duration": 1.970106,
     "end_time": "2022-03-20T06:17:17.780121",
     "exception": false,
     "start_time": "2022-03-20T06:17:15.810015",
     "status": "completed"
    },
    "tags": []
   },
   "outputs": [],
   "source": [
    "X = np.concatenate((electron_data_x, photon_data_x))\n",
    "y = np.concatenate((electron_data_y, photon_data_y))"
   ]
  },
  {
   "cell_type": "code",
   "execution_count": 7,
   "id": "e48390a7",
   "metadata": {
    "execution": {
     "iopub.execute_input": "2022-03-20T06:17:17.829261Z",
     "iopub.status.busy": "2022-03-20T06:17:17.828611Z",
     "iopub.status.idle": "2022-03-20T06:17:17.831427Z",
     "shell.execute_reply": "2022-03-20T06:17:17.831852Z",
     "shell.execute_reply.started": "2022-03-20T06:06:42.346008Z"
    },
    "papermill": {
     "duration": 0.029576,
     "end_time": "2022-03-20T06:17:17.832008",
     "exception": false,
     "start_time": "2022-03-20T06:17:17.802432",
     "status": "completed"
    },
    "tags": []
   },
   "outputs": [
    {
     "name": "stdout",
     "output_type": "stream",
     "text": [
      "(498000, 32, 32, 2)\n",
      "(498000,)\n"
     ]
    }
   ],
   "source": [
    "print(X.shape)\n",
    "print(y.shape)"
   ]
  },
  {
   "cell_type": "code",
   "execution_count": 8,
   "id": "0cb02b10",
   "metadata": {
    "execution": {
     "iopub.execute_input": "2022-03-20T06:17:17.880752Z",
     "iopub.status.busy": "2022-03-20T06:17:17.879935Z",
     "iopub.status.idle": "2022-03-20T06:17:17.882051Z",
     "shell.execute_reply": "2022-03-20T06:17:17.882423Z",
     "shell.execute_reply.started": "2022-03-20T06:06:42.354750Z"
    },
    "papermill": {
     "duration": 0.028358,
     "end_time": "2022-03-20T06:17:17.882559",
     "exception": false,
     "start_time": "2022-03-20T06:17:17.854201",
     "status": "completed"
    },
    "tags": []
   },
   "outputs": [],
   "source": [
    "# X_vis = X[:5]\n",
    "\n",
    "# fig, axes = plt.subplots(nrows=len(X_vis), ncols=2, figsize=(48, 48))\n",
    "# for i in range(len(X_vis)):\n",
    "\n",
    "#     axes[i][0].imshow(X_vis[i,:,:,0])\n",
    "#     axes[i][1].imshow(X_vis[i,:,:,1])\n",
    "\n"
   ]
  },
  {
   "cell_type": "code",
   "execution_count": 9,
   "id": "af5e5898",
   "metadata": {
    "execution": {
     "iopub.execute_input": "2022-03-20T06:17:17.933174Z",
     "iopub.status.busy": "2022-03-20T06:17:17.932520Z",
     "iopub.status.idle": "2022-03-20T06:17:22.343992Z",
     "shell.execute_reply": "2022-03-20T06:17:22.343431Z",
     "shell.execute_reply.started": "2022-03-20T06:06:42.361670Z"
    },
    "papermill": {
     "duration": 4.438702,
     "end_time": "2022-03-20T06:17:22.344142",
     "exception": false,
     "start_time": "2022-03-20T06:17:17.905440",
     "status": "completed"
    },
    "tags": []
   },
   "outputs": [],
   "source": [
    "from sklearn.utils import shuffle\n",
    "X, y = shuffle(X, y, random_state=0)\n",
    "X, y = shuffle(X, y, random_state=0) #really random "
   ]
  },
  {
   "cell_type": "code",
   "execution_count": 10,
   "id": "6fff111f",
   "metadata": {
    "execution": {
     "iopub.execute_input": "2022-03-20T06:17:22.394046Z",
     "iopub.status.busy": "2022-03-20T06:17:22.393448Z",
     "iopub.status.idle": "2022-03-20T06:17:22.397013Z",
     "shell.execute_reply": "2022-03-20T06:17:22.396498Z",
     "shell.execute_reply.started": "2022-03-20T06:06:46.838197Z"
    },
    "papermill": {
     "duration": 0.029631,
     "end_time": "2022-03-20T06:17:22.397130",
     "exception": false,
     "start_time": "2022-03-20T06:17:22.367499",
     "status": "completed"
    },
    "tags": []
   },
   "outputs": [],
   "source": [
    "# mean = 0.015\n",
    "# std = 0.297"
   ]
  },
  {
   "cell_type": "code",
   "execution_count": 11,
   "id": "f296ca5f",
   "metadata": {
    "execution": {
     "iopub.execute_input": "2022-03-20T06:17:22.451700Z",
     "iopub.status.busy": "2022-03-20T06:17:22.450830Z",
     "iopub.status.idle": "2022-03-20T06:17:22.454076Z",
     "shell.execute_reply": "2022-03-20T06:17:22.454558Z",
     "shell.execute_reply.started": "2022-03-20T06:06:46.844134Z"
    },
    "papermill": {
     "duration": 0.035329,
     "end_time": "2022-03-20T06:17:22.454720",
     "exception": false,
     "start_time": "2022-03-20T06:17:22.419391",
     "status": "completed"
    },
    "tags": []
   },
   "outputs": [
    {
     "name": "stdout",
     "output_type": "stream",
     "text": [
      "(496900, 32, 32, 2)\n",
      "(1000, 32, 32, 2)\n",
      "(100, 32, 32, 2)\n"
     ]
    }
   ],
   "source": [
    "X_train = X[:496900]\n",
    "X_val = X[496900:497900]\n",
    "X_test = X[497900:]\n",
    "\n",
    "print(X_train.shape)\n",
    "print(X_val.shape)\n",
    "print(X_test.shape)"
   ]
  },
  {
   "cell_type": "code",
   "execution_count": 12,
   "id": "ec8339f4",
   "metadata": {
    "execution": {
     "iopub.execute_input": "2022-03-20T06:17:22.511177Z",
     "iopub.status.busy": "2022-03-20T06:17:22.510377Z",
     "iopub.status.idle": "2022-03-20T06:17:22.515080Z",
     "shell.execute_reply": "2022-03-20T06:17:22.514591Z",
     "shell.execute_reply.started": "2022-03-20T06:06:46.858278Z"
    },
    "papermill": {
     "duration": 0.035193,
     "end_time": "2022-03-20T06:17:22.515203",
     "exception": false,
     "start_time": "2022-03-20T06:17:22.480010",
     "status": "completed"
    },
    "tags": []
   },
   "outputs": [
    {
     "name": "stdout",
     "output_type": "stream",
     "text": [
      "(496900,)\n",
      "(1000,)\n",
      "(100,)\n"
     ]
    }
   ],
   "source": [
    "y_train = y[:496900]\n",
    "y_val = y[496900:497900]\n",
    "y_test = y[497900:]\n",
    "\n",
    "print(y_train.shape)\n",
    "print(y_val.shape)\n",
    "print(y_test.shape)"
   ]
  },
  {
   "cell_type": "code",
   "execution_count": 13,
   "id": "75def065",
   "metadata": {
    "execution": {
     "iopub.execute_input": "2022-03-20T06:17:22.568557Z",
     "iopub.status.busy": "2022-03-20T06:17:22.567706Z",
     "iopub.status.idle": "2022-03-20T06:17:22.570447Z",
     "shell.execute_reply": "2022-03-20T06:17:22.570018Z",
     "shell.execute_reply.started": "2022-03-20T06:06:46.868350Z"
    },
    "papermill": {
     "duration": 0.030283,
     "end_time": "2022-03-20T06:17:22.570564",
     "exception": false,
     "start_time": "2022-03-20T06:17:22.540281",
     "status": "completed"
    },
    "tags": []
   },
   "outputs": [],
   "source": [
    "# model = CreateModel()\n",
    "# model.to(Config['DEVICE'])"
   ]
  },
  {
   "cell_type": "code",
   "execution_count": 14,
   "id": "33b94cfc",
   "metadata": {
    "execution": {
     "iopub.execute_input": "2022-03-20T06:17:22.638625Z",
     "iopub.status.busy": "2022-03-20T06:17:22.637638Z",
     "iopub.status.idle": "2022-03-20T06:17:22.639631Z",
     "shell.execute_reply": "2022-03-20T06:17:22.640184Z",
     "shell.execute_reply.started": "2022-03-20T06:06:46.879426Z"
    },
    "papermill": {
     "duration": 0.034346,
     "end_time": "2022-03-20T06:17:22.640352",
     "exception": false,
     "start_time": "2022-03-20T06:17:22.606006",
     "status": "completed"
    },
    "tags": []
   },
   "outputs": [],
   "source": [
    "batch_size = 32\n",
    "img_size = 32"
   ]
  },
  {
   "cell_type": "code",
   "execution_count": 15,
   "id": "3f6532a0",
   "metadata": {
    "execution": {
     "iopub.execute_input": "2022-03-20T06:17:22.693611Z",
     "iopub.status.busy": "2022-03-20T06:17:22.692742Z",
     "iopub.status.idle": "2022-03-20T06:17:22.694601Z",
     "shell.execute_reply": "2022-03-20T06:17:22.695119Z",
     "shell.execute_reply.started": "2022-03-20T06:06:46.885491Z"
    },
    "papermill": {
     "duration": 0.029527,
     "end_time": "2022-03-20T06:17:22.695266",
     "exception": false,
     "start_time": "2022-03-20T06:17:22.665739",
     "status": "completed"
    },
    "tags": []
   },
   "outputs": [],
   "source": [
    "# from sklearn.preprocessing import normalize\n",
    "# normed_matrix = normalize(X, axis=1, norm='l1')"
   ]
  },
  {
   "cell_type": "code",
   "execution_count": 16,
   "id": "e87ed308",
   "metadata": {
    "execution": {
     "iopub.execute_input": "2022-03-20T06:17:22.748730Z",
     "iopub.status.busy": "2022-03-20T06:17:22.747836Z",
     "iopub.status.idle": "2022-03-20T06:17:22.749854Z",
     "shell.execute_reply": "2022-03-20T06:17:22.750299Z",
     "shell.execute_reply.started": "2022-03-20T06:06:46.894369Z"
    },
    "papermill": {
     "duration": 0.030898,
     "end_time": "2022-03-20T06:17:22.750446",
     "exception": false,
     "start_time": "2022-03-20T06:17:22.719548",
     "status": "completed"
    },
    "tags": []
   },
   "outputs": [],
   "source": [
    "# X = np.linalg.norm(X, axis = 1, keepdims = True)"
   ]
  },
  {
   "cell_type": "code",
   "execution_count": 17,
   "id": "5738caed",
   "metadata": {
    "execution": {
     "iopub.execute_input": "2022-03-20T06:17:22.802933Z",
     "iopub.status.busy": "2022-03-20T06:17:22.802068Z",
     "iopub.status.idle": "2022-03-20T06:17:28.132786Z",
     "shell.execute_reply": "2022-03-20T06:17:28.132281Z",
     "shell.execute_reply.started": "2022-03-20T06:06:46.902629Z"
    },
    "papermill": {
     "duration": 5.358127,
     "end_time": "2022-03-20T06:17:28.132965",
     "exception": false,
     "start_time": "2022-03-20T06:17:22.774838",
     "status": "completed"
    },
    "tags": []
   },
   "outputs": [],
   "source": [
    "from tensorflow.keras.preprocessing.image import ImageDataGenerator\n",
    "\n",
    "datagen = ImageDataGenerator()\n",
    "\n",
    "# datagen = ImageDataGenerator(\n",
    "#     featurewise_std_normalization=True,\n",
    "# )\n",
    "# datagen.fit(X_train)\n",
    "# datagen.fit(X_val)\n",
    "# datagen.fit(X_test)"
   ]
  },
  {
   "cell_type": "code",
   "execution_count": 18,
   "id": "1ab3073e",
   "metadata": {
    "execution": {
     "iopub.execute_input": "2022-03-20T06:17:28.196516Z",
     "iopub.status.busy": "2022-03-20T06:17:28.195780Z",
     "iopub.status.idle": "2022-03-20T06:17:30.632375Z",
     "shell.execute_reply": "2022-03-20T06:17:30.631800Z",
     "shell.execute_reply.started": "2022-03-20T06:06:51.580110Z"
    },
    "papermill": {
     "duration": 2.472952,
     "end_time": "2022-03-20T06:17:30.632519",
     "exception": false,
     "start_time": "2022-03-20T06:17:28.159567",
     "status": "completed"
    },
    "tags": []
   },
   "outputs": [
    {
     "name": "stderr",
     "output_type": "stream",
     "text": [
      "2022-03-20 06:17:28.290723: I tensorflow/stream_executor/cuda/cuda_gpu_executor.cc:937] successful NUMA node read from SysFS had negative value (-1), but there must be at least one NUMA node, so returning NUMA node zero\n",
      "2022-03-20 06:17:28.382432: I tensorflow/stream_executor/cuda/cuda_gpu_executor.cc:937] successful NUMA node read from SysFS had negative value (-1), but there must be at least one NUMA node, so returning NUMA node zero\n",
      "2022-03-20 06:17:28.383266: I tensorflow/stream_executor/cuda/cuda_gpu_executor.cc:937] successful NUMA node read from SysFS had negative value (-1), but there must be at least one NUMA node, so returning NUMA node zero\n",
      "2022-03-20 06:17:28.384757: I tensorflow/core/platform/cpu_feature_guard.cc:142] This TensorFlow binary is optimized with oneAPI Deep Neural Network Library (oneDNN) to use the following CPU instructions in performance-critical operations:  AVX2 AVX512F FMA\n",
      "To enable them in other operations, rebuild TensorFlow with the appropriate compiler flags.\n",
      "2022-03-20 06:17:28.385704: I tensorflow/stream_executor/cuda/cuda_gpu_executor.cc:937] successful NUMA node read from SysFS had negative value (-1), but there must be at least one NUMA node, so returning NUMA node zero\n",
      "2022-03-20 06:17:28.386456: I tensorflow/stream_executor/cuda/cuda_gpu_executor.cc:937] successful NUMA node read from SysFS had negative value (-1), but there must be at least one NUMA node, so returning NUMA node zero\n",
      "2022-03-20 06:17:28.387188: I tensorflow/stream_executor/cuda/cuda_gpu_executor.cc:937] successful NUMA node read from SysFS had negative value (-1), but there must be at least one NUMA node, so returning NUMA node zero\n",
      "2022-03-20 06:17:30.290355: I tensorflow/stream_executor/cuda/cuda_gpu_executor.cc:937] successful NUMA node read from SysFS had negative value (-1), but there must be at least one NUMA node, so returning NUMA node zero\n",
      "2022-03-20 06:17:30.291263: I tensorflow/stream_executor/cuda/cuda_gpu_executor.cc:937] successful NUMA node read from SysFS had negative value (-1), but there must be at least one NUMA node, so returning NUMA node zero\n",
      "2022-03-20 06:17:30.292032: I tensorflow/stream_executor/cuda/cuda_gpu_executor.cc:937] successful NUMA node read from SysFS had negative value (-1), but there must be at least one NUMA node, so returning NUMA node zero\n",
      "2022-03-20 06:17:30.292683: I tensorflow/core/common_runtime/gpu/gpu_device.cc:1510] Created device /job:localhost/replica:0/task:0/device:GPU:0 with 15403 MB memory:  -> device: 0, name: Tesla P100-PCIE-16GB, pci bus id: 0000:00:04.0, compute capability: 6.0\n"
     ]
    }
   ],
   "source": [
    "import tensorflow as tf\n",
    "model = tf.keras.models.Sequential([\n",
    "\n",
    "    tf.keras.layers.Normalization(),\n",
    "    tf.keras.layers.Conv2D(32, 2, padding='same', activation='relu', input_shape=(img_size, img_size, 2)),\n",
    "    tf.keras.layers.MaxPooling2D(pool_size=(2, 2), padding='same',),\n",
    "    \n",
    "\n",
    "    tf.keras.layers.Conv2D(64, 2, padding='same',activation='relu'),\n",
    "    tf.keras.layers.MaxPooling2D(pool_size=(2, 2), padding='same'),\n",
    "   \n",
    "\n",
    "    tf.keras.layers.Conv2D(64, 3,padding='same', activation='relu'),\n",
    "    tf.keras.layers.MaxPooling2D(pool_size=(2, 2)),\n",
    "  \n",
    "\n",
    "    tf.keras.layers.Conv2D(64, 3,padding='same', activation='relu'),\n",
    "    tf.keras.layers.MaxPooling2D(pool_size=(2, 2)),\n",
    "    \n",
    "    tf.keras.layers.Conv2D(64, 3,padding='same', activation='relu'),\n",
    "    tf.keras.layers.MaxPooling2D(pool_size=(2, 2)),\n",
    "\n",
    "    tf.keras.layers.Flatten(),\n",
    "    tf.keras.layers.Dense(512, activation='relu'),\n",
    "    tf.keras.layers.Dropout(0.2),\n",
    "    tf.keras.layers.BatchNormalization(),\n",
    "    tf.keras.layers.Dense(1024, activation='relu'),\n",
    "    tf.keras.layers.BatchNormalization(),\n",
    "    tf.keras.layers.Dropout(0.2),\n",
    "    tf.keras.layers.Dense(512, activation='relu'),\n",
    "    tf.keras.layers.Dropout(0.2),\n",
    "    tf.keras.layers.Dense(128, activation='relu'),\n",
    "    \n",
    "    \n",
    "    tf.keras.layers.Dense(1, activation='sigmoid')\n",
    "\n",
    "    \n",
    "])"
   ]
  },
  {
   "cell_type": "code",
   "execution_count": 19,
   "id": "b9b514ae",
   "metadata": {
    "execution": {
     "iopub.execute_input": "2022-03-20T06:17:30.690498Z",
     "iopub.status.busy": "2022-03-20T06:17:30.689652Z",
     "iopub.status.idle": "2022-03-20T06:17:30.707038Z",
     "shell.execute_reply": "2022-03-20T06:17:30.706086Z",
     "shell.execute_reply.started": "2022-03-20T06:06:54.107520Z"
    },
    "papermill": {
     "duration": 0.049571,
     "end_time": "2022-03-20T06:17:30.707207",
     "exception": false,
     "start_time": "2022-03-20T06:17:30.657636",
     "status": "completed"
    },
    "tags": []
   },
   "outputs": [],
   "source": [
    "from tensorflow.keras.optimizers import Adam\n",
    "\n",
    "model.compile(\n",
    "    loss='binary_crossentropy',\n",
    "    optimizer=Adam(learning_rate=0.001),\n",
    "    metrics=['AUC']\n",
    ")"
   ]
  },
  {
   "cell_type": "code",
   "execution_count": 20,
   "id": "d4acacfd",
   "metadata": {
    "execution": {
     "iopub.execute_input": "2022-03-20T06:17:30.762954Z",
     "iopub.status.busy": "2022-03-20T06:17:30.761293Z",
     "iopub.status.idle": "2022-03-20T06:17:30.763563Z",
     "shell.execute_reply": "2022-03-20T06:17:30.764005Z",
     "shell.execute_reply.started": "2022-03-20T06:06:54.136109Z"
    },
    "papermill": {
     "duration": 0.03196,
     "end_time": "2022-03-20T06:17:30.764162",
     "exception": false,
     "start_time": "2022-03-20T06:17:30.732202",
     "status": "completed"
    },
    "tags": []
   },
   "outputs": [],
   "source": [
    "call_back = tf.keras.callbacks.EarlyStopping(patience=20, restore_best_weights=True)"
   ]
  },
  {
   "cell_type": "code",
   "execution_count": 21,
   "id": "616172c0",
   "metadata": {
    "execution": {
     "iopub.execute_input": "2022-03-20T06:17:30.820406Z",
     "iopub.status.busy": "2022-03-20T06:17:30.818653Z",
     "iopub.status.idle": "2022-03-20T06:17:30.821048Z",
     "shell.execute_reply": "2022-03-20T06:17:30.821485Z",
     "shell.execute_reply.started": "2022-03-20T06:06:54.142357Z"
    },
    "papermill": {
     "duration": 0.033118,
     "end_time": "2022-03-20T06:17:30.821630",
     "exception": false,
     "start_time": "2022-03-20T06:17:30.788512",
     "status": "completed"
    },
    "tags": []
   },
   "outputs": [],
   "source": [
    "labels = [0,1]"
   ]
  },
  {
   "cell_type": "code",
   "execution_count": 22,
   "id": "ea084008",
   "metadata": {
    "execution": {
     "iopub.execute_input": "2022-03-20T06:17:30.879453Z",
     "iopub.status.busy": "2022-03-20T06:17:30.878635Z",
     "iopub.status.idle": "2022-03-20T07:59:40.773437Z",
     "shell.execute_reply": "2022-03-20T07:59:40.772675Z",
     "shell.execute_reply.started": "2022-03-20T06:06:54.150458Z"
    },
    "papermill": {
     "duration": 6129.925618,
     "end_time": "2022-03-20T07:59:40.773590",
     "exception": false,
     "start_time": "2022-03-20T06:17:30.847972",
     "status": "completed"
    },
    "tags": []
   },
   "outputs": [
    {
     "name": "stderr",
     "output_type": "stream",
     "text": [
      "/opt/conda/lib/python3.7/site-packages/keras_preprocessing/image/numpy_array_iterator.py:136: UserWarning: NumpyArrayIterator is set to use the data format convention \"channels_last\" (channels on axis 3), i.e. expected either 1, 3, or 4 channels on axis 3. However, it was passed an array with shape (496900, 32, 32, 2) (2 channels).\n",
      "  str(self.x.shape[channels_axis]) + ' channels).')\n",
      "/opt/conda/lib/python3.7/site-packages/keras_preprocessing/image/numpy_array_iterator.py:136: UserWarning: NumpyArrayIterator is set to use the data format convention \"channels_last\" (channels on axis 3), i.e. expected either 1, 3, or 4 channels on axis 3. However, it was passed an array with shape (1000, 32, 32, 2) (2 channels).\n",
      "  str(self.x.shape[channels_axis]) + ' channels).')\n",
      "2022-03-20 06:17:31.819452: I tensorflow/stream_executor/cuda/cuda_dnn.cc:369] Loaded cuDNN version 8005\n",
      "2022-03-20 06:17:36.981831: I tensorflow/compiler/mlir/mlir_graph_optimization_pass.cc:185] None of the MLIR Optimization Passes are enabled (registered 2)\n"
     ]
    },
    {
     "name": "stdout",
     "output_type": "stream",
     "text": [
      "Epoch 1/200\n",
      "15529/15529 [==============================] - 137s 9ms/step - loss: 0.6158 - auc: 0.7198 - val_loss: 0.6177 - val_auc: 0.7492\n",
      "Epoch 2/200\n",
      "15529/15529 [==============================] - 136s 9ms/step - loss: 0.5867 - auc: 0.7553 - val_loss: 0.5822 - val_auc: 0.7693\n",
      "Epoch 3/200\n",
      "15529/15529 [==============================] - 140s 9ms/step - loss: 0.5791 - auc: 0.7641 - val_loss: 0.5848 - val_auc: 0.7703\n",
      "Epoch 4/200\n",
      "15529/15529 [==============================] - 139s 9ms/step - loss: 0.5731 - auc: 0.7704 - val_loss: 0.5882 - val_auc: 0.7657\n",
      "Epoch 5/200\n",
      "15529/15529 [==============================] - 141s 9ms/step - loss: 0.5699 - auc: 0.7739 - val_loss: 0.5826 - val_auc: 0.7660\n",
      "Epoch 6/200\n",
      "15529/15529 [==============================] - 139s 9ms/step - loss: 0.5673 - auc: 0.7766 - val_loss: 0.6065 - val_auc: 0.7537\n",
      "Epoch 7/200\n",
      "15529/15529 [==============================] - 140s 9ms/step - loss: 0.5653 - auc: 0.7788 - val_loss: 0.6260 - val_auc: 0.7445\n",
      "Epoch 8/200\n",
      "15529/15529 [==============================] - 141s 9ms/step - loss: 0.5648 - auc: 0.7793 - val_loss: 0.5752 - val_auc: 0.7753\n",
      "Epoch 9/200\n",
      "15529/15529 [==============================] - 138s 9ms/step - loss: 0.5628 - auc: 0.7810 - val_loss: 0.6113 - val_auc: 0.7495\n",
      "Epoch 10/200\n",
      "15529/15529 [==============================] - 138s 9ms/step - loss: 0.5615 - auc: 0.7826 - val_loss: 0.6845 - val_auc: 0.7703\n",
      "Epoch 11/200\n",
      "15529/15529 [==============================] - 138s 9ms/step - loss: 0.5606 - auc: 0.7836 - val_loss: 0.5853 - val_auc: 0.7704\n",
      "Epoch 12/200\n",
      "15529/15529 [==============================] - 139s 9ms/step - loss: 0.5599 - auc: 0.7843 - val_loss: 0.5869 - val_auc: 0.7697\n",
      "Epoch 13/200\n",
      "15529/15529 [==============================] - 140s 9ms/step - loss: 0.5587 - auc: 0.7854 - val_loss: 0.5699 - val_auc: 0.7799\n",
      "Epoch 14/200\n",
      "15529/15529 [==============================] - 141s 9ms/step - loss: 0.5580 - auc: 0.7861 - val_loss: 0.5716 - val_auc: 0.7775\n",
      "Epoch 15/200\n",
      "15529/15529 [==============================] - 140s 9ms/step - loss: 0.5570 - auc: 0.7869 - val_loss: 0.5689 - val_auc: 0.7797\n",
      "Epoch 16/200\n",
      "15529/15529 [==============================] - 138s 9ms/step - loss: 0.5563 - auc: 0.7877 - val_loss: 0.5670 - val_auc: 0.7804\n",
      "Epoch 17/200\n",
      "15529/15529 [==============================] - 138s 9ms/step - loss: 0.5560 - auc: 0.7880 - val_loss: 0.6060 - val_auc: 0.7765\n",
      "Epoch 18/200\n",
      "15529/15529 [==============================] - 138s 9ms/step - loss: 0.5564 - auc: 0.7877 - val_loss: 0.7556 - val_auc: 0.7798\n",
      "Epoch 19/200\n",
      "15529/15529 [==============================] - 144s 9ms/step - loss: 0.5561 - auc: 0.7881 - val_loss: 0.5718 - val_auc: 0.7746\n",
      "Epoch 20/200\n",
      "15529/15529 [==============================] - 131s 8ms/step - loss: 0.5545 - auc: 0.7897 - val_loss: 0.5729 - val_auc: 0.7828\n",
      "Epoch 21/200\n",
      "15529/15529 [==============================] - 144s 9ms/step - loss: 0.5546 - auc: 0.7895 - val_loss: 0.5723 - val_auc: 0.7739\n",
      "Epoch 22/200\n",
      "15529/15529 [==============================] - 132s 9ms/step - loss: 0.5543 - auc: 0.7896 - val_loss: 0.5710 - val_auc: 0.7791\n",
      "Epoch 23/200\n",
      "15529/15529 [==============================] - 146s 9ms/step - loss: 0.5544 - auc: 0.7897 - val_loss: 0.5729 - val_auc: 0.7797\n",
      "Epoch 24/200\n",
      "15529/15529 [==============================] - 132s 8ms/step - loss: 0.5534 - auc: 0.7906 - val_loss: 0.5631 - val_auc: 0.7862\n",
      "Epoch 25/200\n",
      "15529/15529 [==============================] - 148s 10ms/step - loss: 0.5534 - auc: 0.7905 - val_loss: 0.5689 - val_auc: 0.7841\n",
      "Epoch 26/200\n",
      "15529/15529 [==============================] - 132s 8ms/step - loss: 0.5529 - auc: 0.7911 - val_loss: 0.5778 - val_auc: 0.7802\n",
      "Epoch 27/200\n",
      "15529/15529 [==============================] - 148s 10ms/step - loss: 0.5527 - auc: 0.7912 - val_loss: 0.5689 - val_auc: 0.7787\n",
      "Epoch 28/200\n",
      "15529/15529 [==============================] - 132s 8ms/step - loss: 0.5518 - auc: 0.7922 - val_loss: 0.5805 - val_auc: 0.7787\n",
      "Epoch 29/200\n",
      "15529/15529 [==============================] - 150s 10ms/step - loss: 0.5509 - auc: 0.7930 - val_loss: 0.5783 - val_auc: 0.7828\n",
      "Epoch 30/200\n",
      "15529/15529 [==============================] - 131s 8ms/step - loss: 0.5516 - auc: 0.7924 - val_loss: 0.5642 - val_auc: 0.7835\n",
      "Epoch 31/200\n",
      "15529/15529 [==============================] - 153s 10ms/step - loss: 0.5502 - auc: 0.7937 - val_loss: 0.5654 - val_auc: 0.7814\n",
      "Epoch 32/200\n",
      "15529/15529 [==============================] - 131s 8ms/step - loss: 0.5510 - auc: 0.7930 - val_loss: 0.5725 - val_auc: 0.7774\n",
      "Epoch 33/200\n",
      "15529/15529 [==============================] - 152s 10ms/step - loss: 0.5512 - auc: 0.7928 - val_loss: 0.5831 - val_auc: 0.7736\n",
      "Epoch 34/200\n",
      "15529/15529 [==============================] - 132s 8ms/step - loss: 0.5511 - auc: 0.7928 - val_loss: 0.6197 - val_auc: 0.7753\n",
      "Epoch 35/200\n",
      "15529/15529 [==============================] - 131s 8ms/step - loss: 0.5506 - auc: 0.7933 - val_loss: 0.6118 - val_auc: 0.7757\n",
      "Epoch 36/200\n",
      "15529/15529 [==============================] - 132s 8ms/step - loss: 0.5518 - auc: 0.7923 - val_loss: 0.5739 - val_auc: 0.7766\n",
      "Epoch 37/200\n",
      "15529/15529 [==============================] - 155s 10ms/step - loss: 0.5511 - auc: 0.7928 - val_loss: 0.5850 - val_auc: 0.7782\n",
      "Epoch 38/200\n",
      "15529/15529 [==============================] - 131s 8ms/step - loss: 0.5508 - auc: 0.7930 - val_loss: 0.5817 - val_auc: 0.7781\n",
      "Epoch 39/200\n",
      "15529/15529 [==============================] - 132s 8ms/step - loss: 0.5506 - auc: 0.7933 - val_loss: 0.5666 - val_auc: 0.7847\n",
      "Epoch 40/200\n",
      "15529/15529 [==============================] - 131s 8ms/step - loss: 0.5497 - auc: 0.7942 - val_loss: 1.1385 - val_auc: 0.7822\n",
      "Epoch 41/200\n",
      "15529/15529 [==============================] - 158s 10ms/step - loss: 0.5500 - auc: 0.7938 - val_loss: 0.6224 - val_auc: 0.7833\n",
      "Epoch 42/200\n",
      "15529/15529 [==============================] - 132s 8ms/step - loss: 0.5489 - auc: 0.7949 - val_loss: 0.5722 - val_auc: 0.7834\n",
      "Epoch 43/200\n",
      "15529/15529 [==============================] - 131s 8ms/step - loss: 0.5488 - auc: 0.7949 - val_loss: 0.5665 - val_auc: 0.7850\n",
      "Epoch 44/200\n",
      "15529/15529 [==============================] - 132s 8ms/step - loss: 0.5495 - auc: 0.7943 - val_loss: 0.7006 - val_auc: 0.7657\n"
     ]
    }
   ],
   "source": [
    "\n",
    "history = model.fit(\n",
    "    datagen.flow(X_train, y_train, batch_size=batch_size),\n",
    "    validation_data=datagen.flow(X_val, y_val,\n",
    "    batch_size=batch_size),\n",
    "    epochs = 200,\n",
    "    callbacks = [call_back]\n",
    ")"
   ]
  },
  {
   "cell_type": "code",
   "execution_count": 23,
   "id": "77096a32",
   "metadata": {
    "execution": {
     "iopub.execute_input": "2022-03-20T08:00:58.742466Z",
     "iopub.status.busy": "2022-03-20T08:00:58.741829Z",
     "iopub.status.idle": "2022-03-20T08:01:50.746227Z",
     "shell.execute_reply": "2022-03-20T08:01:50.745685Z",
     "shell.execute_reply.started": "2022-03-20T06:16:20.930463Z"
    },
    "papermill": {
     "duration": 91.038749,
     "end_time": "2022-03-20T08:01:50.746376",
     "exception": false,
     "start_time": "2022-03-20T08:00:19.707627",
     "status": "completed"
    },
    "tags": []
   },
   "outputs": [],
   "source": [
    "%matplotlib inline\n",
    "\n",
    "import matplotlib.pyplot as plt"
   ]
  },
  {
   "cell_type": "code",
   "execution_count": 24,
   "id": "48638ecb",
   "metadata": {
    "execution": {
     "iopub.execute_input": "2022-03-20T08:03:08.117285Z",
     "iopub.status.busy": "2022-03-20T08:03:08.116304Z",
     "iopub.status.idle": "2022-03-20T08:03:08.530017Z",
     "shell.execute_reply": "2022-03-20T08:03:08.529494Z",
     "shell.execute_reply.started": "2022-03-20T06:16:20.932136Z"
    },
    "papermill": {
     "duration": 38.929519,
     "end_time": "2022-03-20T08:03:08.530171",
     "exception": false,
     "start_time": "2022-03-20T08:02:29.600652",
     "status": "completed"
    },
    "tags": []
   },
   "outputs": [
    {
     "data": {
      "text/plain": [
       "Text(0.5, 1.0, 'Training & validation loss')"
      ]
     },
     "execution_count": 24,
     "metadata": {},
     "output_type": "execute_result"
    },
    {
     "data": {
      "image/png": "[encoded data removed]",
      "text/plain": [
       "<Figure size 432x288 with 1 Axes>"
      ]
     },
     "metadata": {
      "needs_background": "light"
     },
     "output_type": "display_data"
    },
    {
     "data": {
      "image/png": "[encoded data removed]",
      "text/plain": [
       "<Figure size 432x288 with 1 Axes>"
      ]
     },
     "metadata": {
      "needs_background": "light"
     },
     "output_type": "display_data"
    }
   ],
   "source": [
    "acc = history.history['auc']\n",
    "val_acc = history.history['val_auc']\n",
    "loss = history.history['loss']\n",
    "val_loss = history.history['val_loss']\n",
    "\n",
    "epochs = range(len(acc))\n",
    "plt.plot(epochs, acc)\n",
    "plt.plot(epochs, val_acc)\n",
    "plt.title('Training & validation on accuracy')\n",
    "plt.figure()\n",
    "\n",
    "plt.plot(epochs,loss)\n",
    "plt.plot(epochs,val_loss)\n",
    "plt.title('Training & validation loss')"
   ]
  },
  {
   "cell_type": "code",
   "execution_count": null,
   "id": "ba2301db",
   "metadata": {
    "papermill": {
     "duration": 38.543303,
     "end_time": "2022-03-20T08:04:26.808708",
     "exception": false,
     "start_time": "2022-03-20T08:03:48.265405",
     "status": "completed"
    },
    "tags": []
   },
   "outputs": [],
   "source": []
  }
 ],
 "metadata": {
  "kernelspec": {
   "display_name": "Python 3",
   "language": "python",
   "name": "python3"
  },
  "language_info": {
   "codemirror_mode": {
    "name": "ipython",
    "version": 3
   },
   "file_extension": ".py",
   "mimetype": "text/x-python",
   "name": "python",
   "nbconvert_exporter": "python",
   "pygments_lexer": "ipython3",
   "version": "3.7.12"
  },
  "papermill": {
   "default_parameters": {},
   "duration": 6494.066108,
   "end_time": "2022-03-20T08:05:09.093310",
   "environment_variables": {},
   "exception": null,
   "input_path": "__notebook__.ipynb",
   "output_path": "__notebook__.ipynb",
   "parameters": {},
   "start_time": "2022-03-20T06:16:55.027202",
   "version": "2.3.3"
  }
 },
 "nbformat": 4,
 "nbformat_minor": 5
}
