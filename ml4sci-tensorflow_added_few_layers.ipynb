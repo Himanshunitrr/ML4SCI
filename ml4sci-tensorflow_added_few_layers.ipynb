{
 "cells": [
  {
   "cell_type": "code",
   "execution_count": 1,
   "id": "8d77b5d9",
   "metadata": {
    "_cell_guid": "b1076dfc-b9ad-4769-8c92-a6c4dae69d19",
    "_uuid": "8f2839f25d086af736a60e9eeb907d3b93b6e0e5",
    "execution": {
     "iopub.execute_input": "2022-03-20T08:45:27.893147Z",
     "iopub.status.busy": "2022-03-20T08:45:27.891634Z",
     "iopub.status.idle": "2022-03-20T08:45:28.044834Z",
     "shell.execute_reply": "2022-03-20T08:45:28.044283Z",
     "shell.execute_reply.started": "2022-03-20T06:06:28.849897Z"
    },
    "papermill": {
     "duration": 0.179641,
     "end_time": "2022-03-20T08:45:28.045010",
     "exception": false,
     "start_time": "2022-03-20T08:45:27.865369",
     "status": "completed"
    },
    "tags": []
   },
   "outputs": [],
   "source": [
    "import numpy as np\n",
    "import pandas as pd\n",
    "import h5py\n",
    "from tqdm import tqdm\n",
    "import matplotlib.pyplot as plt"
   ]
  },
  {
   "cell_type": "code",
   "execution_count": 2,
   "id": "69449b81",
   "metadata": {
    "execution": {
     "iopub.execute_input": "2022-03-20T08:45:28.105572Z",
     "iopub.status.busy": "2022-03-20T08:45:28.104839Z",
     "iopub.status.idle": "2022-03-20T08:45:28.107316Z",
     "shell.execute_reply": "2022-03-20T08:45:28.106929Z",
     "shell.execute_reply.started": "2022-03-20T06:06:28.999588Z"
    },
    "papermill": {
     "duration": 0.039247,
     "end_time": "2022-03-20T08:45:28.107422",
     "exception": false,
     "start_time": "2022-03-20T08:45:28.068175",
     "status": "completed"
    },
    "tags": []
   },
   "outputs": [],
   "source": [
    "hf_e = h5py.File('../input/ml4sci/SingleElectronPt50_IMGCROPS_n249k_RHv1.hdf5', 'r')\n",
    "electron_data_x = hf_e.get('X')\n",
    "electron_data_y = hf_e.get('y')"
   ]
  },
  {
   "cell_type": "code",
   "execution_count": 3,
   "id": "e53b8a39",
   "metadata": {
    "execution": {
     "iopub.execute_input": "2022-03-20T08:45:28.161626Z",
     "iopub.status.busy": "2022-03-20T08:45:28.160831Z",
     "iopub.status.idle": "2022-03-20T08:45:28.164377Z",
     "shell.execute_reply": "2022-03-20T08:45:28.163946Z",
     "shell.execute_reply.started": "2022-03-20T06:06:29.020539Z"
    },
    "papermill": {
     "duration": 0.035791,
     "end_time": "2022-03-20T08:45:28.164481",
     "exception": false,
     "start_time": "2022-03-20T08:45:28.128690",
     "status": "completed"
    },
    "tags": []
   },
   "outputs": [],
   "source": [
    "hf_p = h5py.File('../input/ml4sci/SinglePhotonPt50_IMGCROPS_n249k_RHv1.hdf5', 'r')\n",
    "photon_data_x = hf_p.get('X')\n",
    "photon_data_y = hf_p.get('y')"
   ]
  },
  {
   "cell_type": "code",
   "execution_count": 4,
   "id": "6ababef2",
   "metadata": {
    "execution": {
     "iopub.execute_input": "2022-03-20T08:45:28.212545Z",
     "iopub.status.busy": "2022-03-20T08:45:28.211998Z",
     "iopub.status.idle": "2022-03-20T08:45:39.239704Z",
     "shell.execute_reply": "2022-03-20T08:45:39.240200Z",
     "shell.execute_reply.started": "2022-03-20T06:06:29.035789Z"
    },
    "papermill": {
     "duration": 11.054116,
     "end_time": "2022-03-20T08:45:39.240375",
     "exception": false,
     "start_time": "2022-03-20T08:45:28.186259",
     "status": "completed"
    },
    "tags": []
   },
   "outputs": [],
   "source": [
    "electron_data_x = np.asarray(electron_data_x)\n",
    "electron_data_y = np.asarray(electron_data_y)\n",
    "\n",
    "photon_data_x = np.asarray(photon_data_x)\n",
    "photon_data_y = np.asarray(photon_data_y)"
   ]
  },
  {
   "cell_type": "code",
   "execution_count": 5,
   "id": "f0b85ef5",
   "metadata": {
    "execution": {
     "iopub.execute_input": "2022-03-20T08:45:39.288191Z",
     "iopub.status.busy": "2022-03-20T08:45:39.287480Z",
     "iopub.status.idle": "2022-03-20T08:45:39.291247Z",
     "shell.execute_reply": "2022-03-20T08:45:39.290803Z",
     "shell.execute_reply.started": "2022-03-20T06:06:40.879797Z"
    },
    "papermill": {
     "duration": 0.029461,
     "end_time": "2022-03-20T08:45:39.291357",
     "exception": false,
     "start_time": "2022-03-20T08:45:39.261896",
     "status": "completed"
    },
    "tags": []
   },
   "outputs": [
    {
     "name": "stdout",
     "output_type": "stream",
     "text": [
      "(249000, 32, 32, 2)\n",
      "(249000, 32, 32, 2)\n",
      "(249000,)\n",
      "(249000,)\n"
     ]
    }
   ],
   "source": [
    "print(electron_data_x.shape)\n",
    "print(photon_data_x.shape)\n",
    "\n",
    "print(electron_data_y.shape)\n",
    "print(photon_data_y.shape)"
   ]
  },
  {
   "cell_type": "code",
   "execution_count": 6,
   "id": "7d8df3e4",
   "metadata": {
    "execution": {
     "iopub.execute_input": "2022-03-20T08:45:39.338246Z",
     "iopub.status.busy": "2022-03-20T08:45:39.337230Z",
     "iopub.status.idle": "2022-03-20T08:45:40.783216Z",
     "shell.execute_reply": "2022-03-20T08:45:40.782651Z",
     "shell.execute_reply.started": "2022-03-20T06:06:40.887073Z"
    },
    "papermill": {
     "duration": 1.470546,
     "end_time": "2022-03-20T08:45:40.783367",
     "exception": false,
     "start_time": "2022-03-20T08:45:39.312821",
     "status": "completed"
    },
    "tags": []
   },
   "outputs": [],
   "source": [
    "X = np.concatenate((electron_data_x, photon_data_x))\n",
    "y = np.concatenate((electron_data_y, photon_data_y))"
   ]
  },
  {
   "cell_type": "code",
   "execution_count": 7,
   "id": "ce6753ae",
   "metadata": {
    "execution": {
     "iopub.execute_input": "2022-03-20T08:45:40.831823Z",
     "iopub.status.busy": "2022-03-20T08:45:40.831186Z",
     "iopub.status.idle": "2022-03-20T08:45:40.834117Z",
     "shell.execute_reply": "2022-03-20T08:45:40.834690Z",
     "shell.execute_reply.started": "2022-03-20T06:06:42.346008Z"
    },
    "papermill": {
     "duration": 0.029231,
     "end_time": "2022-03-20T08:45:40.834858",
     "exception": false,
     "start_time": "2022-03-20T08:45:40.805627",
     "status": "completed"
    },
    "tags": []
   },
   "outputs": [
    {
     "name": "stdout",
     "output_type": "stream",
     "text": [
      "(498000, 32, 32, 2)\n",
      "(498000,)\n"
     ]
    }
   ],
   "source": [
    "print(X.shape)\n",
    "print(y.shape)"
   ]
  },
  {
   "cell_type": "code",
   "execution_count": 8,
   "id": "765b92e3",
   "metadata": {
    "execution": {
     "iopub.execute_input": "2022-03-20T08:45:40.886671Z",
     "iopub.status.busy": "2022-03-20T08:45:40.885806Z",
     "iopub.status.idle": "2022-03-20T08:45:40.889197Z",
     "shell.execute_reply": "2022-03-20T08:45:40.889619Z",
     "shell.execute_reply.started": "2022-03-20T06:06:42.35475Z"
    },
    "papermill": {
     "duration": 0.029959,
     "end_time": "2022-03-20T08:45:40.889745",
     "exception": false,
     "start_time": "2022-03-20T08:45:40.859786",
     "status": "completed"
    },
    "tags": []
   },
   "outputs": [],
   "source": [
    "# X_vis = X[:5]\n",
    "\n",
    "# fig, axes = plt.subplots(nrows=len(X_vis), ncols=2, figsize=(48, 48))\n",
    "# for i in range(len(X_vis)):\n",
    "\n",
    "#     axes[i][0].imshow(X_vis[i,:,:,0])\n",
    "#     axes[i][1].imshow(X_vis[i,:,:,1])\n",
    "\n"
   ]
  },
  {
   "cell_type": "code",
   "execution_count": 9,
   "id": "8b62a9b2",
   "metadata": {
    "execution": {
     "iopub.execute_input": "2022-03-20T08:45:40.940173Z",
     "iopub.status.busy": "2022-03-20T08:45:40.939378Z",
     "iopub.status.idle": "2022-03-20T08:45:45.403964Z",
     "shell.execute_reply": "2022-03-20T08:45:45.403069Z",
     "shell.execute_reply.started": "2022-03-20T06:06:42.36167Z"
    },
    "papermill": {
     "duration": 4.490671,
     "end_time": "2022-03-20T08:45:45.404105",
     "exception": false,
     "start_time": "2022-03-20T08:45:40.913434",
     "status": "completed"
    },
    "tags": []
   },
   "outputs": [],
   "source": [
    "from sklearn.utils import shuffle\n",
    "X, y = shuffle(X, y, random_state=0)\n",
    "X, y = shuffle(X, y, random_state=0) #really random "
   ]
  },
  {
   "cell_type": "code",
   "execution_count": 10,
   "id": "e9f3a51f",
   "metadata": {
    "execution": {
     "iopub.execute_input": "2022-03-20T08:45:45.454598Z",
     "iopub.status.busy": "2022-03-20T08:45:45.453007Z",
     "iopub.status.idle": "2022-03-20T08:45:45.455179Z",
     "shell.execute_reply": "2022-03-20T08:45:45.455577Z",
     "shell.execute_reply.started": "2022-03-20T06:06:46.838197Z"
    },
    "papermill": {
     "duration": 0.028128,
     "end_time": "2022-03-20T08:45:45.455701",
     "exception": false,
     "start_time": "2022-03-20T08:45:45.427573",
     "status": "completed"
    },
    "tags": []
   },
   "outputs": [],
   "source": [
    "# mean = 0.015\n",
    "# std = 0.297"
   ]
  },
  {
   "cell_type": "code",
   "execution_count": 11,
   "id": "55437cfb",
   "metadata": {
    "execution": {
     "iopub.execute_input": "2022-03-20T08:45:45.505313Z",
     "iopub.status.busy": "2022-03-20T08:45:45.504508Z",
     "iopub.status.idle": "2022-03-20T08:45:45.508668Z",
     "shell.execute_reply": "2022-03-20T08:45:45.509219Z",
     "shell.execute_reply.started": "2022-03-20T06:06:46.844134Z"
    },
    "papermill": {
     "duration": 0.031973,
     "end_time": "2022-03-20T08:45:45.509389",
     "exception": false,
     "start_time": "2022-03-20T08:45:45.477416",
     "status": "completed"
    },
    "tags": []
   },
   "outputs": [
    {
     "name": "stdout",
     "output_type": "stream",
     "text": [
      "(496900, 32, 32, 2)\n",
      "(1000, 32, 32, 2)\n",
      "(100, 32, 32, 2)\n"
     ]
    }
   ],
   "source": [
    "X_train = X[:496900]\n",
    "X_val = X[496900:497900]\n",
    "X_test = X[497900:]\n",
    "\n",
    "print(X_train.shape)\n",
    "print(X_val.shape)\n",
    "print(X_test.shape)"
   ]
  },
  {
   "cell_type": "code",
   "execution_count": 12,
   "id": "08a257d8",
   "metadata": {
    "execution": {
     "iopub.execute_input": "2022-03-20T08:45:45.558946Z",
     "iopub.status.busy": "2022-03-20T08:45:45.558427Z",
     "iopub.status.idle": "2022-03-20T08:45:45.563386Z",
     "shell.execute_reply": "2022-03-20T08:45:45.562675Z",
     "shell.execute_reply.started": "2022-03-20T06:06:46.858278Z"
    },
    "papermill": {
     "duration": 0.031364,
     "end_time": "2022-03-20T08:45:45.563527",
     "exception": false,
     "start_time": "2022-03-20T08:45:45.532163",
     "status": "completed"
    },
    "tags": []
   },
   "outputs": [
    {
     "name": "stdout",
     "output_type": "stream",
     "text": [
      "(496900,)\n",
      "(1000,)\n",
      "(100,)\n"
     ]
    }
   ],
   "source": [
    "y_train = y[:496900]\n",
    "y_val = y[496900:497900]\n",
    "y_test = y[497900:]\n",
    "\n",
    "print(y_train.shape)\n",
    "print(y_val.shape)\n",
    "print(y_test.shape)"
   ]
  },
  {
   "cell_type": "code",
   "execution_count": 13,
   "id": "61f24b47",
   "metadata": {
    "execution": {
     "iopub.execute_input": "2022-03-20T08:45:45.612133Z",
     "iopub.status.busy": "2022-03-20T08:45:45.611409Z",
     "iopub.status.idle": "2022-03-20T08:45:45.613794Z",
     "shell.execute_reply": "2022-03-20T08:45:45.613353Z",
     "shell.execute_reply.started": "2022-03-20T06:06:46.86835Z"
    },
    "papermill": {
     "duration": 0.027659,
     "end_time": "2022-03-20T08:45:45.613936",
     "exception": false,
     "start_time": "2022-03-20T08:45:45.586277",
     "status": "completed"
    },
    "tags": []
   },
   "outputs": [],
   "source": [
    "# model = CreateModel()\n",
    "# model.to(Config['DEVICE'])"
   ]
  },
  {
   "cell_type": "code",
   "execution_count": 14,
   "id": "0a2d90f9",
   "metadata": {
    "execution": {
     "iopub.execute_input": "2022-03-20T08:45:45.662088Z",
     "iopub.status.busy": "2022-03-20T08:45:45.661365Z",
     "iopub.status.idle": "2022-03-20T08:45:45.663352Z",
     "shell.execute_reply": "2022-03-20T08:45:45.663720Z",
     "shell.execute_reply.started": "2022-03-20T06:06:46.879426Z"
    },
    "papermill": {
     "duration": 0.027629,
     "end_time": "2022-03-20T08:45:45.663842",
     "exception": false,
     "start_time": "2022-03-20T08:45:45.636213",
     "status": "completed"
    },
    "tags": []
   },
   "outputs": [],
   "source": [
    "batch_size = 32\n",
    "img_size = 32"
   ]
  },
  {
   "cell_type": "code",
   "execution_count": 15,
   "id": "7c88073d",
   "metadata": {
    "execution": {
     "iopub.execute_input": "2022-03-20T08:45:45.711353Z",
     "iopub.status.busy": "2022-03-20T08:45:45.710687Z",
     "iopub.status.idle": "2022-03-20T08:45:45.713307Z",
     "shell.execute_reply": "2022-03-20T08:45:45.712861Z",
     "shell.execute_reply.started": "2022-03-20T06:06:46.885491Z"
    },
    "papermill": {
     "duration": 0.027606,
     "end_time": "2022-03-20T08:45:45.713407",
     "exception": false,
     "start_time": "2022-03-20T08:45:45.685801",
     "status": "completed"
    },
    "tags": []
   },
   "outputs": [],
   "source": [
    "# from sklearn.preprocessing import normalize\n",
    "# normed_matrix = normalize(X, axis=1, norm='l1')"
   ]
  },
  {
   "cell_type": "code",
   "execution_count": 16,
   "id": "f171608b",
   "metadata": {
    "execution": {
     "iopub.execute_input": "2022-03-20T08:45:45.761300Z",
     "iopub.status.busy": "2022-03-20T08:45:45.760645Z",
     "iopub.status.idle": "2022-03-20T08:45:45.762695Z",
     "shell.execute_reply": "2022-03-20T08:45:45.763091Z",
     "shell.execute_reply.started": "2022-03-20T06:06:46.894369Z"
    },
    "papermill": {
     "duration": 0.027497,
     "end_time": "2022-03-20T08:45:45.763212",
     "exception": false,
     "start_time": "2022-03-20T08:45:45.735715",
     "status": "completed"
    },
    "tags": []
   },
   "outputs": [],
   "source": [
    "# X = np.linalg.norm(X, axis = 1, keepdims = True)"
   ]
  },
  {
   "cell_type": "code",
   "execution_count": 17,
   "id": "26716540",
   "metadata": {
    "execution": {
     "iopub.execute_input": "2022-03-20T08:45:45.811243Z",
     "iopub.status.busy": "2022-03-20T08:45:45.809625Z",
     "iopub.status.idle": "2022-03-20T08:45:50.461798Z",
     "shell.execute_reply": "2022-03-20T08:45:50.461330Z",
     "shell.execute_reply.started": "2022-03-20T06:06:46.902629Z"
    },
    "papermill": {
     "duration": 4.676731,
     "end_time": "2022-03-20T08:45:50.461961",
     "exception": false,
     "start_time": "2022-03-20T08:45:45.785230",
     "status": "completed"
    },
    "tags": []
   },
   "outputs": [],
   "source": [
    "from tensorflow.keras.preprocessing.image import ImageDataGenerator\n",
    "\n",
    "datagen = ImageDataGenerator()\n",
    "\n",
    "# datagen = ImageDataGenerator(\n",
    "#     featurewise_std_normalization=True,\n",
    "# )\n",
    "# datagen.fit(X_train)\n",
    "# datagen.fit(X_val)\n",
    "# datagen.fit(X_test)"
   ]
  },
  {
   "cell_type": "code",
   "execution_count": 18,
   "id": "343b3501",
   "metadata": {
    "execution": {
     "iopub.execute_input": "2022-03-20T08:45:50.518192Z",
     "iopub.status.busy": "2022-03-20T08:45:50.517519Z",
     "iopub.status.idle": "2022-03-20T08:45:52.980990Z",
     "shell.execute_reply": "2022-03-20T08:45:52.981577Z",
     "shell.execute_reply.started": "2022-03-20T06:06:51.58011Z"
    },
    "papermill": {
     "duration": 2.497057,
     "end_time": "2022-03-20T08:45:52.981782",
     "exception": false,
     "start_time": "2022-03-20T08:45:50.484725",
     "status": "completed"
    },
    "tags": []
   },
   "outputs": [
    {
     "name": "stderr",
     "output_type": "stream",
     "text": [
      "2022-03-20 08:45:50.605442: I tensorflow/stream_executor/cuda/cuda_gpu_executor.cc:937] successful NUMA node read from SysFS had negative value (-1), but there must be at least one NUMA node, so returning NUMA node zero\n",
      "2022-03-20 08:45:50.699778: I tensorflow/stream_executor/cuda/cuda_gpu_executor.cc:937] successful NUMA node read from SysFS had negative value (-1), but there must be at least one NUMA node, so returning NUMA node zero\n",
      "2022-03-20 08:45:50.700480: I tensorflow/stream_executor/cuda/cuda_gpu_executor.cc:937] successful NUMA node read from SysFS had negative value (-1), but there must be at least one NUMA node, so returning NUMA node zero\n",
      "2022-03-20 08:45:50.701696: I tensorflow/core/platform/cpu_feature_guard.cc:142] This TensorFlow binary is optimized with oneAPI Deep Neural Network Library (oneDNN) to use the following CPU instructions in performance-critical operations:  AVX2 AVX512F FMA\n",
      "To enable them in other operations, rebuild TensorFlow with the appropriate compiler flags.\n",
      "2022-03-20 08:45:50.702837: I tensorflow/stream_executor/cuda/cuda_gpu_executor.cc:937] successful NUMA node read from SysFS had negative value (-1), but there must be at least one NUMA node, so returning NUMA node zero\n",
      "2022-03-20 08:45:50.703526: I tensorflow/stream_executor/cuda/cuda_gpu_executor.cc:937] successful NUMA node read from SysFS had negative value (-1), but there must be at least one NUMA node, so returning NUMA node zero\n",
      "2022-03-20 08:45:50.704166: I tensorflow/stream_executor/cuda/cuda_gpu_executor.cc:937] successful NUMA node read from SysFS had negative value (-1), but there must be at least one NUMA node, so returning NUMA node zero\n",
      "2022-03-20 08:45:52.563355: I tensorflow/stream_executor/cuda/cuda_gpu_executor.cc:937] successful NUMA node read from SysFS had negative value (-1), but there must be at least one NUMA node, so returning NUMA node zero\n",
      "2022-03-20 08:45:52.564645: I tensorflow/stream_executor/cuda/cuda_gpu_executor.cc:937] successful NUMA node read from SysFS had negative value (-1), but there must be at least one NUMA node, so returning NUMA node zero\n",
      "2022-03-20 08:45:52.565749: I tensorflow/stream_executor/cuda/cuda_gpu_executor.cc:937] successful NUMA node read from SysFS had negative value (-1), but there must be at least one NUMA node, so returning NUMA node zero\n",
      "2022-03-20 08:45:52.566814: I tensorflow/core/common_runtime/gpu/gpu_device.cc:1510] Created device /job:localhost/replica:0/task:0/device:GPU:0 with 15403 MB memory:  -> device: 0, name: Tesla P100-PCIE-16GB, pci bus id: 0000:00:04.0, compute capability: 6.0\n"
     ]
    }
   ],
   "source": [
    "import tensorflow as tf\n",
    "model = tf.keras.models.Sequential([\n",
    "\n",
    "    tf.keras.layers.Normalization(),\n",
    "    tf.keras.layers.Conv2D(32, 2, padding='same', activation='relu', input_shape=(img_size, img_size, 2)),\n",
    "    tf.keras.layers.MaxPooling2D(pool_size=(2, 2), padding='same',),\n",
    "    \n",
    "\n",
    "    tf.keras.layers.Conv2D(64, 2, padding='same',activation='relu'),\n",
    "    tf.keras.layers.MaxPooling2D(pool_size=(2, 2), padding='same'),\n",
    "   \n",
    "\n",
    "    tf.keras.layers.Conv2D(64, 3,padding='same', activation='relu'),\n",
    "    tf.keras.layers.MaxPooling2D(pool_size=(2, 2)),\n",
    "  \n",
    "\n",
    "    tf.keras.layers.Conv2D(64, 3,padding='same', activation='relu'),\n",
    "    tf.keras.layers.MaxPooling2D(pool_size=(2, 2)),\n",
    "    \n",
    "    tf.keras.layers.Conv2D(64, 3,padding='same', activation='relu'),\n",
    "    tf.keras.layers.MaxPooling2D(pool_size=(2, 2)),\n",
    "\n",
    "    tf.keras.layers.Flatten(),\n",
    "    tf.keras.layers.Dense(512, activation='relu'),\n",
    "    tf.keras.layers.Dropout(0.2),\n",
    "    tf.keras.layers.BatchNormalization(),\n",
    "    tf.keras.layers.Dense(1024, activation='relu'),\n",
    "    tf.keras.layers.BatchNormalization(),\n",
    "    tf.keras.layers.Dropout(0.2),\n",
    "    tf.keras.layers.Dense(512, activation='relu'),\n",
    "    tf.keras.layers.Dropout(0.2),\n",
    "    tf.keras.layers.Dense(128, activation='relu'),\n",
    "    \n",
    "    \n",
    "    tf.keras.layers.Dense(1, activation='sigmoid')\n",
    "\n",
    "    \n",
    "])"
   ]
  },
  {
   "cell_type": "code",
   "execution_count": 19,
   "id": "6b4f7540",
   "metadata": {
    "execution": {
     "iopub.execute_input": "2022-03-20T08:45:53.047247Z",
     "iopub.status.busy": "2022-03-20T08:45:53.046462Z",
     "iopub.status.idle": "2022-03-20T08:45:53.063554Z",
     "shell.execute_reply": "2022-03-20T08:45:53.062711Z",
     "shell.execute_reply.started": "2022-03-20T06:06:54.10752Z"
    },
    "papermill": {
     "duration": 0.044048,
     "end_time": "2022-03-20T08:45:53.063669",
     "exception": false,
     "start_time": "2022-03-20T08:45:53.019621",
     "status": "completed"
    },
    "tags": []
   },
   "outputs": [],
   "source": [
    "from tensorflow.keras.optimizers import Adam\n",
    "\n",
    "model.compile(\n",
    "    loss='binary_crossentropy',\n",
    "    optimizer=Adam(learning_rate=0.001),\n",
    "    metrics=['AUC']\n",
    ")"
   ]
  },
  {
   "cell_type": "code",
   "execution_count": 20,
   "id": "f7dbc58b",
   "metadata": {
    "execution": {
     "iopub.execute_input": "2022-03-20T08:45:53.112810Z",
     "iopub.status.busy": "2022-03-20T08:45:53.112154Z",
     "iopub.status.idle": "2022-03-20T08:45:53.114757Z",
     "shell.execute_reply": "2022-03-20T08:45:53.114313Z",
     "shell.execute_reply.started": "2022-03-20T06:06:54.136109Z"
    },
    "papermill": {
     "duration": 0.028729,
     "end_time": "2022-03-20T08:45:53.114858",
     "exception": false,
     "start_time": "2022-03-20T08:45:53.086129",
     "status": "completed"
    },
    "tags": []
   },
   "outputs": [],
   "source": [
    "call_back = tf.keras.callbacks.EarlyStopping(patience=100, restore_best_weights=True)"
   ]
  },
  {
   "cell_type": "code",
   "execution_count": 21,
   "id": "a8d304cd",
   "metadata": {
    "execution": {
     "iopub.execute_input": "2022-03-20T08:45:53.164791Z",
     "iopub.status.busy": "2022-03-20T08:45:53.163286Z",
     "iopub.status.idle": "2022-03-20T08:45:53.165397Z",
     "shell.execute_reply": "2022-03-20T08:45:53.165790Z",
     "shell.execute_reply.started": "2022-03-20T06:06:54.142357Z"
    },
    "papermill": {
     "duration": 0.028225,
     "end_time": "2022-03-20T08:45:53.165931",
     "exception": false,
     "start_time": "2022-03-20T08:45:53.137706",
     "status": "completed"
    },
    "tags": []
   },
   "outputs": [],
   "source": [
    "labels = [0,1]"
   ]
  },
  {
   "cell_type": "code",
   "execution_count": 22,
   "id": "5b98510b",
   "metadata": {
    "execution": {
     "iopub.execute_input": "2022-03-20T08:45:53.219327Z",
     "iopub.status.busy": "2022-03-20T08:45:53.218550Z",
     "iopub.status.idle": "2022-03-20T13:00:40.868123Z",
     "shell.execute_reply": "2022-03-20T13:00:40.868519Z",
     "shell.execute_reply.started": "2022-03-20T06:06:54.150458Z"
    },
    "papermill": {
     "duration": 15287.680319,
     "end_time": "2022-03-20T13:00:40.868688",
     "exception": false,
     "start_time": "2022-03-20T08:45:53.188369",
     "status": "completed"
    },
    "tags": []
   },
   "outputs": [
    {
     "name": "stderr",
     "output_type": "stream",
     "text": [
      "/opt/conda/lib/python3.7/site-packages/keras_preprocessing/image/numpy_array_iterator.py:136: UserWarning: NumpyArrayIterator is set to use the data format convention \"channels_last\" (channels on axis 3), i.e. expected either 1, 3, or 4 channels on axis 3. However, it was passed an array with shape (496900, 32, 32, 2) (2 channels).\n",
      "  str(self.x.shape[channels_axis]) + ' channels).')\n",
      "/opt/conda/lib/python3.7/site-packages/keras_preprocessing/image/numpy_array_iterator.py:136: UserWarning: NumpyArrayIterator is set to use the data format convention \"channels_last\" (channels on axis 3), i.e. expected either 1, 3, or 4 channels on axis 3. However, it was passed an array with shape (1000, 32, 32, 2) (2 channels).\n",
      "  str(self.x.shape[channels_axis]) + ' channels).')\n",
      "2022-03-20 08:45:54.075835: I tensorflow/stream_executor/cuda/cuda_dnn.cc:369] Loaded cuDNN version 8005\n",
      "2022-03-20 08:45:59.081269: I tensorflow/compiler/mlir/mlir_graph_optimization_pass.cc:185] None of the MLIR Optimization Passes are enabled (registered 2)\n"
     ]
    },
    {
     "name": "stdout",
     "output_type": "stream",
     "text": [
      "Epoch 1/200\n",
      "15529/15529 [==============================] - 124s 8ms/step - loss: 0.6145 - auc: 0.7215 - val_loss: 0.6342 - val_auc: 0.7268\n",
      "Epoch 2/200\n",
      "15529/15529 [==============================] - 122s 8ms/step - loss: 0.5885 - auc: 0.7535 - val_loss: 0.6027 - val_auc: 0.7505\n",
      "Epoch 3/200\n",
      "15529/15529 [==============================] - 126s 8ms/step - loss: 0.5804 - auc: 0.7627 - val_loss: 0.5957 - val_auc: 0.7661\n",
      "Epoch 4/200\n",
      "15529/15529 [==============================] - 129s 8ms/step - loss: 0.5749 - auc: 0.7688 - val_loss: 0.5739 - val_auc: 0.7739\n",
      "Epoch 5/200\n",
      "15529/15529 [==============================] - 128s 8ms/step - loss: 0.5710 - auc: 0.7729 - val_loss: 0.5748 - val_auc: 0.7756\n",
      "Epoch 6/200\n",
      "15529/15529 [==============================] - 126s 8ms/step - loss: 0.5684 - auc: 0.7757 - val_loss: 0.6210 - val_auc: 0.7593\n",
      "Epoch 7/200\n",
      "15529/15529 [==============================] - 125s 8ms/step - loss: 0.5658 - auc: 0.7784 - val_loss: 0.6414 - val_auc: 0.7528\n",
      "Epoch 8/200\n",
      "15529/15529 [==============================] - 126s 8ms/step - loss: 0.5635 - auc: 0.7808 - val_loss: 0.5653 - val_auc: 0.7876\n",
      "Epoch 9/200\n",
      "15529/15529 [==============================] - 129s 8ms/step - loss: 0.5622 - auc: 0.7821 - val_loss: 0.5791 - val_auc: 0.7680\n",
      "Epoch 10/200\n",
      "15529/15529 [==============================] - 126s 8ms/step - loss: 0.5607 - auc: 0.7836 - val_loss: 0.6453 - val_auc: 0.7452\n",
      "Epoch 11/200\n",
      "15529/15529 [==============================] - 125s 8ms/step - loss: 0.5596 - auc: 0.7846 - val_loss: 0.5813 - val_auc: 0.7792\n",
      "Epoch 12/200\n",
      "15529/15529 [==============================] - 126s 8ms/step - loss: 0.5584 - auc: 0.7857 - val_loss: 0.5635 - val_auc: 0.7853\n",
      "Epoch 13/200\n",
      "15529/15529 [==============================] - 127s 8ms/step - loss: 0.5583 - auc: 0.7859 - val_loss: 0.5866 - val_auc: 0.7779\n",
      "Epoch 14/200\n",
      "15529/15529 [==============================] - 127s 8ms/step - loss: 0.5572 - auc: 0.7868 - val_loss: 0.5661 - val_auc: 0.7843\n",
      "Epoch 15/200\n",
      "15529/15529 [==============================] - 127s 8ms/step - loss: 0.5579 - auc: 0.7863 - val_loss: 0.5609 - val_auc: 0.7884\n",
      "Epoch 16/200\n",
      "15529/15529 [==============================] - 126s 8ms/step - loss: 0.5566 - auc: 0.7876 - val_loss: 0.6031 - val_auc: 0.7581\n",
      "Epoch 17/200\n",
      "15529/15529 [==============================] - 121s 8ms/step - loss: 0.5559 - auc: 0.7883 - val_loss: 0.5664 - val_auc: 0.7848\n",
      "Epoch 18/200\n",
      "15529/15529 [==============================] - 128s 8ms/step - loss: 0.5550 - auc: 0.7891 - val_loss: 0.5668 - val_auc: 0.7862\n",
      "Epoch 19/200\n",
      "15529/15529 [==============================] - 130s 8ms/step - loss: 0.5552 - auc: 0.7888 - val_loss: 0.5561 - val_auc: 0.7897\n",
      "Epoch 20/200\n",
      "15529/15529 [==============================] - 130s 8ms/step - loss: 0.5550 - auc: 0.7890 - val_loss: 0.5738 - val_auc: 0.7833\n",
      "Epoch 21/200\n",
      "15529/15529 [==============================] - 120s 8ms/step - loss: 0.5545 - auc: 0.7894 - val_loss: 0.5610 - val_auc: 0.7874\n",
      "Epoch 22/200\n",
      "15529/15529 [==============================] - 132s 8ms/step - loss: 0.5548 - auc: 0.7892 - val_loss: 0.5863 - val_auc: 0.7741\n",
      "Epoch 23/200\n",
      "15529/15529 [==============================] - 119s 8ms/step - loss: 0.5543 - auc: 0.7898 - val_loss: 0.6145 - val_auc: 0.7864\n",
      "Epoch 24/200\n",
      "15529/15529 [==============================] - 133s 9ms/step - loss: 0.5534 - auc: 0.7907 - val_loss: 0.5900 - val_auc: 0.7794\n",
      "Epoch 25/200\n",
      "15529/15529 [==============================] - 120s 8ms/step - loss: 0.5534 - auc: 0.7907 - val_loss: 0.5660 - val_auc: 0.7839\n",
      "Epoch 26/200\n",
      "15529/15529 [==============================] - 125s 8ms/step - loss: 0.5521 - auc: 0.7919 - val_loss: 0.5698 - val_auc: 0.7805\n",
      "Epoch 27/200\n",
      "15529/15529 [==============================] - 120s 8ms/step - loss: 0.5538 - auc: 0.7903 - val_loss: 0.5687 - val_auc: 0.7860\n",
      "Epoch 28/200\n",
      "15529/15529 [==============================] - 121s 8ms/step - loss: 0.5526 - auc: 0.7915 - val_loss: 0.5646 - val_auc: 0.7859\n",
      "Epoch 29/200\n",
      "15529/15529 [==============================] - 134s 9ms/step - loss: 0.5536 - auc: 0.7904 - val_loss: 0.5672 - val_auc: 0.7853\n",
      "Epoch 30/200\n",
      "15529/15529 [==============================] - 119s 8ms/step - loss: 0.5529 - auc: 0.7911 - val_loss: 0.5910 - val_auc: 0.7811\n",
      "Epoch 31/200\n",
      "15529/15529 [==============================] - 135s 9ms/step - loss: 0.5540 - auc: 0.7900 - val_loss: 0.5656 - val_auc: 0.7878\n",
      "Epoch 32/200\n",
      "15529/15529 [==============================] - 121s 8ms/step - loss: 0.5527 - auc: 0.7912 - val_loss: 0.5705 - val_auc: 0.7800\n",
      "Epoch 33/200\n",
      "15529/15529 [==============================] - 139s 9ms/step - loss: 0.5525 - auc: 0.7915 - val_loss: 0.5733 - val_auc: 0.7804\n",
      "Epoch 34/200\n",
      "15529/15529 [==============================] - 122s 8ms/step - loss: 0.5523 - auc: 0.7915 - val_loss: 0.5627 - val_auc: 0.7817\n",
      "Epoch 35/200\n",
      "15529/15529 [==============================] - 135s 9ms/step - loss: 0.5520 - auc: 0.7920 - val_loss: 0.5891 - val_auc: 0.7805\n",
      "Epoch 36/200\n",
      "15529/15529 [==============================] - 126s 8ms/step - loss: 0.5527 - auc: 0.7912 - val_loss: 0.5822 - val_auc: 0.7805\n",
      "Epoch 37/200\n",
      "15529/15529 [==============================] - 122s 8ms/step - loss: 0.5518 - auc: 0.7923 - val_loss: 0.5667 - val_auc: 0.7890\n",
      "Epoch 38/200\n",
      "15529/15529 [==============================] - 142s 9ms/step - loss: 0.5509 - auc: 0.7929 - val_loss: 0.7226 - val_auc: 0.7720\n",
      "Epoch 39/200\n",
      "15529/15529 [==============================] - 122s 8ms/step - loss: 0.5513 - auc: 0.7927 - val_loss: 0.5652 - val_auc: 0.7829\n",
      "Epoch 40/200\n",
      "15529/15529 [==============================] - 121s 8ms/step - loss: 0.5507 - auc: 0.7934 - val_loss: 0.7351 - val_auc: 0.6607\n",
      "Epoch 41/200\n",
      "15529/15529 [==============================] - 121s 8ms/step - loss: 0.5537 - auc: 0.7904 - val_loss: 0.5683 - val_auc: 0.7849\n",
      "Epoch 42/200\n",
      "15529/15529 [==============================] - 144s 9ms/step - loss: 0.5522 - auc: 0.7918 - val_loss: 0.5595 - val_auc: 0.7897\n",
      "Epoch 43/200\n",
      "15529/15529 [==============================] - 120s 8ms/step - loss: 0.5527 - auc: 0.7913 - val_loss: 0.5746 - val_auc: 0.7822\n",
      "Epoch 44/200\n",
      "15529/15529 [==============================] - 119s 8ms/step - loss: 0.5511 - auc: 0.7929 - val_loss: 0.5642 - val_auc: 0.7929\n",
      "Epoch 45/200\n",
      "15529/15529 [==============================] - 120s 8ms/step - loss: 0.5498 - auc: 0.7941 - val_loss: 0.5671 - val_auc: 0.7901\n",
      "Epoch 46/200\n",
      "15529/15529 [==============================] - 145s 9ms/step - loss: 0.5504 - auc: 0.7935 - val_loss: 0.5589 - val_auc: 0.7901\n",
      "Epoch 47/200\n",
      "15529/15529 [==============================] - 120s 8ms/step - loss: 0.5501 - auc: 0.7938 - val_loss: 1.1069 - val_auc: 0.7863\n",
      "Epoch 48/200\n",
      "15529/15529 [==============================] - 119s 8ms/step - loss: 0.5549 - auc: 0.7891 - val_loss: 16.3722 - val_auc: 0.7846\n",
      "Epoch 49/200\n",
      "15529/15529 [==============================] - 120s 8ms/step - loss: 0.5552 - auc: 0.7890 - val_loss: 0.5913 - val_auc: 0.7759\n",
      "Epoch 50/200\n",
      "15529/15529 [==============================] - 124s 8ms/step - loss: 0.5606 - auc: 0.7835 - val_loss: 0.5623 - val_auc: 0.7880\n",
      "Epoch 51/200\n",
      "15529/15529 [==============================] - 145s 9ms/step - loss: 0.5517 - auc: 0.7922 - val_loss: 0.6124 - val_auc: 0.7869\n",
      "Epoch 52/200\n",
      "15529/15529 [==============================] - 120s 8ms/step - loss: 0.5507 - auc: 0.7932 - val_loss: 3.1933 - val_auc: 0.7820\n",
      "Epoch 53/200\n",
      "15529/15529 [==============================] - 119s 8ms/step - loss: 0.5515 - auc: 0.7926 - val_loss: 1.5909 - val_auc: 0.7855\n",
      "Epoch 54/200\n",
      "15529/15529 [==============================] - 120s 8ms/step - loss: 0.5546 - auc: 0.7895 - val_loss: 0.7707 - val_auc: 0.7678\n",
      "Epoch 55/200\n",
      "15529/15529 [==============================] - 151s 10ms/step - loss: 0.5565 - auc: 0.7876 - val_loss: 6.3359 - val_auc: 0.7799\n",
      "Epoch 56/200\n",
      "15529/15529 [==============================] - 119s 8ms/step - loss: 0.5553 - auc: 0.7890 - val_loss: 9.3738 - val_auc: 0.7575\n",
      "Epoch 57/200\n",
      "15529/15529 [==============================] - 120s 8ms/step - loss: 0.5584 - auc: 0.7859 - val_loss: 1.6721 - val_auc: 0.7756\n",
      "Epoch 58/200\n",
      "15529/15529 [==============================] - 120s 8ms/step - loss: 0.5562 - auc: 0.7879 - val_loss: 0.5795 - val_auc: 0.7877\n",
      "Epoch 59/200\n",
      "15529/15529 [==============================] - 139s 9ms/step - loss: 0.5569 - auc: 0.7872 - val_loss: 0.5771 - val_auc: 0.7874\n",
      "Epoch 60/200\n",
      "15529/15529 [==============================] - 134s 9ms/step - loss: 0.5536 - auc: 0.7907 - val_loss: 0.6238 - val_auc: 0.7843\n",
      "Epoch 61/200\n",
      "15529/15529 [==============================] - 121s 8ms/step - loss: 0.5526 - auc: 0.7915 - val_loss: 1.1368 - val_auc: 0.7871\n",
      "Epoch 62/200\n",
      "15529/15529 [==============================] - 119s 8ms/step - loss: 0.5529 - auc: 0.7912 - val_loss: 0.5795 - val_auc: 0.7832\n",
      "Epoch 63/200\n",
      "15529/15529 [==============================] - 119s 8ms/step - loss: 0.5520 - auc: 0.7920 - val_loss: 4.3986 - val_auc: 0.7825\n",
      "Epoch 64/200\n",
      "15529/15529 [==============================] - 157s 10ms/step - loss: 0.5529 - auc: 0.7912 - val_loss: 3.2904 - val_auc: 0.7828\n",
      "Epoch 65/200\n",
      "15529/15529 [==============================] - 120s 8ms/step - loss: 0.5569 - auc: 0.7871 - val_loss: 0.7999 - val_auc: 0.7909\n",
      "Epoch 66/200\n",
      "15529/15529 [==============================] - 119s 8ms/step - loss: 0.5584 - auc: 0.7858 - val_loss: 3.7149 - val_auc: 0.7744\n",
      "Epoch 67/200\n",
      "15529/15529 [==============================] - 122s 8ms/step - loss: 0.5607 - auc: 0.7835 - val_loss: 3.8121 - val_auc: 0.7598\n",
      "Epoch 68/200\n",
      "15529/15529 [==============================] - 137s 9ms/step - loss: 0.5547 - auc: 0.7894 - val_loss: 0.5699 - val_auc: 0.7863\n",
      "Epoch 69/200\n",
      "15529/15529 [==============================] - 144s 9ms/step - loss: 0.5603 - auc: 0.7842 - val_loss: 1.5588 - val_auc: 0.7802\n",
      "Epoch 70/200\n",
      "15529/15529 [==============================] - 120s 8ms/step - loss: 0.5558 - auc: 0.7884 - val_loss: 140.9965 - val_auc: 0.7787\n",
      "Epoch 71/200\n",
      "15529/15529 [==============================] - 121s 8ms/step - loss: 0.5555 - auc: 0.7885 - val_loss: 1.0210 - val_auc: 0.7877\n",
      "Epoch 72/200\n",
      "15529/15529 [==============================] - 120s 8ms/step - loss: 0.5513 - auc: 0.7925 - val_loss: 0.7640 - val_auc: 0.7836\n",
      "Epoch 73/200\n",
      "15529/15529 [==============================] - 161s 10ms/step - loss: 0.5523 - auc: 0.7918 - val_loss: 1.1809 - val_auc: 0.7834\n",
      "Epoch 74/200\n",
      "15529/15529 [==============================] - 120s 8ms/step - loss: 0.5545 - auc: 0.7895 - val_loss: 1.5297 - val_auc: 0.7787\n",
      "Epoch 75/200\n",
      "15529/15529 [==============================] - 119s 8ms/step - loss: 0.5533 - auc: 0.7907 - val_loss: 0.5587 - val_auc: 0.7904\n",
      "Epoch 76/200\n",
      "15529/15529 [==============================] - 121s 8ms/step - loss: 0.5540 - auc: 0.7903 - val_loss: 139.7469 - val_auc: 0.7579\n",
      "Epoch 77/200\n",
      "15529/15529 [==============================] - 124s 8ms/step - loss: 0.5534 - auc: 0.7908 - val_loss: 0.8408 - val_auc: 0.7920\n",
      "Epoch 78/200\n",
      "15529/15529 [==============================] - 147s 9ms/step - loss: 0.5520 - auc: 0.7921 - val_loss: 8.4527 - val_auc: 0.7779\n",
      "Epoch 79/200\n",
      "15529/15529 [==============================] - 121s 8ms/step - loss: 0.5511 - auc: 0.7929 - val_loss: 0.5572 - val_auc: 0.7918\n",
      "Epoch 80/200\n",
      "15529/15529 [==============================] - 120s 8ms/step - loss: 0.5505 - auc: 0.7935 - val_loss: 1.3590 - val_auc: 0.7816\n",
      "Epoch 81/200\n",
      "15529/15529 [==============================] - 120s 8ms/step - loss: 0.5573 - auc: 0.7869 - val_loss: 0.5901 - val_auc: 0.7635\n",
      "Epoch 82/200\n",
      "15529/15529 [==============================] - 156s 10ms/step - loss: 0.5537 - auc: 0.7903 - val_loss: 7.6452 - val_auc: 0.7777\n",
      "Epoch 83/200\n",
      "15529/15529 [==============================] - 120s 8ms/step - loss: 0.5535 - auc: 0.7907 - val_loss: 101.7354 - val_auc: 0.7897\n",
      "Epoch 84/200\n",
      "15529/15529 [==============================] - 119s 8ms/step - loss: 0.5511 - auc: 0.7929 - val_loss: 0.8737 - val_auc: 0.7868\n",
      "Epoch 85/200\n",
      "15529/15529 [==============================] - 120s 8ms/step - loss: 0.5516 - auc: 0.7926 - val_loss: 1.5298 - val_auc: 0.7831\n",
      "Epoch 86/200\n",
      "15529/15529 [==============================] - 138s 9ms/step - loss: 0.5515 - auc: 0.7926 - val_loss: 0.5657 - val_auc: 0.7820\n",
      "Epoch 87/200\n",
      "15529/15529 [==============================] - 152s 10ms/step - loss: 0.5516 - auc: 0.7925 - val_loss: 0.5633 - val_auc: 0.7841\n",
      "Epoch 88/200\n",
      "15529/15529 [==============================] - 121s 8ms/step - loss: 0.5527 - auc: 0.7914 - val_loss: 10.4427 - val_auc: 0.7760\n",
      "Epoch 89/200\n",
      "15529/15529 [==============================] - 120s 8ms/step - loss: 0.5553 - auc: 0.7891 - val_loss: 41.0627 - val_auc: 0.7714\n",
      "Epoch 90/200\n",
      "15529/15529 [==============================] - 120s 8ms/step - loss: 0.5515 - auc: 0.7924 - val_loss: 0.5870 - val_auc: 0.7821\n",
      "Epoch 91/200\n",
      "15529/15529 [==============================] - 120s 8ms/step - loss: 0.5626 - auc: 0.7819 - val_loss: 6.5580 - val_auc: 0.7732\n",
      "Epoch 92/200\n",
      "15529/15529 [==============================] - 122s 8ms/step - loss: 0.5737 - auc: 0.7712 - val_loss: 0.7002 - val_auc: 0.7766\n",
      "Epoch 93/200\n",
      "15529/15529 [==============================] - 120s 8ms/step - loss: 0.5589 - auc: 0.7857 - val_loss: 0.7464 - val_auc: 0.7904\n",
      "Epoch 94/200\n",
      "15529/15529 [==============================] - 121s 8ms/step - loss: 0.5545 - auc: 0.7898 - val_loss: 142.2693 - val_auc: 0.7795\n",
      "Epoch 95/200\n",
      "15529/15529 [==============================] - 174s 11ms/step - loss: 0.5537 - auc: 0.7904 - val_loss: 16.4913 - val_auc: 0.7834\n",
      "Epoch 96/200\n",
      "15529/15529 [==============================] - 120s 8ms/step - loss: 0.5603 - auc: 0.7841 - val_loss: 1.9969 - val_auc: 0.7811\n",
      "Epoch 97/200\n",
      "15529/15529 [==============================] - 119s 8ms/step - loss: 0.5522 - auc: 0.7920 - val_loss: 1.0181 - val_auc: 0.7799\n",
      "Epoch 98/200\n",
      "15529/15529 [==============================] - 120s 8ms/step - loss: 0.5519 - auc: 0.7922 - val_loss: 46.0947 - val_auc: 0.7862\n",
      "Epoch 99/200\n",
      "15529/15529 [==============================] - 120s 8ms/step - loss: 0.5538 - auc: 0.7904 - val_loss: 0.5711 - val_auc: 0.7868\n",
      "Epoch 100/200\n",
      "15529/15529 [==============================] - 119s 8ms/step - loss: 0.5521 - auc: 0.7922 - val_loss: 7.4689 - val_auc: 0.7702\n",
      "Epoch 101/200\n",
      "15529/15529 [==============================] - 121s 8ms/step - loss: 0.5528 - auc: 0.7914 - val_loss: 0.9215 - val_auc: 0.7805\n",
      "Epoch 102/200\n",
      "15529/15529 [==============================] - 120s 8ms/step - loss: 0.5536 - auc: 0.7904 - val_loss: 0.5656 - val_auc: 0.7831\n",
      "Epoch 103/200\n",
      "15529/15529 [==============================] - 129s 8ms/step - loss: 0.5510 - auc: 0.7930 - val_loss: 4.7731 - val_auc: 0.7759\n",
      "Epoch 104/200\n",
      "15529/15529 [==============================] - 171s 11ms/step - loss: 0.5511 - auc: 0.7929 - val_loss: 0.5896 - val_auc: 0.7849\n",
      "Epoch 105/200\n",
      "15529/15529 [==============================] - 121s 8ms/step - loss: 0.5494 - auc: 0.7944 - val_loss: 0.5873 - val_auc: 0.7841\n",
      "Epoch 106/200\n",
      "15529/15529 [==============================] - 120s 8ms/step - loss: 0.5501 - auc: 0.7937 - val_loss: 5.4927 - val_auc: 0.7859\n",
      "Epoch 107/200\n",
      "15529/15529 [==============================] - 120s 8ms/step - loss: 0.5521 - auc: 0.7918 - val_loss: 7.9806 - val_auc: 0.7770\n",
      "Epoch 108/200\n",
      "15529/15529 [==============================] - 119s 8ms/step - loss: 0.5499 - auc: 0.7941 - val_loss: 5.0662 - val_auc: 0.7792\n",
      "Epoch 109/200\n",
      "15529/15529 [==============================] - 120s 8ms/step - loss: 0.5521 - auc: 0.7920 - val_loss: 1.1163 - val_auc: 0.7829\n",
      "Epoch 110/200\n",
      "15529/15529 [==============================] - 120s 8ms/step - loss: 0.5501 - auc: 0.7939 - val_loss: 1.5482 - val_auc: 0.7752\n",
      "Epoch 111/200\n",
      "15529/15529 [==============================] - 120s 8ms/step - loss: 0.5502 - auc: 0.7939 - val_loss: 6.6603 - val_auc: 0.7734\n",
      "Epoch 112/200\n",
      "15529/15529 [==============================] - 136s 9ms/step - loss: 0.5522 - auc: 0.7919 - val_loss: 10.8581 - val_auc: 0.7791\n",
      "Epoch 113/200\n",
      "15529/15529 [==============================] - 164s 11ms/step - loss: 0.5536 - auc: 0.7904 - val_loss: 0.8037 - val_auc: 0.7839\n",
      "Epoch 114/200\n",
      "15529/15529 [==============================] - 120s 8ms/step - loss: 0.5504 - auc: 0.7935 - val_loss: 3.9750 - val_auc: 0.7890\n",
      "Epoch 115/200\n",
      "15529/15529 [==============================] - 120s 8ms/step - loss: 0.5501 - auc: 0.7938 - val_loss: 2.6190 - val_auc: 0.7735\n",
      "Epoch 116/200\n",
      "15529/15529 [==============================] - 120s 8ms/step - loss: 0.5529 - auc: 0.7911 - val_loss: 8.4533 - val_auc: 0.7747\n",
      "Epoch 117/200\n",
      "15529/15529 [==============================] - 121s 8ms/step - loss: 0.5501 - auc: 0.7937 - val_loss: 5.2062 - val_auc: 0.6627\n",
      "Epoch 118/200\n",
      "15529/15529 [==============================] - 120s 8ms/step - loss: 0.5515 - auc: 0.7924 - val_loss: 1.3843 - val_auc: 0.7835\n",
      "Epoch 119/200\n",
      "15529/15529 [==============================] - 123s 8ms/step - loss: 0.5482 - auc: 0.7955 - val_loss: 2.5668 - val_auc: 0.7807\n"
     ]
    }
   ],
   "source": [
    "\n",
    "history = model.fit(\n",
    "    datagen.flow(X_train, y_train, batch_size=batch_size),\n",
    "    validation_data=datagen.flow(X_val, y_val,\n",
    "    batch_size=batch_size),\n",
    "    epochs = 200,\n",
    "    callbacks = [call_back]\n",
    ")"
   ]
  },
  {
   "cell_type": "code",
   "execution_count": 23,
   "id": "2572e1bf",
   "metadata": {
    "execution": {
     "iopub.execute_input": "2022-03-20T13:03:45.905960Z",
     "iopub.status.busy": "2022-03-20T13:03:45.905386Z",
     "iopub.status.idle": "2022-03-20T13:03:59.983680Z",
     "shell.execute_reply": "2022-03-20T13:03:59.982796Z",
     "shell.execute_reply.started": "2022-03-20T06:16:20.930463Z"
    },
    "papermill": {
     "duration": 106.06541,
     "end_time": "2022-03-20T13:03:59.983812",
     "exception": false,
     "start_time": "2022-03-20T13:02:13.918402",
     "status": "completed"
    },
    "tags": []
   },
   "outputs": [],
   "source": [
    "%matplotlib inline\n",
    "\n",
    "import matplotlib.pyplot as plt"
   ]
  },
  {
   "cell_type": "code",
   "execution_count": 24,
   "id": "6089686d",
   "metadata": {
    "execution": {
     "iopub.execute_input": "2022-03-20T13:07:04.819703Z",
     "iopub.status.busy": "2022-03-20T13:07:04.818940Z",
     "iopub.status.idle": "2022-03-20T13:07:05.201020Z",
     "shell.execute_reply": "2022-03-20T13:07:05.201518Z",
     "shell.execute_reply.started": "2022-03-20T06:16:20.932136Z"
    },
    "papermill": {
     "duration": 92.344663,
     "end_time": "2022-03-20T13:07:05.201672",
     "exception": false,
     "start_time": "2022-03-20T13:05:32.857009",
     "status": "completed"
    },
    "tags": []
   },
   "outputs": [
    {
     "data": {
      "text/plain": [
       "Text(0.5, 1.0, 'Training & validation loss')"
      ]
     },
     "execution_count": 24,
     "metadata": {},
     "output_type": "execute_result"
    },
    {
     "data": {
      "image/png": "[encoded data removed]",
      "text/plain": [
       "<Figure size 432x288 with 1 Axes>"
      ]
     },
     "metadata": {
      "needs_background": "light"
     },
     "output_type": "display_data"
    },
    {
     "data": {
      "image/png": "[encoded data removed]",
      "text/plain": [
       "<Figure size 432x288 with 1 Axes>"
      ]
     },
     "metadata": {
      "needs_background": "light"
     },
     "output_type": "display_data"
    }
   ],
   "source": [
    "acc = history.history['auc']\n",
    "val_acc = history.history['val_auc']\n",
    "loss = history.history['loss']\n",
    "val_loss = history.history['val_loss']\n",
    "\n",
    "epochs = range(len(acc))\n",
    "plt.plot(epochs, acc)\n",
    "plt.plot(epochs, val_acc)\n",
    "plt.title('Training & validation on accuracy')\n",
    "plt.figure()\n",
    "\n",
    "plt.plot(epochs,loss)\n",
    "plt.plot(epochs,val_loss)\n",
    "plt.title('Training & validation loss')"
   ]
  },
  {
   "cell_type": "code",
   "execution_count": null,
   "id": "6dca71b3",
   "metadata": {
    "papermill": {
     "duration": 92.245929,
     "end_time": "2022-03-20T13:10:10.493909",
     "exception": false,
     "start_time": "2022-03-20T13:08:38.247980",
     "status": "completed"
    },
    "tags": []
   },
   "outputs": [],
   "source": []
  }
 ],
 "metadata": {
  "kernelspec": {
   "display_name": "Python 3",
   "language": "python",
   "name": "python3"
  },
  "language_info": {
   "codemirror_mode": {
    "name": "ipython",
    "version": 3
   },
   "file_extension": ".py",
   "mimetype": "text/x-python",
   "name": "python",
   "nbconvert_exporter": "python",
   "pygments_lexer": "ipython3",
   "version": "3.7.12"
  },
  "papermill": {
   "default_parameters": {},
   "duration": 15985.82498,
   "end_time": "2022-03-20T13:11:45.709407",
   "environment_variables": {},
   "exception": null,
   "input_path": "__notebook__.ipynb",
   "output_path": "__notebook__.ipynb",
   "parameters": {},
   "start_time": "2022-03-20T08:45:19.884427",
   "version": "2.3.3"
  }
 },
 "nbformat": 4,
 "nbformat_minor": 5
}
