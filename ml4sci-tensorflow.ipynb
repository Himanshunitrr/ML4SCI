{
 "cells": [
  {
   "cell_type": "code",
   "execution_count": 1,
   "id": "c4379781",
   "metadata": {
    "_cell_guid": "b1076dfc-b9ad-4769-8c92-a6c4dae69d19",
    "_uuid": "8f2839f25d086af736a60e9eeb907d3b93b6e0e5",
    "execution": {
     "iopub.execute_input": "2022-03-19T17:58:57.820046Z",
     "iopub.status.busy": "2022-03-19T17:58:57.818340Z",
     "iopub.status.idle": "2022-03-19T17:58:57.968399Z",
     "shell.execute_reply": "2022-03-19T17:58:57.967221Z",
     "shell.execute_reply.started": "2022-03-19T16:35:31.679965Z"
    },
    "papermill": {
     "duration": 0.179012,
     "end_time": "2022-03-19T17:58:57.968576",
     "exception": false,
     "start_time": "2022-03-19T17:58:57.789564",
     "status": "completed"
    },
    "tags": []
   },
   "outputs": [],
   "source": [
    "import numpy as np\n",
    "import pandas as pd\n",
    "import h5py\n",
    "from tqdm import tqdm\n",
    "import matplotlib.pyplot as plt"
   ]
  },
  {
   "cell_type": "code",
   "execution_count": 2,
   "id": "fd40b9c0",
   "metadata": {
    "execution": {
     "iopub.execute_input": "2022-03-19T17:58:58.031495Z",
     "iopub.status.busy": "2022-03-19T17:58:58.030631Z",
     "iopub.status.idle": "2022-03-19T17:58:58.032302Z",
     "shell.execute_reply": "2022-03-19T17:58:58.032815Z",
     "shell.execute_reply.started": "2022-03-19T16:35:41.388745Z"
    },
    "papermill": {
     "duration": 0.041615,
     "end_time": "2022-03-19T17:58:58.032983",
     "exception": false,
     "start_time": "2022-03-19T17:58:57.991368",
     "status": "completed"
    },
    "tags": []
   },
   "outputs": [],
   "source": [
    "hf_e = h5py.File('../input/ml4sci/SingleElectronPt50_IMGCROPS_n249k_RHv1.hdf5', 'r')\n",
    "electron_data_x = hf_e.get('X')\n",
    "electron_data_y = hf_e.get('y')"
   ]
  },
  {
   "cell_type": "code",
   "execution_count": 3,
   "id": "80a5aa70",
   "metadata": {
    "execution": {
     "iopub.execute_input": "2022-03-19T17:58:58.090074Z",
     "iopub.status.busy": "2022-03-19T17:58:58.089162Z",
     "iopub.status.idle": "2022-03-19T17:58:58.090746Z",
     "shell.execute_reply": "2022-03-19T17:58:58.091302Z",
     "shell.execute_reply.started": "2022-03-19T16:35:41.424539Z"
    },
    "papermill": {
     "duration": 0.036346,
     "end_time": "2022-03-19T17:58:58.091447",
     "exception": false,
     "start_time": "2022-03-19T17:58:58.055101",
     "status": "completed"
    },
    "tags": []
   },
   "outputs": [],
   "source": [
    "hf_p = h5py.File('../input/ml4sci/SinglePhotonPt50_IMGCROPS_n249k_RHv1.hdf5', 'r')\n",
    "photon_data_x = hf_p.get('X')\n",
    "photon_data_y = hf_p.get('y')"
   ]
  },
  {
   "cell_type": "code",
   "execution_count": 4,
   "id": "663fdc9e",
   "metadata": {
    "execution": {
     "iopub.execute_input": "2022-03-19T17:58:58.142155Z",
     "iopub.status.busy": "2022-03-19T17:58:58.140862Z",
     "iopub.status.idle": "2022-03-19T17:59:10.450941Z",
     "shell.execute_reply": "2022-03-19T17:59:10.451701Z",
     "shell.execute_reply.started": "2022-03-19T16:35:41.450403Z"
    },
    "papermill": {
     "duration": 12.337903,
     "end_time": "2022-03-19T17:59:10.452041",
     "exception": false,
     "start_time": "2022-03-19T17:58:58.114138",
     "status": "completed"
    },
    "tags": []
   },
   "outputs": [],
   "source": [
    "electron_data_x = np.asarray(electron_data_x)\n",
    "electron_data_y = np.asarray(electron_data_y)\n",
    "\n",
    "photon_data_x = np.asarray(photon_data_x)\n",
    "photon_data_y = np.asarray(photon_data_y)"
   ]
  },
  {
   "cell_type": "code",
   "execution_count": 5,
   "id": "8037e2ff",
   "metadata": {
    "execution": {
     "iopub.execute_input": "2022-03-19T17:59:10.511926Z",
     "iopub.status.busy": "2022-03-19T17:59:10.510726Z",
     "iopub.status.idle": "2022-03-19T17:59:10.514443Z",
     "shell.execute_reply": "2022-03-19T17:59:10.514894Z",
     "shell.execute_reply.started": "2022-03-19T16:35:54.89111Z"
    },
    "papermill": {
     "duration": 0.03112,
     "end_time": "2022-03-19T17:59:10.515041",
     "exception": false,
     "start_time": "2022-03-19T17:59:10.483921",
     "status": "completed"
    },
    "tags": []
   },
   "outputs": [
    {
     "name": "stdout",
     "output_type": "stream",
     "text": [
      "(249000, 32, 32, 2)\n",
      "(249000, 32, 32, 2)\n",
      "(249000,)\n",
      "(249000,)\n"
     ]
    }
   ],
   "source": [
    "print(electron_data_x.shape)\n",
    "print(photon_data_x.shape)\n",
    "\n",
    "print(electron_data_y.shape)\n",
    "print(photon_data_y.shape)"
   ]
  },
  {
   "cell_type": "code",
   "execution_count": 6,
   "id": "1c0693c1",
   "metadata": {
    "execution": {
     "iopub.execute_input": "2022-03-19T17:59:10.565398Z",
     "iopub.status.busy": "2022-03-19T17:59:10.562459Z",
     "iopub.status.idle": "2022-03-19T17:59:12.032313Z",
     "shell.execute_reply": "2022-03-19T17:59:12.031684Z",
     "shell.execute_reply.started": "2022-03-19T16:35:54.903165Z"
    },
    "papermill": {
     "duration": 1.494688,
     "end_time": "2022-03-19T17:59:12.032444",
     "exception": false,
     "start_time": "2022-03-19T17:59:10.537756",
     "status": "completed"
    },
    "tags": []
   },
   "outputs": [],
   "source": [
    "X = np.concatenate((electron_data_x, photon_data_x))\n",
    "y = np.concatenate((electron_data_y, photon_data_y))"
   ]
  },
  {
   "cell_type": "code",
   "execution_count": 7,
   "id": "d458589d",
   "metadata": {
    "execution": {
     "iopub.execute_input": "2022-03-19T17:59:12.082655Z",
     "iopub.status.busy": "2022-03-19T17:59:12.081869Z",
     "iopub.status.idle": "2022-03-19T17:59:12.084859Z",
     "shell.execute_reply": "2022-03-19T17:59:12.085267Z",
     "shell.execute_reply.started": "2022-03-19T16:35:56.50644Z"
    },
    "papermill": {
     "duration": 0.030522,
     "end_time": "2022-03-19T17:59:12.085405",
     "exception": false,
     "start_time": "2022-03-19T17:59:12.054883",
     "status": "completed"
    },
    "tags": []
   },
   "outputs": [
    {
     "name": "stdout",
     "output_type": "stream",
     "text": [
      "(498000, 32, 32, 2)\n",
      "(498000,)\n"
     ]
    }
   ],
   "source": [
    "print(X.shape)\n",
    "print(y.shape)"
   ]
  },
  {
   "cell_type": "code",
   "execution_count": 8,
   "id": "a13265b1",
   "metadata": {
    "execution": {
     "iopub.execute_input": "2022-03-19T17:59:12.135785Z",
     "iopub.status.busy": "2022-03-19T17:59:12.134905Z",
     "iopub.status.idle": "2022-03-19T17:59:12.136713Z",
     "shell.execute_reply": "2022-03-19T17:59:12.137166Z",
     "shell.execute_reply.started": "2022-03-19T16:35:56.517113Z"
    },
    "papermill": {
     "duration": 0.028905,
     "end_time": "2022-03-19T17:59:12.137310",
     "exception": false,
     "start_time": "2022-03-19T17:59:12.108405",
     "status": "completed"
    },
    "tags": []
   },
   "outputs": [],
   "source": [
    "# X_vis = X[:5]\n",
    "\n",
    "# fig, axes = plt.subplots(nrows=len(X_vis), ncols=2, figsize=(48, 48))\n",
    "# for i in range(len(X_vis)):\n",
    "\n",
    "#     axes[i][0].imshow(X_vis[i,:,:,0])\n",
    "#     axes[i][1].imshow(X_vis[i,:,:,1])\n",
    "\n"
   ]
  },
  {
   "cell_type": "code",
   "execution_count": 9,
   "id": "0915a264",
   "metadata": {
    "execution": {
     "iopub.execute_input": "2022-03-19T17:59:12.187432Z",
     "iopub.status.busy": "2022-03-19T17:59:12.186897Z",
     "iopub.status.idle": "2022-03-19T17:59:16.510010Z",
     "shell.execute_reply": "2022-03-19T17:59:16.509519Z",
     "shell.execute_reply.started": "2022-03-19T16:35:56.531267Z"
    },
    "papermill": {
     "duration": 4.350427,
     "end_time": "2022-03-19T17:59:16.510165",
     "exception": false,
     "start_time": "2022-03-19T17:59:12.159738",
     "status": "completed"
    },
    "tags": []
   },
   "outputs": [],
   "source": [
    "from sklearn.utils import shuffle\n",
    "X, y = shuffle(X, y, random_state=0)\n",
    "X, y = shuffle(X, y, random_state=0) #really random "
   ]
  },
  {
   "cell_type": "code",
   "execution_count": 10,
   "id": "2df25f31",
   "metadata": {
    "execution": {
     "iopub.execute_input": "2022-03-19T17:59:16.560684Z",
     "iopub.status.busy": "2022-03-19T17:59:16.559812Z",
     "iopub.status.idle": "2022-03-19T17:59:16.561599Z",
     "shell.execute_reply": "2022-03-19T17:59:16.562045Z",
     "shell.execute_reply.started": "2022-03-19T16:36:02.368894Z"
    },
    "papermill": {
     "duration": 0.028801,
     "end_time": "2022-03-19T17:59:16.562189",
     "exception": false,
     "start_time": "2022-03-19T17:59:16.533388",
     "status": "completed"
    },
    "tags": []
   },
   "outputs": [],
   "source": [
    "# mean = 0.015\n",
    "# std = 0.297"
   ]
  },
  {
   "cell_type": "code",
   "execution_count": 11,
   "id": "369e64c0",
   "metadata": {
    "execution": {
     "iopub.execute_input": "2022-03-19T17:59:16.614660Z",
     "iopub.status.busy": "2022-03-19T17:59:16.613980Z",
     "iopub.status.idle": "2022-03-19T17:59:16.616740Z",
     "shell.execute_reply": "2022-03-19T17:59:16.617426Z",
     "shell.execute_reply.started": "2022-03-19T16:36:02.376696Z"
    },
    "papermill": {
     "duration": 0.032841,
     "end_time": "2022-03-19T17:59:16.617596",
     "exception": false,
     "start_time": "2022-03-19T17:59:16.584755",
     "status": "completed"
    },
    "tags": []
   },
   "outputs": [
    {
     "name": "stdout",
     "output_type": "stream",
     "text": [
      "(496900, 32, 32, 2)\n",
      "(1000, 32, 32, 2)\n",
      "(100, 32, 32, 2)\n"
     ]
    }
   ],
   "source": [
    "X_train = X[:496900]\n",
    "X_val = X[496900:497900]\n",
    "X_test = X[497900:]\n",
    "\n",
    "print(X_train.shape)\n",
    "print(X_val.shape)\n",
    "print(X_test.shape)"
   ]
  },
  {
   "cell_type": "code",
   "execution_count": 12,
   "id": "d52ab547",
   "metadata": {
    "execution": {
     "iopub.execute_input": "2022-03-19T17:59:16.670628Z",
     "iopub.status.busy": "2022-03-19T17:59:16.669946Z",
     "iopub.status.idle": "2022-03-19T17:59:16.672895Z",
     "shell.execute_reply": "2022-03-19T17:59:16.673326Z",
     "shell.execute_reply.started": "2022-03-19T16:36:02.3944Z"
    },
    "papermill": {
     "duration": 0.032009,
     "end_time": "2022-03-19T17:59:16.673476",
     "exception": false,
     "start_time": "2022-03-19T17:59:16.641467",
     "status": "completed"
    },
    "tags": []
   },
   "outputs": [
    {
     "name": "stdout",
     "output_type": "stream",
     "text": [
      "(496900,)\n",
      "(1000,)\n",
      "(100,)\n"
     ]
    }
   ],
   "source": [
    "y_train = y[:496900]\n",
    "y_val = y[496900:497900]\n",
    "y_test = y[497900:]\n",
    "\n",
    "print(y_train.shape)\n",
    "print(y_val.shape)\n",
    "print(y_test.shape)"
   ]
  },
  {
   "cell_type": "code",
   "execution_count": 13,
   "id": "0799eb19",
   "metadata": {
    "execution": {
     "iopub.execute_input": "2022-03-19T17:59:16.725161Z",
     "iopub.status.busy": "2022-03-19T17:59:16.724332Z",
     "iopub.status.idle": "2022-03-19T17:59:16.726949Z",
     "shell.execute_reply": "2022-03-19T17:59:16.726491Z",
     "shell.execute_reply.started": "2022-03-19T16:36:02.408807Z"
    },
    "papermill": {
     "duration": 0.030139,
     "end_time": "2022-03-19T17:59:16.727070",
     "exception": false,
     "start_time": "2022-03-19T17:59:16.696931",
     "status": "completed"
    },
    "tags": []
   },
   "outputs": [],
   "source": [
    "# model = CreateModel()\n",
    "# model.to(Config['DEVICE'])"
   ]
  },
  {
   "cell_type": "code",
   "execution_count": 14,
   "id": "076dabbc",
   "metadata": {
    "execution": {
     "iopub.execute_input": "2022-03-19T17:59:16.779467Z",
     "iopub.status.busy": "2022-03-19T17:59:16.778644Z",
     "iopub.status.idle": "2022-03-19T17:59:16.781043Z",
     "shell.execute_reply": "2022-03-19T17:59:16.780607Z",
     "shell.execute_reply.started": "2022-03-19T16:36:02.417881Z"
    },
    "papermill": {
     "duration": 0.03026,
     "end_time": "2022-03-19T17:59:16.781162",
     "exception": false,
     "start_time": "2022-03-19T17:59:16.750902",
     "status": "completed"
    },
    "tags": []
   },
   "outputs": [],
   "source": [
    "batch_size = 32\n",
    "img_size = 32"
   ]
  },
  {
   "cell_type": "code",
   "execution_count": 15,
   "id": "00b85a29",
   "metadata": {
    "execution": {
     "iopub.execute_input": "2022-03-19T17:59:16.831745Z",
     "iopub.status.busy": "2022-03-19T17:59:16.830922Z",
     "iopub.status.idle": "2022-03-19T17:59:16.832671Z",
     "shell.execute_reply": "2022-03-19T17:59:16.833139Z",
     "shell.execute_reply.started": "2022-03-19T16:36:02.426705Z"
    },
    "papermill": {
     "duration": 0.029117,
     "end_time": "2022-03-19T17:59:16.833277",
     "exception": false,
     "start_time": "2022-03-19T17:59:16.804160",
     "status": "completed"
    },
    "tags": []
   },
   "outputs": [],
   "source": [
    "# from sklearn.preprocessing import normalize\n",
    "# normed_matrix = normalize(X, axis=1, norm='l1')"
   ]
  },
  {
   "cell_type": "code",
   "execution_count": 16,
   "id": "379e7785",
   "metadata": {
    "execution": {
     "iopub.execute_input": "2022-03-19T17:59:16.897724Z",
     "iopub.status.busy": "2022-03-19T17:59:16.896935Z",
     "iopub.status.idle": "2022-03-19T17:59:16.899485Z",
     "shell.execute_reply": "2022-03-19T17:59:16.899067Z",
     "shell.execute_reply.started": "2022-03-19T16:36:02.437261Z"
    },
    "papermill": {
     "duration": 0.042878,
     "end_time": "2022-03-19T17:59:16.899599",
     "exception": false,
     "start_time": "2022-03-19T17:59:16.856721",
     "status": "completed"
    },
    "tags": []
   },
   "outputs": [],
   "source": [
    "# X = np.linalg.norm(X, axis = 1, keepdims = True)"
   ]
  },
  {
   "cell_type": "code",
   "execution_count": 17,
   "id": "5994b530",
   "metadata": {
    "execution": {
     "iopub.execute_input": "2022-03-19T17:59:16.951394Z",
     "iopub.status.busy": "2022-03-19T17:59:16.950665Z",
     "iopub.status.idle": "2022-03-19T17:59:22.050850Z",
     "shell.execute_reply": "2022-03-19T17:59:22.051378Z",
     "shell.execute_reply.started": "2022-03-19T16:36:02.446364Z"
    },
    "papermill": {
     "duration": 5.128407,
     "end_time": "2022-03-19T17:59:22.051547",
     "exception": false,
     "start_time": "2022-03-19T17:59:16.923140",
     "status": "completed"
    },
    "tags": []
   },
   "outputs": [],
   "source": [
    "from tensorflow.keras.preprocessing.image import ImageDataGenerator\n",
    "\n",
    "datagen = ImageDataGenerator()\n",
    "\n",
    "# datagen = ImageDataGenerator(\n",
    "#     featurewise_std_normalization=True,\n",
    "# )\n",
    "# datagen.fit(X_train)\n",
    "# datagen.fit(X_val)\n",
    "# datagen.fit(X_test)"
   ]
  },
  {
   "cell_type": "code",
   "execution_count": 18,
   "id": "4f42bf1c",
   "metadata": {
    "execution": {
     "iopub.execute_input": "2022-03-19T17:59:22.110816Z",
     "iopub.status.busy": "2022-03-19T17:59:22.108144Z",
     "iopub.status.idle": "2022-03-19T17:59:24.497154Z",
     "shell.execute_reply": "2022-03-19T17:59:24.497591Z",
     "shell.execute_reply.started": "2022-03-19T16:36:05.723818Z"
    },
    "papermill": {
     "duration": 2.421343,
     "end_time": "2022-03-19T17:59:24.497738",
     "exception": false,
     "start_time": "2022-03-19T17:59:22.076395",
     "status": "completed"
    },
    "tags": []
   },
   "outputs": [
    {
     "name": "stderr",
     "output_type": "stream",
     "text": [
      "2022-03-19 17:59:22.203505: I tensorflow/stream_executor/cuda/cuda_gpu_executor.cc:937] successful NUMA node read from SysFS had negative value (-1), but there must be at least one NUMA node, so returning NUMA node zero\n",
      "2022-03-19 17:59:22.304576: I tensorflow/stream_executor/cuda/cuda_gpu_executor.cc:937] successful NUMA node read from SysFS had negative value (-1), but there must be at least one NUMA node, so returning NUMA node zero\n",
      "2022-03-19 17:59:22.305321: I tensorflow/stream_executor/cuda/cuda_gpu_executor.cc:937] successful NUMA node read from SysFS had negative value (-1), but there must be at least one NUMA node, so returning NUMA node zero\n",
      "2022-03-19 17:59:22.306784: I tensorflow/core/platform/cpu_feature_guard.cc:142] This TensorFlow binary is optimized with oneAPI Deep Neural Network Library (oneDNN) to use the following CPU instructions in performance-critical operations:  AVX2 AVX512F FMA\n",
      "To enable them in other operations, rebuild TensorFlow with the appropriate compiler flags.\n",
      "2022-03-19 17:59:22.307575: I tensorflow/stream_executor/cuda/cuda_gpu_executor.cc:937] successful NUMA node read from SysFS had negative value (-1), but there must be at least one NUMA node, so returning NUMA node zero\n",
      "2022-03-19 17:59:22.308332: I tensorflow/stream_executor/cuda/cuda_gpu_executor.cc:937] successful NUMA node read from SysFS had negative value (-1), but there must be at least one NUMA node, so returning NUMA node zero\n",
      "2022-03-19 17:59:22.308993: I tensorflow/stream_executor/cuda/cuda_gpu_executor.cc:937] successful NUMA node read from SysFS had negative value (-1), but there must be at least one NUMA node, so returning NUMA node zero\n",
      "2022-03-19 17:59:24.178934: I tensorflow/stream_executor/cuda/cuda_gpu_executor.cc:937] successful NUMA node read from SysFS had negative value (-1), but there must be at least one NUMA node, so returning NUMA node zero\n",
      "2022-03-19 17:59:24.179735: I tensorflow/stream_executor/cuda/cuda_gpu_executor.cc:937] successful NUMA node read from SysFS had negative value (-1), but there must be at least one NUMA node, so returning NUMA node zero\n",
      "2022-03-19 17:59:24.180453: I tensorflow/stream_executor/cuda/cuda_gpu_executor.cc:937] successful NUMA node read from SysFS had negative value (-1), but there must be at least one NUMA node, so returning NUMA node zero\n",
      "2022-03-19 17:59:24.181138: I tensorflow/core/common_runtime/gpu/gpu_device.cc:1510] Created device /job:localhost/replica:0/task:0/device:GPU:0 with 15403 MB memory:  -> device: 0, name: Tesla P100-PCIE-16GB, pci bus id: 0000:00:04.0, compute capability: 6.0\n"
     ]
    }
   ],
   "source": [
    "import tensorflow as tf\n",
    "model = tf.keras.models.Sequential([\n",
    "\n",
    "    tf.keras.layers.Normalization(),\n",
    "    tf.keras.layers.Conv2D(32, 2, padding='same', activation='relu', input_shape=(img_size, img_size, 2)),\n",
    "    tf.keras.layers.MaxPooling2D(pool_size=(2, 2), padding='same',),\n",
    "    \n",
    "\n",
    "    tf.keras.layers.Conv2D(64, 2, padding='same',activation='relu'),\n",
    "    tf.keras.layers.MaxPooling2D(pool_size=(2, 2), padding='same'),\n",
    "   \n",
    "\n",
    "    tf.keras.layers.Conv2D(64, 3,padding='same', activation='relu'),\n",
    "    tf.keras.layers.MaxPooling2D(pool_size=(2, 2)),\n",
    "  \n",
    "\n",
    "    tf.keras.layers.Conv2D(64, 3,padding='same', activation='relu'),\n",
    "    tf.keras.layers.MaxPooling2D(pool_size=(2, 2)),\n",
    "    \n",
    "\n",
    "\n",
    "    tf.keras.layers.Flatten(),\n",
    "    tf.keras.layers.Dense(256, activation='relu'),\n",
    "    tf.keras.layers.Dropout(0.2),\n",
    "    tf.keras.layers.BatchNormalization(),\n",
    "    tf.keras.layers.Dense(512, activation='relu'),\n",
    "    tf.keras.layers.BatchNormalization(),\n",
    "    tf.keras.layers.Dropout(0.2),\n",
    "    tf.keras.layers.Dense(256, activation='relu'),\n",
    "    \n",
    "    tf.keras.layers.Dense(1, activation='sigmoid')\n",
    "\n",
    "    \n",
    "])"
   ]
  },
  {
   "cell_type": "code",
   "execution_count": 19,
   "id": "67601c25",
   "metadata": {
    "execution": {
     "iopub.execute_input": "2022-03-19T17:59:24.555310Z",
     "iopub.status.busy": "2022-03-19T17:59:24.554703Z",
     "iopub.status.idle": "2022-03-19T17:59:24.567904Z",
     "shell.execute_reply": "2022-03-19T17:59:24.567389Z",
     "shell.execute_reply.started": "2022-03-19T16:36:08.523019Z"
    },
    "papermill": {
     "duration": 0.045867,
     "end_time": "2022-03-19T17:59:24.568032",
     "exception": false,
     "start_time": "2022-03-19T17:59:24.522165",
     "status": "completed"
    },
    "tags": []
   },
   "outputs": [],
   "source": [
    "from tensorflow.keras.optimizers import Adam\n",
    "\n",
    "model.compile(\n",
    "    loss='binary_crossentropy',\n",
    "    optimizer=Adam(learning_rate=0.001),\n",
    "    metrics=['AUC']\n",
    ")"
   ]
  },
  {
   "cell_type": "code",
   "execution_count": 20,
   "id": "123ffd85",
   "metadata": {
    "execution": {
     "iopub.execute_input": "2022-03-19T17:59:24.621100Z",
     "iopub.status.busy": "2022-03-19T17:59:24.620494Z",
     "iopub.status.idle": "2022-03-19T17:59:24.623980Z",
     "shell.execute_reply": "2022-03-19T17:59:24.623494Z",
     "shell.execute_reply.started": "2022-03-19T16:36:23.270531Z"
    },
    "papermill": {
     "duration": 0.031932,
     "end_time": "2022-03-19T17:59:24.624103",
     "exception": false,
     "start_time": "2022-03-19T17:59:24.592171",
     "status": "completed"
    },
    "tags": []
   },
   "outputs": [],
   "source": [
    "call_back = tf.keras.callbacks.EarlyStopping(patience=20, restore_best_weights=True)"
   ]
  },
  {
   "cell_type": "code",
   "execution_count": 21,
   "id": "12afcf25",
   "metadata": {
    "execution": {
     "iopub.execute_input": "2022-03-19T17:59:24.678915Z",
     "iopub.status.busy": "2022-03-19T17:59:24.677277Z",
     "iopub.status.idle": "2022-03-19T17:59:24.679550Z",
     "shell.execute_reply": "2022-03-19T17:59:24.679989Z",
     "shell.execute_reply.started": "2022-03-19T16:36:23.695092Z"
    },
    "papermill": {
     "duration": 0.031537,
     "end_time": "2022-03-19T17:59:24.680133",
     "exception": false,
     "start_time": "2022-03-19T17:59:24.648596",
     "status": "completed"
    },
    "tags": []
   },
   "outputs": [],
   "source": [
    "labels = [0,1]"
   ]
  },
  {
   "cell_type": "code",
   "execution_count": 22,
   "id": "54f5bdfd",
   "metadata": {
    "execution": {
     "iopub.execute_input": "2022-03-19T17:59:24.734901Z",
     "iopub.status.busy": "2022-03-19T17:59:24.734183Z",
     "iopub.status.idle": "2022-03-19T20:31:10.751689Z",
     "shell.execute_reply": "2022-03-19T20:31:10.606773Z",
     "shell.execute_reply.started": "2022-03-19T16:50:43.988123Z"
    },
    "papermill": {
     "duration": 9106.047544,
     "end_time": "2022-03-19T20:31:10.751876",
     "exception": false,
     "start_time": "2022-03-19T17:59:24.704332",
     "status": "completed"
    },
    "tags": []
   },
   "outputs": [
    {
     "name": "stderr",
     "output_type": "stream",
     "text": [
      "/opt/conda/lib/python3.7/site-packages/keras_preprocessing/image/numpy_array_iterator.py:136: UserWarning: NumpyArrayIterator is set to use the data format convention \"channels_last\" (channels on axis 3), i.e. expected either 1, 3, or 4 channels on axis 3. However, it was passed an array with shape (496900, 32, 32, 2) (2 channels).\n",
      "  str(self.x.shape[channels_axis]) + ' channels).')\n",
      "/opt/conda/lib/python3.7/site-packages/keras_preprocessing/image/numpy_array_iterator.py:136: UserWarning: NumpyArrayIterator is set to use the data format convention \"channels_last\" (channels on axis 3), i.e. expected either 1, 3, or 4 channels on axis 3. However, it was passed an array with shape (1000, 32, 32, 2) (2 channels).\n",
      "  str(self.x.shape[channels_axis]) + ' channels).')\n",
      "2022-03-19 17:59:25.741815: I tensorflow/stream_executor/cuda/cuda_dnn.cc:369] Loaded cuDNN version 8005\n",
      "2022-03-19 17:59:30.810206: I tensorflow/compiler/mlir/mlir_graph_optimization_pass.cc:185] None of the MLIR Optimization Passes are enabled (registered 2)\n"
     ]
    },
    {
     "name": "stdout",
     "output_type": "stream",
     "text": [
      "Epoch 1/100\n",
      "15529/15529 [==============================] - 134s 8ms/step - loss: 0.6167 - auc: 0.7188 - val_loss: 0.6260 - val_auc: 0.7537\n",
      "Epoch 2/100\n",
      "15529/15529 [==============================] - 132s 9ms/step - loss: 0.5851 - auc: 0.7572 - val_loss: 0.6417 - val_auc: 0.7457\n",
      "Epoch 3/100\n",
      "15529/15529 [==============================] - 135s 9ms/step - loss: 0.5779 - auc: 0.7651 - val_loss: 0.5758 - val_auc: 0.7694\n",
      "Epoch 4/100\n",
      "15529/15529 [==============================] - 137s 9ms/step - loss: 0.5744 - auc: 0.7691 - val_loss: 0.5900 - val_auc: 0.7655\n",
      "Epoch 5/100\n",
      "15529/15529 [==============================] - 138s 9ms/step - loss: 0.5714 - auc: 0.7722 - val_loss: 0.5783 - val_auc: 0.7745\n",
      "Epoch 6/100\n",
      "15529/15529 [==============================] - 136s 9ms/step - loss: 0.5687 - auc: 0.7750 - val_loss: 0.5817 - val_auc: 0.7676\n",
      "Epoch 7/100\n",
      "15529/15529 [==============================] - 135s 9ms/step - loss: 0.5666 - auc: 0.7771 - val_loss: 0.5876 - val_auc: 0.7596\n",
      "Epoch 8/100\n",
      "15529/15529 [==============================] - 135s 9ms/step - loss: 0.5638 - auc: 0.7799 - val_loss: 0.5800 - val_auc: 0.7672\n",
      "Epoch 9/100\n",
      "15529/15529 [==============================] - 137s 9ms/step - loss: 0.5618 - auc: 0.7820 - val_loss: 0.5654 - val_auc: 0.7797\n",
      "Epoch 10/100\n",
      "15529/15529 [==============================] - 134s 9ms/step - loss: 0.5603 - auc: 0.7835 - val_loss: 0.5713 - val_auc: 0.7758\n",
      "Epoch 11/100\n",
      "15529/15529 [==============================] - 136s 9ms/step - loss: 0.5602 - auc: 0.7837 - val_loss: 0.5803 - val_auc: 0.7674\n",
      "Epoch 12/100\n",
      "15529/15529 [==============================] - 135s 9ms/step - loss: 0.5592 - auc: 0.7847 - val_loss: 0.5738 - val_auc: 0.7726\n",
      "Epoch 13/100\n",
      "15529/15529 [==============================] - 136s 9ms/step - loss: 0.5582 - auc: 0.7857 - val_loss: 0.5846 - val_auc: 0.7772\n",
      "Epoch 14/100\n",
      "15529/15529 [==============================] - 137s 9ms/step - loss: 0.5568 - auc: 0.7871 - val_loss: 0.5823 - val_auc: 0.7639\n",
      "Epoch 15/100\n",
      "15529/15529 [==============================] - 137s 9ms/step - loss: 0.5562 - auc: 0.7876 - val_loss: 0.5749 - val_auc: 0.7741\n",
      "Epoch 16/100\n",
      "15529/15529 [==============================] - 138s 9ms/step - loss: 0.5555 - auc: 0.7883 - val_loss: 0.5888 - val_auc: 0.7775\n",
      "Epoch 17/100\n",
      "15529/15529 [==============================] - 134s 9ms/step - loss: 0.5551 - auc: 0.7886 - val_loss: 0.5849 - val_auc: 0.7710\n",
      "Epoch 18/100\n",
      "15529/15529 [==============================] - 134s 9ms/step - loss: 0.5547 - auc: 0.7891 - val_loss: 0.5731 - val_auc: 0.7807\n",
      "Epoch 19/100\n",
      "15529/15529 [==============================] - 108s 7ms/step - loss: 0.5555 - auc: 0.7884 - val_loss: 0.5814 - val_auc: 0.7772\n",
      "Epoch 20/100\n",
      "15529/15529 [==============================] - 123s 8ms/step - loss: 0.5539 - auc: 0.7897 - val_loss: 0.5744 - val_auc: 0.7777\n",
      "Epoch 21/100\n",
      "15529/15529 [==============================] - 109s 7ms/step - loss: 0.5529 - auc: 0.7909 - val_loss: 0.5891 - val_auc: 0.7830\n",
      "Epoch 22/100\n",
      "15529/15529 [==============================] - 120s 8ms/step - loss: 0.5532 - auc: 0.7905 - val_loss: 0.5773 - val_auc: 0.7764\n",
      "Epoch 23/100\n",
      "15529/15529 [==============================] - 108s 7ms/step - loss: 0.5536 - auc: 0.7901 - val_loss: 0.5786 - val_auc: 0.7786\n",
      "Epoch 24/100\n",
      "15529/15529 [==============================] - 114s 7ms/step - loss: 0.5542 - auc: 0.7896 - val_loss: 0.5930 - val_auc: 0.7751\n",
      "Epoch 25/100\n",
      "15529/15529 [==============================] - 118s 8ms/step - loss: 0.5528 - auc: 0.7909 - val_loss: 0.5738 - val_auc: 0.7775\n",
      "Epoch 26/100\n",
      "15529/15529 [==============================] - 108s 7ms/step - loss: 0.5528 - auc: 0.7910 - val_loss: 0.5780 - val_auc: 0.7766\n",
      "Epoch 27/100\n",
      "15529/15529 [==============================] - 125s 8ms/step - loss: 0.5518 - auc: 0.7919 - val_loss: 0.5629 - val_auc: 0.7840\n",
      "Epoch 28/100\n",
      "15529/15529 [==============================] - 109s 7ms/step - loss: 0.5517 - auc: 0.7920 - val_loss: 0.5743 - val_auc: 0.7785\n",
      "Epoch 29/100\n",
      "15529/15529 [==============================] - 119s 8ms/step - loss: 0.5517 - auc: 0.7919 - val_loss: 0.5937 - val_auc: 0.7720\n",
      "Epoch 30/100\n",
      "15529/15529 [==============================] - 115s 7ms/step - loss: 0.5515 - auc: 0.7922 - val_loss: 0.5634 - val_auc: 0.7828\n",
      "Epoch 31/100\n",
      "15529/15529 [==============================] - 109s 7ms/step - loss: 0.5523 - auc: 0.7914 - val_loss: 2.3527 - val_auc: 0.7794\n",
      "Epoch 32/100\n",
      "15529/15529 [==============================] - 127s 8ms/step - loss: 0.5520 - auc: 0.7917 - val_loss: 0.8377 - val_auc: 0.7747\n",
      "Epoch 33/100\n",
      "15529/15529 [==============================] - 109s 7ms/step - loss: 0.5529 - auc: 0.7909 - val_loss: 0.6034 - val_auc: 0.7754\n",
      "Epoch 34/100\n",
      "15529/15529 [==============================] - 122s 8ms/step - loss: 0.5525 - auc: 0.7912 - val_loss: 0.5658 - val_auc: 0.7821\n",
      "Epoch 35/100\n",
      "15529/15529 [==============================] - 120s 8ms/step - loss: 0.5505 - auc: 0.7932 - val_loss: 0.5691 - val_auc: 0.7749\n",
      "Epoch 36/100\n",
      "15529/15529 [==============================] - 110s 7ms/step - loss: 0.5504 - auc: 0.7934 - val_loss: 0.5609 - val_auc: 0.7845\n",
      "Epoch 37/100\n",
      "15529/15529 [==============================] - 132s 8ms/step - loss: 0.5506 - auc: 0.7930 - val_loss: 0.5658 - val_auc: 0.7867\n",
      "Epoch 38/100\n",
      "15529/15529 [==============================] - 110s 7ms/step - loss: 0.5491 - auc: 0.7946 - val_loss: 0.5862 - val_auc: 0.7813\n",
      "Epoch 39/100\n",
      "15529/15529 [==============================] - 121s 8ms/step - loss: 0.5501 - auc: 0.7935 - val_loss: 0.6028 - val_auc: 0.7809\n",
      "Epoch 40/100\n",
      "15529/15529 [==============================] - 108s 7ms/step - loss: 0.5486 - auc: 0.7949 - val_loss: 0.5853 - val_auc: 0.7746\n",
      "Epoch 41/100\n",
      "15529/15529 [==============================] - 109s 7ms/step - loss: 0.5484 - auc: 0.7952 - val_loss: 0.5748 - val_auc: 0.7741\n",
      "Epoch 42/100\n",
      "15529/15529 [==============================] - 133s 9ms/step - loss: 0.5489 - auc: 0.7946 - val_loss: 0.5753 - val_auc: 0.7773\n",
      "Epoch 43/100\n",
      "15529/15529 [==============================] - 108s 7ms/step - loss: 0.5491 - auc: 0.7944 - val_loss: 0.6864 - val_auc: 0.7790\n",
      "Epoch 44/100\n",
      "15529/15529 [==============================] - 112s 7ms/step - loss: 0.5491 - auc: 0.7945 - val_loss: 0.5696 - val_auc: 0.7807\n",
      "Epoch 45/100\n",
      "15529/15529 [==============================] - 110s 7ms/step - loss: 0.5491 - auc: 0.7944 - val_loss: 0.5696 - val_auc: 0.7889\n",
      "Epoch 46/100\n",
      "15529/15529 [==============================] - 113s 7ms/step - loss: 0.5486 - auc: 0.7950 - val_loss: 0.5649 - val_auc: 0.7886\n",
      "Epoch 47/100\n",
      "15529/15529 [==============================] - 110s 7ms/step - loss: 0.5496 - auc: 0.7938 - val_loss: 0.5762 - val_auc: 0.7798\n",
      "Epoch 48/100\n",
      "15529/15529 [==============================] - 111s 7ms/step - loss: 0.5485 - auc: 0.7950 - val_loss: 0.5640 - val_auc: 0.7824\n",
      "Epoch 49/100\n",
      "15529/15529 [==============================] - 112s 7ms/step - loss: 0.5478 - auc: 0.7957 - val_loss: 0.5695 - val_auc: 0.7810\n",
      "Epoch 50/100\n",
      "15529/15529 [==============================] - 111s 7ms/step - loss: 0.5480 - auc: 0.7954 - val_loss: 0.5961 - val_auc: 0.7790\n",
      "Epoch 51/100\n",
      "15529/15529 [==============================] - 141s 9ms/step - loss: 0.5477 - auc: 0.7958 - val_loss: 0.5633 - val_auc: 0.7849\n",
      "Epoch 52/100\n",
      "15529/15529 [==============================] - 111s 7ms/step - loss: 0.5479 - auc: 0.7956 - val_loss: 0.5650 - val_auc: 0.7816\n",
      "Epoch 53/100\n",
      "15529/15529 [==============================] - 110s 7ms/step - loss: 0.5469 - auc: 0.7966 - val_loss: 0.5601 - val_auc: 0.7869\n",
      "Epoch 54/100\n",
      "15529/15529 [==============================] - 110s 7ms/step - loss: 0.5473 - auc: 0.7961 - val_loss: 0.5585 - val_auc: 0.7868\n",
      "Epoch 55/100\n",
      "15529/15529 [==============================] - 112s 7ms/step - loss: 0.5469 - auc: 0.7966 - val_loss: 0.5683 - val_auc: 0.7843\n",
      "Epoch 56/100\n",
      "15529/15529 [==============================] - 143s 9ms/step - loss: 0.5478 - auc: 0.7958 - val_loss: 2.0227 - val_auc: 0.7790\n",
      "Epoch 57/100\n",
      "15529/15529 [==============================] - 111s 7ms/step - loss: 0.5476 - auc: 0.7958 - val_loss: 0.5661 - val_auc: 0.7816\n",
      "Epoch 58/100\n",
      "15529/15529 [==============================] - 111s 7ms/step - loss: 0.5555 - auc: 0.7884 - val_loss: 0.6459 - val_auc: 0.7615\n",
      "Epoch 59/100\n",
      "15529/15529 [==============================] - 111s 7ms/step - loss: 0.5525 - auc: 0.7915 - val_loss: 0.8119 - val_auc: 0.7752\n",
      "Epoch 60/100\n",
      "15529/15529 [==============================] - 123s 8ms/step - loss: 0.5485 - auc: 0.7951 - val_loss: 1.4947 - val_auc: 0.7774\n",
      "Epoch 61/100\n",
      "15529/15529 [==============================] - 135s 9ms/step - loss: 0.5490 - auc: 0.7947 - val_loss: 1.6643 - val_auc: 0.7833\n",
      "Epoch 62/100\n",
      "15529/15529 [==============================] - 109s 7ms/step - loss: 0.5483 - auc: 0.7952 - val_loss: 0.5868 - val_auc: 0.7836\n",
      "Epoch 63/100\n",
      "15529/15529 [==============================] - 109s 7ms/step - loss: 0.5481 - auc: 0.7954 - val_loss: 0.8729 - val_auc: 0.5902\n",
      "Epoch 64/100\n",
      "15529/15529 [==============================] - 108s 7ms/step - loss: 0.5508 - auc: 0.7930 - val_loss: 0.5999 - val_auc: 0.7816\n",
      "Epoch 65/100\n",
      "15529/15529 [==============================] - 119s 8ms/step - loss: 0.5487 - auc: 0.7948 - val_loss: 0.5746 - val_auc: 0.7857\n",
      "Epoch 66/100\n",
      "15529/15529 [==============================] - 117s 8ms/step - loss: 0.5469 - auc: 0.7965 - val_loss: 0.5632 - val_auc: 0.7863\n",
      "Epoch 67/100\n",
      "15529/15529 [==============================] - 108s 7ms/step - loss: 0.5457 - auc: 0.7977 - val_loss: 0.5726 - val_auc: 0.7851\n",
      "Epoch 68/100\n",
      "15529/15529 [==============================] - 109s 7ms/step - loss: 0.5498 - auc: 0.7938 - val_loss: 1.2527 - val_auc: 0.7852\n",
      "Epoch 69/100\n",
      "15529/15529 [==============================] - 107s 7ms/step - loss: 0.5480 - auc: 0.7956 - val_loss: 1.0923 - val_auc: 0.7816\n",
      "Epoch 70/100\n",
      "15529/15529 [==============================] - 146s 9ms/step - loss: 0.5485 - auc: 0.7952 - val_loss: 0.6434 - val_auc: 0.7815\n",
      "Epoch 71/100\n",
      "15529/15529 [==============================] - 109s 7ms/step - loss: 0.5478 - auc: 0.7956 - val_loss: 0.7758 - val_auc: 0.7804\n",
      "Epoch 72/100\n",
      "15529/15529 [==============================] - 108s 7ms/step - loss: 0.5461 - auc: 0.7972 - val_loss: 2.9420 - val_auc: 0.7829\n",
      "Epoch 73/100\n",
      "15529/15529 [==============================] - 114s 7ms/step - loss: 0.5458 - auc: 0.7976 - val_loss: 0.6055 - val_auc: 0.7866\n",
      "Epoch 74/100\n",
      "15529/15529 [==============================] - 115s 7ms/step - loss: 0.5471 - auc: 0.7963 - val_loss: 0.5717 - val_auc: 0.7779\n"
     ]
    }
   ],
   "source": [
    "\n",
    "history = model.fit(\n",
    "    datagen.flow(X_train, y_train, batch_size=batch_size),\n",
    "    validation_data=datagen.flow(X_val, y_val,\n",
    "    batch_size=batch_size),\n",
    "    epochs = 100,\n",
    "    callbacks = [call_back]\n",
    ")"
   ]
  },
  {
   "cell_type": "code",
   "execution_count": 23,
   "id": "ef7bd24e",
   "metadata": {
    "execution": {
     "iopub.execute_input": "2022-03-19T20:32:59.745803Z",
     "iopub.status.busy": "2022-03-19T20:32:59.745177Z",
     "iopub.status.idle": "2022-03-19T20:33:48.565467Z",
     "shell.execute_reply": "2022-03-19T20:33:48.564988Z",
     "shell.execute_reply.started": "2022-03-19T16:36:08.968073Z"
    },
    "papermill": {
     "duration": 103.365061,
     "end_time": "2022-03-19T20:33:48.565601",
     "exception": false,
     "start_time": "2022-03-19T20:32:05.200540",
     "status": "completed"
    },
    "tags": []
   },
   "outputs": [],
   "source": [
    "%matplotlib inline\n",
    "\n",
    "import matplotlib.pyplot as plt"
   ]
  },
  {
   "cell_type": "code",
   "execution_count": 24,
   "id": "c56ca539",
   "metadata": {
    "execution": {
     "iopub.execute_input": "2022-03-19T20:35:36.495733Z",
     "iopub.status.busy": "2022-03-19T20:35:36.494848Z",
     "iopub.status.idle": "2022-03-19T20:35:36.870155Z",
     "shell.execute_reply": "2022-03-19T20:35:36.871213Z",
     "shell.execute_reply.started": "2022-03-19T16:36:08.9705Z"
    },
    "papermill": {
     "duration": 54.337825,
     "end_time": "2022-03-19T20:35:36.871435",
     "exception": false,
     "start_time": "2022-03-19T20:34:42.533610",
     "status": "completed"
    },
    "tags": []
   },
   "outputs": [
    {
     "data": {
      "text/plain": [
       "Text(0.5, 1.0, 'Training & validation loss')"
      ]
     },
     "execution_count": 24,
     "metadata": {},
     "output_type": "execute_result"
    },
    {
     "data": {
      "image/png": "[encoded data removed]",
      "text/plain": [
       "<Figure size 432x288 with 1 Axes>"
      ]
     },
     "metadata": {
      "needs_background": "light"
     },
     "output_type": "display_data"
    },
    {
     "data": {
      "image/png": "[encoded data removed]",
      "text/plain": [
       "<Figure size 432x288 with 1 Axes>"
      ]
     },
     "metadata": {
      "needs_background": "light"
     },
     "output_type": "display_data"
    }
   ],
   "source": [
    "acc = history.history['auc']\n",
    "val_acc = history.history['val_auc']\n",
    "loss = history.history['loss']\n",
    "val_loss = history.history['val_loss']\n",
    "\n",
    "epochs = range(len(acc))\n",
    "plt.plot(epochs, acc)\n",
    "plt.plot(epochs, val_acc)\n",
    "plt.title('Training & validation on accuracy')\n",
    "plt.figure()\n",
    "\n",
    "plt.plot(epochs,loss)\n",
    "plt.plot(epochs,val_loss)\n",
    "plt.title('Training & validation loss')"
   ]
  },
  {
   "cell_type": "code",
   "execution_count": null,
   "id": "b3777e17",
   "metadata": {
    "papermill": {
     "duration": 54.260637,
     "end_time": "2022-03-19T20:37:25.498983",
     "exception": false,
     "start_time": "2022-03-19T20:36:31.238346",
     "status": "completed"
    },
    "tags": []
   },
   "outputs": [],
   "source": []
  }
 ],
 "metadata": {
  "kernelspec": {
   "display_name": "Python 3",
   "language": "python",
   "name": "python3"
  },
  "language_info": {
   "codemirror_mode": {
    "name": "ipython",
    "version": 3
   },
   "file_extension": ".py",
   "mimetype": "text/x-python",
   "name": "python",
   "nbconvert_exporter": "python",
   "pygments_lexer": "ipython3",
   "version": "3.7.12"
  },
  "papermill": {
   "default_parameters": {},
   "duration": 9574.009099,
   "end_time": "2022-03-19T20:38:23.018719",
   "environment_variables": {},
   "exception": null,
   "input_path": "__notebook__.ipynb",
   "output_path": "__notebook__.ipynb",
   "parameters": {},
   "start_time": "2022-03-19T17:58:49.009620",
   "version": "2.3.3"
  }
 },
 "nbformat": 4,
 "nbformat_minor": 5
}
