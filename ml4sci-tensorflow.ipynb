{
 "cells": [
  {
   "cell_type": "code",
   "execution_count": 1,
   "id": "33b3df91",
   "metadata": {
    "_cell_guid": "b1076dfc-b9ad-4769-8c92-a6c4dae69d19",
    "_uuid": "8f2839f25d086af736a60e9eeb907d3b93b6e0e5",
    "execution": {
     "iopub.execute_input": "2022-03-19T16:59:59.541786Z",
     "iopub.status.busy": "2022-03-19T16:59:59.541011Z",
     "iopub.status.idle": "2022-03-19T16:59:59.698893Z",
     "shell.execute_reply": "2022-03-19T16:59:59.699766Z",
     "shell.execute_reply.started": "2022-03-19T16:35:31.679965Z"
    },
    "papermill": {
     "duration": 0.21092,
     "end_time": "2022-03-19T16:59:59.700233",
     "exception": false,
     "start_time": "2022-03-19T16:59:59.489313",
     "status": "completed"
    },
    "tags": []
   },
   "outputs": [],
   "source": [
    "import numpy as np\n",
    "import pandas as pd\n",
    "import h5py\n",
    "from tqdm import tqdm\n",
    "import matplotlib.pyplot as plt"
   ]
  },
  {
   "cell_type": "code",
   "execution_count": 2,
   "id": "88e40e65",
   "metadata": {
    "execution": {
     "iopub.execute_input": "2022-03-19T16:59:59.802438Z",
     "iopub.status.busy": "2022-03-19T16:59:59.801699Z",
     "iopub.status.idle": "2022-03-19T16:59:59.804547Z",
     "shell.execute_reply": "2022-03-19T16:59:59.804073Z",
     "shell.execute_reply.started": "2022-03-19T16:35:41.388745Z"
    },
    "papermill": {
     "duration": 0.055576,
     "end_time": "2022-03-19T16:59:59.804667",
     "exception": false,
     "start_time": "2022-03-19T16:59:59.749091",
     "status": "completed"
    },
    "tags": []
   },
   "outputs": [],
   "source": [
    "hf_e = h5py.File('../input/ml4sci/SingleElectronPt50_IMGCROPS_n249k_RHv1.hdf5', 'r')\n",
    "electron_data_x = hf_e.get('X')\n",
    "electron_data_y = hf_e.get('y')"
   ]
  },
  {
   "cell_type": "code",
   "execution_count": 3,
   "id": "681c224c",
   "metadata": {
    "execution": {
     "iopub.execute_input": "2022-03-19T16:59:59.859964Z",
     "iopub.status.busy": "2022-03-19T16:59:59.859303Z",
     "iopub.status.idle": "2022-03-19T16:59:59.861629Z",
     "shell.execute_reply": "2022-03-19T16:59:59.862016Z",
     "shell.execute_reply.started": "2022-03-19T16:35:41.424539Z"
    },
    "papermill": {
     "duration": 0.034052,
     "end_time": "2022-03-19T16:59:59.862185",
     "exception": false,
     "start_time": "2022-03-19T16:59:59.828133",
     "status": "completed"
    },
    "tags": []
   },
   "outputs": [],
   "source": [
    "hf_p = h5py.File('../input/ml4sci/SinglePhotonPt50_IMGCROPS_n249k_RHv1.hdf5', 'r')\n",
    "photon_data_x = hf_p.get('X')\n",
    "photon_data_y = hf_p.get('y')"
   ]
  },
  {
   "cell_type": "code",
   "execution_count": 4,
   "id": "8814737d",
   "metadata": {
    "execution": {
     "iopub.execute_input": "2022-03-19T16:59:59.911966Z",
     "iopub.status.busy": "2022-03-19T16:59:59.911403Z",
     "iopub.status.idle": "2022-03-19T17:00:11.375078Z",
     "shell.execute_reply": "2022-03-19T17:00:11.374606Z",
     "shell.execute_reply.started": "2022-03-19T16:35:41.450403Z"
    },
    "papermill": {
     "duration": 11.491227,
     "end_time": "2022-03-19T17:00:11.375239",
     "exception": false,
     "start_time": "2022-03-19T16:59:59.884012",
     "status": "completed"
    },
    "tags": []
   },
   "outputs": [],
   "source": [
    "electron_data_x = np.asarray(electron_data_x)\n",
    "electron_data_y = np.asarray(electron_data_y)\n",
    "\n",
    "photon_data_x = np.asarray(photon_data_x)\n",
    "photon_data_y = np.asarray(photon_data_y)"
   ]
  },
  {
   "cell_type": "code",
   "execution_count": 5,
   "id": "c2396ac2",
   "metadata": {
    "execution": {
     "iopub.execute_input": "2022-03-19T17:00:11.422589Z",
     "iopub.status.busy": "2022-03-19T17:00:11.421986Z",
     "iopub.status.idle": "2022-03-19T17:00:11.424895Z",
     "shell.execute_reply": "2022-03-19T17:00:11.425323Z",
     "shell.execute_reply.started": "2022-03-19T16:35:54.891110Z"
    },
    "papermill": {
     "duration": 0.028799,
     "end_time": "2022-03-19T17:00:11.425454",
     "exception": false,
     "start_time": "2022-03-19T17:00:11.396655",
     "status": "completed"
    },
    "tags": []
   },
   "outputs": [
    {
     "name": "stdout",
     "output_type": "stream",
     "text": [
      "(249000, 32, 32, 2)\n",
      "(249000, 32, 32, 2)\n",
      "(249000,)\n",
      "(249000,)\n"
     ]
    }
   ],
   "source": [
    "print(electron_data_x.shape)\n",
    "print(photon_data_x.shape)\n",
    "\n",
    "print(electron_data_y.shape)\n",
    "print(photon_data_y.shape)"
   ]
  },
  {
   "cell_type": "code",
   "execution_count": 6,
   "id": "56aad71b",
   "metadata": {
    "execution": {
     "iopub.execute_input": "2022-03-19T17:00:11.474680Z",
     "iopub.status.busy": "2022-03-19T17:00:11.473570Z",
     "iopub.status.idle": "2022-03-19T17:00:12.987336Z",
     "shell.execute_reply": "2022-03-19T17:00:12.988402Z",
     "shell.execute_reply.started": "2022-03-19T16:35:54.903165Z"
    },
    "papermill": {
     "duration": 1.540053,
     "end_time": "2022-03-19T17:00:12.988610",
     "exception": false,
     "start_time": "2022-03-19T17:00:11.448557",
     "status": "completed"
    },
    "tags": []
   },
   "outputs": [],
   "source": [
    "X = np.concatenate((electron_data_x, photon_data_x))\n",
    "y = np.concatenate((electron_data_y, photon_data_y))"
   ]
  },
  {
   "cell_type": "code",
   "execution_count": 7,
   "id": "87779569",
   "metadata": {
    "execution": {
     "iopub.execute_input": "2022-03-19T17:00:13.061387Z",
     "iopub.status.busy": "2022-03-19T17:00:13.060382Z",
     "iopub.status.idle": "2022-03-19T17:00:13.064230Z",
     "shell.execute_reply": "2022-03-19T17:00:13.063633Z",
     "shell.execute_reply.started": "2022-03-19T16:35:56.506440Z"
    },
    "papermill": {
     "duration": 0.036331,
     "end_time": "2022-03-19T17:00:13.064350",
     "exception": false,
     "start_time": "2022-03-19T17:00:13.028019",
     "status": "completed"
    },
    "tags": []
   },
   "outputs": [
    {
     "name": "stdout",
     "output_type": "stream",
     "text": [
      "(498000, 32, 32, 2)\n",
      "(498000,)\n"
     ]
    }
   ],
   "source": [
    "print(X.shape)\n",
    "print(y.shape)"
   ]
  },
  {
   "cell_type": "code",
   "execution_count": 8,
   "id": "c1f69eb0",
   "metadata": {
    "execution": {
     "iopub.execute_input": "2022-03-19T17:00:13.112954Z",
     "iopub.status.busy": "2022-03-19T17:00:13.112450Z",
     "iopub.status.idle": "2022-03-19T17:00:13.116002Z",
     "shell.execute_reply": "2022-03-19T17:00:13.115605Z",
     "shell.execute_reply.started": "2022-03-19T16:35:56.517113Z"
    },
    "papermill": {
     "duration": 0.028365,
     "end_time": "2022-03-19T17:00:13.116124",
     "exception": false,
     "start_time": "2022-03-19T17:00:13.087759",
     "status": "completed"
    },
    "tags": []
   },
   "outputs": [],
   "source": [
    "# X_vis = X[:5]\n",
    "\n",
    "# fig, axes = plt.subplots(nrows=len(X_vis), ncols=2, figsize=(48, 48))\n",
    "# for i in range(len(X_vis)):\n",
    "\n",
    "#     axes[i][0].imshow(X_vis[i,:,:,0])\n",
    "#     axes[i][1].imshow(X_vis[i,:,:,1])\n",
    "\n"
   ]
  },
  {
   "cell_type": "code",
   "execution_count": 9,
   "id": "c73416fd",
   "metadata": {
    "execution": {
     "iopub.execute_input": "2022-03-19T17:00:13.168182Z",
     "iopub.status.busy": "2022-03-19T17:00:13.167570Z",
     "iopub.status.idle": "2022-03-19T17:00:17.584293Z",
     "shell.execute_reply": "2022-03-19T17:00:17.583797Z",
     "shell.execute_reply.started": "2022-03-19T16:35:56.531267Z"
    },
    "papermill": {
     "duration": 4.444207,
     "end_time": "2022-03-19T17:00:17.584436",
     "exception": false,
     "start_time": "2022-03-19T17:00:13.140229",
     "status": "completed"
    },
    "tags": []
   },
   "outputs": [],
   "source": [
    "from sklearn.utils import shuffle\n",
    "X, y = shuffle(X, y, random_state=0)\n",
    "X, y = shuffle(X, y, random_state=0) #really random "
   ]
  },
  {
   "cell_type": "code",
   "execution_count": 10,
   "id": "1d4c4474",
   "metadata": {
    "execution": {
     "iopub.execute_input": "2022-03-19T17:00:17.630804Z",
     "iopub.status.busy": "2022-03-19T17:00:17.630263Z",
     "iopub.status.idle": "2022-03-19T17:00:17.632904Z",
     "shell.execute_reply": "2022-03-19T17:00:17.632518Z",
     "shell.execute_reply.started": "2022-03-19T16:36:02.368894Z"
    },
    "papermill": {
     "duration": 0.026995,
     "end_time": "2022-03-19T17:00:17.633010",
     "exception": false,
     "start_time": "2022-03-19T17:00:17.606015",
     "status": "completed"
    },
    "tags": []
   },
   "outputs": [],
   "source": [
    "# mean = 0.015\n",
    "# std = 0.297"
   ]
  },
  {
   "cell_type": "code",
   "execution_count": 11,
   "id": "b7b66704",
   "metadata": {
    "execution": {
     "iopub.execute_input": "2022-03-19T17:00:17.681785Z",
     "iopub.status.busy": "2022-03-19T17:00:17.680794Z",
     "iopub.status.idle": "2022-03-19T17:00:17.683813Z",
     "shell.execute_reply": "2022-03-19T17:00:17.684235Z",
     "shell.execute_reply.started": "2022-03-19T16:36:02.376696Z"
    },
    "papermill": {
     "duration": 0.030051,
     "end_time": "2022-03-19T17:00:17.684355",
     "exception": false,
     "start_time": "2022-03-19T17:00:17.654304",
     "status": "completed"
    },
    "tags": []
   },
   "outputs": [
    {
     "name": "stdout",
     "output_type": "stream",
     "text": [
      "(496900, 32, 32, 2)\n",
      "(1000, 32, 32, 2)\n",
      "(100, 32, 32, 2)\n"
     ]
    }
   ],
   "source": [
    "X_train = X[:496900]\n",
    "X_val = X[496900:497900]\n",
    "X_test = X[497900:]\n",
    "\n",
    "print(X_train.shape)\n",
    "print(X_val.shape)\n",
    "print(X_test.shape)"
   ]
  },
  {
   "cell_type": "code",
   "execution_count": 12,
   "id": "69176839",
   "metadata": {
    "execution": {
     "iopub.execute_input": "2022-03-19T17:00:17.734363Z",
     "iopub.status.busy": "2022-03-19T17:00:17.733288Z",
     "iopub.status.idle": "2022-03-19T17:00:17.736354Z",
     "shell.execute_reply": "2022-03-19T17:00:17.736752Z",
     "shell.execute_reply.started": "2022-03-19T16:36:02.394400Z"
    },
    "papermill": {
     "duration": 0.030897,
     "end_time": "2022-03-19T17:00:17.736864",
     "exception": false,
     "start_time": "2022-03-19T17:00:17.705967",
     "status": "completed"
    },
    "tags": []
   },
   "outputs": [
    {
     "name": "stdout",
     "output_type": "stream",
     "text": [
      "(496900,)\n",
      "(1000,)\n",
      "(100,)\n"
     ]
    }
   ],
   "source": [
    "y_train = y[:496900]\n",
    "y_val = y[496900:497900]\n",
    "y_test = y[497900:]\n",
    "\n",
    "print(y_train.shape)\n",
    "print(y_val.shape)\n",
    "print(y_test.shape)"
   ]
  },
  {
   "cell_type": "code",
   "execution_count": 13,
   "id": "74d9a240",
   "metadata": {
    "execution": {
     "iopub.execute_input": "2022-03-19T17:00:17.785681Z",
     "iopub.status.busy": "2022-03-19T17:00:17.784057Z",
     "iopub.status.idle": "2022-03-19T17:00:17.786427Z",
     "shell.execute_reply": "2022-03-19T17:00:17.786822Z",
     "shell.execute_reply.started": "2022-03-19T16:36:02.408807Z"
    },
    "papermill": {
     "duration": 0.02816,
     "end_time": "2022-03-19T17:00:17.786946",
     "exception": false,
     "start_time": "2022-03-19T17:00:17.758786",
     "status": "completed"
    },
    "tags": []
   },
   "outputs": [],
   "source": [
    "# model = CreateModel()\n",
    "# model.to(Config['DEVICE'])"
   ]
  },
  {
   "cell_type": "code",
   "execution_count": 14,
   "id": "e580b82e",
   "metadata": {
    "execution": {
     "iopub.execute_input": "2022-03-19T17:00:17.837525Z",
     "iopub.status.busy": "2022-03-19T17:00:17.835941Z",
     "iopub.status.idle": "2022-03-19T17:00:17.838090Z",
     "shell.execute_reply": "2022-03-19T17:00:17.838526Z",
     "shell.execute_reply.started": "2022-03-19T16:36:02.417881Z"
    },
    "papermill": {
     "duration": 0.028809,
     "end_time": "2022-03-19T17:00:17.838651",
     "exception": false,
     "start_time": "2022-03-19T17:00:17.809842",
     "status": "completed"
    },
    "tags": []
   },
   "outputs": [],
   "source": [
    "batch_size = 32\n",
    "img_size = 32"
   ]
  },
  {
   "cell_type": "code",
   "execution_count": 15,
   "id": "8e8c980e",
   "metadata": {
    "execution": {
     "iopub.execute_input": "2022-03-19T17:00:17.887148Z",
     "iopub.status.busy": "2022-03-19T17:00:17.886315Z",
     "iopub.status.idle": "2022-03-19T17:00:17.888280Z",
     "shell.execute_reply": "2022-03-19T17:00:17.888683Z",
     "shell.execute_reply.started": "2022-03-19T16:36:02.426705Z"
    },
    "papermill": {
     "duration": 0.028095,
     "end_time": "2022-03-19T17:00:17.888807",
     "exception": false,
     "start_time": "2022-03-19T17:00:17.860712",
     "status": "completed"
    },
    "tags": []
   },
   "outputs": [],
   "source": [
    "# from sklearn.preprocessing import normalize\n",
    "# normed_matrix = normalize(X, axis=1, norm='l1')"
   ]
  },
  {
   "cell_type": "code",
   "execution_count": 16,
   "id": "4b328004",
   "metadata": {
    "execution": {
     "iopub.execute_input": "2022-03-19T17:00:17.937319Z",
     "iopub.status.busy": "2022-03-19T17:00:17.936510Z",
     "iopub.status.idle": "2022-03-19T17:00:17.938858Z",
     "shell.execute_reply": "2022-03-19T17:00:17.938438Z",
     "shell.execute_reply.started": "2022-03-19T16:36:02.437261Z"
    },
    "papermill": {
     "duration": 0.028014,
     "end_time": "2022-03-19T17:00:17.938973",
     "exception": false,
     "start_time": "2022-03-19T17:00:17.910959",
     "status": "completed"
    },
    "tags": []
   },
   "outputs": [],
   "source": [
    "# X = np.linalg.norm(X, axis = 1, keepdims = True)"
   ]
  },
  {
   "cell_type": "code",
   "execution_count": 17,
   "id": "70712475",
   "metadata": {
    "execution": {
     "iopub.execute_input": "2022-03-19T17:00:17.988356Z",
     "iopub.status.busy": "2022-03-19T17:00:17.987694Z",
     "iopub.status.idle": "2022-03-19T17:00:22.848624Z",
     "shell.execute_reply": "2022-03-19T17:00:22.847964Z",
     "shell.execute_reply.started": "2022-03-19T16:36:02.446364Z"
    },
    "papermill": {
     "duration": 4.887081,
     "end_time": "2022-03-19T17:00:22.848764",
     "exception": false,
     "start_time": "2022-03-19T17:00:17.961683",
     "status": "completed"
    },
    "tags": []
   },
   "outputs": [],
   "source": [
    "from tensorflow.keras.preprocessing.image import ImageDataGenerator\n",
    "\n",
    "datagen = ImageDataGenerator()\n",
    "\n",
    "# datagen = ImageDataGenerator(\n",
    "#     featurewise_std_normalization=True,\n",
    "# )\n",
    "# datagen.fit(X_train)\n",
    "# datagen.fit(X_val)\n",
    "# datagen.fit(X_test)"
   ]
  },
  {
   "cell_type": "code",
   "execution_count": 18,
   "id": "c321d12e",
   "metadata": {
    "execution": {
     "iopub.execute_input": "2022-03-19T17:00:22.904114Z",
     "iopub.status.busy": "2022-03-19T17:00:22.903582Z",
     "iopub.status.idle": "2022-03-19T17:00:25.372379Z",
     "shell.execute_reply": "2022-03-19T17:00:25.371793Z",
     "shell.execute_reply.started": "2022-03-19T16:36:05.723818Z"
    },
    "papermill": {
     "duration": 2.500971,
     "end_time": "2022-03-19T17:00:25.372527",
     "exception": false,
     "start_time": "2022-03-19T17:00:22.871556",
     "status": "completed"
    },
    "tags": []
   },
   "outputs": [
    {
     "name": "stderr",
     "output_type": "stream",
     "text": [
      "2022-03-19 17:00:22.997607: I tensorflow/stream_executor/cuda/cuda_gpu_executor.cc:937] successful NUMA node read from SysFS had negative value (-1), but there must be at least one NUMA node, so returning NUMA node zero\n",
      "2022-03-19 17:00:23.082786: I tensorflow/stream_executor/cuda/cuda_gpu_executor.cc:937] successful NUMA node read from SysFS had negative value (-1), but there must be at least one NUMA node, so returning NUMA node zero\n",
      "2022-03-19 17:00:23.083589: I tensorflow/stream_executor/cuda/cuda_gpu_executor.cc:937] successful NUMA node read from SysFS had negative value (-1), but there must be at least one NUMA node, so returning NUMA node zero\n",
      "2022-03-19 17:00:23.084809: I tensorflow/core/platform/cpu_feature_guard.cc:142] This TensorFlow binary is optimized with oneAPI Deep Neural Network Library (oneDNN) to use the following CPU instructions in performance-critical operations:  AVX2 AVX512F FMA\n",
      "To enable them in other operations, rebuild TensorFlow with the appropriate compiler flags.\n",
      "2022-03-19 17:00:23.085705: I tensorflow/stream_executor/cuda/cuda_gpu_executor.cc:937] successful NUMA node read from SysFS had negative value (-1), but there must be at least one NUMA node, so returning NUMA node zero\n",
      "2022-03-19 17:00:23.086414: I tensorflow/stream_executor/cuda/cuda_gpu_executor.cc:937] successful NUMA node read from SysFS had negative value (-1), but there must be at least one NUMA node, so returning NUMA node zero\n",
      "2022-03-19 17:00:23.087025: I tensorflow/stream_executor/cuda/cuda_gpu_executor.cc:937] successful NUMA node read from SysFS had negative value (-1), but there must be at least one NUMA node, so returning NUMA node zero\n",
      "2022-03-19 17:00:25.060248: I tensorflow/stream_executor/cuda/cuda_gpu_executor.cc:937] successful NUMA node read from SysFS had negative value (-1), but there must be at least one NUMA node, so returning NUMA node zero\n",
      "2022-03-19 17:00:25.061014: I tensorflow/stream_executor/cuda/cuda_gpu_executor.cc:937] successful NUMA node read from SysFS had negative value (-1), but there must be at least one NUMA node, so returning NUMA node zero\n",
      "2022-03-19 17:00:25.061699: I tensorflow/stream_executor/cuda/cuda_gpu_executor.cc:937] successful NUMA node read from SysFS had negative value (-1), but there must be at least one NUMA node, so returning NUMA node zero\n",
      "2022-03-19 17:00:25.062357: I tensorflow/core/common_runtime/gpu/gpu_device.cc:1510] Created device /job:localhost/replica:0/task:0/device:GPU:0 with 15403 MB memory:  -> device: 0, name: Tesla P100-PCIE-16GB, pci bus id: 0000:00:04.0, compute capability: 6.0\n"
     ]
    }
   ],
   "source": [
    "import tensorflow as tf\n",
    "model = tf.keras.models.Sequential([\n",
    "\n",
    "    tf.keras.layers.Normalization(),\n",
    "    tf.keras.layers.Conv2D(32, 2, padding='same', activation='relu', input_shape=(img_size, img_size, 2)),\n",
    "    tf.keras.layers.MaxPooling2D(pool_size=(2, 2), padding='same',),\n",
    "    \n",
    "\n",
    "    tf.keras.layers.Conv2D(64, 2, padding='same',activation='relu'),\n",
    "    tf.keras.layers.MaxPooling2D(pool_size=(2, 2), padding='same'),\n",
    "   \n",
    "\n",
    "    tf.keras.layers.Conv2D(64, 3,padding='same', activation='relu'),\n",
    "    tf.keras.layers.MaxPooling2D(pool_size=(2, 2)),\n",
    "  \n",
    "\n",
    "    tf.keras.layers.Conv2D(64, 3,padding='same', activation='relu'),\n",
    "    tf.keras.layers.MaxPooling2D(pool_size=(2, 2)),\n",
    "    \n",
    "\n",
    "\n",
    "    tf.keras.layers.Flatten(),\n",
    "    tf.keras.layers.Dense(256, activation='relu'),\n",
    "    tf.keras.layers.Dropout(0.2),\n",
    "    tf.keras.layers.BatchNormalization(),\n",
    "    tf.keras.layers.Dense(512, activation='relu'),\n",
    "    tf.keras.layers.BatchNormalization(),\n",
    "    tf.keras.layers.Dropout(0.2),\n",
    "    tf.keras.layers.Dense(256, activation='relu'),\n",
    "    \n",
    "    tf.keras.layers.Dense(1, activation='sigmoid')\n",
    "\n",
    "    \n",
    "])"
   ]
  },
  {
   "cell_type": "code",
   "execution_count": 19,
   "id": "5c4204aa",
   "metadata": {
    "execution": {
     "iopub.execute_input": "2022-03-19T17:00:25.422450Z",
     "iopub.status.busy": "2022-03-19T17:00:25.421602Z",
     "iopub.status.idle": "2022-03-19T17:00:25.438503Z",
     "shell.execute_reply": "2022-03-19T17:00:25.437906Z",
     "shell.execute_reply.started": "2022-03-19T16:36:08.523019Z"
    },
    "papermill": {
     "duration": 0.043446,
     "end_time": "2022-03-19T17:00:25.438613",
     "exception": false,
     "start_time": "2022-03-19T17:00:25.395167",
     "status": "completed"
    },
    "tags": []
   },
   "outputs": [],
   "source": [
    "from tensorflow.keras.optimizers import Adam\n",
    "\n",
    "model.compile(\n",
    "    loss='binary_crossentropy',\n",
    "    optimizer=Adam(learning_rate=0.001),\n",
    "    metrics=['AUC']\n",
    ")"
   ]
  },
  {
   "cell_type": "code",
   "execution_count": 20,
   "id": "e360e385",
   "metadata": {
    "execution": {
     "iopub.execute_input": "2022-03-19T17:00:25.487555Z",
     "iopub.status.busy": "2022-03-19T17:00:25.485882Z",
     "iopub.status.idle": "2022-03-19T17:00:25.489805Z",
     "shell.execute_reply": "2022-03-19T17:00:25.489398Z",
     "shell.execute_reply.started": "2022-03-19T16:36:23.270531Z"
    },
    "papermill": {
     "duration": 0.02868,
     "end_time": "2022-03-19T17:00:25.489910",
     "exception": false,
     "start_time": "2022-03-19T17:00:25.461230",
     "status": "completed"
    },
    "tags": []
   },
   "outputs": [],
   "source": [
    "call_back = tf.keras.callbacks.EarlyStopping(patience=20, restore_best_weights=True)"
   ]
  },
  {
   "cell_type": "code",
   "execution_count": 21,
   "id": "d40aa1dd",
   "metadata": {
    "execution": {
     "iopub.execute_input": "2022-03-19T17:00:25.538291Z",
     "iopub.status.busy": "2022-03-19T17:00:25.537742Z",
     "iopub.status.idle": "2022-03-19T17:00:25.541302Z",
     "shell.execute_reply": "2022-03-19T17:00:25.540852Z",
     "shell.execute_reply.started": "2022-03-19T16:36:23.695092Z"
    },
    "papermill": {
     "duration": 0.029028,
     "end_time": "2022-03-19T17:00:25.541408",
     "exception": false,
     "start_time": "2022-03-19T17:00:25.512380",
     "status": "completed"
    },
    "tags": []
   },
   "outputs": [],
   "source": [
    "labels = [0,1]"
   ]
  },
  {
   "cell_type": "code",
   "execution_count": 22,
   "id": "e662a945",
   "metadata": {
    "execution": {
     "iopub.execute_input": "2022-03-19T17:00:25.591293Z",
     "iopub.status.busy": "2022-03-19T17:00:25.590712Z",
     "iopub.status.idle": "2022-03-19T17:02:26.334963Z",
     "shell.execute_reply": "2022-03-19T17:02:26.335456Z",
     "shell.execute_reply.started": "2022-03-19T16:50:43.988123Z"
    },
    "papermill": {
     "duration": 120.771955,
     "end_time": "2022-03-19T17:02:26.335635",
     "exception": false,
     "start_time": "2022-03-19T17:00:25.563680",
     "status": "completed"
    },
    "tags": []
   },
   "outputs": [
    {
     "name": "stderr",
     "output_type": "stream",
     "text": [
      "/opt/conda/lib/python3.7/site-packages/keras_preprocessing/image/numpy_array_iterator.py:136: UserWarning: NumpyArrayIterator is set to use the data format convention \"channels_last\" (channels on axis 3), i.e. expected either 1, 3, or 4 channels on axis 3. However, it was passed an array with shape (496900, 32, 32, 2) (2 channels).\n",
      "  str(self.x.shape[channels_axis]) + ' channels).')\n",
      "/opt/conda/lib/python3.7/site-packages/keras_preprocessing/image/numpy_array_iterator.py:136: UserWarning: NumpyArrayIterator is set to use the data format convention \"channels_last\" (channels on axis 3), i.e. expected either 1, 3, or 4 channels on axis 3. However, it was passed an array with shape (1000, 32, 32, 2) (2 channels).\n",
      "  str(self.x.shape[channels_axis]) + ' channels).')\n",
      "2022-03-19 17:00:26.528944: I tensorflow/stream_executor/cuda/cuda_dnn.cc:369] Loaded cuDNN version 8005\n",
      "2022-03-19 17:00:31.699046: I tensorflow/compiler/mlir/mlir_graph_optimization_pass.cc:185] None of the MLIR Optimization Passes are enabled (registered 2)\n"
     ]
    },
    {
     "name": "stdout",
     "output_type": "stream",
     "text": [
      "15529/15529 [==============================] - 115s 7ms/step - loss: 0.6180 - auc: 0.7167 - val_loss: 0.6613 - val_auc: 0.7358\n"
     ]
    }
   ],
   "source": [
    "\n",
    "history = model.fit(\n",
    "    datagen.flow(X_train, y_train, batch_size=batch_size),\n",
    "    validation_data=datagen.flow(X_val, y_val,\n",
    "    batch_size=batch_size),\n",
    "    epochs = 1,\n",
    "    callbacks = [call_back]\n",
    ")"
   ]
  },
  {
   "cell_type": "code",
   "execution_count": 23,
   "id": "2297fcdb",
   "metadata": {
    "execution": {
     "iopub.execute_input": "2022-03-19T17:02:27.647953Z",
     "iopub.status.busy": "2022-03-19T17:02:27.647046Z",
     "iopub.status.idle": "2022-03-19T17:02:27.648869Z",
     "shell.execute_reply": "2022-03-19T17:02:27.649286Z",
     "shell.execute_reply.started": "2022-03-19T16:36:08.968073Z"
    },
    "papermill": {
     "duration": 0.660727,
     "end_time": "2022-03-19T17:02:27.649426",
     "exception": false,
     "start_time": "2022-03-19T17:02:26.988699",
     "status": "completed"
    },
    "tags": []
   },
   "outputs": [],
   "source": [
    "%matplotlib inline\n",
    "\n",
    "import matplotlib.pyplot as plt"
   ]
  },
  {
   "cell_type": "code",
   "execution_count": 24,
   "id": "541421bd",
   "metadata": {
    "execution": {
     "iopub.execute_input": "2022-03-19T17:02:28.979998Z",
     "iopub.status.busy": "2022-03-19T17:02:28.979163Z",
     "iopub.status.idle": "2022-03-19T17:02:29.354295Z",
     "shell.execute_reply": "2022-03-19T17:02:29.353828Z",
     "shell.execute_reply.started": "2022-03-19T16:36:08.970500Z"
    },
    "papermill": {
     "duration": 1.046991,
     "end_time": "2022-03-19T17:02:29.354424",
     "exception": false,
     "start_time": "2022-03-19T17:02:28.307433",
     "status": "completed"
    },
    "tags": []
   },
   "outputs": [
    {
     "data": {
      "text/plain": [
       "Text(0.5, 1.0, 'Training & validation loss')"
      ]
     },
     "execution_count": 24,
     "metadata": {},
     "output_type": "execute_result"
    },
    {
     "data": {
      "image/png": "[encoded data removed]",
      "text/plain": [
       "<Figure size 432x288 with 1 Axes>"
      ]
     },
     "metadata": {
      "needs_background": "light"
     },
     "output_type": "display_data"
    },
    {
     "data": {
      "image/png": "[encoded data removed]",
      "text/plain": [
       "<Figure size 432x288 with 1 Axes>"
      ]
     },
     "metadata": {
      "needs_background": "light"
     },
     "output_type": "display_data"
    }
   ],
   "source": [
    "acc = history.history['auc']\n",
    "val_acc = history.history['val_auc']\n",
    "loss = history.history['loss']\n",
    "val_loss = history.history['val_loss']\n",
    "\n",
    "epochs = range(len(acc))\n",
    "plt.plot(epochs, acc)\n",
    "plt.plot(epochs, val_acc)\n",
    "plt.title('Training & validation on accuracy')\n",
    "plt.figure()\n",
    "\n",
    "plt.plot(epochs,loss)\n",
    "plt.plot(epochs,val_loss)\n",
    "plt.title('Training & validation loss')"
   ]
  },
  {
   "cell_type": "code",
   "execution_count": null,
   "id": "bb9aa806",
   "metadata": {
    "papermill": {
     "duration": 0.654892,
     "end_time": "2022-03-19T17:02:30.666432",
     "exception": false,
     "start_time": "2022-03-19T17:02:30.011540",
     "status": "completed"
    },
    "tags": []
   },
   "outputs": [],
   "source": []
  }
 ],
 "metadata": {
  "kernelspec": {
   "display_name": "Python 3",
   "language": "python",
   "name": "python3"
  },
  "language_info": {
   "codemirror_mode": {
    "name": "ipython",
    "version": 3
   },
   "file_extension": ".py",
   "mimetype": "text/x-python",
   "name": "python",
   "nbconvert_exporter": "python",
   "pygments_lexer": "ipython3",
   "version": "3.7.12"
  },
  "papermill": {
   "default_parameters": {},
   "duration": 163.469447,
   "end_time": "2022-03-19T17:02:34.964278",
   "environment_variables": {},
   "exception": null,
   "input_path": "__notebook__.ipynb",
   "output_path": "__notebook__.ipynb",
   "parameters": {},
   "start_time": "2022-03-19T16:59:51.494831",
   "version": "2.3.3"
  }
 },
 "nbformat": 4,
 "nbformat_minor": 5
}
